{
 "cells": [
  {
   "cell_type": "code",
   "execution_count": 1,
   "metadata": {
    "execution": {
     "iopub.execute_input": "2025-01-28T06:52:30.918732Z",
     "iopub.status.busy": "2025-01-28T06:52:30.917706Z",
     "iopub.status.idle": "2025-01-28T06:52:35.642710Z",
     "shell.execute_reply": "2025-01-28T06:52:35.641712Z"
    }
   },
   "outputs": [],
   "source": [
    "import datetime\n",
    "import time\n",
    "import requests\n",
    "import pandas as pd\n",
    "import hopsworks\n",
    "from functions import utils\n",
    "import json\n",
    "import os\n",
    "import git\n",
    "import warnings\n",
    "warnings.filterwarnings(\"ignore\")"
   ]
  },
  {
   "cell_type": "code",
   "execution_count": 2,
   "metadata": {
    "execution": {
     "iopub.execute_input": "2025-01-28T06:52:35.645710Z",
     "iopub.status.busy": "2025-01-28T06:52:35.645710Z",
     "iopub.status.idle": "2025-01-28T06:52:35.657712Z",
     "shell.execute_reply": "2025-01-28T06:52:35.657712Z"
    }
   },
   "outputs": [],
   "source": [
    "from dotenv import load_dotenv\n",
    "load_dotenv()\n",
    "HOPSWORKS_API_KEY = os.getenv(\"HOPSWORKS_API_KEY\")\n",
    "os.environ[\"HOPSWORKS_API_KEY\"] = HOPSWORKS_API_KEY"
   ]
  },
  {
   "cell_type": "markdown",
   "metadata": {},
   "source": [
    "## Get the necessary data from Hopsworks"
   ]
  },
  {
   "cell_type": "code",
   "execution_count": 3,
   "metadata": {
    "execution": {
     "iopub.execute_input": "2025-01-28T06:52:35.661710Z",
     "iopub.status.busy": "2025-01-28T06:52:35.660711Z",
     "iopub.status.idle": "2025-01-28T06:52:38.660311Z",
     "shell.execute_reply": "2025-01-28T06:52:38.659848Z"
    }
   },
   "outputs": [
    {
     "name": "stdout",
     "output_type": "stream",
     "text": [
      "2025-01-28 07:52:35,664 INFO: Initializing external client\n"
     ]
    },
    {
     "name": "stdout",
     "output_type": "stream",
     "text": [
      "2025-01-28 07:52:35,666 INFO: Base URL: https://c.app.hopsworks.ai:443\n"
     ]
    },
    {
     "name": "stdout",
     "output_type": "stream",
     "text": [
      "2025-01-28 07:52:37,218 INFO: Python Engine initialized.\n"
     ]
    },
    {
     "name": "stdout",
     "output_type": "stream",
     "text": [
      "\n",
      "Logged in to project, explore it here https://c.app.hopsworks.ai:443/p/1207494\n"
     ]
    }
   ],
   "source": [
    "project = hopsworks.login()\n",
    "fs = project.get_feature_store() \n",
    "# secrets = utils.secrets_api(project.name)\n",
    "\n",
    "CITY = \"dublin\"\n",
    "STATION = \"HEUSTON BRIDGE (NORTH)\"\n",
    "\n",
    "# latitude =\n",
    "# longitude =\n",
    "\n",
    "today = datetime.datetime.now()"
   ]
  },
  {
   "cell_type": "code",
   "execution_count": 4,
   "metadata": {
    "execution": {
     "iopub.execute_input": "2025-01-28T06:52:38.664134Z",
     "iopub.status.busy": "2025-01-28T06:52:38.663134Z",
     "iopub.status.idle": "2025-01-28T06:52:39.366364Z",
     "shell.execute_reply": "2025-01-28T06:52:39.365626Z"
    }
   },
   "outputs": [],
   "source": [
    "# Retrieve feature groups\n",
    "bike_fg = fs.get_feature_group(\n",
    "    name='bike_data',\n",
    "    version=1,\n",
    ")\n",
    "weather_fg = fs.get_feature_group(\n",
    "    name='weather_data',\n",
    "    version=1,\n",
    ")\n"
   ]
  },
  {
   "cell_type": "markdown",
   "metadata": {},
   "source": [
    "## Clone and pull the repository with the bike data"
   ]
  },
  {
   "cell_type": "code",
   "execution_count": 5,
   "metadata": {
    "execution": {
     "iopub.execute_input": "2025-01-28T06:52:39.370358Z",
     "iopub.status.busy": "2025-01-28T06:52:39.370358Z",
     "iopub.status.idle": "2025-01-28T06:52:39.382079Z",
     "shell.execute_reply": "2025-01-28T06:52:39.381154Z"
    }
   },
   "outputs": [],
   "source": [
    "# Configuration\n",
    "REPO_URL = \"https://github.com/MaxHalford/bike-sharing-history\"\n",
    "CLONE_DIR = \"./bike_data/bike-sharing-history\"\n",
    "TARGET_CITY = \"dublin\"\n",
    "FILE_NAME = \"jcdecaux.geojson\""
   ]
  },
  {
   "cell_type": "code",
   "execution_count": 6,
   "metadata": {
    "execution": {
     "iopub.execute_input": "2025-01-28T06:52:39.385079Z",
     "iopub.status.busy": "2025-01-28T06:52:39.385079Z",
     "iopub.status.idle": "2025-01-28T06:52:42.676561Z",
     "shell.execute_reply": "2025-01-28T06:52:42.675827Z"
    }
   },
   "outputs": [
    {
     "data": {
      "text/plain": [
       "[<git.remote.FetchInfo at 0x1f5c9ed4770>,\n",
       " <git.remote.FetchInfo at 0x1f5c9ed4310>]"
      ]
     },
     "execution_count": 6,
     "metadata": {},
     "output_type": "execute_result"
    }
   ],
   "source": [
    "if not os.path.exists(CLONE_DIR):\n",
    "    print(\"Cloning repository...\")\n",
    "    git.Repo.clone_from(REPO_URL, CLONE_DIR)\n",
    "repo = git.Repo(CLONE_DIR)\n",
    "\n",
    "# go to main and pull the latest changes\n",
    "repo.git.checkout(\"main\", force=True)\n",
    "repo.remotes.origin.pull()"
   ]
  },
  {
   "cell_type": "markdown",
   "metadata": {},
   "source": [
    "## Get the latest datetime present in the bike data"
   ]
  },
  {
   "cell_type": "code",
   "execution_count": 7,
   "metadata": {
    "execution": {
     "iopub.execute_input": "2025-01-28T06:52:42.679561Z",
     "iopub.status.busy": "2025-01-28T06:52:42.679561Z",
     "iopub.status.idle": "2025-01-28T06:52:45.419097Z",
     "shell.execute_reply": "2025-01-28T06:52:45.417332Z"
    }
   },
   "outputs": [
    {
     "name": "stdout",
     "output_type": "stream",
     "text": [
      "Reading data from Hopsworks, using Hopsworks Feature Query Service.   \r"
     ]
    },
    {
     "name": "stdout",
     "output_type": "stream",
     "text": [
      "Reading data from Hopsworks, using Hopsworks Feature Query Service..   \r"
     ]
    },
    {
     "name": "stdout",
     "output_type": "stream",
     "text": [
      "Reading data from Hopsworks, using Hopsworks Feature Query Service...   \r"
     ]
    },
    {
     "name": "stdout",
     "output_type": "stream",
     "text": [
      "\r",
      "Finished: Reading data from Hopsworks, using Hopsworks Feature Query Service (1.11s) \n"
     ]
    },
    {
     "data": {
      "text/plain": [
       "'2025-01-28 00:00:00 UTC'"
      ]
     },
     "execution_count": 7,
     "metadata": {},
     "output_type": "execute_result"
    }
   ],
   "source": [
    "# last_bike_datetime = \"2025-01-06 15:06:11 UTC\"\n",
    "\n",
    "bike_df = bike_fg.read()\n",
    "\n",
    "last_bike_datetime = bike_df[\"datetime\"].max()\n",
    "last_bike_datetime = last_bike_datetime.strftime(\"%Y-%m-%d %H:%M:%S %Z\")\n",
    "\n",
    "last_bike_datetime"
   ]
  },
  {
   "cell_type": "markdown",
   "metadata": {},
   "source": [
    "## Loop through the commits and convert the bike data into a dataframe"
   ]
  },
  {
   "cell_type": "code",
   "execution_count": 8,
   "metadata": {
    "execution": {
     "iopub.execute_input": "2025-01-28T06:52:45.422098Z",
     "iopub.status.busy": "2025-01-28T06:52:45.422098Z",
     "iopub.status.idle": "2025-01-28T06:52:45.432490Z",
     "shell.execute_reply": "2025-01-28T06:52:45.432490Z"
    }
   },
   "outputs": [],
   "source": [
    "results = {}\n",
    "\n",
    "# Populate the results dict with the stations\n",
    "data_file = os.path.join(CLONE_DIR, \"data/stations/\" + TARGET_CITY + \"/\" + FILE_NAME)\n",
    "if os.path.exists(data_file):\n",
    "    with open(data_file, \"r\") as f:\n",
    "        data = f.read()\n",
    "        data = json.loads(data)\n",
    "        for feature in data[\"features\"]:\n",
    "            name = feature[\"properties\"][\"name\"]\n",
    "            results[name] = []"
   ]
  },
  {
   "cell_type": "code",
   "execution_count": 9,
   "metadata": {
    "execution": {
     "iopub.execute_input": "2025-01-28T06:52:45.436794Z",
     "iopub.status.busy": "2025-01-28T06:52:45.435705Z",
     "iopub.status.idle": "2025-01-28T06:52:45.557767Z",
     "shell.execute_reply": "2025-01-28T06:52:45.556749Z"
    }
   },
   "outputs": [
    {
     "name": "stdout",
     "output_type": "stream",
     "text": [
      "breaking at:  2025-01-27 23:49:07+00:00\n",
      "{'CLARENDON ROW': [], 'BLESSINGTON STREET': [], 'BOLTON STREET': [], 'GREEK STREET': [], 'CHARLEMONT PLACE': [], 'CHRISTCHURCH PLACE': [], 'HIGH STREET': [], 'CUSTOM HOUSE QUAY': [], 'EXCHEQUER STREET': [], 'DAME STREET': [], 'EARLSFORT TERRACE': [], 'ECCLES STREET': [], 'FITZWILLIAM SQUARE WEST': [], 'FOWNES STREET UPPER': [], 'HARDWICKE STREET': [], 'GEORGES QUAY': [], 'GOLDEN LANE': [], 'GRANTHAM STREET': [], 'HERBERT PLACE': [], 'JAMES STREET EAST': [], 'LEINSTER STREET SOUTH': [], 'TOWNSEND STREET': [], 'CUSTOM HOUSE': [], 'CATHAL BRUGHA STREET': [], 'MERRION SQUARE EAST': [], 'MERRION SQUARE WEST': [], 'MOLESWORTH STREET': [], 'MOUNTJOY SQUARE WEST': [], 'ORMOND QUAY UPPER': [], 'PARNELL SQUARE NORTH': [], 'PARNELL STREET': [], 'PEARSE STREET': [], \"PRINCES STREET / O'CONNELL STREET\": [], 'PORTOBELLO HARBOUR': [], 'SMITHFIELD': [], \"ST. STEPHEN'S GREEN EAST\": [], \"ST. STEPHEN'S GREEN SOUTH\": [], 'TALBOT STREET': [], 'WILTON TERRACE': [], 'JERVIS STREET': [], 'HARCOURT TERRACE': [], 'SMITHFIELD NORTH': [], 'PORTOBELLO ROAD': [], 'UPPER SHERRARD STREET': [], 'DEVERELL PLACE': [], 'HERBERT STREET': [], 'EXCISE WALK': [], 'GUILD STREET': [], 'GEORGES LANE': [], 'YORK STREET WEST': [], 'YORK STREET EAST': [], 'NEWMAN HOUSE': [], 'CLONMEL STREET': [], 'HATCH STREET': [], 'MOUNT STREET LOWER': [], 'GRATTAN STREET': [], \"SIR PATRICK DUN'S\": [], 'DENMARK STREET GREAT': [], 'NORTH CIRCULAR ROAD': [], 'HARDWICKE PLACE': [], 'LIME STREET': [], 'FENIAN STREET': [], 'SANDWITH STREET': [], 'CONVENTION CENTRE': [], 'NEW CENTRAL BANK': [], 'THE POINT': [], 'HANOVER QUAY': [], 'GRAND CANAL DOCK': [], 'KEVIN STREET': [], 'JOHN STREET WEST': [], 'FRANCIS STREET': [], 'OLIVER BOND STREET': [], 'JAMES STREET': [], 'MARKET STREET SOUTH': [], 'WOLFE TONE STREET': [], 'MATER HOSPITAL': [], 'ECCLES STREET EAST': [], 'ST JAMES HOSPITAL (LUAS)': [], 'MOUNT BROWN': [], 'EMMET ROAD': [], 'BROOKFIELD ROAD': [], 'ROTHE ABBEY': [], 'PARKGATE STREET': [], 'COLLINS BARRACKS MUSEUM': [], 'BLACKHALL PLACE': [], 'FITZWILLIAM SQUARE EAST': [], 'BENSON STREET': [], 'SOUTH DOCK ROAD': [], 'HEUSTON BRIDGE (NORTH)': [], 'HEUSTON STATION (CENTRAL)': [], 'HEUSTON STATION (CAR PARK)': [], 'ROYAL HOSPITAL': [], 'KILMAINHAM LANE': [], 'KILMAINHAM GAOL': [], 'FREDERICK STREET SOUTH': [], 'CITY QUAY': [], 'HEUSTON BRIDGE (SOUTH)': [], 'KING STREET NORTH': [], 'WESTERN WAY': [], 'GRANGEGORMAN LOWER (SOUTH)': [], 'GRANGEGORMAN LOWER (CENTRAL)': [], 'GRANGEGORMAN LOWER (NORTH)': [], 'RATHDOWN ROAD': [], 'CHARLEVILLE ROAD': [], 'AVONDALE ROAD': [], 'BUCKINGHAM STREET LOWER': [], 'PHIBSBOROUGH ROAD': [], 'MOUNTJOY SQUARE EAST': [], \"NORTH CIRCULAR ROAD (O'CONNELL'S)\": [], 'MERRION SQUARE SOUTH': [], 'WILTON TERRACE (PARK)': [], 'KILLARNEY STREET': [], 'BROADSTONE': [], 'HANOVER QUAY EAST': []}\n"
     ]
    }
   ],
   "source": [
    "start_time = datetime.datetime.now()\n",
    "last_day_and_hour = None\n",
    "\n",
    "for commit in repo.iter_commits():\n",
    "    # Stop when we reach the earliest bike date\n",
    "    if commit.committed_datetime <= datetime.datetime.strptime(last_bike_datetime, \"%Y-%m-%d %H:%M:%S %Z\").replace(tzinfo=datetime.timezone.utc):\n",
    "        print(\"breaking at: \", commit.committed_datetime)\n",
    "        break\n",
    "\n",
    "    # Skip commits from today\n",
    "    if commit.committed_datetime > today.replace(tzinfo=datetime.timezone.utc).replace(hour=0, minute=0, second=0, microsecond=0):\n",
    "        first_commited_datetime = repo.commit().committed_datetime\n",
    "        continue\n",
    "\n",
    "    day_and_hour = commit.committed_datetime.replace(minute=0, second=0, microsecond=0)\n",
    "    # print(\"day_and_hour: \", day_and_hour, \" - last_day_and_hour: \", last_day_and_hour)\n",
    "    if day_and_hour == last_day_and_hour:\n",
    "        continue\n",
    "    last_day_and_hour = day_and_hour\n",
    "\n",
    "    # Get the data for the commit\n",
    "    print(\"Processing commit: \", commit.hexsha, \" - \", commit.committed_datetime)\n",
    "    try:\n",
    "        repo.git.checkout(commit.hexsha, force=True)\n",
    "    except Exception as e:\n",
    "        print(\"Error checking out commit: \", e)\n",
    "        break\n",
    "\n",
    "    data_file = os.path.join(CLONE_DIR, \"data/stations/\" + TARGET_CITY + \"/\" + FILE_NAME)\n",
    "    if os.path.exists(data_file):\n",
    "        with open(data_file, \"r\") as f:\n",
    "            data = f.read()\n",
    "            data = json.loads(data)\n",
    "            for feature in data[\"features\"]:\n",
    "                try:\n",
    "                    results[feature[\"properties\"][\"name\"]].append([feature[\"properties\"][\"available_bikes\"], commit.committed_datetime])\n",
    "                except KeyError:\n",
    "                    continue\n",
    "\n",
    "print(results)\n"
   ]
  },
  {
   "cell_type": "code",
   "execution_count": 10,
   "metadata": {
    "execution": {
     "iopub.execute_input": "2025-01-28T06:52:45.560763Z",
     "iopub.status.busy": "2025-01-28T06:52:45.560763Z",
     "iopub.status.idle": "2025-01-28T06:52:45.572137Z",
     "shell.execute_reply": "2025-01-28T06:52:45.572137Z"
    }
   },
   "outputs": [
    {
     "data": {
      "text/html": [
       "<div>\n",
       "<style scoped>\n",
       "    .dataframe tbody tr th:only-of-type {\n",
       "        vertical-align: middle;\n",
       "    }\n",
       "\n",
       "    .dataframe tbody tr th {\n",
       "        vertical-align: top;\n",
       "    }\n",
       "\n",
       "    .dataframe thead th {\n",
       "        text-align: right;\n",
       "    }\n",
       "</style>\n",
       "<table border=\"1\" class=\"dataframe\">\n",
       "  <thead>\n",
       "    <tr style=\"text-align: right;\">\n",
       "      <th></th>\n",
       "    </tr>\n",
       "  </thead>\n",
       "  <tbody>\n",
       "  </tbody>\n",
       "</table>\n",
       "</div>"
      ],
      "text/plain": [
       "Empty DataFrame\n",
       "Columns: []\n",
       "Index: []"
      ]
     },
     "execution_count": 10,
     "metadata": {},
     "output_type": "execute_result"
    }
   ],
   "source": [
    "# turn results into a dataframe\n",
    "df_bike_today = pd.DataFrame()\n",
    "\n",
    "for station, values in results.items():\n",
    "    if len(values) > 0:\n",
    "        df = pd.DataFrame(values, columns=[\"num_bikes_available\", \"datetime\"])\n",
    "        df[\"datetime\"] = pd.to_datetime(df[\"datetime\"], utc=True)\n",
    "        df[\"station\"] = station.replace(\" \", \"_\")\n",
    "        df_bike_today = pd.concat([df_bike_today, df])\n",
    "\n",
    "# if empty, do nothing\n",
    "if not df_bike_today.empty:\n",
    "    df_bike_today.dropna(inplace=True)\n",
    "    df_bike_today[\"num_bikes_available\"] = df_bike_today[\"num_bikes_available\"].astype(\"float32\")\n",
    "    df_bike_today = df_bike_today[df_bike_today['station'].isin([STATION.replace(\" \", \"_\")])]\n",
    "    df_bike_today['datetime'] = pd.to_datetime(df_bike_today['datetime'], utc=True).dt.floor('H') + datetime.timedelta(hours=1)\n",
    "df_bike_today\n"
   ]
  },
  {
   "cell_type": "markdown",
   "metadata": {},
   "source": [
    "## Fetch the weather data for the same time period"
   ]
  },
  {
   "cell_type": "code",
   "execution_count": 11,
   "metadata": {
    "execution": {
     "iopub.execute_input": "2025-01-28T06:52:45.574385Z",
     "iopub.status.busy": "2025-01-28T06:52:45.574385Z",
     "iopub.status.idle": "2025-01-28T06:52:46.119326Z",
     "shell.execute_reply": "2025-01-28T06:52:46.119326Z"
    }
   },
   "outputs": [
    {
     "name": "stdout",
     "output_type": "stream",
     "text": [
      "features: {'hourly': ['temperature_2m', 'apparent_temperature', 'rain', 'snowfall', 'wind_speed_10m'], 'daily': ['daylight_duration', 'rain_sum']}\n",
      "params: {'latitude': 53.35, 'longitude': -6.26, 'hourly': ['temperature_2m', 'apparent_temperature', 'rain', 'snowfall', 'wind_speed_10m'], 'daily': ['daylight_duration', 'rain_sum']}\n",
      "Coordinates 53.5°N -6.25°E\n",
      "Elevation 11.0 m asl\n",
      "Timezone None None\n",
      "Timezone difference to GMT+0 0 s\n",
      "False\n"
     ]
    },
    {
     "data": {
      "text/html": [
       "<div>\n",
       "<style scoped>\n",
       "    .dataframe tbody tr th:only-of-type {\n",
       "        vertical-align: middle;\n",
       "    }\n",
       "\n",
       "    .dataframe tbody tr th {\n",
       "        vertical-align: top;\n",
       "    }\n",
       "\n",
       "    .dataframe thead th {\n",
       "        text-align: right;\n",
       "    }\n",
       "</style>\n",
       "<table border=\"1\" class=\"dataframe\">\n",
       "  <thead>\n",
       "    <tr style=\"text-align: right;\">\n",
       "      <th></th>\n",
       "      <th>datetime</th>\n",
       "      <th>temperature_2m</th>\n",
       "      <th>apparent_temperature</th>\n",
       "      <th>rain</th>\n",
       "      <th>snowfall</th>\n",
       "      <th>wind_speed_10m</th>\n",
       "      <th>daylight_duration</th>\n",
       "      <th>rain_sum</th>\n",
       "      <th>city</th>\n",
       "    </tr>\n",
       "  </thead>\n",
       "  <tbody>\n",
       "    <tr>\n",
       "      <th>0</th>\n",
       "      <td>2025-01-28 00:00:00+00:00</td>\n",
       "      <td>5.60</td>\n",
       "      <td>4.084646</td>\n",
       "      <td>0.0</td>\n",
       "      <td>0.0</td>\n",
       "      <td>2.276840</td>\n",
       "      <td>31429.511719</td>\n",
       "      <td>4.8</td>\n",
       "      <td>dublin</td>\n",
       "    </tr>\n",
       "    <tr>\n",
       "      <th>1</th>\n",
       "      <td>2025-01-28 01:00:00+00:00</td>\n",
       "      <td>5.40</td>\n",
       "      <td>3.280367</td>\n",
       "      <td>0.0</td>\n",
       "      <td>0.0</td>\n",
       "      <td>6.130579</td>\n",
       "      <td>31429.511719</td>\n",
       "      <td>4.8</td>\n",
       "      <td>dublin</td>\n",
       "    </tr>\n",
       "    <tr>\n",
       "      <th>2</th>\n",
       "      <td>2025-01-28 02:00:00+00:00</td>\n",
       "      <td>5.30</td>\n",
       "      <td>2.636153</td>\n",
       "      <td>0.0</td>\n",
       "      <td>0.0</td>\n",
       "      <td>9.931042</td>\n",
       "      <td>31429.511719</td>\n",
       "      <td>4.8</td>\n",
       "      <td>dublin</td>\n",
       "    </tr>\n",
       "    <tr>\n",
       "      <th>3</th>\n",
       "      <td>2025-01-28 03:00:00+00:00</td>\n",
       "      <td>5.35</td>\n",
       "      <td>2.213164</td>\n",
       "      <td>0.0</td>\n",
       "      <td>0.0</td>\n",
       "      <td>13.246826</td>\n",
       "      <td>31429.511719</td>\n",
       "      <td>4.8</td>\n",
       "      <td>dublin</td>\n",
       "    </tr>\n",
       "    <tr>\n",
       "      <th>4</th>\n",
       "      <td>2025-01-28 04:00:00+00:00</td>\n",
       "      <td>5.75</td>\n",
       "      <td>2.258863</td>\n",
       "      <td>1.1</td>\n",
       "      <td>0.0</td>\n",
       "      <td>16.263872</td>\n",
       "      <td>31429.511719</td>\n",
       "      <td>4.8</td>\n",
       "      <td>dublin</td>\n",
       "    </tr>\n",
       "    <tr>\n",
       "      <th>...</th>\n",
       "      <td>...</td>\n",
       "      <td>...</td>\n",
       "      <td>...</td>\n",
       "      <td>...</td>\n",
       "      <td>...</td>\n",
       "      <td>...</td>\n",
       "      <td>...</td>\n",
       "      <td>...</td>\n",
       "      <td>...</td>\n",
       "    </tr>\n",
       "    <tr>\n",
       "      <th>235</th>\n",
       "      <td>2025-02-06 19:00:00+00:00</td>\n",
       "      <td>7.85</td>\n",
       "      <td>3.175895</td>\n",
       "      <td>0.0</td>\n",
       "      <td>0.0</td>\n",
       "      <td>20.873791</td>\n",
       "      <td>33421.378906</td>\n",
       "      <td>0.0</td>\n",
       "      <td>dublin</td>\n",
       "    </tr>\n",
       "    <tr>\n",
       "      <th>236</th>\n",
       "      <td>2025-02-06 20:00:00+00:00</td>\n",
       "      <td>7.50</td>\n",
       "      <td>2.722842</td>\n",
       "      <td>0.0</td>\n",
       "      <td>0.0</td>\n",
       "      <td>21.650938</td>\n",
       "      <td>33421.378906</td>\n",
       "      <td>0.0</td>\n",
       "      <td>dublin</td>\n",
       "    </tr>\n",
       "    <tr>\n",
       "      <th>237</th>\n",
       "      <td>2025-02-06 21:00:00+00:00</td>\n",
       "      <td>7.15</td>\n",
       "      <td>2.268211</td>\n",
       "      <td>0.0</td>\n",
       "      <td>0.0</td>\n",
       "      <td>22.183128</td>\n",
       "      <td>33421.378906</td>\n",
       "      <td>0.0</td>\n",
       "      <td>dublin</td>\n",
       "    </tr>\n",
       "    <tr>\n",
       "      <th>238</th>\n",
       "      <td>2025-02-06 22:00:00+00:00</td>\n",
       "      <td>6.75</td>\n",
       "      <td>1.752871</td>\n",
       "      <td>0.0</td>\n",
       "      <td>0.0</td>\n",
       "      <td>22.725668</td>\n",
       "      <td>33421.378906</td>\n",
       "      <td>0.0</td>\n",
       "      <td>dublin</td>\n",
       "    </tr>\n",
       "    <tr>\n",
       "      <th>239</th>\n",
       "      <td>2025-02-06 23:00:00+00:00</td>\n",
       "      <td>6.35</td>\n",
       "      <td>1.302295</td>\n",
       "      <td>0.0</td>\n",
       "      <td>0.0</td>\n",
       "      <td>23.051247</td>\n",
       "      <td>33421.378906</td>\n",
       "      <td>0.0</td>\n",
       "      <td>dublin</td>\n",
       "    </tr>\n",
       "  </tbody>\n",
       "</table>\n",
       "<p>240 rows × 9 columns</p>\n",
       "</div>"
      ],
      "text/plain": [
       "                     datetime  temperature_2m  apparent_temperature  rain  \\\n",
       "0   2025-01-28 00:00:00+00:00            5.60              4.084646   0.0   \n",
       "1   2025-01-28 01:00:00+00:00            5.40              3.280367   0.0   \n",
       "2   2025-01-28 02:00:00+00:00            5.30              2.636153   0.0   \n",
       "3   2025-01-28 03:00:00+00:00            5.35              2.213164   0.0   \n",
       "4   2025-01-28 04:00:00+00:00            5.75              2.258863   1.1   \n",
       "..                        ...             ...                   ...   ...   \n",
       "235 2025-02-06 19:00:00+00:00            7.85              3.175895   0.0   \n",
       "236 2025-02-06 20:00:00+00:00            7.50              2.722842   0.0   \n",
       "237 2025-02-06 21:00:00+00:00            7.15              2.268211   0.0   \n",
       "238 2025-02-06 22:00:00+00:00            6.75              1.752871   0.0   \n",
       "239 2025-02-06 23:00:00+00:00            6.35              1.302295   0.0   \n",
       "\n",
       "     snowfall  wind_speed_10m  daylight_duration  rain_sum    city  \n",
       "0         0.0        2.276840       31429.511719       4.8  dublin  \n",
       "1         0.0        6.130579       31429.511719       4.8  dublin  \n",
       "2         0.0        9.931042       31429.511719       4.8  dublin  \n",
       "3         0.0       13.246826       31429.511719       4.8  dublin  \n",
       "4         0.0       16.263872       31429.511719       4.8  dublin  \n",
       "..        ...             ...                ...       ...     ...  \n",
       "235       0.0       20.873791       33421.378906       0.0  dublin  \n",
       "236       0.0       21.650938       33421.378906       0.0  dublin  \n",
       "237       0.0       22.183128       33421.378906       0.0  dublin  \n",
       "238       0.0       22.725668       33421.378906       0.0  dublin  \n",
       "239       0.0       23.051247       33421.378906       0.0  dublin  \n",
       "\n",
       "[240 rows x 9 columns]"
      ]
     },
     "execution_count": 11,
     "metadata": {},
     "output_type": "execute_result"
    }
   ],
   "source": [
    "forecast_df = utils.get_hourly_weather_forecast(CITY)\n",
    "forecast_df = forecast_df.rename(columns={'date_x': 'datetime'})\n",
    "forecast_df = forecast_df.drop(columns=['date_y', 'date_only'])\n",
    "forecast_df.dropna(inplace=True)\n",
    "\n",
    "print(forecast_df.empty)\n",
    "\n",
    "forecast_df"
   ]
  },
  {
   "cell_type": "markdown",
   "metadata": {},
   "source": [
    "## Insert the bike and weather data into Hopsworks"
   ]
  },
  {
   "cell_type": "code",
   "execution_count": 12,
   "metadata": {
    "execution": {
     "iopub.execute_input": "2025-01-28T06:52:46.122683Z",
     "iopub.status.busy": "2025-01-28T06:52:46.121681Z",
     "iopub.status.idle": "2025-01-28T06:52:46.135647Z",
     "shell.execute_reply": "2025-01-28T06:52:46.134648Z"
    }
   },
   "outputs": [
    {
     "name": "stdout",
     "output_type": "stream",
     "text": [
      "No bike data available for today\n"
     ]
    }
   ],
   "source": [
    "if df_bike_today.empty:\n",
    "    print(\"No bike data available for today\")\n",
    "else:\n",
    "    bike_fg.insert(df_bike_today)"
   ]
  },
  {
   "cell_type": "code",
   "execution_count": 13,
   "metadata": {
    "execution": {
     "iopub.execute_input": "2025-01-28T06:52:46.137646Z",
     "iopub.status.busy": "2025-01-28T06:52:46.137646Z",
     "iopub.status.idle": "2025-01-28T06:56:08.165717Z",
     "shell.execute_reply": "2025-01-28T06:56:08.164702Z"
    }
   },
   "outputs": [
    {
     "name": "stderr",
     "output_type": "stream",
     "text": [
      "\r",
      "Uploading Dataframe: 0.00% |                                     | Rows 0/240 | Elapsed Time: 00:00 | Remaining Time: ?"
     ]
    },
    {
     "name": "stderr",
     "output_type": "stream",
     "text": [
      "\r",
      "Uploading Dataframe: 100.00% |█████████████████████████████| Rows 240/240 | Elapsed Time: 00:00 | Remaining Time: 00:00"
     ]
    },
    {
     "name": "stderr",
     "output_type": "stream",
     "text": [
      "\n"
     ]
    },
    {
     "name": "stdout",
     "output_type": "stream",
     "text": [
      "Launching job: weather_data_1_offline_fg_materialization\n"
     ]
    },
    {
     "name": "stdout",
     "output_type": "stream",
     "text": [
      "Job started successfully, you can follow the progress at \n",
      "https://c.app.hopsworks.ai:443/p/1207494/jobs/named/weather_data_1_offline_fg_materialization/executions\n"
     ]
    },
    {
     "name": "stdout",
     "output_type": "stream",
     "text": [
      "2025-01-28 07:53:00,686 INFO: Waiting for execution to finish. Current state: INITIALIZING. Final status: UNDEFINED\n"
     ]
    },
    {
     "name": "stdout",
     "output_type": "stream",
     "text": [
      "2025-01-28 07:53:03,895 INFO: Waiting for execution to finish. Current state: SUBMITTED. Final status: UNDEFINED\n"
     ]
    },
    {
     "name": "stdout",
     "output_type": "stream",
     "text": [
      "2025-01-28 07:53:07,099 INFO: Waiting for execution to finish. Current state: RUNNING. Final status: UNDEFINED\n"
     ]
    },
    {
     "name": "stdout",
     "output_type": "stream",
     "text": [
      "2025-01-28 07:55:39,038 INFO: Waiting for execution to finish. Current state: AGGREGATING_LOGS. Final status: SUCCEEDED\n"
     ]
    },
    {
     "name": "stdout",
     "output_type": "stream",
     "text": [
      "2025-01-28 07:55:39,205 INFO: Waiting for log aggregation to finish.\n"
     ]
    },
    {
     "name": "stdout",
     "output_type": "stream",
     "text": [
      "2025-01-28 07:56:08,149 INFO: Execution finished successfully.\n"
     ]
    }
   ],
   "source": [
    "if forecast_df.empty:\n",
    "    print(\"No weather forecast available for today\")\n",
    "else:\n",
    "    weather_fg.insert(forecast_df, write_options={\"wait_for_job\": True})\n"
   ]
  }
 ],
 "metadata": {
  "kernelspec": {
   "display_name": "SML_Project",
   "language": "python",
   "name": "python3"
  },
  "language_info": {
   "codemirror_mode": {
    "name": "ipython",
    "version": 3
   },
   "file_extension": ".py",
   "mimetype": "text/x-python",
   "name": "python",
   "nbconvert_exporter": "python",
   "pygments_lexer": "ipython3",
   "version": "3.10.0"
  }
 },
 "nbformat": 4,
 "nbformat_minor": 2
}
