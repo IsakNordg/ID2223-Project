{
 "cells": [
  {
   "cell_type": "code",
   "execution_count": 1,
   "metadata": {
    "execution": {
     "iopub.execute_input": "2025-01-09T16:33:08.754166Z",
     "iopub.status.busy": "2025-01-09T16:33:08.754166Z",
     "iopub.status.idle": "2025-01-09T16:33:35.533454Z",
     "shell.execute_reply": "2025-01-09T16:33:35.532453Z"
    }
   },
   "outputs": [],
   "source": [
    "import datetime\n",
    "import time\n",
    "import requests\n",
    "import pandas as pd\n",
    "import hopsworks\n",
    "from functions import utils\n",
    "import json\n",
    "import os\n",
    "import git\n",
    "import warnings\n",
    "warnings.filterwarnings(\"ignore\")"
   ]
  },
  {
   "cell_type": "code",
   "execution_count": 2,
   "metadata": {
    "execution": {
     "iopub.execute_input": "2025-01-09T16:33:35.536453Z",
     "iopub.status.busy": "2025-01-09T16:33:35.536453Z",
     "iopub.status.idle": "2025-01-09T16:33:35.563763Z",
     "shell.execute_reply": "2025-01-09T16:33:35.562765Z"
    }
   },
   "outputs": [],
   "source": [
    "from dotenv import load_dotenv\n",
    "load_dotenv()\n",
    "HOPSWORKS_API_KEY = os.getenv(\"HOPSWORKS_API_KEY\")\n",
    "os.environ[\"HOPSWORKS_API_KEY\"] = HOPSWORKS_API_KEY"
   ]
  },
  {
   "cell_type": "markdown",
   "metadata": {},
   "source": [
    "## Get the necessary data from Hopsworks"
   ]
  },
  {
   "cell_type": "code",
   "execution_count": 3,
   "metadata": {
    "execution": {
     "iopub.execute_input": "2025-01-09T16:33:35.566764Z",
     "iopub.status.busy": "2025-01-09T16:33:35.566764Z",
     "iopub.status.idle": "2025-01-09T16:33:39.153505Z",
     "shell.execute_reply": "2025-01-09T16:33:39.152589Z"
    }
   },
   "outputs": [
    {
     "name": "stdout",
     "output_type": "stream",
     "text": [
      "2025-01-09 17:33:35,571 INFO: Initializing external client\n"
     ]
    },
    {
     "name": "stdout",
     "output_type": "stream",
     "text": [
      "2025-01-09 17:33:35,574 INFO: Base URL: https://c.app.hopsworks.ai:443\n"
     ]
    },
    {
     "name": "stdout",
     "output_type": "stream",
     "text": [
      "2025-01-09 17:33:37,677 INFO: Python Engine initialized.\n"
     ]
    },
    {
     "name": "stdout",
     "output_type": "stream",
     "text": [
      "\n",
      "Logged in to project, explore it here https://c.app.hopsworks.ai:443/p/1207494\n"
     ]
    }
   ],
   "source": [
    "project = hopsworks.login()\n",
    "fs = project.get_feature_store() \n",
    "# secrets = utils.secrets_api(project.name)\n",
    "\n",
    "CITY = \"dublin\"\n",
    "STATION = \"HEUSTON BRIDGE (NORTH)\"\n",
    "\n",
    "# latitude =\n",
    "# longitude =\n",
    "\n",
    "today = datetime.datetime.now()"
   ]
  },
  {
   "cell_type": "code",
   "execution_count": 4,
   "metadata": {
    "execution": {
     "iopub.execute_input": "2025-01-09T16:33:39.156529Z",
     "iopub.status.busy": "2025-01-09T16:33:39.155529Z",
     "iopub.status.idle": "2025-01-09T16:33:40.276664Z",
     "shell.execute_reply": "2025-01-09T16:33:40.276664Z"
    }
   },
   "outputs": [],
   "source": [
    "# Retrieve feature groups\n",
    "bike_fg = fs.get_feature_group(\n",
    "    name='bike_data',\n",
    "    version=1,\n",
    ")\n",
    "weather_fg = fs.get_feature_group(\n",
    "    name='weather_data',\n",
    "    version=1,\n",
    ")\n"
   ]
  },
  {
   "cell_type": "markdown",
   "metadata": {},
   "source": [
    "## Clone and pull the repository with the bike data"
   ]
  },
  {
   "cell_type": "code",
   "execution_count": 5,
   "metadata": {
    "execution": {
     "iopub.execute_input": "2025-01-09T16:33:40.281011Z",
     "iopub.status.busy": "2025-01-09T16:33:40.281011Z",
     "iopub.status.idle": "2025-01-09T16:33:40.293020Z",
     "shell.execute_reply": "2025-01-09T16:33:40.292019Z"
    }
   },
   "outputs": [],
   "source": [
    "# Configuration\n",
    "REPO_URL = \"https://github.com/MaxHalford/bike-sharing-history\"\n",
    "CLONE_DIR = \"./bike_data/bike-sharing-history\"\n",
    "TARGET_CITY = \"dublin\"\n",
    "FILE_NAME = \"jcdecaux.geojson\""
   ]
  },
  {
   "cell_type": "code",
   "execution_count": 6,
   "metadata": {
    "execution": {
     "iopub.execute_input": "2025-01-09T16:33:40.296019Z",
     "iopub.status.busy": "2025-01-09T16:33:40.296019Z",
     "iopub.status.idle": "2025-01-09T16:34:21.883460Z",
     "shell.execute_reply": "2025-01-09T16:34:21.882459Z"
    }
   },
   "outputs": [
    {
     "data": {
      "text/plain": [
       "[<git.remote.FetchInfo at 0x1a2b16cad40>,\n",
       " <git.remote.FetchInfo at 0x1a2b16c9d50>]"
      ]
     },
     "execution_count": 6,
     "metadata": {},
     "output_type": "execute_result"
    }
   ],
   "source": [
    "if not os.path.exists(CLONE_DIR):\n",
    "    print(\"Cloning repository...\")\n",
    "    git.Repo.clone_from(REPO_URL, CLONE_DIR)\n",
    "repo = git.Repo(CLONE_DIR)\n",
    "\n",
    "# go to main and pull the latest changes\n",
    "repo.git.checkout(\"main\", force=True)\n",
    "repo.remotes.origin.pull()"
   ]
  },
  {
   "cell_type": "markdown",
   "metadata": {},
   "source": [
    "## Get the latest datetime present in the bike data"
   ]
  },
  {
   "cell_type": "code",
   "execution_count": 7,
   "metadata": {
    "execution": {
     "iopub.execute_input": "2025-01-09T16:34:21.888098Z",
     "iopub.status.busy": "2025-01-09T16:34:21.887092Z",
     "iopub.status.idle": "2025-01-09T16:34:25.350006Z",
     "shell.execute_reply": "2025-01-09T16:34:25.349002Z"
    }
   },
   "outputs": [
    {
     "name": "stdout",
     "output_type": "stream",
     "text": [
      "Reading data from Hopsworks, using Hopsworks Feature Query Service.   \r"
     ]
    },
    {
     "name": "stdout",
     "output_type": "stream",
     "text": [
      "Reading data from Hopsworks, using Hopsworks Feature Query Service..   \r"
     ]
    },
    {
     "name": "stdout",
     "output_type": "stream",
     "text": [
      "Reading data from Hopsworks, using Hopsworks Feature Query Service...   \r"
     ]
    },
    {
     "name": "stdout",
     "output_type": "stream",
     "text": [
      "Reading data from Hopsworks, using Hopsworks Feature Query Service   \r"
     ]
    },
    {
     "name": "stdout",
     "output_type": "stream",
     "text": [
      "\r",
      "Finished: Reading data from Hopsworks, using Hopsworks Feature Query Service (1.85s) \n"
     ]
    },
    {
     "data": {
      "text/plain": [
       "'2025-01-08 15:00:00 UTC'"
      ]
     },
     "execution_count": 7,
     "metadata": {},
     "output_type": "execute_result"
    }
   ],
   "source": [
    "# last_bike_datetime = \"2025-01-06 15:06:11 UTC\"\n",
    "\n",
    "bike_df = bike_fg.read()\n",
    "\n",
    "last_bike_datetime = bike_df[\"datetime\"].max()\n",
    "last_bike_datetime = last_bike_datetime.strftime(\"%Y-%m-%d %H:%M:%S %Z\")\n",
    "\n",
    "last_bike_datetime"
   ]
  },
  {
   "cell_type": "markdown",
   "metadata": {},
   "source": [
    "## Loop through the commits and convert the bike data into a dataframe"
   ]
  },
  {
   "cell_type": "code",
   "execution_count": 8,
   "metadata": {
    "execution": {
     "iopub.execute_input": "2025-01-09T16:34:25.354003Z",
     "iopub.status.busy": "2025-01-09T16:34:25.353003Z",
     "iopub.status.idle": "2025-01-09T16:34:25.365012Z",
     "shell.execute_reply": "2025-01-09T16:34:25.364004Z"
    }
   },
   "outputs": [],
   "source": [
    "results = {}\n",
    "\n",
    "# Populate the results dict with the stations\n",
    "data_file = os.path.join(CLONE_DIR, \"data/stations/\" + TARGET_CITY + \"/\" + FILE_NAME)\n",
    "if os.path.exists(data_file):\n",
    "    with open(data_file, \"r\") as f:\n",
    "        data = f.read()\n",
    "        data = json.loads(data)\n",
    "        for feature in data[\"features\"]:\n",
    "            name = feature[\"properties\"][\"name\"]\n",
    "            results[name] = []"
   ]
  },
  {
   "cell_type": "code",
   "execution_count": 9,
   "metadata": {
    "execution": {
     "iopub.execute_input": "2025-01-09T16:34:25.368009Z",
     "iopub.status.busy": "2025-01-09T16:34:25.367011Z",
     "iopub.status.idle": "2025-01-09T16:34:28.304085Z",
     "shell.execute_reply": "2025-01-09T16:34:28.303082Z"
    }
   },
   "outputs": [
    {
     "name": "stdout",
     "output_type": "stream",
     "text": [
      "Processing commit:  21db2546ac018ac31d456d3a5fa48c52ff46e0d1  -  2025-01-08 23:49:15+00:00\n"
     ]
    },
    {
     "name": "stdout",
     "output_type": "stream",
     "text": [
      "Processing commit:  91b0284e997a45bd28b2c3b6e7966e1f866481ac  -  2025-01-08 22:48:55+00:00\n"
     ]
    },
    {
     "name": "stdout",
     "output_type": "stream",
     "text": [
      "Processing commit:  ffd2ce97c17e53c6b69f86548fb4b2592e3f5e1f  -  2025-01-08 21:49:15+00:00\n"
     ]
    },
    {
     "name": "stdout",
     "output_type": "stream",
     "text": [
      "Processing commit:  10f0bea3d5d9ff585e4c5786a2fcda5a7e4ede7d  -  2025-01-08 20:49:13+00:00\n"
     ]
    },
    {
     "name": "stdout",
     "output_type": "stream",
     "text": [
      "Processing commit:  1f0175f846ee69fa126ad23505d65797c1dc9cc5  -  2025-01-08 19:49:03+00:00\n"
     ]
    },
    {
     "name": "stdout",
     "output_type": "stream",
     "text": [
      "Processing commit:  68d019e4ae8e061f2fb118a0947baf13452dd65c  -  2025-01-08 18:49:37+00:00\n"
     ]
    },
    {
     "name": "stdout",
     "output_type": "stream",
     "text": [
      "Processing commit:  7e898cc4d406b4f640ec7afbe1508793ebd64180  -  2025-01-08 17:49:05+00:00\n"
     ]
    },
    {
     "name": "stdout",
     "output_type": "stream",
     "text": [
      "Processing commit:  4521a2e53821bbe732dd479aa6dfcaa71924a717  -  2025-01-08 16:50:13+00:00\n"
     ]
    },
    {
     "name": "stdout",
     "output_type": "stream",
     "text": [
      "Processing commit:  9a8bab64b38c97086d5c65b8b8ef70f26df7fb99  -  2025-01-08 15:49:13+00:00\n"
     ]
    },
    {
     "name": "stdout",
     "output_type": "stream",
     "text": [
      "breaking at:  2025-01-08 14:49:05+00:00\n",
      "{'CLARENDON ROW': [[0, datetime.datetime(2025, 1, 8, 23, 49, 15, tzinfo=<git.objects.util.tzoffset object at 0x000001A2B17841F0>)], [0, datetime.datetime(2025, 1, 8, 22, 48, 55, tzinfo=<git.objects.util.tzoffset object at 0x000001A2B1784250>)], [0, datetime.datetime(2025, 1, 8, 21, 49, 15, tzinfo=<git.objects.util.tzoffset object at 0x000001A2B1784070>)], [0, datetime.datetime(2025, 1, 8, 20, 49, 13, tzinfo=<git.objects.util.tzoffset object at 0x000001A2B1785D50>)], [0, datetime.datetime(2025, 1, 8, 19, 49, 3, tzinfo=<git.objects.util.tzoffset object at 0x000001A2B179A140>)], [0, datetime.datetime(2025, 1, 8, 18, 49, 37, tzinfo=<git.objects.util.tzoffset object at 0x000001A2B179F700>)], [0, datetime.datetime(2025, 1, 8, 17, 49, 5, tzinfo=<git.objects.util.tzoffset object at 0x000001A2B18DCD00>)], [0, datetime.datetime(2025, 1, 8, 16, 50, 13, tzinfo=<git.objects.util.tzoffset object at 0x000001A2B18E62C0>)], [5, datetime.datetime(2025, 1, 8, 15, 49, 13, tzinfo=<git.objects.util.tzoffset object at 0x000001A2B18EB880>)]], 'BLESSINGTON STREET': [[9, datetime.datetime(2025, 1, 8, 23, 49, 15, tzinfo=<git.objects.util.tzoffset object at 0x000001A2B17843A0>)], [9, datetime.datetime(2025, 1, 8, 22, 48, 55, tzinfo=<git.objects.util.tzoffset object at 0x000001A2B17842B0>)], [7, datetime.datetime(2025, 1, 8, 21, 49, 15, tzinfo=<git.objects.util.tzoffset object at 0x000001A2B179A230>)], [7, datetime.datetime(2025, 1, 8, 20, 49, 13, tzinfo=<git.objects.util.tzoffset object at 0x000001A2B179F880>)], [7, datetime.datetime(2025, 1, 8, 19, 49, 3, tzinfo=<git.objects.util.tzoffset object at 0x000001A2B18DCE80>)], [8, datetime.datetime(2025, 1, 8, 18, 49, 37, tzinfo=<git.objects.util.tzoffset object at 0x000001A2B18E6440>)], [7, datetime.datetime(2025, 1, 8, 17, 49, 5, tzinfo=<git.objects.util.tzoffset object at 0x000001A2B18EBA00>)], [6, datetime.datetime(2025, 1, 8, 16, 50, 13, tzinfo=<git.objects.util.tzoffset object at 0x000001A2B18F8B20>)], [9, datetime.datetime(2025, 1, 8, 15, 49, 13, tzinfo=<git.objects.util.tzoffset object at 0x000001A2B1901F00>)]], 'BOLTON STREET': [[7, datetime.datetime(2025, 1, 8, 23, 49, 15, tzinfo=<git.objects.util.tzoffset object at 0x000001A2B1785F90>)], [7, datetime.datetime(2025, 1, 8, 22, 48, 55, tzinfo=<git.objects.util.tzoffset object at 0x000001A2B179A200>)], [5, datetime.datetime(2025, 1, 8, 21, 49, 15, tzinfo=<git.objects.util.tzoffset object at 0x000001A2B179F7C0>)], [4, datetime.datetime(2025, 1, 8, 20, 49, 13, tzinfo=<git.objects.util.tzoffset object at 0x000001A2B18DCDC0>)], [4, datetime.datetime(2025, 1, 8, 19, 49, 3, tzinfo=<git.objects.util.tzoffset object at 0x000001A2B18E6380>)], [3, datetime.datetime(2025, 1, 8, 18, 49, 37, tzinfo=<git.objects.util.tzoffset object at 0x000001A2B16DC850>)], [2, datetime.datetime(2025, 1, 8, 17, 49, 5, tzinfo=<git.objects.util.tzoffset object at 0x000001A2B16DCEE0>)], [1, datetime.datetime(2025, 1, 8, 16, 50, 13, tzinfo=<git.objects.util.tzoffset object at 0x000001A2B1901E40>)], [3, datetime.datetime(2025, 1, 8, 15, 49, 13, tzinfo=<git.objects.util.tzoffset object at 0x000001A2B190B460>)]], 'GREEK STREET': [[13, datetime.datetime(2025, 1, 8, 23, 49, 15, tzinfo=<git.objects.util.tzoffset object at 0x000001A2B1786080>)], [14, datetime.datetime(2025, 1, 8, 22, 48, 55, tzinfo=<git.objects.util.tzoffset object at 0x000001A2B179A410>)], [13, datetime.datetime(2025, 1, 8, 21, 49, 15, tzinfo=<git.objects.util.tzoffset object at 0x000001A2B179F9D0>)], [13, datetime.datetime(2025, 1, 8, 20, 49, 13, tzinfo=<git.objects.util.tzoffset object at 0x000001A2B18DCFD0>)], [13, datetime.datetime(2025, 1, 8, 19, 49, 3, tzinfo=<git.objects.util.tzoffset object at 0x000001A2B18E6590>)], [11, datetime.datetime(2025, 1, 8, 18, 49, 37, tzinfo=<git.objects.util.tzoffset object at 0x000001A2B16DCA00>)], [11, datetime.datetime(2025, 1, 8, 17, 49, 5, tzinfo=<git.objects.util.tzoffset object at 0x000001A2B16DC970>)], [12, datetime.datetime(2025, 1, 8, 16, 50, 13, tzinfo=<git.objects.util.tzoffset object at 0x000001A2B1902050>)], [13, datetime.datetime(2025, 1, 8, 15, 49, 13, tzinfo=<git.objects.util.tzoffset object at 0x000001A2B190B4F0>)]], 'CHARLEMONT PLACE': [[32, datetime.datetime(2025, 1, 8, 23, 49, 15, tzinfo=<git.objects.util.tzoffset object at 0x000001A2B1784340>)], [31, datetime.datetime(2025, 1, 8, 22, 48, 55, tzinfo=<git.objects.util.tzoffset object at 0x000001A2B179A620>)], [30, datetime.datetime(2025, 1, 8, 21, 49, 15, tzinfo=<git.objects.util.tzoffset object at 0x000001A2B179FBE0>)], [30, datetime.datetime(2025, 1, 8, 20, 49, 13, tzinfo=<git.objects.util.tzoffset object at 0x000001A2B18DD1E0>)], [28, datetime.datetime(2025, 1, 8, 19, 49, 3, tzinfo=<git.objects.util.tzoffset object at 0x000001A2B18E67A0>)], [22, datetime.datetime(2025, 1, 8, 18, 49, 37, tzinfo=<git.objects.util.tzoffset object at 0x000001A2B16DC940>)], [21, datetime.datetime(2025, 1, 8, 17, 49, 5, tzinfo=<git.objects.util.tzoffset object at 0x000001A2B16DD0C0>)], [7, datetime.datetime(2025, 1, 8, 16, 50, 13, tzinfo=<git.objects.util.tzoffset object at 0x000001A2B1902260>)], [6, datetime.datetime(2025, 1, 8, 15, 49, 13, tzinfo=<git.objects.util.tzoffset object at 0x000001A2B190B7C0>)]], 'CHRISTCHURCH PLACE': [[0, datetime.datetime(2025, 1, 8, 23, 49, 15, tzinfo=<git.objects.util.tzoffset object at 0x000001A2B1785FF0>)], [1, datetime.datetime(2025, 1, 8, 22, 48, 55, tzinfo=<git.objects.util.tzoffset object at 0x000001A2B179A4A0>)], [3, datetime.datetime(2025, 1, 8, 21, 49, 15, tzinfo=<git.objects.util.tzoffset object at 0x000001A2B179FA60>)], [3, datetime.datetime(2025, 1, 8, 20, 49, 13, tzinfo=<git.objects.util.tzoffset object at 0x000001A2B18DD060>)], [4, datetime.datetime(2025, 1, 8, 19, 49, 3, tzinfo=<git.objects.util.tzoffset object at 0x000001A2B18E6620>)], [5, datetime.datetime(2025, 1, 8, 18, 49, 37, tzinfo=<git.objects.util.tzoffset object at 0x000001A2B16DCDC0>)], [0, datetime.datetime(2025, 1, 8, 17, 49, 5, tzinfo=<git.objects.util.tzoffset object at 0x000001A2B18F8910>)], [0, datetime.datetime(2025, 1, 8, 16, 50, 13, tzinfo=<git.objects.util.tzoffset object at 0x000001A2B19020E0>)], [0, datetime.datetime(2025, 1, 8, 15, 49, 13, tzinfo=<git.objects.util.tzoffset object at 0x000001A2B190B700>)]], 'HIGH STREET': [[15, datetime.datetime(2025, 1, 8, 23, 49, 15, tzinfo=<git.objects.util.tzoffset object at 0x000001A2B1785F00>)], [16, datetime.datetime(2025, 1, 8, 22, 48, 55, tzinfo=<git.objects.util.tzoffset object at 0x000001A2B179A3B0>)], [13, datetime.datetime(2025, 1, 8, 21, 49, 15, tzinfo=<git.objects.util.tzoffset object at 0x000001A2B179F940>)], [12, datetime.datetime(2025, 1, 8, 20, 49, 13, tzinfo=<git.objects.util.tzoffset object at 0x000001A2B18DCF40>)], [14, datetime.datetime(2025, 1, 8, 19, 49, 3, tzinfo=<git.objects.util.tzoffset object at 0x000001A2B18E6500>)], [13, datetime.datetime(2025, 1, 8, 18, 49, 37, tzinfo=<git.objects.util.tzoffset object at 0x000001A2B16DC9A0>)], [12, datetime.datetime(2025, 1, 8, 17, 49, 5, tzinfo=<git.objects.util.tzoffset object at 0x000001A2B18F8DF0>)], [10, datetime.datetime(2025, 1, 8, 16, 50, 13, tzinfo=<git.objects.util.tzoffset object at 0x000001A2B1901FC0>)], [9, datetime.datetime(2025, 1, 8, 15, 49, 13, tzinfo=<git.objects.util.tzoffset object at 0x000001A2B190B5B0>)]], 'CUSTOM HOUSE QUAY': [[19, datetime.datetime(2025, 1, 8, 23, 49, 15, tzinfo=<git.objects.util.tzoffset object at 0x000001A2B1786050>)], [20, datetime.datetime(2025, 1, 8, 22, 48, 55, tzinfo=<git.objects.util.tzoffset object at 0x000001A2B179A440>)], [18, datetime.datetime(2025, 1, 8, 21, 49, 15, tzinfo=<git.objects.util.tzoffset object at 0x000001A2B179FA00>)], [19, datetime.datetime(2025, 1, 8, 20, 49, 13, tzinfo=<git.objects.util.tzoffset object at 0x000001A2B18DD000>)], [20, datetime.datetime(2025, 1, 8, 19, 49, 3, tzinfo=<git.objects.util.tzoffset object at 0x000001A2B18E65C0>)], [21, datetime.datetime(2025, 1, 8, 18, 49, 37, tzinfo=<git.objects.util.tzoffset object at 0x000001A2B16DC790>)], [20, datetime.datetime(2025, 1, 8, 17, 49, 5, tzinfo=<git.objects.util.tzoffset object at 0x000001A2B18F8CD0>)], [13, datetime.datetime(2025, 1, 8, 16, 50, 13, tzinfo=<git.objects.util.tzoffset object at 0x000001A2B1902080>)], [13, datetime.datetime(2025, 1, 8, 15, 49, 13, tzinfo=<git.objects.util.tzoffset object at 0x000001A2B190B640>)]], 'EXCHEQUER STREET': [[4, datetime.datetime(2025, 1, 8, 23, 49, 15, tzinfo=<git.objects.util.tzoffset object at 0x000001A2B1786170>)], [7, datetime.datetime(2025, 1, 8, 22, 48, 55, tzinfo=<git.objects.util.tzoffset object at 0x000001A2B179A710>)], [6, datetime.datetime(2025, 1, 8, 21, 49, 15, tzinfo=<git.objects.util.tzoffset object at 0x000001A2B179FCD0>)], [9, datetime.datetime(2025, 1, 8, 20, 49, 13, tzinfo=<git.objects.util.tzoffset object at 0x000001A2B18DD2D0>)], [12, datetime.datetime(2025, 1, 8, 19, 49, 3, tzinfo=<git.objects.util.tzoffset object at 0x000001A2B18E6890>)], [16, datetime.datetime(2025, 1, 8, 18, 49, 37, tzinfo=<git.objects.util.tzoffset object at 0x000001A2B16DCC40>)], [13, datetime.datetime(2025, 1, 8, 17, 49, 5, tzinfo=<git.objects.util.tzoffset object at 0x000001A2B18F8BB0>)], [12, datetime.datetime(2025, 1, 8, 16, 50, 13, tzinfo=<git.objects.util.tzoffset object at 0x000001A2B1902350>)], [14, datetime.datetime(2025, 1, 8, 15, 49, 13, tzinfo=<git.objects.util.tzoffset object at 0x000001A2B190B910>)]], 'DAME STREET': [[8, datetime.datetime(2025, 1, 8, 23, 49, 15, tzinfo=<git.objects.util.tzoffset object at 0x000001A2B17863B0>)], [8, datetime.datetime(2025, 1, 8, 22, 48, 55, tzinfo=<git.objects.util.tzoffset object at 0x000001A2B179A7A0>)], [9, datetime.datetime(2025, 1, 8, 21, 49, 15, tzinfo=<git.objects.util.tzoffset object at 0x000001A2B179FD60>)], [9, datetime.datetime(2025, 1, 8, 20, 49, 13, tzinfo=<git.objects.util.tzoffset object at 0x000001A2B18DD360>)], [11, datetime.datetime(2025, 1, 8, 19, 49, 3, tzinfo=<git.objects.util.tzoffset object at 0x000001A2B18E6920>)], [7, datetime.datetime(2025, 1, 8, 18, 49, 37, tzinfo=<git.objects.util.tzoffset object at 0x000001A2B18EB7F0>)], [7, datetime.datetime(2025, 1, 8, 17, 49, 5, tzinfo=<git.objects.util.tzoffset object at 0x000001A2B18F8C40>)], [3, datetime.datetime(2025, 1, 8, 16, 50, 13, tzinfo=<git.objects.util.tzoffset object at 0x000001A2B19023E0>)], [4, datetime.datetime(2025, 1, 8, 15, 49, 13, tzinfo=<git.objects.util.tzoffset object at 0x000001A2B190B9A0>)]], 'EARLSFORT TERRACE': [[4, datetime.datetime(2025, 1, 8, 23, 49, 15, tzinfo=<git.objects.util.tzoffset object at 0x000001A2B17862F0>)], [5, datetime.datetime(2025, 1, 8, 22, 48, 55, tzinfo=<git.objects.util.tzoffset object at 0x000001A2B179A830>)], [5, datetime.datetime(2025, 1, 8, 21, 49, 15, tzinfo=<git.objects.util.tzoffset object at 0x000001A2B179FDF0>)], [6, datetime.datetime(2025, 1, 8, 20, 49, 13, tzinfo=<git.objects.util.tzoffset object at 0x000001A2B18DD3F0>)], [6, datetime.datetime(2025, 1, 8, 19, 49, 3, tzinfo=<git.objects.util.tzoffset object at 0x000001A2B18E69B0>)], [9, datetime.datetime(2025, 1, 8, 18, 49, 37, tzinfo=<git.objects.util.tzoffset object at 0x000001A2B18EBA60>)], [16, datetime.datetime(2025, 1, 8, 17, 49, 5, tzinfo=<git.objects.util.tzoffset object at 0x000001A2B18F8EE0>)], [16, datetime.datetime(2025, 1, 8, 16, 50, 13, tzinfo=<git.objects.util.tzoffset object at 0x000001A2B1902470>)], [20, datetime.datetime(2025, 1, 8, 15, 49, 13, tzinfo=<git.objects.util.tzoffset object at 0x000001A2B190BA30>)]], 'ECCLES STREET': [[8, datetime.datetime(2025, 1, 8, 23, 49, 15, tzinfo=<git.objects.util.tzoffset object at 0x000001A2B17852D0>)], [8, datetime.datetime(2025, 1, 8, 22, 48, 55, tzinfo=<git.objects.util.tzoffset object at 0x000001A2B179A8F0>)], [8, datetime.datetime(2025, 1, 8, 21, 49, 15, tzinfo=<git.objects.util.tzoffset object at 0x000001A2B179FEB0>)], [7, datetime.datetime(2025, 1, 8, 20, 49, 13, tzinfo=<git.objects.util.tzoffset object at 0x000001A2B18DD4B0>)], [6, datetime.datetime(2025, 1, 8, 19, 49, 3, tzinfo=<git.objects.util.tzoffset object at 0x000001A2B18E6A70>)], [8, datetime.datetime(2025, 1, 8, 18, 49, 37, tzinfo=<git.objects.util.tzoffset object at 0x000001A2B18EBB50>)], [8, datetime.datetime(2025, 1, 8, 17, 49, 5, tzinfo=<git.objects.util.tzoffset object at 0x000001A2B18F8FA0>)], [10, datetime.datetime(2025, 1, 8, 16, 50, 13, tzinfo=<git.objects.util.tzoffset object at 0x000001A2B1902530>)], [0, datetime.datetime(2025, 1, 8, 15, 49, 13, tzinfo=<git.objects.util.tzoffset object at 0x000001A2B190BAF0>)]], 'FITZWILLIAM SQUARE WEST': [[0, datetime.datetime(2025, 1, 8, 23, 49, 15, tzinfo=<git.objects.util.tzoffset object at 0x000001A2B1785270>)], [0, datetime.datetime(2025, 1, 8, 22, 48, 55, tzinfo=<git.objects.util.tzoffset object at 0x000001A2B179A9B0>)], [0, datetime.datetime(2025, 1, 8, 21, 49, 15, tzinfo=<git.objects.util.tzoffset object at 0x000001A2B179FF70>)], [0, datetime.datetime(2025, 1, 8, 20, 49, 13, tzinfo=<git.objects.util.tzoffset object at 0x000001A2B18DD570>)], [0, datetime.datetime(2025, 1, 8, 19, 49, 3, tzinfo=<git.objects.util.tzoffset object at 0x000001A2B18E6B30>)], [1, datetime.datetime(2025, 1, 8, 18, 49, 37, tzinfo=<git.objects.util.tzoffset object at 0x000001A2B18EBC10>)], [0, datetime.datetime(2025, 1, 8, 17, 49, 5, tzinfo=<git.objects.util.tzoffset object at 0x000001A2B18F9030>)], [1, datetime.datetime(2025, 1, 8, 16, 50, 13, tzinfo=<git.objects.util.tzoffset object at 0x000001A2B19025F0>)], [3, datetime.datetime(2025, 1, 8, 15, 49, 13, tzinfo=<git.objects.util.tzoffset object at 0x000001A2B190BBB0>)]], 'FOWNES STREET UPPER': [[12, datetime.datetime(2025, 1, 8, 23, 49, 15, tzinfo=<git.objects.util.tzoffset object at 0x000001A2B17851E0>)], [13, datetime.datetime(2025, 1, 8, 22, 48, 55, tzinfo=<git.objects.util.tzoffset object at 0x000001A2B179AA70>)], [16, datetime.datetime(2025, 1, 8, 21, 49, 15, tzinfo=<git.objects.util.tzoffset object at 0x000001A2B18D4070>)], [18, datetime.datetime(2025, 1, 8, 20, 49, 13, tzinfo=<git.objects.util.tzoffset object at 0x000001A2B18DD630>)], [16, datetime.datetime(2025, 1, 8, 19, 49, 3, tzinfo=<git.objects.util.tzoffset object at 0x000001A2B18E6BF0>)], [19, datetime.datetime(2025, 1, 8, 18, 49, 37, tzinfo=<git.objects.util.tzoffset object at 0x000001A2B18EBCD0>)], [20, datetime.datetime(2025, 1, 8, 17, 49, 5, tzinfo=<git.objects.util.tzoffset object at 0x000001A2B18F90F0>)], [14, datetime.datetime(2025, 1, 8, 16, 50, 13, tzinfo=<git.objects.util.tzoffset object at 0x000001A2B19026B0>)], [14, datetime.datetime(2025, 1, 8, 15, 49, 13, tzinfo=<git.objects.util.tzoffset object at 0x000001A2B190BC70>)]], 'HARDWICKE STREET': [[11, datetime.datetime(2025, 1, 8, 23, 49, 15, tzinfo=<git.objects.util.tzoffset object at 0x000001A2B1785BD0>)], [11, datetime.datetime(2025, 1, 8, 22, 48, 55, tzinfo=<git.objects.util.tzoffset object at 0x000001A2B179AB30>)], [9, datetime.datetime(2025, 1, 8, 21, 49, 15, tzinfo=<git.objects.util.tzoffset object at 0x000001A2B18D4130>)], [9, datetime.datetime(2025, 1, 8, 20, 49, 13, tzinfo=<git.objects.util.tzoffset object at 0x000001A2B18DD6F0>)], [8, datetime.datetime(2025, 1, 8, 19, 49, 3, tzinfo=<git.objects.util.tzoffset object at 0x000001A2B18E6CB0>)], [6, datetime.datetime(2025, 1, 8, 18, 49, 37, tzinfo=<git.objects.util.tzoffset object at 0x000001A2B18EBD90>)], [5, datetime.datetime(2025, 1, 8, 17, 49, 5, tzinfo=<git.objects.util.tzoffset object at 0x000001A2B18F91B0>)], [5, datetime.datetime(2025, 1, 8, 16, 50, 13, tzinfo=<git.objects.util.tzoffset object at 0x000001A2B1902770>)], [3, datetime.datetime(2025, 1, 8, 15, 49, 13, tzinfo=<git.objects.util.tzoffset object at 0x000001A2B190BD30>)]], 'GEORGES QUAY': [[13, datetime.datetime(2025, 1, 8, 23, 49, 15, tzinfo=<git.objects.util.tzoffset object at 0x000001A2B1785060>)], [15, datetime.datetime(2025, 1, 8, 22, 48, 55, tzinfo=<git.objects.util.tzoffset object at 0x000001A2B179ABF0>)], [15, datetime.datetime(2025, 1, 8, 21, 49, 15, tzinfo=<git.objects.util.tzoffset object at 0x000001A2B18D41F0>)], [16, datetime.datetime(2025, 1, 8, 20, 49, 13, tzinfo=<git.objects.util.tzoffset object at 0x000001A2B18DD7B0>)], [16, datetime.datetime(2025, 1, 8, 19, 49, 3, tzinfo=<git.objects.util.tzoffset object at 0x000001A2B18E6D70>)], [17, datetime.datetime(2025, 1, 8, 18, 49, 37, tzinfo=<git.objects.util.tzoffset object at 0x000001A2B18EBE50>)], [16, datetime.datetime(2025, 1, 8, 17, 49, 5, tzinfo=<git.objects.util.tzoffset object at 0x000001A2B18F9270>)], [12, datetime.datetime(2025, 1, 8, 16, 50, 13, tzinfo=<git.objects.util.tzoffset object at 0x000001A2B1902830>)], [20, datetime.datetime(2025, 1, 8, 15, 49, 13, tzinfo=<git.objects.util.tzoffset object at 0x000001A2B190BDF0>)]], 'GOLDEN LANE': [[0, datetime.datetime(2025, 1, 8, 23, 49, 15, tzinfo=<git.objects.util.tzoffset object at 0x000001A2B1784F70>)], [0, datetime.datetime(2025, 1, 8, 22, 48, 55, tzinfo=<git.objects.util.tzoffset object at 0x000001A2B179ACB0>)], [2, datetime.datetime(2025, 1, 8, 21, 49, 15, tzinfo=<git.objects.util.tzoffset object at 0x000001A2B18D42B0>)], [4, datetime.datetime(2025, 1, 8, 20, 49, 13, tzinfo=<git.objects.util.tzoffset object at 0x000001A2B18DD870>)], [3, datetime.datetime(2025, 1, 8, 19, 49, 3, tzinfo=<git.objects.util.tzoffset object at 0x000001A2B18E6E30>)], [2, datetime.datetime(2025, 1, 8, 18, 49, 37, tzinfo=<git.objects.util.tzoffset object at 0x000001A2B18EBF10>)], [3, datetime.datetime(2025, 1, 8, 17, 49, 5, tzinfo=<git.objects.util.tzoffset object at 0x000001A2B18F9330>)], [5, datetime.datetime(2025, 1, 8, 16, 50, 13, tzinfo=<git.objects.util.tzoffset object at 0x000001A2B19028F0>)], [7, datetime.datetime(2025, 1, 8, 15, 49, 13, tzinfo=<git.objects.util.tzoffset object at 0x000001A2B190BEB0>)]], 'GRANTHAM STREET': [[9, datetime.datetime(2025, 1, 8, 23, 49, 15, tzinfo=<git.objects.util.tzoffset object at 0x000001A2B1784EB0>)], [12, datetime.datetime(2025, 1, 8, 22, 48, 55, tzinfo=<git.objects.util.tzoffset object at 0x000001A2B179AD70>)], [11, datetime.datetime(2025, 1, 8, 21, 49, 15, tzinfo=<git.objects.util.tzoffset object at 0x000001A2B18D4370>)], [13, datetime.datetime(2025, 1, 8, 20, 49, 13, tzinfo=<git.objects.util.tzoffset object at 0x000001A2B18DD930>)], [16, datetime.datetime(2025, 1, 8, 19, 49, 3, tzinfo=<git.objects.util.tzoffset object at 0x000001A2B18E6EF0>)], [17, datetime.datetime(2025, 1, 8, 18, 49, 37, tzinfo=<git.objects.util.tzoffset object at 0x000001A2B18EBFD0>)], [10, datetime.datetime(2025, 1, 8, 17, 49, 5, tzinfo=<git.objects.util.tzoffset object at 0x000001A2B18F93F0>)], [18, datetime.datetime(2025, 1, 8, 16, 50, 13, tzinfo=<git.objects.util.tzoffset object at 0x000001A2B19029B0>)], [19, datetime.datetime(2025, 1, 8, 15, 49, 13, tzinfo=<git.objects.util.tzoffset object at 0x000001A2B190BF70>)]], 'HERBERT PLACE': [[0, datetime.datetime(2025, 1, 8, 23, 49, 15, tzinfo=<git.objects.util.tzoffset object at 0x000001A2B1784DF0>)], [0, datetime.datetime(2025, 1, 8, 22, 48, 55, tzinfo=<git.objects.util.tzoffset object at 0x000001A2B179AE30>)], [1, datetime.datetime(2025, 1, 8, 21, 49, 15, tzinfo=<git.objects.util.tzoffset object at 0x000001A2B18D4430>)], [1, datetime.datetime(2025, 1, 8, 20, 49, 13, tzinfo=<git.objects.util.tzoffset object at 0x000001A2B18DD9F0>)], [3, datetime.datetime(2025, 1, 8, 19, 49, 3, tzinfo=<git.objects.util.tzoffset object at 0x000001A2B18E6FB0>)], [1, datetime.datetime(2025, 1, 8, 18, 49, 37, tzinfo=<git.objects.util.tzoffset object at 0x000001A2B18F40D0>)], [1, datetime.datetime(2025, 1, 8, 17, 49, 5, tzinfo=<git.objects.util.tzoffset object at 0x000001A2B18F94B0>)], [13, datetime.datetime(2025, 1, 8, 16, 50, 13, tzinfo=<git.objects.util.tzoffset object at 0x000001A2B1902A70>)], [17, datetime.datetime(2025, 1, 8, 15, 49, 13, tzinfo=<git.objects.util.tzoffset object at 0x000001A2B190C070>)]], 'JAMES STREET EAST': [[0, datetime.datetime(2025, 1, 8, 23, 49, 15, tzinfo=<git.objects.util.tzoffset object at 0x000001A2B1784D30>)], [0, datetime.datetime(2025, 1, 8, 22, 48, 55, tzinfo=<git.objects.util.tzoffset object at 0x000001A2B179AEF0>)], [1, datetime.datetime(2025, 1, 8, 21, 49, 15, tzinfo=<git.objects.util.tzoffset object at 0x000001A2B18D44F0>)], [1, datetime.datetime(2025, 1, 8, 20, 49, 13, tzinfo=<git.objects.util.tzoffset object at 0x000001A2B18DDAB0>)], [0, datetime.datetime(2025, 1, 8, 19, 49, 3, tzinfo=<git.objects.util.tzoffset object at 0x000001A2B18E7070>)], [0, datetime.datetime(2025, 1, 8, 18, 49, 37, tzinfo=<git.objects.util.tzoffset object at 0x000001A2B18F4190>)], [1, datetime.datetime(2025, 1, 8, 17, 49, 5, tzinfo=<git.objects.util.tzoffset object at 0x000001A2B18F9570>)], [2, datetime.datetime(2025, 1, 8, 16, 50, 13, tzinfo=<git.objects.util.tzoffset object at 0x000001A2B1902B30>)], [4, datetime.datetime(2025, 1, 8, 15, 49, 13, tzinfo=<git.objects.util.tzoffset object at 0x000001A2B190C130>)]], 'LEINSTER STREET SOUTH': [[0, datetime.datetime(2025, 1, 8, 23, 49, 15, tzinfo=<git.objects.util.tzoffset object at 0x000001A2B1784C70>)], [0, datetime.datetime(2025, 1, 8, 22, 48, 55, tzinfo=<git.objects.util.tzoffset object at 0x000001A2B179AFB0>)], [2, datetime.datetime(2025, 1, 8, 21, 49, 15, tzinfo=<git.objects.util.tzoffset object at 0x000001A2B18D45B0>)], [5, datetime.datetime(2025, 1, 8, 20, 49, 13, tzinfo=<git.objects.util.tzoffset object at 0x000001A2B18DDB70>)], [5, datetime.datetime(2025, 1, 8, 19, 49, 3, tzinfo=<git.objects.util.tzoffset object at 0x000001A2B18E7130>)], [6, datetime.datetime(2025, 1, 8, 18, 49, 37, tzinfo=<git.objects.util.tzoffset object at 0x000001A2B18F4250>)], [11, datetime.datetime(2025, 1, 8, 17, 49, 5, tzinfo=<git.objects.util.tzoffset object at 0x000001A2B18F9630>)], [17, datetime.datetime(2025, 1, 8, 16, 50, 13, tzinfo=<git.objects.util.tzoffset object at 0x000001A2B1902BF0>)], [19, datetime.datetime(2025, 1, 8, 15, 49, 13, tzinfo=<git.objects.util.tzoffset object at 0x000001A2B190C1F0>)]], 'TOWNSEND STREET': [[9, datetime.datetime(2025, 1, 8, 23, 49, 15, tzinfo=<git.objects.util.tzoffset object at 0x000001A2B1784BB0>)], [10, datetime.datetime(2025, 1, 8, 22, 48, 55, tzinfo=<git.objects.util.tzoffset object at 0x000001A2B179B070>)], [10, datetime.datetime(2025, 1, 8, 21, 49, 15, tzinfo=<git.objects.util.tzoffset object at 0x000001A2B18D4670>)], [10, datetime.datetime(2025, 1, 8, 20, 49, 13, tzinfo=<git.objects.util.tzoffset object at 0x000001A2B18DDC30>)], [11, datetime.datetime(2025, 1, 8, 19, 49, 3, tzinfo=<git.objects.util.tzoffset object at 0x000001A2B18E71F0>)], [9, datetime.datetime(2025, 1, 8, 18, 49, 37, tzinfo=<git.objects.util.tzoffset object at 0x000001A2B18F4310>)], [16, datetime.datetime(2025, 1, 8, 17, 49, 5, tzinfo=<git.objects.util.tzoffset object at 0x000001A2B18F96F0>)], [10, datetime.datetime(2025, 1, 8, 16, 50, 13, tzinfo=<git.objects.util.tzoffset object at 0x000001A2B1902CB0>)], [7, datetime.datetime(2025, 1, 8, 15, 49, 13, tzinfo=<git.objects.util.tzoffset object at 0x000001A2B190C2B0>)]], 'CUSTOM HOUSE': [[23, datetime.datetime(2025, 1, 8, 23, 49, 15, tzinfo=<git.objects.util.tzoffset object at 0x000001A2B1784AF0>)], [24, datetime.datetime(2025, 1, 8, 22, 48, 55, tzinfo=<git.objects.util.tzoffset object at 0x000001A2B179B130>)], [23, datetime.datetime(2025, 1, 8, 21, 49, 15, tzinfo=<git.objects.util.tzoffset object at 0x000001A2B18D4730>)], [23, datetime.datetime(2025, 1, 8, 20, 49, 13, tzinfo=<git.objects.util.tzoffset object at 0x000001A2B18DDCF0>)], [21, datetime.datetime(2025, 1, 8, 19, 49, 3, tzinfo=<git.objects.util.tzoffset object at 0x000001A2B18E72B0>)], [23, datetime.datetime(2025, 1, 8, 18, 49, 37, tzinfo=<git.objects.util.tzoffset object at 0x000001A2B18F43D0>)], [30, datetime.datetime(2025, 1, 8, 17, 49, 5, tzinfo=<git.objects.util.tzoffset object at 0x000001A2B18F97B0>)], [25, datetime.datetime(2025, 1, 8, 16, 50, 13, tzinfo=<git.objects.util.tzoffset object at 0x000001A2B1902D70>)], [13, datetime.datetime(2025, 1, 8, 15, 49, 13, tzinfo=<git.objects.util.tzoffset object at 0x000001A2B190C370>)]], 'CATHAL BRUGHA STREET': [[9, datetime.datetime(2025, 1, 8, 23, 49, 15, tzinfo=<git.objects.util.tzoffset object at 0x000001A2B1784A30>)], [6, datetime.datetime(2025, 1, 8, 22, 48, 55, tzinfo=<git.objects.util.tzoffset object at 0x000001A2B179B1F0>)], [4, datetime.datetime(2025, 1, 8, 21, 49, 15, tzinfo=<git.objects.util.tzoffset object at 0x000001A2B18D47F0>)], [4, datetime.datetime(2025, 1, 8, 20, 49, 13, tzinfo=<git.objects.util.tzoffset object at 0x000001A2B18DDDB0>)], [4, datetime.datetime(2025, 1, 8, 19, 49, 3, tzinfo=<git.objects.util.tzoffset object at 0x000001A2B18E7370>)], [6, datetime.datetime(2025, 1, 8, 18, 49, 37, tzinfo=<git.objects.util.tzoffset object at 0x000001A2B18F4490>)], [4, datetime.datetime(2025, 1, 8, 17, 49, 5, tzinfo=<git.objects.util.tzoffset object at 0x000001A2B18F9870>)], [8, datetime.datetime(2025, 1, 8, 16, 50, 13, tzinfo=<git.objects.util.tzoffset object at 0x000001A2B1902E30>)], [7, datetime.datetime(2025, 1, 8, 15, 49, 13, tzinfo=<git.objects.util.tzoffset object at 0x000001A2B190C430>)]], 'MERRION SQUARE EAST': [[5, datetime.datetime(2025, 1, 8, 23, 49, 15, tzinfo=<git.objects.util.tzoffset object at 0x000001A2B1784970>)], [5, datetime.datetime(2025, 1, 8, 22, 48, 55, tzinfo=<git.objects.util.tzoffset object at 0x000001A2B179B2B0>)], [5, datetime.datetime(2025, 1, 8, 21, 49, 15, tzinfo=<git.objects.util.tzoffset object at 0x000001A2B18D48B0>)], [4, datetime.datetime(2025, 1, 8, 20, 49, 13, tzinfo=<git.objects.util.tzoffset object at 0x000001A2B18DDE70>)], [6, datetime.datetime(2025, 1, 8, 19, 49, 3, tzinfo=<git.objects.util.tzoffset object at 0x000001A2B18E7430>)], [8, datetime.datetime(2025, 1, 8, 18, 49, 37, tzinfo=<git.objects.util.tzoffset object at 0x000001A2B18F4550>)], [11, datetime.datetime(2025, 1, 8, 17, 49, 5, tzinfo=<git.objects.util.tzoffset object at 0x000001A2B18F9930>)], [14, datetime.datetime(2025, 1, 8, 16, 50, 13, tzinfo=<git.objects.util.tzoffset object at 0x000001A2B1902EF0>)], [15, datetime.datetime(2025, 1, 8, 15, 49, 13, tzinfo=<git.objects.util.tzoffset object at 0x000001A2B190C4F0>)]], 'MERRION SQUARE WEST': [[11, datetime.datetime(2025, 1, 8, 23, 49, 15, tzinfo=<git.objects.util.tzoffset object at 0x000001A2B17848B0>)], [12, datetime.datetime(2025, 1, 8, 22, 48, 55, tzinfo=<git.objects.util.tzoffset object at 0x000001A2B179B370>)], [14, datetime.datetime(2025, 1, 8, 21, 49, 15, tzinfo=<git.objects.util.tzoffset object at 0x000001A2B18D4970>)], [14, datetime.datetime(2025, 1, 8, 20, 49, 13, tzinfo=<git.objects.util.tzoffset object at 0x000001A2B18DDF30>)], [15, datetime.datetime(2025, 1, 8, 19, 49, 3, tzinfo=<git.objects.util.tzoffset object at 0x000001A2B18E74F0>)], [17, datetime.datetime(2025, 1, 8, 18, 49, 37, tzinfo=<git.objects.util.tzoffset object at 0x000001A2B18F4610>)], [20, datetime.datetime(2025, 1, 8, 17, 49, 5, tzinfo=<git.objects.util.tzoffset object at 0x000001A2B18F99F0>)], [20, datetime.datetime(2025, 1, 8, 16, 50, 13, tzinfo=<git.objects.util.tzoffset object at 0x000001A2B1902FB0>)], [19, datetime.datetime(2025, 1, 8, 15, 49, 13, tzinfo=<git.objects.util.tzoffset object at 0x000001A2B190C5B0>)]], 'MOLESWORTH STREET': [[0, datetime.datetime(2025, 1, 8, 23, 49, 15, tzinfo=<git.objects.util.tzoffset object at 0x000001A2B17847F0>)], [0, datetime.datetime(2025, 1, 8, 22, 48, 55, tzinfo=<git.objects.util.tzoffset object at 0x000001A2B179B430>)], [0, datetime.datetime(2025, 1, 8, 21, 49, 15, tzinfo=<git.objects.util.tzoffset object at 0x000001A2B18D4A30>)], [0, datetime.datetime(2025, 1, 8, 20, 49, 13, tzinfo=<git.objects.util.tzoffset object at 0x000001A2B18DDFF0>)], [1, datetime.datetime(2025, 1, 8, 19, 49, 3, tzinfo=<git.objects.util.tzoffset object at 0x000001A2B18E75B0>)], [2, datetime.datetime(2025, 1, 8, 18, 49, 37, tzinfo=<git.objects.util.tzoffset object at 0x000001A2B18F46D0>)], [2, datetime.datetime(2025, 1, 8, 17, 49, 5, tzinfo=<git.objects.util.tzoffset object at 0x000001A2B18F9AB0>)], [3, datetime.datetime(2025, 1, 8, 16, 50, 13, tzinfo=<git.objects.util.tzoffset object at 0x000001A2B1903070>)], [2, datetime.datetime(2025, 1, 8, 15, 49, 13, tzinfo=<git.objects.util.tzoffset object at 0x000001A2B190C670>)]], 'MOUNTJOY SQUARE WEST': [[25, datetime.datetime(2025, 1, 8, 23, 49, 15, tzinfo=<git.objects.util.tzoffset object at 0x000001A2B1784730>)], [24, datetime.datetime(2025, 1, 8, 22, 48, 55, tzinfo=<git.objects.util.tzoffset object at 0x000001A2B179B4F0>)], [25, datetime.datetime(2025, 1, 8, 21, 49, 15, tzinfo=<git.objects.util.tzoffset object at 0x000001A2B18D4AF0>)], [26, datetime.datetime(2025, 1, 8, 20, 49, 13, tzinfo=<git.objects.util.tzoffset object at 0x000001A2B18DE0B0>)], [24, datetime.datetime(2025, 1, 8, 19, 49, 3, tzinfo=<git.objects.util.tzoffset object at 0x000001A2B18E7670>)], [12, datetime.datetime(2025, 1, 8, 18, 49, 37, tzinfo=<git.objects.util.tzoffset object at 0x000001A2B18F4790>)], [7, datetime.datetime(2025, 1, 8, 17, 49, 5, tzinfo=<git.objects.util.tzoffset object at 0x000001A2B18F9B70>)], [7, datetime.datetime(2025, 1, 8, 16, 50, 13, tzinfo=<git.objects.util.tzoffset object at 0x000001A2B1903130>)], [6, datetime.datetime(2025, 1, 8, 15, 49, 13, tzinfo=<git.objects.util.tzoffset object at 0x000001A2B190C730>)]], 'ORMOND QUAY UPPER': [[5, datetime.datetime(2025, 1, 8, 23, 49, 15, tzinfo=<git.objects.util.tzoffset object at 0x000001A2B1784670>)], [5, datetime.datetime(2025, 1, 8, 22, 48, 55, tzinfo=<git.objects.util.tzoffset object at 0x000001A2B179B5B0>)], [9, datetime.datetime(2025, 1, 8, 21, 49, 15, tzinfo=<git.objects.util.tzoffset object at 0x000001A2B18D4BB0>)], [10, datetime.datetime(2025, 1, 8, 20, 49, 13, tzinfo=<git.objects.util.tzoffset object at 0x000001A2B18DE170>)], [10, datetime.datetime(2025, 1, 8, 19, 49, 3, tzinfo=<git.objects.util.tzoffset object at 0x000001A2B18E7730>)], [9, datetime.datetime(2025, 1, 8, 18, 49, 37, tzinfo=<git.objects.util.tzoffset object at 0x000001A2B18F4850>)], [11, datetime.datetime(2025, 1, 8, 17, 49, 5, tzinfo=<git.objects.util.tzoffset object at 0x000001A2B18F9C30>)], [15, datetime.datetime(2025, 1, 8, 16, 50, 13, tzinfo=<git.objects.util.tzoffset object at 0x000001A2B19031F0>)], [14, datetime.datetime(2025, 1, 8, 15, 49, 13, tzinfo=<git.objects.util.tzoffset object at 0x000001A2B190C7F0>)]], 'PARNELL SQUARE NORTH': [[0, datetime.datetime(2025, 1, 8, 23, 49, 15, tzinfo=<git.objects.util.tzoffset object at 0x000001A2B17845B0>)], [0, datetime.datetime(2025, 1, 8, 22, 48, 55, tzinfo=<git.objects.util.tzoffset object at 0x000001A2B179B670>)], [0, datetime.datetime(2025, 1, 8, 21, 49, 15, tzinfo=<git.objects.util.tzoffset object at 0x000001A2B18D4C70>)], [0, datetime.datetime(2025, 1, 8, 20, 49, 13, tzinfo=<git.objects.util.tzoffset object at 0x000001A2B18DE230>)], [0, datetime.datetime(2025, 1, 8, 19, 49, 3, tzinfo=<git.objects.util.tzoffset object at 0x000001A2B18E77F0>)], [2, datetime.datetime(2025, 1, 8, 18, 49, 37, tzinfo=<git.objects.util.tzoffset object at 0x000001A2B18F4910>)], [2, datetime.datetime(2025, 1, 8, 17, 49, 5, tzinfo=<git.objects.util.tzoffset object at 0x000001A2B18F9CF0>)], [1, datetime.datetime(2025, 1, 8, 16, 50, 13, tzinfo=<git.objects.util.tzoffset object at 0x000001A2B19032B0>)], [0, datetime.datetime(2025, 1, 8, 15, 49, 13, tzinfo=<git.objects.util.tzoffset object at 0x000001A2B190C8B0>)]], 'PARNELL STREET': [[11, datetime.datetime(2025, 1, 8, 23, 49, 15, tzinfo=<git.objects.util.tzoffset object at 0x000001A2B17844F0>)], [9, datetime.datetime(2025, 1, 8, 22, 48, 55, tzinfo=<git.objects.util.tzoffset object at 0x000001A2B179B730>)], [10, datetime.datetime(2025, 1, 8, 21, 49, 15, tzinfo=<git.objects.util.tzoffset object at 0x000001A2B18D4D30>)], [10, datetime.datetime(2025, 1, 8, 20, 49, 13, tzinfo=<git.objects.util.tzoffset object at 0x000001A2B18DE2F0>)], [8, datetime.datetime(2025, 1, 8, 19, 49, 3, tzinfo=<git.objects.util.tzoffset object at 0x000001A2B18E78B0>)], [10, datetime.datetime(2025, 1, 8, 18, 49, 37, tzinfo=<git.objects.util.tzoffset object at 0x000001A2B18F49D0>)], [7, datetime.datetime(2025, 1, 8, 17, 49, 5, tzinfo=<git.objects.util.tzoffset object at 0x000001A2B18F9DB0>)], [5, datetime.datetime(2025, 1, 8, 16, 50, 13, tzinfo=<git.objects.util.tzoffset object at 0x000001A2B1903370>)], [7, datetime.datetime(2025, 1, 8, 15, 49, 13, tzinfo=<git.objects.util.tzoffset object at 0x000001A2B190C970>)]], 'PEARSE STREET': [[10, datetime.datetime(2025, 1, 8, 23, 49, 15, tzinfo=<git.objects.util.tzoffset object at 0x000001A2B1784430>)], [10, datetime.datetime(2025, 1, 8, 22, 48, 55, tzinfo=<git.objects.util.tzoffset object at 0x000001A2B179B7F0>)], [10, datetime.datetime(2025, 1, 8, 21, 49, 15, tzinfo=<git.objects.util.tzoffset object at 0x000001A2B18D4DF0>)], [13, datetime.datetime(2025, 1, 8, 20, 49, 13, tzinfo=<git.objects.util.tzoffset object at 0x000001A2B18DE3B0>)], [15, datetime.datetime(2025, 1, 8, 19, 49, 3, tzinfo=<git.objects.util.tzoffset object at 0x000001A2B18E7970>)], [19, datetime.datetime(2025, 1, 8, 18, 49, 37, tzinfo=<git.objects.util.tzoffset object at 0x000001A2B18F4A90>)], [7, datetime.datetime(2025, 1, 8, 17, 49, 5, tzinfo=<git.objects.util.tzoffset object at 0x000001A2B18F9E70>)], [6, datetime.datetime(2025, 1, 8, 16, 50, 13, tzinfo=<git.objects.util.tzoffset object at 0x000001A2B1903430>)], [4, datetime.datetime(2025, 1, 8, 15, 49, 13, tzinfo=<git.objects.util.tzoffset object at 0x000001A2B190CA30>)]], \"PRINCES STREET / O'CONNELL STREET\": [[11, datetime.datetime(2025, 1, 8, 23, 49, 15, tzinfo=<git.objects.util.tzoffset object at 0x000001A2E70484F0>)], [11, datetime.datetime(2025, 1, 8, 22, 48, 55, tzinfo=<git.objects.util.tzoffset object at 0x000001A2B179B8B0>)], [13, datetime.datetime(2025, 1, 8, 21, 49, 15, tzinfo=<git.objects.util.tzoffset object at 0x000001A2B18D4EB0>)], [13, datetime.datetime(2025, 1, 8, 20, 49, 13, tzinfo=<git.objects.util.tzoffset object at 0x000001A2B18DE470>)], [20, datetime.datetime(2025, 1, 8, 19, 49, 3, tzinfo=<git.objects.util.tzoffset object at 0x000001A2B18E7A30>)], [21, datetime.datetime(2025, 1, 8, 18, 49, 37, tzinfo=<git.objects.util.tzoffset object at 0x000001A2B18F4B50>)], [16, datetime.datetime(2025, 1, 8, 17, 49, 5, tzinfo=<git.objects.util.tzoffset object at 0x000001A2B18F9F30>)], [14, datetime.datetime(2025, 1, 8, 16, 50, 13, tzinfo=<git.objects.util.tzoffset object at 0x000001A2B19034F0>)], [13, datetime.datetime(2025, 1, 8, 15, 49, 13, tzinfo=<git.objects.util.tzoffset object at 0x000001A2B190CAF0>)]], 'PORTOBELLO HARBOUR': [[28, datetime.datetime(2025, 1, 8, 23, 49, 15, tzinfo=<git.objects.util.tzoffset object at 0x000001A2E7048550>)], [25, datetime.datetime(2025, 1, 8, 22, 48, 55, tzinfo=<git.objects.util.tzoffset object at 0x000001A2B179B970>)], [27, datetime.datetime(2025, 1, 8, 21, 49, 15, tzinfo=<git.objects.util.tzoffset object at 0x000001A2B18D4F70>)], [28, datetime.datetime(2025, 1, 8, 20, 49, 13, tzinfo=<git.objects.util.tzoffset object at 0x000001A2B18DE530>)], [27, datetime.datetime(2025, 1, 8, 19, 49, 3, tzinfo=<git.objects.util.tzoffset object at 0x000001A2B18E7AF0>)], [24, datetime.datetime(2025, 1, 8, 18, 49, 37, tzinfo=<git.objects.util.tzoffset object at 0x000001A2B18F4C10>)], [16, datetime.datetime(2025, 1, 8, 17, 49, 5, tzinfo=<git.objects.util.tzoffset object at 0x000001A2B18F9FF0>)], [11, datetime.datetime(2025, 1, 8, 16, 50, 13, tzinfo=<git.objects.util.tzoffset object at 0x000001A2B19035B0>)], [6, datetime.datetime(2025, 1, 8, 15, 49, 13, tzinfo=<git.objects.util.tzoffset object at 0x000001A2B190CBB0>)]], 'SMITHFIELD': [[30, datetime.datetime(2025, 1, 8, 23, 49, 15, tzinfo=<git.objects.util.tzoffset object at 0x000001A2E704A1A0>)], [30, datetime.datetime(2025, 1, 8, 22, 48, 55, tzinfo=<git.objects.util.tzoffset object at 0x000001A2B179BA30>)], [30, datetime.datetime(2025, 1, 8, 21, 49, 15, tzinfo=<git.objects.util.tzoffset object at 0x000001A2B18D5030>)], [28, datetime.datetime(2025, 1, 8, 20, 49, 13, tzinfo=<git.objects.util.tzoffset object at 0x000001A2B18DE5F0>)], [25, datetime.datetime(2025, 1, 8, 19, 49, 3, tzinfo=<git.objects.util.tzoffset object at 0x000001A2B18E7BB0>)], [25, datetime.datetime(2025, 1, 8, 18, 49, 37, tzinfo=<git.objects.util.tzoffset object at 0x000001A2B18F4CD0>)], [25, datetime.datetime(2025, 1, 8, 17, 49, 5, tzinfo=<git.objects.util.tzoffset object at 0x000001A2B18FA0B0>)], [16, datetime.datetime(2025, 1, 8, 16, 50, 13, tzinfo=<git.objects.util.tzoffset object at 0x000001A2B1903670>)], [21, datetime.datetime(2025, 1, 8, 15, 49, 13, tzinfo=<git.objects.util.tzoffset object at 0x000001A2B190CC70>)]], \"ST. STEPHEN'S GREEN EAST\": [[2, datetime.datetime(2025, 1, 8, 23, 49, 15, tzinfo=<git.objects.util.tzoffset object at 0x000001A2E7049D50>)], [2, datetime.datetime(2025, 1, 8, 22, 48, 55, tzinfo=<git.objects.util.tzoffset object at 0x000001A2B179BAF0>)], [2, datetime.datetime(2025, 1, 8, 21, 49, 15, tzinfo=<git.objects.util.tzoffset object at 0x000001A2B18D50F0>)], [3, datetime.datetime(2025, 1, 8, 20, 49, 13, tzinfo=<git.objects.util.tzoffset object at 0x000001A2B18DE6B0>)], [3, datetime.datetime(2025, 1, 8, 19, 49, 3, tzinfo=<git.objects.util.tzoffset object at 0x000001A2B18E7C70>)], [3, datetime.datetime(2025, 1, 8, 18, 49, 37, tzinfo=<git.objects.util.tzoffset object at 0x000001A2B18F4D90>)], [4, datetime.datetime(2025, 1, 8, 17, 49, 5, tzinfo=<git.objects.util.tzoffset object at 0x000001A2B18FA170>)], [8, datetime.datetime(2025, 1, 8, 16, 50, 13, tzinfo=<git.objects.util.tzoffset object at 0x000001A2B1903730>)], [12, datetime.datetime(2025, 1, 8, 15, 49, 13, tzinfo=<git.objects.util.tzoffset object at 0x000001A2B190CD30>)]], \"ST. STEPHEN'S GREEN SOUTH\": [[0, datetime.datetime(2025, 1, 8, 23, 49, 15, tzinfo=<git.objects.util.tzoffset object at 0x000001A2E702B4F0>)], [0, datetime.datetime(2025, 1, 8, 22, 48, 55, tzinfo=<git.objects.util.tzoffset object at 0x000001A2B179BBB0>)], [0, datetime.datetime(2025, 1, 8, 21, 49, 15, tzinfo=<git.objects.util.tzoffset object at 0x000001A2B18D51B0>)], [0, datetime.datetime(2025, 1, 8, 20, 49, 13, tzinfo=<git.objects.util.tzoffset object at 0x000001A2B18DE770>)], [1, datetime.datetime(2025, 1, 8, 19, 49, 3, tzinfo=<git.objects.util.tzoffset object at 0x000001A2B18E7D30>)], [0, datetime.datetime(2025, 1, 8, 18, 49, 37, tzinfo=<git.objects.util.tzoffset object at 0x000001A2B18F4E50>)], [3, datetime.datetime(2025, 1, 8, 17, 49, 5, tzinfo=<git.objects.util.tzoffset object at 0x000001A2B18FA230>)], [7, datetime.datetime(2025, 1, 8, 16, 50, 13, tzinfo=<git.objects.util.tzoffset object at 0x000001A2B19037F0>)], [8, datetime.datetime(2025, 1, 8, 15, 49, 13, tzinfo=<git.objects.util.tzoffset object at 0x000001A2B190CDF0>)]], 'TALBOT STREET': [[33, datetime.datetime(2025, 1, 8, 23, 49, 15, tzinfo=<git.objects.util.tzoffset object at 0x000001A2B05446D0>)], [32, datetime.datetime(2025, 1, 8, 22, 48, 55, tzinfo=<git.objects.util.tzoffset object at 0x000001A2B179BC70>)], [32, datetime.datetime(2025, 1, 8, 21, 49, 15, tzinfo=<git.objects.util.tzoffset object at 0x000001A2B18D5270>)], [29, datetime.datetime(2025, 1, 8, 20, 49, 13, tzinfo=<git.objects.util.tzoffset object at 0x000001A2B18DE830>)], [29, datetime.datetime(2025, 1, 8, 19, 49, 3, tzinfo=<git.objects.util.tzoffset object at 0x000001A2B18E7DF0>)], [27, datetime.datetime(2025, 1, 8, 18, 49, 37, tzinfo=<git.objects.util.tzoffset object at 0x000001A2B18F4F10>)], [34, datetime.datetime(2025, 1, 8, 17, 49, 5, tzinfo=<git.objects.util.tzoffset object at 0x000001A2B18FA2F0>)], [35, datetime.datetime(2025, 1, 8, 16, 50, 13, tzinfo=<git.objects.util.tzoffset object at 0x000001A2B19038B0>)], [31, datetime.datetime(2025, 1, 8, 15, 49, 13, tzinfo=<git.objects.util.tzoffset object at 0x000001A2B190CEB0>)]], 'WILTON TERRACE': [[1, datetime.datetime(2025, 1, 8, 23, 49, 15, tzinfo=<git.objects.util.tzoffset object at 0x000001A2B1636770>)], [0, datetime.datetime(2025, 1, 8, 22, 48, 55, tzinfo=<git.objects.util.tzoffset object at 0x000001A2B179BD30>)], [1, datetime.datetime(2025, 1, 8, 21, 49, 15, tzinfo=<git.objects.util.tzoffset object at 0x000001A2B18D5330>)], [1, datetime.datetime(2025, 1, 8, 20, 49, 13, tzinfo=<git.objects.util.tzoffset object at 0x000001A2B18DE8F0>)], [1, datetime.datetime(2025, 1, 8, 19, 49, 3, tzinfo=<git.objects.util.tzoffset object at 0x000001A2B18E7EB0>)], [0, datetime.datetime(2025, 1, 8, 18, 49, 37, tzinfo=<git.objects.util.tzoffset object at 0x000001A2B18F4FD0>)], [6, datetime.datetime(2025, 1, 8, 17, 49, 5, tzinfo=<git.objects.util.tzoffset object at 0x000001A2B18FA3B0>)], [1, datetime.datetime(2025, 1, 8, 16, 50, 13, tzinfo=<git.objects.util.tzoffset object at 0x000001A2B1903970>)], [3, datetime.datetime(2025, 1, 8, 15, 49, 13, tzinfo=<git.objects.util.tzoffset object at 0x000001A2B190CF70>)]], 'JERVIS STREET': [[2, datetime.datetime(2025, 1, 8, 23, 49, 15, tzinfo=<git.objects.util.tzoffset object at 0x000001A2B1637D30>)], [6, datetime.datetime(2025, 1, 8, 22, 48, 55, tzinfo=<git.objects.util.tzoffset object at 0x000001A2B179BDF0>)], [7, datetime.datetime(2025, 1, 8, 21, 49, 15, tzinfo=<git.objects.util.tzoffset object at 0x000001A2B18D53F0>)], [8, datetime.datetime(2025, 1, 8, 20, 49, 13, tzinfo=<git.objects.util.tzoffset object at 0x000001A2B18DE9B0>)], [8, datetime.datetime(2025, 1, 8, 19, 49, 3, tzinfo=<git.objects.util.tzoffset object at 0x000001A2B18E7F70>)], [10, datetime.datetime(2025, 1, 8, 18, 49, 37, tzinfo=<git.objects.util.tzoffset object at 0x000001A2B18F5090>)], [14, datetime.datetime(2025, 1, 8, 17, 49, 5, tzinfo=<git.objects.util.tzoffset object at 0x000001A2B18FA470>)], [11, datetime.datetime(2025, 1, 8, 16, 50, 13, tzinfo=<git.objects.util.tzoffset object at 0x000001A2B1903A30>)], [12, datetime.datetime(2025, 1, 8, 15, 49, 13, tzinfo=<git.objects.util.tzoffset object at 0x000001A2B190D030>)]], 'HARCOURT TERRACE': [[11, datetime.datetime(2025, 1, 8, 23, 49, 15, tzinfo=<git.objects.util.tzoffset object at 0x000001A2B16365C0>)], [11, datetime.datetime(2025, 1, 8, 22, 48, 55, tzinfo=<git.objects.util.tzoffset object at 0x000001A2B179BEB0>)], [10, datetime.datetime(2025, 1, 8, 21, 49, 15, tzinfo=<git.objects.util.tzoffset object at 0x000001A2B18D54B0>)], [10, datetime.datetime(2025, 1, 8, 20, 49, 13, tzinfo=<git.objects.util.tzoffset object at 0x000001A2B18DEA70>)], [11, datetime.datetime(2025, 1, 8, 19, 49, 3, tzinfo=<git.objects.util.tzoffset object at 0x000001A2B18E8070>)], [11, datetime.datetime(2025, 1, 8, 18, 49, 37, tzinfo=<git.objects.util.tzoffset object at 0x000001A2B18F5150>)], [4, datetime.datetime(2025, 1, 8, 17, 49, 5, tzinfo=<git.objects.util.tzoffset object at 0x000001A2B18FA530>)], [2, datetime.datetime(2025, 1, 8, 16, 50, 13, tzinfo=<git.objects.util.tzoffset object at 0x000001A2B1903AF0>)], [1, datetime.datetime(2025, 1, 8, 15, 49, 13, tzinfo=<git.objects.util.tzoffset object at 0x000001A2B190D0F0>)]], 'SMITHFIELD NORTH': [[24, datetime.datetime(2025, 1, 8, 23, 49, 15, tzinfo=<git.objects.util.tzoffset object at 0x000001A2B1636590>)], [25, datetime.datetime(2025, 1, 8, 22, 48, 55, tzinfo=<git.objects.util.tzoffset object at 0x000001A2B179BF70>)], [29, datetime.datetime(2025, 1, 8, 21, 49, 15, tzinfo=<git.objects.util.tzoffset object at 0x000001A2B18D5570>)], [27, datetime.datetime(2025, 1, 8, 20, 49, 13, tzinfo=<git.objects.util.tzoffset object at 0x000001A2B18DEB30>)], [24, datetime.datetime(2025, 1, 8, 19, 49, 3, tzinfo=<git.objects.util.tzoffset object at 0x000001A2B18E8130>)], [21, datetime.datetime(2025, 1, 8, 18, 49, 37, tzinfo=<git.objects.util.tzoffset object at 0x000001A2B18F5210>)], [19, datetime.datetime(2025, 1, 8, 17, 49, 5, tzinfo=<git.objects.util.tzoffset object at 0x000001A2B18FA5F0>)], [14, datetime.datetime(2025, 1, 8, 16, 50, 13, tzinfo=<git.objects.util.tzoffset object at 0x000001A2B1903BB0>)], [13, datetime.datetime(2025, 1, 8, 15, 49, 13, tzinfo=<git.objects.util.tzoffset object at 0x000001A2B190D1B0>)]], 'PORTOBELLO ROAD': [[22, datetime.datetime(2025, 1, 8, 23, 49, 15, tzinfo=<git.objects.util.tzoffset object at 0x000001A2B1636CB0>)], [23, datetime.datetime(2025, 1, 8, 22, 48, 55, tzinfo=<git.objects.util.tzoffset object at 0x000001A2B179C070>)], [19, datetime.datetime(2025, 1, 8, 21, 49, 15, tzinfo=<git.objects.util.tzoffset object at 0x000001A2B18D5630>)], [20, datetime.datetime(2025, 1, 8, 20, 49, 13, tzinfo=<git.objects.util.tzoffset object at 0x000001A2B18DEBF0>)], [20, datetime.datetime(2025, 1, 8, 19, 49, 3, tzinfo=<git.objects.util.tzoffset object at 0x000001A2B18E81F0>)], [20, datetime.datetime(2025, 1, 8, 18, 49, 37, tzinfo=<git.objects.util.tzoffset object at 0x000001A2B18F52D0>)], [15, datetime.datetime(2025, 1, 8, 17, 49, 5, tzinfo=<git.objects.util.tzoffset object at 0x000001A2B18FA6B0>)], [5, datetime.datetime(2025, 1, 8, 16, 50, 13, tzinfo=<git.objects.util.tzoffset object at 0x000001A2B1903C70>)], [5, datetime.datetime(2025, 1, 8, 15, 49, 13, tzinfo=<git.objects.util.tzoffset object at 0x000001A2B190D270>)]], 'UPPER SHERRARD STREET': [[26, datetime.datetime(2025, 1, 8, 23, 49, 15, tzinfo=<git.objects.util.tzoffset object at 0x000001A2FE5D2590>)], [25, datetime.datetime(2025, 1, 8, 22, 48, 55, tzinfo=<git.objects.util.tzoffset object at 0x000001A2B179C130>)], [23, datetime.datetime(2025, 1, 8, 21, 49, 15, tzinfo=<git.objects.util.tzoffset object at 0x000001A2B18D56F0>)], [22, datetime.datetime(2025, 1, 8, 20, 49, 13, tzinfo=<git.objects.util.tzoffset object at 0x000001A2B18DECB0>)], [21, datetime.datetime(2025, 1, 8, 19, 49, 3, tzinfo=<git.objects.util.tzoffset object at 0x000001A2B18E82B0>)], [18, datetime.datetime(2025, 1, 8, 18, 49, 37, tzinfo=<git.objects.util.tzoffset object at 0x000001A2B18F5390>)], [16, datetime.datetime(2025, 1, 8, 17, 49, 5, tzinfo=<git.objects.util.tzoffset object at 0x000001A2B18FA770>)], [15, datetime.datetime(2025, 1, 8, 16, 50, 13, tzinfo=<git.objects.util.tzoffset object at 0x000001A2B1903D30>)], [13, datetime.datetime(2025, 1, 8, 15, 49, 13, tzinfo=<git.objects.util.tzoffset object at 0x000001A2B190D330>)]], 'DEVERELL PLACE': [[5, datetime.datetime(2025, 1, 8, 23, 49, 15, tzinfo=<git.objects.util.tzoffset object at 0x000001A2FE5D2410>)], [6, datetime.datetime(2025, 1, 8, 22, 48, 55, tzinfo=<git.objects.util.tzoffset object at 0x000001A2B179C1F0>)], [5, datetime.datetime(2025, 1, 8, 21, 49, 15, tzinfo=<git.objects.util.tzoffset object at 0x000001A2B18D57B0>)], [5, datetime.datetime(2025, 1, 8, 20, 49, 13, tzinfo=<git.objects.util.tzoffset object at 0x000001A2B18DED70>)], [5, datetime.datetime(2025, 1, 8, 19, 49, 3, tzinfo=<git.objects.util.tzoffset object at 0x000001A2B18E8370>)], [2, datetime.datetime(2025, 1, 8, 18, 49, 37, tzinfo=<git.objects.util.tzoffset object at 0x000001A2B18F5450>)], [3, datetime.datetime(2025, 1, 8, 17, 49, 5, tzinfo=<git.objects.util.tzoffset object at 0x000001A2B18FA830>)], [2, datetime.datetime(2025, 1, 8, 16, 50, 13, tzinfo=<git.objects.util.tzoffset object at 0x000001A2B1903DF0>)], [2, datetime.datetime(2025, 1, 8, 15, 49, 13, tzinfo=<git.objects.util.tzoffset object at 0x000001A2B190D3F0>)]], 'HERBERT STREET': [[0, datetime.datetime(2025, 1, 8, 23, 49, 15, tzinfo=<git.objects.util.tzoffset object at 0x000001A2FE5D2650>)], [0, datetime.datetime(2025, 1, 8, 22, 48, 55, tzinfo=<git.objects.util.tzoffset object at 0x000001A2B179C2B0>)], [1, datetime.datetime(2025, 1, 8, 21, 49, 15, tzinfo=<git.objects.util.tzoffset object at 0x000001A2B18D5870>)], [1, datetime.datetime(2025, 1, 8, 20, 49, 13, tzinfo=<git.objects.util.tzoffset object at 0x000001A2B18DEE30>)], [1, datetime.datetime(2025, 1, 8, 19, 49, 3, tzinfo=<git.objects.util.tzoffset object at 0x000001A2B18E8430>)], [0, datetime.datetime(2025, 1, 8, 18, 49, 37, tzinfo=<git.objects.util.tzoffset object at 0x000001A2B18F5510>)], [1, datetime.datetime(2025, 1, 8, 17, 49, 5, tzinfo=<git.objects.util.tzoffset object at 0x000001A2B18FA8F0>)], [7, datetime.datetime(2025, 1, 8, 16, 50, 13, tzinfo=<git.objects.util.tzoffset object at 0x000001A2B1903EB0>)], [9, datetime.datetime(2025, 1, 8, 15, 49, 13, tzinfo=<git.objects.util.tzoffset object at 0x000001A2B190D4B0>)]], 'EXCISE WALK': [[10, datetime.datetime(2025, 1, 8, 23, 49, 15, tzinfo=<git.objects.util.tzoffset object at 0x000001A2FE5D25F0>)], [10, datetime.datetime(2025, 1, 8, 22, 48, 55, tzinfo=<git.objects.util.tzoffset object at 0x000001A2B179C370>)], [9, datetime.datetime(2025, 1, 8, 21, 49, 15, tzinfo=<git.objects.util.tzoffset object at 0x000001A2B18D5930>)], [11, datetime.datetime(2025, 1, 8, 20, 49, 13, tzinfo=<git.objects.util.tzoffset object at 0x000001A2B18DEEF0>)], [13, datetime.datetime(2025, 1, 8, 19, 49, 3, tzinfo=<git.objects.util.tzoffset object at 0x000001A2B18E84F0>)], [10, datetime.datetime(2025, 1, 8, 18, 49, 37, tzinfo=<git.objects.util.tzoffset object at 0x000001A2B18F55D0>)], [10, datetime.datetime(2025, 1, 8, 17, 49, 5, tzinfo=<git.objects.util.tzoffset object at 0x000001A2B18FA9B0>)], [11, datetime.datetime(2025, 1, 8, 16, 50, 13, tzinfo=<git.objects.util.tzoffset object at 0x000001A2B1903F70>)], [8, datetime.datetime(2025, 1, 8, 15, 49, 13, tzinfo=<git.objects.util.tzoffset object at 0x000001A2B190D570>)]], 'GUILD STREET': [[28, datetime.datetime(2025, 1, 8, 23, 49, 15, tzinfo=<git.objects.util.tzoffset object at 0x000001A2B16DF2B0>)], [27, datetime.datetime(2025, 1, 8, 22, 48, 55, tzinfo=<git.objects.util.tzoffset object at 0x000001A2B179C430>)], [26, datetime.datetime(2025, 1, 8, 21, 49, 15, tzinfo=<git.objects.util.tzoffset object at 0x000001A2B18D59F0>)], [25, datetime.datetime(2025, 1, 8, 20, 49, 13, tzinfo=<git.objects.util.tzoffset object at 0x000001A2B18DEFB0>)], [22, datetime.datetime(2025, 1, 8, 19, 49, 3, tzinfo=<git.objects.util.tzoffset object at 0x000001A2B18E85B0>)], [19, datetime.datetime(2025, 1, 8, 18, 49, 37, tzinfo=<git.objects.util.tzoffset object at 0x000001A2B18F5690>)], [28, datetime.datetime(2025, 1, 8, 17, 49, 5, tzinfo=<git.objects.util.tzoffset object at 0x000001A2B18FAA70>)], [22, datetime.datetime(2025, 1, 8, 16, 50, 13, tzinfo=<git.objects.util.tzoffset object at 0x000001A2B1908070>)], [16, datetime.datetime(2025, 1, 8, 15, 49, 13, tzinfo=<git.objects.util.tzoffset object at 0x000001A2B190D630>)]], 'GEORGES LANE': [[7, datetime.datetime(2025, 1, 8, 23, 49, 15, tzinfo=<git.objects.util.tzoffset object at 0x000001A2B16DE9B0>)], [8, datetime.datetime(2025, 1, 8, 22, 48, 55, tzinfo=<git.objects.util.tzoffset object at 0x000001A2B179C4F0>)], [7, datetime.datetime(2025, 1, 8, 21, 49, 15, tzinfo=<git.objects.util.tzoffset object at 0x000001A2B18D5AB0>)], [5, datetime.datetime(2025, 1, 8, 20, 49, 13, tzinfo=<git.objects.util.tzoffset object at 0x000001A2B18DF070>)], [2, datetime.datetime(2025, 1, 8, 19, 49, 3, tzinfo=<git.objects.util.tzoffset object at 0x000001A2B18E8670>)], [4, datetime.datetime(2025, 1, 8, 18, 49, 37, tzinfo=<git.objects.util.tzoffset object at 0x000001A2B18F5750>)], [2, datetime.datetime(2025, 1, 8, 17, 49, 5, tzinfo=<git.objects.util.tzoffset object at 0x000001A2B18FAB30>)], [3, datetime.datetime(2025, 1, 8, 16, 50, 13, tzinfo=<git.objects.util.tzoffset object at 0x000001A2B1908130>)], [2, datetime.datetime(2025, 1, 8, 15, 49, 13, tzinfo=<git.objects.util.tzoffset object at 0x000001A2B190D6F0>)]], 'YORK STREET WEST': [[0, datetime.datetime(2025, 1, 8, 23, 49, 15, tzinfo=<git.objects.util.tzoffset object at 0x000001A2B16DE860>)], [0, datetime.datetime(2025, 1, 8, 22, 48, 55, tzinfo=<git.objects.util.tzoffset object at 0x000001A2B179C5B0>)], [0, datetime.datetime(2025, 1, 8, 21, 49, 15, tzinfo=<git.objects.util.tzoffset object at 0x000001A2B18D5B70>)], [0, datetime.datetime(2025, 1, 8, 20, 49, 13, tzinfo=<git.objects.util.tzoffset object at 0x000001A2B18DF130>)], [0, datetime.datetime(2025, 1, 8, 19, 49, 3, tzinfo=<git.objects.util.tzoffset object at 0x000001A2B18E8730>)], [0, datetime.datetime(2025, 1, 8, 18, 49, 37, tzinfo=<git.objects.util.tzoffset object at 0x000001A2B18F5810>)], [0, datetime.datetime(2025, 1, 8, 17, 49, 5, tzinfo=<git.objects.util.tzoffset object at 0x000001A2B18FABF0>)], [0, datetime.datetime(2025, 1, 8, 16, 50, 13, tzinfo=<git.objects.util.tzoffset object at 0x000001A2B19081F0>)], [0, datetime.datetime(2025, 1, 8, 15, 49, 13, tzinfo=<git.objects.util.tzoffset object at 0x000001A2B190D7B0>)]], 'YORK STREET EAST': [[3, datetime.datetime(2025, 1, 8, 23, 49, 15, tzinfo=<git.objects.util.tzoffset object at 0x000001A2B16DF850>)], [2, datetime.datetime(2025, 1, 8, 22, 48, 55, tzinfo=<git.objects.util.tzoffset object at 0x000001A2B179C670>)], [2, datetime.datetime(2025, 1, 8, 21, 49, 15, tzinfo=<git.objects.util.tzoffset object at 0x000001A2B18D5C30>)], [4, datetime.datetime(2025, 1, 8, 20, 49, 13, tzinfo=<git.objects.util.tzoffset object at 0x000001A2B18DF1F0>)], [4, datetime.datetime(2025, 1, 8, 19, 49, 3, tzinfo=<git.objects.util.tzoffset object at 0x000001A2B18E87F0>)], [6, datetime.datetime(2025, 1, 8, 18, 49, 37, tzinfo=<git.objects.util.tzoffset object at 0x000001A2B18F58D0>)], [7, datetime.datetime(2025, 1, 8, 17, 49, 5, tzinfo=<git.objects.util.tzoffset object at 0x000001A2B18FACB0>)], [6, datetime.datetime(2025, 1, 8, 16, 50, 13, tzinfo=<git.objects.util.tzoffset object at 0x000001A2B19082B0>)], [10, datetime.datetime(2025, 1, 8, 15, 49, 13, tzinfo=<git.objects.util.tzoffset object at 0x000001A2B190D870>)]], 'NEWMAN HOUSE': [[6, datetime.datetime(2025, 1, 8, 23, 49, 15, tzinfo=<git.objects.util.tzoffset object at 0x000001A2B16DFB50>)], [6, datetime.datetime(2025, 1, 8, 22, 48, 55, tzinfo=<git.objects.util.tzoffset object at 0x000001A2B179C730>)], [6, datetime.datetime(2025, 1, 8, 21, 49, 15, tzinfo=<git.objects.util.tzoffset object at 0x000001A2B18D5CF0>)], [6, datetime.datetime(2025, 1, 8, 20, 49, 13, tzinfo=<git.objects.util.tzoffset object at 0x000001A2B18DF2B0>)], [6, datetime.datetime(2025, 1, 8, 19, 49, 3, tzinfo=<git.objects.util.tzoffset object at 0x000001A2B18E88B0>)], [6, datetime.datetime(2025, 1, 8, 18, 49, 37, tzinfo=<git.objects.util.tzoffset object at 0x000001A2B18F5990>)], [8, datetime.datetime(2025, 1, 8, 17, 49, 5, tzinfo=<git.objects.util.tzoffset object at 0x000001A2B18FAD70>)], [12, datetime.datetime(2025, 1, 8, 16, 50, 13, tzinfo=<git.objects.util.tzoffset object at 0x000001A2B1908370>)], [13, datetime.datetime(2025, 1, 8, 15, 49, 13, tzinfo=<git.objects.util.tzoffset object at 0x000001A2B190D930>)]], 'CLONMEL STREET': [[0, datetime.datetime(2025, 1, 8, 23, 49, 15, tzinfo=<git.objects.util.tzoffset object at 0x000001A2B16DF580>)], [0, datetime.datetime(2025, 1, 8, 22, 48, 55, tzinfo=<git.objects.util.tzoffset object at 0x000001A2B179C7F0>)], [0, datetime.datetime(2025, 1, 8, 21, 49, 15, tzinfo=<git.objects.util.tzoffset object at 0x000001A2B18D5DB0>)], [0, datetime.datetime(2025, 1, 8, 20, 49, 13, tzinfo=<git.objects.util.tzoffset object at 0x000001A2B18DF370>)], [0, datetime.datetime(2025, 1, 8, 19, 49, 3, tzinfo=<git.objects.util.tzoffset object at 0x000001A2B18E8970>)], [0, datetime.datetime(2025, 1, 8, 18, 49, 37, tzinfo=<git.objects.util.tzoffset object at 0x000001A2B18F5A50>)], [2, datetime.datetime(2025, 1, 8, 17, 49, 5, tzinfo=<git.objects.util.tzoffset object at 0x000001A2B18FAE30>)], [5, datetime.datetime(2025, 1, 8, 16, 50, 13, tzinfo=<git.objects.util.tzoffset object at 0x000001A2B1908430>)], [6, datetime.datetime(2025, 1, 8, 15, 49, 13, tzinfo=<git.objects.util.tzoffset object at 0x000001A2B190D9F0>)]], 'HATCH STREET': [[0, datetime.datetime(2025, 1, 8, 23, 49, 15, tzinfo=<git.objects.util.tzoffset object at 0x000001A2B16DF040>)], [0, datetime.datetime(2025, 1, 8, 22, 48, 55, tzinfo=<git.objects.util.tzoffset object at 0x000001A2B179C8B0>)], [0, datetime.datetime(2025, 1, 8, 21, 49, 15, tzinfo=<git.objects.util.tzoffset object at 0x000001A2B18D5E70>)], [0, datetime.datetime(2025, 1, 8, 20, 49, 13, tzinfo=<git.objects.util.tzoffset object at 0x000001A2B18DF430>)], [1, datetime.datetime(2025, 1, 8, 19, 49, 3, tzinfo=<git.objects.util.tzoffset object at 0x000001A2B18E8A30>)], [1, datetime.datetime(2025, 1, 8, 18, 49, 37, tzinfo=<git.objects.util.tzoffset object at 0x000001A2B18F5B10>)], [4, datetime.datetime(2025, 1, 8, 17, 49, 5, tzinfo=<git.objects.util.tzoffset object at 0x000001A2B18FAEF0>)], [9, datetime.datetime(2025, 1, 8, 16, 50, 13, tzinfo=<git.objects.util.tzoffset object at 0x000001A2B19084F0>)], [11, datetime.datetime(2025, 1, 8, 15, 49, 13, tzinfo=<git.objects.util.tzoffset object at 0x000001A2B190DAB0>)]], 'MOUNT STREET LOWER': [[8, datetime.datetime(2025, 1, 8, 23, 49, 15, tzinfo=<git.objects.util.tzoffset object at 0x000001A2B16DF640>)], [8, datetime.datetime(2025, 1, 8, 22, 48, 55, tzinfo=<git.objects.util.tzoffset object at 0x000001A2B179C970>)], [7, datetime.datetime(2025, 1, 8, 21, 49, 15, tzinfo=<git.objects.util.tzoffset object at 0x000001A2B18D5F30>)], [8, datetime.datetime(2025, 1, 8, 20, 49, 13, tzinfo=<git.objects.util.tzoffset object at 0x000001A2B18DF4F0>)], [8, datetime.datetime(2025, 1, 8, 19, 49, 3, tzinfo=<git.objects.util.tzoffset object at 0x000001A2B18E8AF0>)], [8, datetime.datetime(2025, 1, 8, 18, 49, 37, tzinfo=<git.objects.util.tzoffset object at 0x000001A2B18F5BD0>)], [13, datetime.datetime(2025, 1, 8, 17, 49, 5, tzinfo=<git.objects.util.tzoffset object at 0x000001A2B18FAFB0>)], [21, datetime.datetime(2025, 1, 8, 16, 50, 13, tzinfo=<git.objects.util.tzoffset object at 0x000001A2B19085B0>)], [21, datetime.datetime(2025, 1, 8, 15, 49, 13, tzinfo=<git.objects.util.tzoffset object at 0x000001A2B190DB70>)]], 'GRATTAN STREET': [[1, datetime.datetime(2025, 1, 8, 23, 49, 15, tzinfo=<git.objects.util.tzoffset object at 0x000001A2B16DFFA0>)], [1, datetime.datetime(2025, 1, 8, 22, 48, 55, tzinfo=<git.objects.util.tzoffset object at 0x000001A2B179CA30>)], [1, datetime.datetime(2025, 1, 8, 21, 49, 15, tzinfo=<git.objects.util.tzoffset object at 0x000001A2B18D5FF0>)], [1, datetime.datetime(2025, 1, 8, 20, 49, 13, tzinfo=<git.objects.util.tzoffset object at 0x000001A2B18DF5B0>)], [1, datetime.datetime(2025, 1, 8, 19, 49, 3, tzinfo=<git.objects.util.tzoffset object at 0x000001A2B18E8BB0>)], [2, datetime.datetime(2025, 1, 8, 18, 49, 37, tzinfo=<git.objects.util.tzoffset object at 0x000001A2B18F5C90>)], [1, datetime.datetime(2025, 1, 8, 17, 49, 5, tzinfo=<git.objects.util.tzoffset object at 0x000001A2B18FB070>)], [1, datetime.datetime(2025, 1, 8, 16, 50, 13, tzinfo=<git.objects.util.tzoffset object at 0x000001A2B1908670>)], [2, datetime.datetime(2025, 1, 8, 15, 49, 13, tzinfo=<git.objects.util.tzoffset object at 0x000001A2B190DC30>)]], \"SIR PATRICK DUN'S\": [[15, datetime.datetime(2025, 1, 8, 23, 49, 15, tzinfo=<git.objects.util.tzoffset object at 0x000001A2B16DFA30>)], [14, datetime.datetime(2025, 1, 8, 22, 48, 55, tzinfo=<git.objects.util.tzoffset object at 0x000001A2B179CAF0>)], [12, datetime.datetime(2025, 1, 8, 21, 49, 15, tzinfo=<git.objects.util.tzoffset object at 0x000001A2B18D60B0>)], [11, datetime.datetime(2025, 1, 8, 20, 49, 13, tzinfo=<git.objects.util.tzoffset object at 0x000001A2B18DF670>)], [15, datetime.datetime(2025, 1, 8, 19, 49, 3, tzinfo=<git.objects.util.tzoffset object at 0x000001A2B18E8C70>)], [22, datetime.datetime(2025, 1, 8, 18, 49, 37, tzinfo=<git.objects.util.tzoffset object at 0x000001A2B18F5D50>)], [35, datetime.datetime(2025, 1, 8, 17, 49, 5, tzinfo=<git.objects.util.tzoffset object at 0x000001A2B18FB130>)], [32, datetime.datetime(2025, 1, 8, 16, 50, 13, tzinfo=<git.objects.util.tzoffset object at 0x000001A2B1908730>)], [34, datetime.datetime(2025, 1, 8, 15, 49, 13, tzinfo=<git.objects.util.tzoffset object at 0x000001A2B190DCF0>)]], 'DENMARK STREET GREAT': [[7, datetime.datetime(2025, 1, 8, 23, 49, 15, tzinfo=<git.objects.util.tzoffset object at 0x000001A2B16DF4C0>)], [6, datetime.datetime(2025, 1, 8, 22, 48, 55, tzinfo=<git.objects.util.tzoffset object at 0x000001A2B179CBB0>)], [5, datetime.datetime(2025, 1, 8, 21, 49, 15, tzinfo=<git.objects.util.tzoffset object at 0x000001A2B18D6170>)], [5, datetime.datetime(2025, 1, 8, 20, 49, 13, tzinfo=<git.objects.util.tzoffset object at 0x000001A2B18DF730>)], [7, datetime.datetime(2025, 1, 8, 19, 49, 3, tzinfo=<git.objects.util.tzoffset object at 0x000001A2B18E8D30>)], [6, datetime.datetime(2025, 1, 8, 18, 49, 37, tzinfo=<git.objects.util.tzoffset object at 0x000001A2B18F5E10>)], [7, datetime.datetime(2025, 1, 8, 17, 49, 5, tzinfo=<git.objects.util.tzoffset object at 0x000001A2B18FB1F0>)], [7, datetime.datetime(2025, 1, 8, 16, 50, 13, tzinfo=<git.objects.util.tzoffset object at 0x000001A2B19087F0>)], [6, datetime.datetime(2025, 1, 8, 15, 49, 13, tzinfo=<git.objects.util.tzoffset object at 0x000001A2B190DDB0>)]], 'NORTH CIRCULAR ROAD': [[25, datetime.datetime(2025, 1, 8, 23, 49, 15, tzinfo=<git.objects.util.tzoffset object at 0x000001A2B16DEF50>)], [24, datetime.datetime(2025, 1, 8, 22, 48, 55, tzinfo=<git.objects.util.tzoffset object at 0x000001A2B179CC70>)], [22, datetime.datetime(2025, 1, 8, 21, 49, 15, tzinfo=<git.objects.util.tzoffset object at 0x000001A2B18D6230>)], [20, datetime.datetime(2025, 1, 8, 20, 49, 13, tzinfo=<git.objects.util.tzoffset object at 0x000001A2B18DF7F0>)], [14, datetime.datetime(2025, 1, 8, 19, 49, 3, tzinfo=<git.objects.util.tzoffset object at 0x000001A2B18E8DF0>)], [13, datetime.datetime(2025, 1, 8, 18, 49, 37, tzinfo=<git.objects.util.tzoffset object at 0x000001A2B18F5ED0>)], [9, datetime.datetime(2025, 1, 8, 17, 49, 5, tzinfo=<git.objects.util.tzoffset object at 0x000001A2B18FB2B0>)], [8, datetime.datetime(2025, 1, 8, 16, 50, 13, tzinfo=<git.objects.util.tzoffset object at 0x000001A2B19088B0>)], [7, datetime.datetime(2025, 1, 8, 15, 49, 13, tzinfo=<git.objects.util.tzoffset object at 0x000001A2B190DE70>)]], 'HARDWICKE PLACE': [[4, datetime.datetime(2025, 1, 8, 23, 49, 15, tzinfo=<git.objects.util.tzoffset object at 0x000001A2B16DF100>)], [4, datetime.datetime(2025, 1, 8, 22, 48, 55, tzinfo=<git.objects.util.tzoffset object at 0x000001A2B179CD30>)], [4, datetime.datetime(2025, 1, 8, 21, 49, 15, tzinfo=<git.objects.util.tzoffset object at 0x000001A2B18D62F0>)], [4, datetime.datetime(2025, 1, 8, 20, 49, 13, tzinfo=<git.objects.util.tzoffset object at 0x000001A2B18DF8B0>)], [5, datetime.datetime(2025, 1, 8, 19, 49, 3, tzinfo=<git.objects.util.tzoffset object at 0x000001A2B18E8EB0>)], [3, datetime.datetime(2025, 1, 8, 18, 49, 37, tzinfo=<git.objects.util.tzoffset object at 0x000001A2B18F5F90>)], [3, datetime.datetime(2025, 1, 8, 17, 49, 5, tzinfo=<git.objects.util.tzoffset object at 0x000001A2B18FB370>)], [9, datetime.datetime(2025, 1, 8, 16, 50, 13, tzinfo=<git.objects.util.tzoffset object at 0x000001A2B1908970>)], [12, datetime.datetime(2025, 1, 8, 15, 49, 13, tzinfo=<git.objects.util.tzoffset object at 0x000001A2B190DF30>)]], 'LIME STREET': [[18, datetime.datetime(2025, 1, 8, 23, 49, 15, tzinfo=<git.objects.util.tzoffset object at 0x000001A2B16DECE0>)], [19, datetime.datetime(2025, 1, 8, 22, 48, 55, tzinfo=<git.objects.util.tzoffset object at 0x000001A2B179CDF0>)], [20, datetime.datetime(2025, 1, 8, 21, 49, 15, tzinfo=<git.objects.util.tzoffset object at 0x000001A2B18D63B0>)], [22, datetime.datetime(2025, 1, 8, 20, 49, 13, tzinfo=<git.objects.util.tzoffset object at 0x000001A2B18DF970>)], [21, datetime.datetime(2025, 1, 8, 19, 49, 3, tzinfo=<git.objects.util.tzoffset object at 0x000001A2B18E8F70>)], [25, datetime.datetime(2025, 1, 8, 18, 49, 37, tzinfo=<git.objects.util.tzoffset object at 0x000001A2B18F6050>)], [24, datetime.datetime(2025, 1, 8, 17, 49, 5, tzinfo=<git.objects.util.tzoffset object at 0x000001A2B18FB430>)], [29, datetime.datetime(2025, 1, 8, 16, 50, 13, tzinfo=<git.objects.util.tzoffset object at 0x000001A2B1908A30>)], [30, datetime.datetime(2025, 1, 8, 15, 49, 13, tzinfo=<git.objects.util.tzoffset object at 0x000001A2B190DFF0>)]], 'FENIAN STREET': [[7, datetime.datetime(2025, 1, 8, 23, 49, 15, tzinfo=<git.objects.util.tzoffset object at 0x000001A2B16DF130>)], [7, datetime.datetime(2025, 1, 8, 22, 48, 55, tzinfo=<git.objects.util.tzoffset object at 0x000001A2B179CEB0>)], [13, datetime.datetime(2025, 1, 8, 21, 49, 15, tzinfo=<git.objects.util.tzoffset object at 0x000001A2B18D6470>)], [13, datetime.datetime(2025, 1, 8, 20, 49, 13, tzinfo=<git.objects.util.tzoffset object at 0x000001A2B18DFA30>)], [14, datetime.datetime(2025, 1, 8, 19, 49, 3, tzinfo=<git.objects.util.tzoffset object at 0x000001A2B18E9030>)], [15, datetime.datetime(2025, 1, 8, 18, 49, 37, tzinfo=<git.objects.util.tzoffset object at 0x000001A2B18F6110>)], [12, datetime.datetime(2025, 1, 8, 17, 49, 5, tzinfo=<git.objects.util.tzoffset object at 0x000001A2B18FB4F0>)], [11, datetime.datetime(2025, 1, 8, 16, 50, 13, tzinfo=<git.objects.util.tzoffset object at 0x000001A2B1908AF0>)], [15, datetime.datetime(2025, 1, 8, 15, 49, 13, tzinfo=<git.objects.util.tzoffset object at 0x000001A2B190E0B0>)]], 'SANDWITH STREET': [[31, datetime.datetime(2025, 1, 8, 23, 49, 15, tzinfo=<git.objects.util.tzoffset object at 0x000001A2B16DFC40>)], [30, datetime.datetime(2025, 1, 8, 22, 48, 55, tzinfo=<git.objects.util.tzoffset object at 0x000001A2B179CF70>)], [29, datetime.datetime(2025, 1, 8, 21, 49, 15, tzinfo=<git.objects.util.tzoffset object at 0x000001A2B18D6530>)], [28, datetime.datetime(2025, 1, 8, 20, 49, 13, tzinfo=<git.objects.util.tzoffset object at 0x000001A2B18DFAF0>)], [26, datetime.datetime(2025, 1, 8, 19, 49, 3, tzinfo=<git.objects.util.tzoffset object at 0x000001A2B18E90F0>)], [22, datetime.datetime(2025, 1, 8, 18, 49, 37, tzinfo=<git.objects.util.tzoffset object at 0x000001A2B18F61D0>)], [18, datetime.datetime(2025, 1, 8, 17, 49, 5, tzinfo=<git.objects.util.tzoffset object at 0x000001A2B18FB5B0>)], [12, datetime.datetime(2025, 1, 8, 16, 50, 13, tzinfo=<git.objects.util.tzoffset object at 0x000001A2B1908BB0>)], [10, datetime.datetime(2025, 1, 8, 15, 49, 13, tzinfo=<git.objects.util.tzoffset object at 0x000001A2B190E170>)]], 'CONVENTION CENTRE': [[0, datetime.datetime(2025, 1, 8, 23, 49, 15, tzinfo=<git.objects.util.tzoffset object at 0x000001A2B16DE830>)], [0, datetime.datetime(2025, 1, 8, 22, 48, 55, tzinfo=<git.objects.util.tzoffset object at 0x000001A2B179D030>)], [0, datetime.datetime(2025, 1, 8, 21, 49, 15, tzinfo=<git.objects.util.tzoffset object at 0x000001A2B18D65F0>)], [0, datetime.datetime(2025, 1, 8, 20, 49, 13, tzinfo=<git.objects.util.tzoffset object at 0x000001A2B18DFBB0>)], [0, datetime.datetime(2025, 1, 8, 19, 49, 3, tzinfo=<git.objects.util.tzoffset object at 0x000001A2B18E91B0>)], [0, datetime.datetime(2025, 1, 8, 18, 49, 37, tzinfo=<git.objects.util.tzoffset object at 0x000001A2B18F6290>)], [3, datetime.datetime(2025, 1, 8, 17, 49, 5, tzinfo=<git.objects.util.tzoffset object at 0x000001A2B18FB670>)], [15, datetime.datetime(2025, 1, 8, 16, 50, 13, tzinfo=<git.objects.util.tzoffset object at 0x000001A2B1908C70>)], [28, datetime.datetime(2025, 1, 8, 15, 49, 13, tzinfo=<git.objects.util.tzoffset object at 0x000001A2B190E230>)]], 'NEW CENTRAL BANK': [[16, datetime.datetime(2025, 1, 8, 23, 49, 15, tzinfo=<git.objects.util.tzoffset object at 0x000001A2B16DE920>)], [13, datetime.datetime(2025, 1, 8, 22, 48, 55, tzinfo=<git.objects.util.tzoffset object at 0x000001A2B179D0F0>)], [13, datetime.datetime(2025, 1, 8, 21, 49, 15, tzinfo=<git.objects.util.tzoffset object at 0x000001A2B18D66B0>)], [12, datetime.datetime(2025, 1, 8, 20, 49, 13, tzinfo=<git.objects.util.tzoffset object at 0x000001A2B18DFC70>)], [12, datetime.datetime(2025, 1, 8, 19, 49, 3, tzinfo=<git.objects.util.tzoffset object at 0x000001A2B18E9270>)], [6, datetime.datetime(2025, 1, 8, 18, 49, 37, tzinfo=<git.objects.util.tzoffset object at 0x000001A2B18F6350>)], [15, datetime.datetime(2025, 1, 8, 17, 49, 5, tzinfo=<git.objects.util.tzoffset object at 0x000001A2B18FB730>)], [19, datetime.datetime(2025, 1, 8, 16, 50, 13, tzinfo=<git.objects.util.tzoffset object at 0x000001A2B1908D30>)], [18, datetime.datetime(2025, 1, 8, 15, 49, 13, tzinfo=<git.objects.util.tzoffset object at 0x000001A2B190E2F0>)]], 'THE POINT': [[9, datetime.datetime(2025, 1, 8, 23, 49, 15, tzinfo=<git.objects.util.tzoffset object at 0x000001A2B16DE770>)], [10, datetime.datetime(2025, 1, 8, 22, 48, 55, tzinfo=<git.objects.util.tzoffset object at 0x000001A2B179D1B0>)], [9, datetime.datetime(2025, 1, 8, 21, 49, 15, tzinfo=<git.objects.util.tzoffset object at 0x000001A2B18D6770>)], [9, datetime.datetime(2025, 1, 8, 20, 49, 13, tzinfo=<git.objects.util.tzoffset object at 0x000001A2B18DFD30>)], [10, datetime.datetime(2025, 1, 8, 19, 49, 3, tzinfo=<git.objects.util.tzoffset object at 0x000001A2B18E9330>)], [11, datetime.datetime(2025, 1, 8, 18, 49, 37, tzinfo=<git.objects.util.tzoffset object at 0x000001A2B18F6410>)], [10, datetime.datetime(2025, 1, 8, 17, 49, 5, tzinfo=<git.objects.util.tzoffset object at 0x000001A2B18FB7F0>)], [14, datetime.datetime(2025, 1, 8, 16, 50, 13, tzinfo=<git.objects.util.tzoffset object at 0x000001A2B1908DF0>)], [11, datetime.datetime(2025, 1, 8, 15, 49, 13, tzinfo=<git.objects.util.tzoffset object at 0x000001A2B190E3B0>)]], 'HANOVER QUAY': [[2, datetime.datetime(2025, 1, 8, 23, 49, 15, tzinfo=<git.objects.util.tzoffset object at 0x000001A2B16DF340>)], [1, datetime.datetime(2025, 1, 8, 22, 48, 55, tzinfo=<git.objects.util.tzoffset object at 0x000001A2B179D270>)], [1, datetime.datetime(2025, 1, 8, 21, 49, 15, tzinfo=<git.objects.util.tzoffset object at 0x000001A2B18D6830>)], [0, datetime.datetime(2025, 1, 8, 20, 49, 13, tzinfo=<git.objects.util.tzoffset object at 0x000001A2B18DFDF0>)], [0, datetime.datetime(2025, 1, 8, 19, 49, 3, tzinfo=<git.objects.util.tzoffset object at 0x000001A2B18E93F0>)], [3, datetime.datetime(2025, 1, 8, 18, 49, 37, tzinfo=<git.objects.util.tzoffset object at 0x000001A2B18F64D0>)], [1, datetime.datetime(2025, 1, 8, 17, 49, 5, tzinfo=<git.objects.util.tzoffset object at 0x000001A2B18FB8B0>)], [15, datetime.datetime(2025, 1, 8, 16, 50, 13, tzinfo=<git.objects.util.tzoffset object at 0x000001A2B1908EB0>)], [21, datetime.datetime(2025, 1, 8, 15, 49, 13, tzinfo=<git.objects.util.tzoffset object at 0x000001A2B190E470>)]], 'GRAND CANAL DOCK': [[2, datetime.datetime(2025, 1, 8, 23, 49, 15, tzinfo=<git.objects.util.tzoffset object at 0x000001A2B16DEDD0>)], [2, datetime.datetime(2025, 1, 8, 22, 48, 55, tzinfo=<git.objects.util.tzoffset object at 0x000001A2B179D330>)], [11, datetime.datetime(2025, 1, 8, 21, 49, 15, tzinfo=<git.objects.util.tzoffset object at 0x000001A2B18D68F0>)], [10, datetime.datetime(2025, 1, 8, 20, 49, 13, tzinfo=<git.objects.util.tzoffset object at 0x000001A2B18DFEB0>)], [7, datetime.datetime(2025, 1, 8, 19, 49, 3, tzinfo=<git.objects.util.tzoffset object at 0x000001A2B18E94B0>)], [18, datetime.datetime(2025, 1, 8, 18, 49, 37, tzinfo=<git.objects.util.tzoffset object at 0x000001A2B18F6590>)], [19, datetime.datetime(2025, 1, 8, 17, 49, 5, tzinfo=<git.objects.util.tzoffset object at 0x000001A2B18FB970>)], [29, datetime.datetime(2025, 1, 8, 16, 50, 13, tzinfo=<git.objects.util.tzoffset object at 0x000001A2B1908F70>)], [34, datetime.datetime(2025, 1, 8, 15, 49, 13, tzinfo=<git.objects.util.tzoffset object at 0x000001A2B190E530>)]], 'KEVIN STREET': [[2, datetime.datetime(2025, 1, 8, 23, 49, 15, tzinfo=<git.objects.util.tzoffset object at 0x000001A2B16DFF40>)], [4, datetime.datetime(2025, 1, 8, 22, 48, 55, tzinfo=<git.objects.util.tzoffset object at 0x000001A2B179D3F0>)], [5, datetime.datetime(2025, 1, 8, 21, 49, 15, tzinfo=<git.objects.util.tzoffset object at 0x000001A2B18D69B0>)], [7, datetime.datetime(2025, 1, 8, 20, 49, 13, tzinfo=<git.objects.util.tzoffset object at 0x000001A2B18DFF70>)], [8, datetime.datetime(2025, 1, 8, 19, 49, 3, tzinfo=<git.objects.util.tzoffset object at 0x000001A2B18E9570>)], [5, datetime.datetime(2025, 1, 8, 18, 49, 37, tzinfo=<git.objects.util.tzoffset object at 0x000001A2B18F6650>)], [2, datetime.datetime(2025, 1, 8, 17, 49, 5, tzinfo=<git.objects.util.tzoffset object at 0x000001A2B18FBA30>)], [7, datetime.datetime(2025, 1, 8, 16, 50, 13, tzinfo=<git.objects.util.tzoffset object at 0x000001A2B1909030>)], [7, datetime.datetime(2025, 1, 8, 15, 49, 13, tzinfo=<git.objects.util.tzoffset object at 0x000001A2B190E5F0>)]], 'JOHN STREET WEST': [[8, datetime.datetime(2025, 1, 8, 23, 49, 15, tzinfo=<git.objects.util.tzoffset object at 0x000001A2B16DFD00>)], [9, datetime.datetime(2025, 1, 8, 22, 48, 55, tzinfo=<git.objects.util.tzoffset object at 0x000001A2B179D4B0>)], [8, datetime.datetime(2025, 1, 8, 21, 49, 15, tzinfo=<git.objects.util.tzoffset object at 0x000001A2B18D6A70>)], [6, datetime.datetime(2025, 1, 8, 20, 49, 13, tzinfo=<git.objects.util.tzoffset object at 0x000001A2B18E4070>)], [4, datetime.datetime(2025, 1, 8, 19, 49, 3, tzinfo=<git.objects.util.tzoffset object at 0x000001A2B18E9630>)], [2, datetime.datetime(2025, 1, 8, 18, 49, 37, tzinfo=<git.objects.util.tzoffset object at 0x000001A2B18F6710>)], [5, datetime.datetime(2025, 1, 8, 17, 49, 5, tzinfo=<git.objects.util.tzoffset object at 0x000001A2B18FBAF0>)], [3, datetime.datetime(2025, 1, 8, 16, 50, 13, tzinfo=<git.objects.util.tzoffset object at 0x000001A2B19090F0>)], [4, datetime.datetime(2025, 1, 8, 15, 49, 13, tzinfo=<git.objects.util.tzoffset object at 0x000001A2B190E6B0>)]], 'FRANCIS STREET': [[6, datetime.datetime(2025, 1, 8, 23, 49, 15, tzinfo=<git.objects.util.tzoffset object at 0x000001A2B16DF1C0>)], [4, datetime.datetime(2025, 1, 8, 22, 48, 55, tzinfo=<git.objects.util.tzoffset object at 0x000001A2B179D570>)], [1, datetime.datetime(2025, 1, 8, 21, 49, 15, tzinfo=<git.objects.util.tzoffset object at 0x000001A2B18D6B30>)], [2, datetime.datetime(2025, 1, 8, 20, 49, 13, tzinfo=<git.objects.util.tzoffset object at 0x000001A2B18E4130>)], [2, datetime.datetime(2025, 1, 8, 19, 49, 3, tzinfo=<git.objects.util.tzoffset object at 0x000001A2B18E96F0>)], [4, datetime.datetime(2025, 1, 8, 18, 49, 37, tzinfo=<git.objects.util.tzoffset object at 0x000001A2B18F67D0>)], [1, datetime.datetime(2025, 1, 8, 17, 49, 5, tzinfo=<git.objects.util.tzoffset object at 0x000001A2B18FBBB0>)], [3, datetime.datetime(2025, 1, 8, 16, 50, 13, tzinfo=<git.objects.util.tzoffset object at 0x000001A2B19091B0>)], [0, datetime.datetime(2025, 1, 8, 15, 49, 13, tzinfo=<git.objects.util.tzoffset object at 0x000001A2B190E770>)]], 'OLIVER BOND STREET': [[20, datetime.datetime(2025, 1, 8, 23, 49, 15, tzinfo=<git.objects.util.tzoffset object at 0x000001A2B1798070>)], [20, datetime.datetime(2025, 1, 8, 22, 48, 55, tzinfo=<git.objects.util.tzoffset object at 0x000001A2B179D630>)], [20, datetime.datetime(2025, 1, 8, 21, 49, 15, tzinfo=<git.objects.util.tzoffset object at 0x000001A2B18D6BF0>)], [22, datetime.datetime(2025, 1, 8, 20, 49, 13, tzinfo=<git.objects.util.tzoffset object at 0x000001A2B18E41F0>)], [20, datetime.datetime(2025, 1, 8, 19, 49, 3, tzinfo=<git.objects.util.tzoffset object at 0x000001A2B18E97B0>)], [18, datetime.datetime(2025, 1, 8, 18, 49, 37, tzinfo=<git.objects.util.tzoffset object at 0x000001A2B18F6890>)], [16, datetime.datetime(2025, 1, 8, 17, 49, 5, tzinfo=<git.objects.util.tzoffset object at 0x000001A2B18FBC70>)], [20, datetime.datetime(2025, 1, 8, 16, 50, 13, tzinfo=<git.objects.util.tzoffset object at 0x000001A2B1909270>)], [17, datetime.datetime(2025, 1, 8, 15, 49, 13, tzinfo=<git.objects.util.tzoffset object at 0x000001A2B190E830>)]], 'JAMES STREET': [[26, datetime.datetime(2025, 1, 8, 23, 49, 15, tzinfo=<git.objects.util.tzoffset object at 0x000001A2B1798130>)], [26, datetime.datetime(2025, 1, 8, 22, 48, 55, tzinfo=<git.objects.util.tzoffset object at 0x000001A2B179D6F0>)], [24, datetime.datetime(2025, 1, 8, 21, 49, 15, tzinfo=<git.objects.util.tzoffset object at 0x000001A2B18D6CB0>)], [24, datetime.datetime(2025, 1, 8, 20, 49, 13, tzinfo=<git.objects.util.tzoffset object at 0x000001A2B18E42B0>)], [24, datetime.datetime(2025, 1, 8, 19, 49, 3, tzinfo=<git.objects.util.tzoffset object at 0x000001A2B18E9870>)], [22, datetime.datetime(2025, 1, 8, 18, 49, 37, tzinfo=<git.objects.util.tzoffset object at 0x000001A2B18F6950>)], [20, datetime.datetime(2025, 1, 8, 17, 49, 5, tzinfo=<git.objects.util.tzoffset object at 0x000001A2B18FBD30>)], [19, datetime.datetime(2025, 1, 8, 16, 50, 13, tzinfo=<git.objects.util.tzoffset object at 0x000001A2B1909330>)], [21, datetime.datetime(2025, 1, 8, 15, 49, 13, tzinfo=<git.objects.util.tzoffset object at 0x000001A2B190E8F0>)]], 'MARKET STREET SOUTH': [[7, datetime.datetime(2025, 1, 8, 23, 49, 15, tzinfo=<git.objects.util.tzoffset object at 0x000001A2B17981F0>)], [7, datetime.datetime(2025, 1, 8, 22, 48, 55, tzinfo=<git.objects.util.tzoffset object at 0x000001A2B179D7B0>)], [6, datetime.datetime(2025, 1, 8, 21, 49, 15, tzinfo=<git.objects.util.tzoffset object at 0x000001A2B18D6D70>)], [7, datetime.datetime(2025, 1, 8, 20, 49, 13, tzinfo=<git.objects.util.tzoffset object at 0x000001A2B18E4370>)], [6, datetime.datetime(2025, 1, 8, 19, 49, 3, tzinfo=<git.objects.util.tzoffset object at 0x000001A2B18E9930>)], [4, datetime.datetime(2025, 1, 8, 18, 49, 37, tzinfo=<git.objects.util.tzoffset object at 0x000001A2B18F6A10>)], [1, datetime.datetime(2025, 1, 8, 17, 49, 5, tzinfo=<git.objects.util.tzoffset object at 0x000001A2B18FBDF0>)], [3, datetime.datetime(2025, 1, 8, 16, 50, 13, tzinfo=<git.objects.util.tzoffset object at 0x000001A2B19093F0>)], [2, datetime.datetime(2025, 1, 8, 15, 49, 13, tzinfo=<git.objects.util.tzoffset object at 0x000001A2B190E9B0>)]], 'WOLFE TONE STREET': [[6, datetime.datetime(2025, 1, 8, 23, 49, 15, tzinfo=<git.objects.util.tzoffset object at 0x000001A2B17982B0>)], [7, datetime.datetime(2025, 1, 8, 22, 48, 55, tzinfo=<git.objects.util.tzoffset object at 0x000001A2B179D870>)], [7, datetime.datetime(2025, 1, 8, 21, 49, 15, tzinfo=<git.objects.util.tzoffset object at 0x000001A2B18D6E30>)], [7, datetime.datetime(2025, 1, 8, 20, 49, 13, tzinfo=<git.objects.util.tzoffset object at 0x000001A2B18E4430>)], [6, datetime.datetime(2025, 1, 8, 19, 49, 3, tzinfo=<git.objects.util.tzoffset object at 0x000001A2B18E99F0>)], [9, datetime.datetime(2025, 1, 8, 18, 49, 37, tzinfo=<git.objects.util.tzoffset object at 0x000001A2B18F6AD0>)], [8, datetime.datetime(2025, 1, 8, 17, 49, 5, tzinfo=<git.objects.util.tzoffset object at 0x000001A2B18FBEB0>)], [5, datetime.datetime(2025, 1, 8, 16, 50, 13, tzinfo=<git.objects.util.tzoffset object at 0x000001A2B19094B0>)], [3, datetime.datetime(2025, 1, 8, 15, 49, 13, tzinfo=<git.objects.util.tzoffset object at 0x000001A2B190EA70>)]], 'MATER HOSPITAL': [[21, datetime.datetime(2025, 1, 8, 23, 49, 15, tzinfo=<git.objects.util.tzoffset object at 0x000001A2B1798370>)], [21, datetime.datetime(2025, 1, 8, 22, 48, 55, tzinfo=<git.objects.util.tzoffset object at 0x000001A2B179D930>)], [20, datetime.datetime(2025, 1, 8, 21, 49, 15, tzinfo=<git.objects.util.tzoffset object at 0x000001A2B18D6EF0>)], [18, datetime.datetime(2025, 1, 8, 20, 49, 13, tzinfo=<git.objects.util.tzoffset object at 0x000001A2B18E44F0>)], [18, datetime.datetime(2025, 1, 8, 19, 49, 3, tzinfo=<git.objects.util.tzoffset object at 0x000001A2B18E9AB0>)], [19, datetime.datetime(2025, 1, 8, 18, 49, 37, tzinfo=<git.objects.util.tzoffset object at 0x000001A2B18F6B90>)], [7, datetime.datetime(2025, 1, 8, 17, 49, 5, tzinfo=<git.objects.util.tzoffset object at 0x000001A2B18FBF70>)], [8, datetime.datetime(2025, 1, 8, 16, 50, 13, tzinfo=<git.objects.util.tzoffset object at 0x000001A2B1909570>)], [11, datetime.datetime(2025, 1, 8, 15, 49, 13, tzinfo=<git.objects.util.tzoffset object at 0x000001A2B190EB30>)]], 'ECCLES STREET EAST': [[4, datetime.datetime(2025, 1, 8, 23, 49, 15, tzinfo=<git.objects.util.tzoffset object at 0x000001A2B1798430>)], [3, datetime.datetime(2025, 1, 8, 22, 48, 55, tzinfo=<git.objects.util.tzoffset object at 0x000001A2B179D9F0>)], [3, datetime.datetime(2025, 1, 8, 21, 49, 15, tzinfo=<git.objects.util.tzoffset object at 0x000001A2B18D6FB0>)], [3, datetime.datetime(2025, 1, 8, 20, 49, 13, tzinfo=<git.objects.util.tzoffset object at 0x000001A2B18E45B0>)], [4, datetime.datetime(2025, 1, 8, 19, 49, 3, tzinfo=<git.objects.util.tzoffset object at 0x000001A2B18E9B70>)], [6, datetime.datetime(2025, 1, 8, 18, 49, 37, tzinfo=<git.objects.util.tzoffset object at 0x000001A2B18F6C50>)], [7, datetime.datetime(2025, 1, 8, 17, 49, 5, tzinfo=<git.objects.util.tzoffset object at 0x000001A2B1900070>)], [10, datetime.datetime(2025, 1, 8, 16, 50, 13, tzinfo=<git.objects.util.tzoffset object at 0x000001A2B1909630>)], [11, datetime.datetime(2025, 1, 8, 15, 49, 13, tzinfo=<git.objects.util.tzoffset object at 0x000001A2B190EBF0>)]], 'ST JAMES HOSPITAL (LUAS)': [[8, datetime.datetime(2025, 1, 8, 23, 49, 15, tzinfo=<git.objects.util.tzoffset object at 0x000001A2B17984F0>)], [7, datetime.datetime(2025, 1, 8, 22, 48, 55, tzinfo=<git.objects.util.tzoffset object at 0x000001A2B179DAB0>)], [7, datetime.datetime(2025, 1, 8, 21, 49, 15, tzinfo=<git.objects.util.tzoffset object at 0x000001A2B18D7070>)], [6, datetime.datetime(2025, 1, 8, 20, 49, 13, tzinfo=<git.objects.util.tzoffset object at 0x000001A2B18E4670>)], [3, datetime.datetime(2025, 1, 8, 19, 49, 3, tzinfo=<git.objects.util.tzoffset object at 0x000001A2B18E9C30>)], [1, datetime.datetime(2025, 1, 8, 18, 49, 37, tzinfo=<git.objects.util.tzoffset object at 0x000001A2B18F6D10>)], [9, datetime.datetime(2025, 1, 8, 17, 49, 5, tzinfo=<git.objects.util.tzoffset object at 0x000001A2B1900130>)], [10, datetime.datetime(2025, 1, 8, 16, 50, 13, tzinfo=<git.objects.util.tzoffset object at 0x000001A2B19096F0>)], [18, datetime.datetime(2025, 1, 8, 15, 49, 13, tzinfo=<git.objects.util.tzoffset object at 0x000001A2B190ECB0>)]], 'MOUNT BROWN': [[13, datetime.datetime(2025, 1, 8, 23, 49, 15, tzinfo=<git.objects.util.tzoffset object at 0x000001A2B17985B0>)], [13, datetime.datetime(2025, 1, 8, 22, 48, 55, tzinfo=<git.objects.util.tzoffset object at 0x000001A2B179DB70>)], [11, datetime.datetime(2025, 1, 8, 21, 49, 15, tzinfo=<git.objects.util.tzoffset object at 0x000001A2B18D7130>)], [11, datetime.datetime(2025, 1, 8, 20, 49, 13, tzinfo=<git.objects.util.tzoffset object at 0x000001A2B18E4730>)], [12, datetime.datetime(2025, 1, 8, 19, 49, 3, tzinfo=<git.objects.util.tzoffset object at 0x000001A2B18E9CF0>)], [11, datetime.datetime(2025, 1, 8, 18, 49, 37, tzinfo=<git.objects.util.tzoffset object at 0x000001A2B18F6DD0>)], [9, datetime.datetime(2025, 1, 8, 17, 49, 5, tzinfo=<git.objects.util.tzoffset object at 0x000001A2B19001F0>)], [8, datetime.datetime(2025, 1, 8, 16, 50, 13, tzinfo=<git.objects.util.tzoffset object at 0x000001A2B19097B0>)], [8, datetime.datetime(2025, 1, 8, 15, 49, 13, tzinfo=<git.objects.util.tzoffset object at 0x000001A2B190ED70>)]], 'EMMET ROAD': [[33, datetime.datetime(2025, 1, 8, 23, 49, 15, tzinfo=<git.objects.util.tzoffset object at 0x000001A2B1798670>)], [34, datetime.datetime(2025, 1, 8, 22, 48, 55, tzinfo=<git.objects.util.tzoffset object at 0x000001A2B179DC30>)], [34, datetime.datetime(2025, 1, 8, 21, 49, 15, tzinfo=<git.objects.util.tzoffset object at 0x000001A2B18D71F0>)], [35, datetime.datetime(2025, 1, 8, 20, 49, 13, tzinfo=<git.objects.util.tzoffset object at 0x000001A2B18E47F0>)], [35, datetime.datetime(2025, 1, 8, 19, 49, 3, tzinfo=<git.objects.util.tzoffset object at 0x000001A2B18E9DB0>)], [33, datetime.datetime(2025, 1, 8, 18, 49, 37, tzinfo=<git.objects.util.tzoffset object at 0x000001A2B18F6E90>)], [27, datetime.datetime(2025, 1, 8, 17, 49, 5, tzinfo=<git.objects.util.tzoffset object at 0x000001A2B19002B0>)], [25, datetime.datetime(2025, 1, 8, 16, 50, 13, tzinfo=<git.objects.util.tzoffset object at 0x000001A2B1909870>)], [26, datetime.datetime(2025, 1, 8, 15, 49, 13, tzinfo=<git.objects.util.tzoffset object at 0x000001A2B190EE30>)]], 'BROOKFIELD ROAD': [[23, datetime.datetime(2025, 1, 8, 23, 49, 15, tzinfo=<git.objects.util.tzoffset object at 0x000001A2B1798730>)], [23, datetime.datetime(2025, 1, 8, 22, 48, 55, tzinfo=<git.objects.util.tzoffset object at 0x000001A2B179DCF0>)], [23, datetime.datetime(2025, 1, 8, 21, 49, 15, tzinfo=<git.objects.util.tzoffset object at 0x000001A2B18D72B0>)], [23, datetime.datetime(2025, 1, 8, 20, 49, 13, tzinfo=<git.objects.util.tzoffset object at 0x000001A2B18E48B0>)], [22, datetime.datetime(2025, 1, 8, 19, 49, 3, tzinfo=<git.objects.util.tzoffset object at 0x000001A2B18E9E70>)], [19, datetime.datetime(2025, 1, 8, 18, 49, 37, tzinfo=<git.objects.util.tzoffset object at 0x000001A2B18F6F50>)], [18, datetime.datetime(2025, 1, 8, 17, 49, 5, tzinfo=<git.objects.util.tzoffset object at 0x000001A2B1900370>)], [19, datetime.datetime(2025, 1, 8, 16, 50, 13, tzinfo=<git.objects.util.tzoffset object at 0x000001A2B1909930>)], [18, datetime.datetime(2025, 1, 8, 15, 49, 13, tzinfo=<git.objects.util.tzoffset object at 0x000001A2B190EEF0>)]], 'ROTHE ABBEY': [[18, datetime.datetime(2025, 1, 8, 23, 49, 15, tzinfo=<git.objects.util.tzoffset object at 0x000001A2B17987F0>)], [18, datetime.datetime(2025, 1, 8, 22, 48, 55, tzinfo=<git.objects.util.tzoffset object at 0x000001A2B179DDB0>)], [18, datetime.datetime(2025, 1, 8, 21, 49, 15, tzinfo=<git.objects.util.tzoffset object at 0x000001A2B18D7370>)], [18, datetime.datetime(2025, 1, 8, 20, 49, 13, tzinfo=<git.objects.util.tzoffset object at 0x000001A2B18E4970>)], [17, datetime.datetime(2025, 1, 8, 19, 49, 3, tzinfo=<git.objects.util.tzoffset object at 0x000001A2B18E9F30>)], [17, datetime.datetime(2025, 1, 8, 18, 49, 37, tzinfo=<git.objects.util.tzoffset object at 0x000001A2B18F7010>)], [14, datetime.datetime(2025, 1, 8, 17, 49, 5, tzinfo=<git.objects.util.tzoffset object at 0x000001A2B1900430>)], [16, datetime.datetime(2025, 1, 8, 16, 50, 13, tzinfo=<git.objects.util.tzoffset object at 0x000001A2B19099F0>)], [16, datetime.datetime(2025, 1, 8, 15, 49, 13, tzinfo=<git.objects.util.tzoffset object at 0x000001A2B190EFB0>)]], 'PARKGATE STREET': [[38, datetime.datetime(2025, 1, 8, 23, 49, 15, tzinfo=<git.objects.util.tzoffset object at 0x000001A2B17988B0>)], [38, datetime.datetime(2025, 1, 8, 22, 48, 55, tzinfo=<git.objects.util.tzoffset object at 0x000001A2B179DE70>)], [37, datetime.datetime(2025, 1, 8, 21, 49, 15, tzinfo=<git.objects.util.tzoffset object at 0x000001A2B18D7430>)], [37, datetime.datetime(2025, 1, 8, 20, 49, 13, tzinfo=<git.objects.util.tzoffset object at 0x000001A2B18E4A30>)], [38, datetime.datetime(2025, 1, 8, 19, 49, 3, tzinfo=<git.objects.util.tzoffset object at 0x000001A2B18E9FF0>)], [38, datetime.datetime(2025, 1, 8, 18, 49, 37, tzinfo=<git.objects.util.tzoffset object at 0x000001A2B18F70D0>)], [38, datetime.datetime(2025, 1, 8, 17, 49, 5, tzinfo=<git.objects.util.tzoffset object at 0x000001A2B19004F0>)], [37, datetime.datetime(2025, 1, 8, 16, 50, 13, tzinfo=<git.objects.util.tzoffset object at 0x000001A2B1909AB0>)], [31, datetime.datetime(2025, 1, 8, 15, 49, 13, tzinfo=<git.objects.util.tzoffset object at 0x000001A2B190F070>)]], 'COLLINS BARRACKS MUSEUM': [[37, datetime.datetime(2025, 1, 8, 23, 49, 15, tzinfo=<git.objects.util.tzoffset object at 0x000001A2B1798970>)], [35, datetime.datetime(2025, 1, 8, 22, 48, 55, tzinfo=<git.objects.util.tzoffset object at 0x000001A2B179DF30>)], [34, datetime.datetime(2025, 1, 8, 21, 49, 15, tzinfo=<git.objects.util.tzoffset object at 0x000001A2B18D74F0>)], [31, datetime.datetime(2025, 1, 8, 20, 49, 13, tzinfo=<git.objects.util.tzoffset object at 0x000001A2B18E4AF0>)], [29, datetime.datetime(2025, 1, 8, 19, 49, 3, tzinfo=<git.objects.util.tzoffset object at 0x000001A2B18EA0B0>)], [29, datetime.datetime(2025, 1, 8, 18, 49, 37, tzinfo=<git.objects.util.tzoffset object at 0x000001A2B18F7190>)], [27, datetime.datetime(2025, 1, 8, 17, 49, 5, tzinfo=<git.objects.util.tzoffset object at 0x000001A2B19005B0>)], [25, datetime.datetime(2025, 1, 8, 16, 50, 13, tzinfo=<git.objects.util.tzoffset object at 0x000001A2B1909B70>)], [25, datetime.datetime(2025, 1, 8, 15, 49, 13, tzinfo=<git.objects.util.tzoffset object at 0x000001A2B190F130>)]], 'BLACKHALL PLACE': [[24, datetime.datetime(2025, 1, 8, 23, 49, 15, tzinfo=<git.objects.util.tzoffset object at 0x000001A2B1798A30>)], [25, datetime.datetime(2025, 1, 8, 22, 48, 55, tzinfo=<git.objects.util.tzoffset object at 0x000001A2B179DFF0>)], [24, datetime.datetime(2025, 1, 8, 21, 49, 15, tzinfo=<git.objects.util.tzoffset object at 0x000001A2B18D75B0>)], [22, datetime.datetime(2025, 1, 8, 20, 49, 13, tzinfo=<git.objects.util.tzoffset object at 0x000001A2B18E4BB0>)], [21, datetime.datetime(2025, 1, 8, 19, 49, 3, tzinfo=<git.objects.util.tzoffset object at 0x000001A2B18EA170>)], [16, datetime.datetime(2025, 1, 8, 18, 49, 37, tzinfo=<git.objects.util.tzoffset object at 0x000001A2B18F7250>)], [7, datetime.datetime(2025, 1, 8, 17, 49, 5, tzinfo=<git.objects.util.tzoffset object at 0x000001A2B1900670>)], [7, datetime.datetime(2025, 1, 8, 16, 50, 13, tzinfo=<git.objects.util.tzoffset object at 0x000001A2B1909C30>)], [5, datetime.datetime(2025, 1, 8, 15, 49, 13, tzinfo=<git.objects.util.tzoffset object at 0x000001A2B190F1F0>)]], 'FITZWILLIAM SQUARE EAST': [[1, datetime.datetime(2025, 1, 8, 23, 49, 15, tzinfo=<git.objects.util.tzoffset object at 0x000001A2B1798AF0>)], [1, datetime.datetime(2025, 1, 8, 22, 48, 55, tzinfo=<git.objects.util.tzoffset object at 0x000001A2B179E0B0>)], [1, datetime.datetime(2025, 1, 8, 21, 49, 15, tzinfo=<git.objects.util.tzoffset object at 0x000001A2B18D7670>)], [1, datetime.datetime(2025, 1, 8, 20, 49, 13, tzinfo=<git.objects.util.tzoffset object at 0x000001A2B18E4C70>)], [2, datetime.datetime(2025, 1, 8, 19, 49, 3, tzinfo=<git.objects.util.tzoffset object at 0x000001A2B18EA230>)], [1, datetime.datetime(2025, 1, 8, 18, 49, 37, tzinfo=<git.objects.util.tzoffset object at 0x000001A2B18F7310>)], [1, datetime.datetime(2025, 1, 8, 17, 49, 5, tzinfo=<git.objects.util.tzoffset object at 0x000001A2B1900730>)], [0, datetime.datetime(2025, 1, 8, 16, 50, 13, tzinfo=<git.objects.util.tzoffset object at 0x000001A2B1909CF0>)], [0, datetime.datetime(2025, 1, 8, 15, 49, 13, tzinfo=<git.objects.util.tzoffset object at 0x000001A2B190F2B0>)]], 'BENSON STREET': [[1, datetime.datetime(2025, 1, 8, 23, 49, 15, tzinfo=<git.objects.util.tzoffset object at 0x000001A2B1798BB0>)], [2, datetime.datetime(2025, 1, 8, 22, 48, 55, tzinfo=<git.objects.util.tzoffset object at 0x000001A2B179E170>)], [5, datetime.datetime(2025, 1, 8, 21, 49, 15, tzinfo=<git.objects.util.tzoffset object at 0x000001A2B18D7730>)], [4, datetime.datetime(2025, 1, 8, 20, 49, 13, tzinfo=<git.objects.util.tzoffset object at 0x000001A2B18E4D30>)], [0, datetime.datetime(2025, 1, 8, 19, 49, 3, tzinfo=<git.objects.util.tzoffset object at 0x000001A2B18EA2F0>)], [4, datetime.datetime(2025, 1, 8, 18, 49, 37, tzinfo=<git.objects.util.tzoffset object at 0x000001A2B18F73D0>)], [1, datetime.datetime(2025, 1, 8, 17, 49, 5, tzinfo=<git.objects.util.tzoffset object at 0x000001A2B19007F0>)], [12, datetime.datetime(2025, 1, 8, 16, 50, 13, tzinfo=<git.objects.util.tzoffset object at 0x000001A2B1909DB0>)], [21, datetime.datetime(2025, 1, 8, 15, 49, 13, tzinfo=<git.objects.util.tzoffset object at 0x000001A2B190F370>)]], 'SOUTH DOCK ROAD': [[10, datetime.datetime(2025, 1, 8, 23, 49, 15, tzinfo=<git.objects.util.tzoffset object at 0x000001A2B1798C70>)], [8, datetime.datetime(2025, 1, 8, 22, 48, 55, tzinfo=<git.objects.util.tzoffset object at 0x000001A2B179E230>)], [7, datetime.datetime(2025, 1, 8, 21, 49, 15, tzinfo=<git.objects.util.tzoffset object at 0x000001A2B18D77F0>)], [6, datetime.datetime(2025, 1, 8, 20, 49, 13, tzinfo=<git.objects.util.tzoffset object at 0x000001A2B18E4DF0>)], [7, datetime.datetime(2025, 1, 8, 19, 49, 3, tzinfo=<git.objects.util.tzoffset object at 0x000001A2B18EA3B0>)], [13, datetime.datetime(2025, 1, 8, 18, 49, 37, tzinfo=<git.objects.util.tzoffset object at 0x000001A2B18F7490>)], [8, datetime.datetime(2025, 1, 8, 17, 49, 5, tzinfo=<git.objects.util.tzoffset object at 0x000001A2B19008B0>)], [10, datetime.datetime(2025, 1, 8, 16, 50, 13, tzinfo=<git.objects.util.tzoffset object at 0x000001A2B1909E70>)], [10, datetime.datetime(2025, 1, 8, 15, 49, 13, tzinfo=<git.objects.util.tzoffset object at 0x000001A2B190F430>)]], 'HEUSTON BRIDGE (NORTH)': [[40, datetime.datetime(2025, 1, 8, 23, 49, 15, tzinfo=<git.objects.util.tzoffset object at 0x000001A2B1798D30>)], [40, datetime.datetime(2025, 1, 8, 22, 48, 55, tzinfo=<git.objects.util.tzoffset object at 0x000001A2B179E2F0>)], [40, datetime.datetime(2025, 1, 8, 21, 49, 15, tzinfo=<git.objects.util.tzoffset object at 0x000001A2B18D78B0>)], [39, datetime.datetime(2025, 1, 8, 20, 49, 13, tzinfo=<git.objects.util.tzoffset object at 0x000001A2B18E4EB0>)], [40, datetime.datetime(2025, 1, 8, 19, 49, 3, tzinfo=<git.objects.util.tzoffset object at 0x000001A2B18EA470>)], [39, datetime.datetime(2025, 1, 8, 18, 49, 37, tzinfo=<git.objects.util.tzoffset object at 0x000001A2B18F7550>)], [40, datetime.datetime(2025, 1, 8, 17, 49, 5, tzinfo=<git.objects.util.tzoffset object at 0x000001A2B1900970>)], [40, datetime.datetime(2025, 1, 8, 16, 50, 13, tzinfo=<git.objects.util.tzoffset object at 0x000001A2B1909F30>)], [40, datetime.datetime(2025, 1, 8, 15, 49, 13, tzinfo=<git.objects.util.tzoffset object at 0x000001A2B190F4F0>)]], 'HEUSTON STATION (CENTRAL)': [[40, datetime.datetime(2025, 1, 8, 23, 49, 15, tzinfo=<git.objects.util.tzoffset object at 0x000001A2B1798DF0>)], [40, datetime.datetime(2025, 1, 8, 22, 48, 55, tzinfo=<git.objects.util.tzoffset object at 0x000001A2B179E3B0>)], [40, datetime.datetime(2025, 1, 8, 21, 49, 15, tzinfo=<git.objects.util.tzoffset object at 0x000001A2B18D7970>)], [40, datetime.datetime(2025, 1, 8, 20, 49, 13, tzinfo=<git.objects.util.tzoffset object at 0x000001A2B18E4F70>)], [40, datetime.datetime(2025, 1, 8, 19, 49, 3, tzinfo=<git.objects.util.tzoffset object at 0x000001A2B18EA530>)], [39, datetime.datetime(2025, 1, 8, 18, 49, 37, tzinfo=<git.objects.util.tzoffset object at 0x000001A2B18F7610>)], [39, datetime.datetime(2025, 1, 8, 17, 49, 5, tzinfo=<git.objects.util.tzoffset object at 0x000001A2B1900A30>)], [16, datetime.datetime(2025, 1, 8, 16, 50, 13, tzinfo=<git.objects.util.tzoffset object at 0x000001A2B1909FF0>)], [14, datetime.datetime(2025, 1, 8, 15, 49, 13, tzinfo=<git.objects.util.tzoffset object at 0x000001A2B190F5B0>)]], 'HEUSTON STATION (CAR PARK)': [[29, datetime.datetime(2025, 1, 8, 23, 49, 15, tzinfo=<git.objects.util.tzoffset object at 0x000001A2B1798EB0>)], [29, datetime.datetime(2025, 1, 8, 22, 48, 55, tzinfo=<git.objects.util.tzoffset object at 0x000001A2B179E470>)], [28, datetime.datetime(2025, 1, 8, 21, 49, 15, tzinfo=<git.objects.util.tzoffset object at 0x000001A2B18D7A30>)], [28, datetime.datetime(2025, 1, 8, 20, 49, 13, tzinfo=<git.objects.util.tzoffset object at 0x000001A2B18E5030>)], [28, datetime.datetime(2025, 1, 8, 19, 49, 3, tzinfo=<git.objects.util.tzoffset object at 0x000001A2B18EA5F0>)], [26, datetime.datetime(2025, 1, 8, 18, 49, 37, tzinfo=<git.objects.util.tzoffset object at 0x000001A2B18F76D0>)], [15, datetime.datetime(2025, 1, 8, 17, 49, 5, tzinfo=<git.objects.util.tzoffset object at 0x000001A2B1900AF0>)], [10, datetime.datetime(2025, 1, 8, 16, 50, 13, tzinfo=<git.objects.util.tzoffset object at 0x000001A2B190A0B0>)], [9, datetime.datetime(2025, 1, 8, 15, 49, 13, tzinfo=<git.objects.util.tzoffset object at 0x000001A2B190F670>)]], 'ROYAL HOSPITAL': [[19, datetime.datetime(2025, 1, 8, 23, 49, 15, tzinfo=<git.objects.util.tzoffset object at 0x000001A2B1798F70>)], [19, datetime.datetime(2025, 1, 8, 22, 48, 55, tzinfo=<git.objects.util.tzoffset object at 0x000001A2B179E530>)], [19, datetime.datetime(2025, 1, 8, 21, 49, 15, tzinfo=<git.objects.util.tzoffset object at 0x000001A2B18D7AF0>)], [17, datetime.datetime(2025, 1, 8, 20, 49, 13, tzinfo=<git.objects.util.tzoffset object at 0x000001A2B18E50F0>)], [19, datetime.datetime(2025, 1, 8, 19, 49, 3, tzinfo=<git.objects.util.tzoffset object at 0x000001A2B18EA6B0>)], [17, datetime.datetime(2025, 1, 8, 18, 49, 37, tzinfo=<git.objects.util.tzoffset object at 0x000001A2B18F7790>)], [14, datetime.datetime(2025, 1, 8, 17, 49, 5, tzinfo=<git.objects.util.tzoffset object at 0x000001A2B1900BB0>)], [10, datetime.datetime(2025, 1, 8, 16, 50, 13, tzinfo=<git.objects.util.tzoffset object at 0x000001A2B190A170>)], [11, datetime.datetime(2025, 1, 8, 15, 49, 13, tzinfo=<git.objects.util.tzoffset object at 0x000001A2B190F730>)]], 'KILMAINHAM LANE': [[10, datetime.datetime(2025, 1, 8, 23, 49, 15, tzinfo=<git.objects.util.tzoffset object at 0x000001A2B1799030>)], [10, datetime.datetime(2025, 1, 8, 22, 48, 55, tzinfo=<git.objects.util.tzoffset object at 0x000001A2B179E5F0>)], [10, datetime.datetime(2025, 1, 8, 21, 49, 15, tzinfo=<git.objects.util.tzoffset object at 0x000001A2B18D7BB0>)], [9, datetime.datetime(2025, 1, 8, 20, 49, 13, tzinfo=<git.objects.util.tzoffset object at 0x000001A2B18E51B0>)], [7, datetime.datetime(2025, 1, 8, 19, 49, 3, tzinfo=<git.objects.util.tzoffset object at 0x000001A2B18EA770>)], [6, datetime.datetime(2025, 1, 8, 18, 49, 37, tzinfo=<git.objects.util.tzoffset object at 0x000001A2B18F7850>)], [4, datetime.datetime(2025, 1, 8, 17, 49, 5, tzinfo=<git.objects.util.tzoffset object at 0x000001A2B1900C70>)], [3, datetime.datetime(2025, 1, 8, 16, 50, 13, tzinfo=<git.objects.util.tzoffset object at 0x000001A2B190A230>)], [4, datetime.datetime(2025, 1, 8, 15, 49, 13, tzinfo=<git.objects.util.tzoffset object at 0x000001A2B190F7F0>)]], 'KILMAINHAM GAOL': [[36, datetime.datetime(2025, 1, 8, 23, 49, 15, tzinfo=<git.objects.util.tzoffset object at 0x000001A2B17990F0>)], [36, datetime.datetime(2025, 1, 8, 22, 48, 55, tzinfo=<git.objects.util.tzoffset object at 0x000001A2B179E6B0>)], [35, datetime.datetime(2025, 1, 8, 21, 49, 15, tzinfo=<git.objects.util.tzoffset object at 0x000001A2B18D7C70>)], [34, datetime.datetime(2025, 1, 8, 20, 49, 13, tzinfo=<git.objects.util.tzoffset object at 0x000001A2B18E5270>)], [33, datetime.datetime(2025, 1, 8, 19, 49, 3, tzinfo=<git.objects.util.tzoffset object at 0x000001A2B18EA830>)], [32, datetime.datetime(2025, 1, 8, 18, 49, 37, tzinfo=<git.objects.util.tzoffset object at 0x000001A2B18F7910>)], [31, datetime.datetime(2025, 1, 8, 17, 49, 5, tzinfo=<git.objects.util.tzoffset object at 0x000001A2B1900D30>)], [25, datetime.datetime(2025, 1, 8, 16, 50, 13, tzinfo=<git.objects.util.tzoffset object at 0x000001A2B190A2F0>)], [25, datetime.datetime(2025, 1, 8, 15, 49, 13, tzinfo=<git.objects.util.tzoffset object at 0x000001A2B190F8B0>)]], 'FREDERICK STREET SOUTH': [[0, datetime.datetime(2025, 1, 8, 23, 49, 15, tzinfo=<git.objects.util.tzoffset object at 0x000001A2B17991B0>)], [0, datetime.datetime(2025, 1, 8, 22, 48, 55, tzinfo=<git.objects.util.tzoffset object at 0x000001A2B179E770>)], [1, datetime.datetime(2025, 1, 8, 21, 49, 15, tzinfo=<git.objects.util.tzoffset object at 0x000001A2B18D7D30>)], [2, datetime.datetime(2025, 1, 8, 20, 49, 13, tzinfo=<git.objects.util.tzoffset object at 0x000001A2B18E5330>)], [2, datetime.datetime(2025, 1, 8, 19, 49, 3, tzinfo=<git.objects.util.tzoffset object at 0x000001A2B18EA8F0>)], [2, datetime.datetime(2025, 1, 8, 18, 49, 37, tzinfo=<git.objects.util.tzoffset object at 0x000001A2B18F79D0>)], [1, datetime.datetime(2025, 1, 8, 17, 49, 5, tzinfo=<git.objects.util.tzoffset object at 0x000001A2B1900DF0>)], [3, datetime.datetime(2025, 1, 8, 16, 50, 13, tzinfo=<git.objects.util.tzoffset object at 0x000001A2B190A3B0>)], [4, datetime.datetime(2025, 1, 8, 15, 49, 13, tzinfo=<git.objects.util.tzoffset object at 0x000001A2B190F970>)]], 'CITY QUAY': [[2, datetime.datetime(2025, 1, 8, 23, 49, 15, tzinfo=<git.objects.util.tzoffset object at 0x000001A2B1799270>)], [2, datetime.datetime(2025, 1, 8, 22, 48, 55, tzinfo=<git.objects.util.tzoffset object at 0x000001A2B179E830>)], [3, datetime.datetime(2025, 1, 8, 21, 49, 15, tzinfo=<git.objects.util.tzoffset object at 0x000001A2B18D7DF0>)], [3, datetime.datetime(2025, 1, 8, 20, 49, 13, tzinfo=<git.objects.util.tzoffset object at 0x000001A2B18E53F0>)], [2, datetime.datetime(2025, 1, 8, 19, 49, 3, tzinfo=<git.objects.util.tzoffset object at 0x000001A2B18EA9B0>)], [2, datetime.datetime(2025, 1, 8, 18, 49, 37, tzinfo=<git.objects.util.tzoffset object at 0x000001A2B18F7A90>)], [5, datetime.datetime(2025, 1, 8, 17, 49, 5, tzinfo=<git.objects.util.tzoffset object at 0x000001A2B1900EB0>)], [7, datetime.datetime(2025, 1, 8, 16, 50, 13, tzinfo=<git.objects.util.tzoffset object at 0x000001A2B190A470>)], [10, datetime.datetime(2025, 1, 8, 15, 49, 13, tzinfo=<git.objects.util.tzoffset object at 0x000001A2B190FA30>)]], 'HEUSTON BRIDGE (SOUTH)': [[25, datetime.datetime(2025, 1, 8, 23, 49, 15, tzinfo=<git.objects.util.tzoffset object at 0x000001A2B1799330>)], [25, datetime.datetime(2025, 1, 8, 22, 48, 55, tzinfo=<git.objects.util.tzoffset object at 0x000001A2B179E8F0>)], [25, datetime.datetime(2025, 1, 8, 21, 49, 15, tzinfo=<git.objects.util.tzoffset object at 0x000001A2B18D7EB0>)], [25, datetime.datetime(2025, 1, 8, 20, 49, 13, tzinfo=<git.objects.util.tzoffset object at 0x000001A2B18E54B0>)], [23, datetime.datetime(2025, 1, 8, 19, 49, 3, tzinfo=<git.objects.util.tzoffset object at 0x000001A2B18EAA70>)], [23, datetime.datetime(2025, 1, 8, 18, 49, 37, tzinfo=<git.objects.util.tzoffset object at 0x000001A2B18F7B50>)], [25, datetime.datetime(2025, 1, 8, 17, 49, 5, tzinfo=<git.objects.util.tzoffset object at 0x000001A2B1900F70>)], [25, datetime.datetime(2025, 1, 8, 16, 50, 13, tzinfo=<git.objects.util.tzoffset object at 0x000001A2B190A530>)], [17, datetime.datetime(2025, 1, 8, 15, 49, 13, tzinfo=<git.objects.util.tzoffset object at 0x000001A2B190FAF0>)]], 'KING STREET NORTH': [[21, datetime.datetime(2025, 1, 8, 23, 49, 15, tzinfo=<git.objects.util.tzoffset object at 0x000001A2B17993F0>)], [19, datetime.datetime(2025, 1, 8, 22, 48, 55, tzinfo=<git.objects.util.tzoffset object at 0x000001A2B179E9B0>)], [19, datetime.datetime(2025, 1, 8, 21, 49, 15, tzinfo=<git.objects.util.tzoffset object at 0x000001A2B18D7F70>)], [18, datetime.datetime(2025, 1, 8, 20, 49, 13, tzinfo=<git.objects.util.tzoffset object at 0x000001A2B18E5570>)], [17, datetime.datetime(2025, 1, 8, 19, 49, 3, tzinfo=<git.objects.util.tzoffset object at 0x000001A2B18EAB30>)], [16, datetime.datetime(2025, 1, 8, 18, 49, 37, tzinfo=<git.objects.util.tzoffset object at 0x000001A2B18F7C10>)], [14, datetime.datetime(2025, 1, 8, 17, 49, 5, tzinfo=<git.objects.util.tzoffset object at 0x000001A2B1901030>)], [14, datetime.datetime(2025, 1, 8, 16, 50, 13, tzinfo=<git.objects.util.tzoffset object at 0x000001A2B190A5F0>)], [15, datetime.datetime(2025, 1, 8, 15, 49, 13, tzinfo=<git.objects.util.tzoffset object at 0x000001A2B190FBB0>)]], 'WESTERN WAY': [[15, datetime.datetime(2025, 1, 8, 23, 49, 15, tzinfo=<git.objects.util.tzoffset object at 0x000001A2B17994B0>)], [15, datetime.datetime(2025, 1, 8, 22, 48, 55, tzinfo=<git.objects.util.tzoffset object at 0x000001A2B179EA70>)], [15, datetime.datetime(2025, 1, 8, 21, 49, 15, tzinfo=<git.objects.util.tzoffset object at 0x000001A2B18DC070>)], [15, datetime.datetime(2025, 1, 8, 20, 49, 13, tzinfo=<git.objects.util.tzoffset object at 0x000001A2B18E5630>)], [16, datetime.datetime(2025, 1, 8, 19, 49, 3, tzinfo=<git.objects.util.tzoffset object at 0x000001A2B18EABF0>)], [16, datetime.datetime(2025, 1, 8, 18, 49, 37, tzinfo=<git.objects.util.tzoffset object at 0x000001A2B18F7CD0>)], [16, datetime.datetime(2025, 1, 8, 17, 49, 5, tzinfo=<git.objects.util.tzoffset object at 0x000001A2B19010F0>)], [17, datetime.datetime(2025, 1, 8, 16, 50, 13, tzinfo=<git.objects.util.tzoffset object at 0x000001A2B190A6B0>)], [17, datetime.datetime(2025, 1, 8, 15, 49, 13, tzinfo=<git.objects.util.tzoffset object at 0x000001A2B190FC70>)]], 'GRANGEGORMAN LOWER (SOUTH)': [[2, datetime.datetime(2025, 1, 8, 23, 49, 15, tzinfo=<git.objects.util.tzoffset object at 0x000001A2B1799570>)], [2, datetime.datetime(2025, 1, 8, 22, 48, 55, tzinfo=<git.objects.util.tzoffset object at 0x000001A2B179EB30>)], [2, datetime.datetime(2025, 1, 8, 21, 49, 15, tzinfo=<git.objects.util.tzoffset object at 0x000001A2B18DC130>)], [3, datetime.datetime(2025, 1, 8, 20, 49, 13, tzinfo=<git.objects.util.tzoffset object at 0x000001A2B18E56F0>)], [3, datetime.datetime(2025, 1, 8, 19, 49, 3, tzinfo=<git.objects.util.tzoffset object at 0x000001A2B18EACB0>)], [3, datetime.datetime(2025, 1, 8, 18, 49, 37, tzinfo=<git.objects.util.tzoffset object at 0x000001A2B18F7D90>)], [3, datetime.datetime(2025, 1, 8, 17, 49, 5, tzinfo=<git.objects.util.tzoffset object at 0x000001A2B19011B0>)], [3, datetime.datetime(2025, 1, 8, 16, 50, 13, tzinfo=<git.objects.util.tzoffset object at 0x000001A2B190A770>)], [5, datetime.datetime(2025, 1, 8, 15, 49, 13, tzinfo=<git.objects.util.tzoffset object at 0x000001A2B190FD30>)]], 'GRANGEGORMAN LOWER (CENTRAL)': [[10, datetime.datetime(2025, 1, 8, 23, 49, 15, tzinfo=<git.objects.util.tzoffset object at 0x000001A2B1799630>)], [10, datetime.datetime(2025, 1, 8, 22, 48, 55, tzinfo=<git.objects.util.tzoffset object at 0x000001A2B179EBF0>)], [10, datetime.datetime(2025, 1, 8, 21, 49, 15, tzinfo=<git.objects.util.tzoffset object at 0x000001A2B18DC1F0>)], [10, datetime.datetime(2025, 1, 8, 20, 49, 13, tzinfo=<git.objects.util.tzoffset object at 0x000001A2B18E57B0>)], [11, datetime.datetime(2025, 1, 8, 19, 49, 3, tzinfo=<git.objects.util.tzoffset object at 0x000001A2B18EAD70>)], [11, datetime.datetime(2025, 1, 8, 18, 49, 37, tzinfo=<git.objects.util.tzoffset object at 0x000001A2B18F7E50>)], [11, datetime.datetime(2025, 1, 8, 17, 49, 5, tzinfo=<git.objects.util.tzoffset object at 0x000001A2B1901270>)], [10, datetime.datetime(2025, 1, 8, 16, 50, 13, tzinfo=<git.objects.util.tzoffset object at 0x000001A2B190A830>)], [10, datetime.datetime(2025, 1, 8, 15, 49, 13, tzinfo=<git.objects.util.tzoffset object at 0x000001A2B190FDF0>)]], 'GRANGEGORMAN LOWER (NORTH)': [[15, datetime.datetime(2025, 1, 8, 23, 49, 15, tzinfo=<git.objects.util.tzoffset object at 0x000001A2B17996F0>)], [15, datetime.datetime(2025, 1, 8, 22, 48, 55, tzinfo=<git.objects.util.tzoffset object at 0x000001A2B179ECB0>)], [15, datetime.datetime(2025, 1, 8, 21, 49, 15, tzinfo=<git.objects.util.tzoffset object at 0x000001A2B18DC2B0>)], [15, datetime.datetime(2025, 1, 8, 20, 49, 13, tzinfo=<git.objects.util.tzoffset object at 0x000001A2B18E5870>)], [15, datetime.datetime(2025, 1, 8, 19, 49, 3, tzinfo=<git.objects.util.tzoffset object at 0x000001A2B18EAE30>)], [16, datetime.datetime(2025, 1, 8, 18, 49, 37, tzinfo=<git.objects.util.tzoffset object at 0x000001A2B18F7F10>)], [15, datetime.datetime(2025, 1, 8, 17, 49, 5, tzinfo=<git.objects.util.tzoffset object at 0x000001A2B1901330>)], [13, datetime.datetime(2025, 1, 8, 16, 50, 13, tzinfo=<git.objects.util.tzoffset object at 0x000001A2B190A8F0>)], [12, datetime.datetime(2025, 1, 8, 15, 49, 13, tzinfo=<git.objects.util.tzoffset object at 0x000001A2B190FEB0>)]], 'RATHDOWN ROAD': [[22, datetime.datetime(2025, 1, 8, 23, 49, 15, tzinfo=<git.objects.util.tzoffset object at 0x000001A2B17997B0>)], [22, datetime.datetime(2025, 1, 8, 22, 48, 55, tzinfo=<git.objects.util.tzoffset object at 0x000001A2B179ED70>)], [21, datetime.datetime(2025, 1, 8, 21, 49, 15, tzinfo=<git.objects.util.tzoffset object at 0x000001A2B18DC370>)], [21, datetime.datetime(2025, 1, 8, 20, 49, 13, tzinfo=<git.objects.util.tzoffset object at 0x000001A2B18E5930>)], [21, datetime.datetime(2025, 1, 8, 19, 49, 3, tzinfo=<git.objects.util.tzoffset object at 0x000001A2B18EAEF0>)], [22, datetime.datetime(2025, 1, 8, 18, 49, 37, tzinfo=<git.objects.util.tzoffset object at 0x000001A2B18F7FD0>)], [23, datetime.datetime(2025, 1, 8, 17, 49, 5, tzinfo=<git.objects.util.tzoffset object at 0x000001A2B19013F0>)], [22, datetime.datetime(2025, 1, 8, 16, 50, 13, tzinfo=<git.objects.util.tzoffset object at 0x000001A2B190A9B0>)], [22, datetime.datetime(2025, 1, 8, 15, 49, 13, tzinfo=<git.objects.util.tzoffset object at 0x000001A2B190FF70>)]], 'CHARLEVILLE ROAD': [[25, datetime.datetime(2025, 1, 8, 23, 49, 15, tzinfo=<git.objects.util.tzoffset object at 0x000001A2B1799870>)], [24, datetime.datetime(2025, 1, 8, 22, 48, 55, tzinfo=<git.objects.util.tzoffset object at 0x000001A2B179EE30>)], [24, datetime.datetime(2025, 1, 8, 21, 49, 15, tzinfo=<git.objects.util.tzoffset object at 0x000001A2B18DC430>)], [24, datetime.datetime(2025, 1, 8, 20, 49, 13, tzinfo=<git.objects.util.tzoffset object at 0x000001A2B18E59F0>)], [24, datetime.datetime(2025, 1, 8, 19, 49, 3, tzinfo=<git.objects.util.tzoffset object at 0x000001A2B18EAFB0>)], [23, datetime.datetime(2025, 1, 8, 18, 49, 37, tzinfo=<git.objects.util.tzoffset object at 0x000001A2B18F80D0>)], [20, datetime.datetime(2025, 1, 8, 17, 49, 5, tzinfo=<git.objects.util.tzoffset object at 0x000001A2B19014B0>)], [22, datetime.datetime(2025, 1, 8, 16, 50, 13, tzinfo=<git.objects.util.tzoffset object at 0x000001A2B190AA70>)], [20, datetime.datetime(2025, 1, 8, 15, 49, 13, tzinfo=<git.objects.util.tzoffset object at 0x000001A2B191C070>)]], 'AVONDALE ROAD': [[12, datetime.datetime(2025, 1, 8, 23, 49, 15, tzinfo=<git.objects.util.tzoffset object at 0x000001A2B1799930>)], [12, datetime.datetime(2025, 1, 8, 22, 48, 55, tzinfo=<git.objects.util.tzoffset object at 0x000001A2B179EEF0>)], [11, datetime.datetime(2025, 1, 8, 21, 49, 15, tzinfo=<git.objects.util.tzoffset object at 0x000001A2B18DC4F0>)], [11, datetime.datetime(2025, 1, 8, 20, 49, 13, tzinfo=<git.objects.util.tzoffset object at 0x000001A2B18E5AB0>)], [11, datetime.datetime(2025, 1, 8, 19, 49, 3, tzinfo=<git.objects.util.tzoffset object at 0x000001A2B18EB070>)], [9, datetime.datetime(2025, 1, 8, 18, 49, 37, tzinfo=<git.objects.util.tzoffset object at 0x000001A2B18F8190>)], [8, datetime.datetime(2025, 1, 8, 17, 49, 5, tzinfo=<git.objects.util.tzoffset object at 0x000001A2B1901570>)], [14, datetime.datetime(2025, 1, 8, 16, 50, 13, tzinfo=<git.objects.util.tzoffset object at 0x000001A2B190AB30>)], [15, datetime.datetime(2025, 1, 8, 15, 49, 13, tzinfo=<git.objects.util.tzoffset object at 0x000001A2B191C130>)]], 'BUCKINGHAM STREET LOWER': [[29, datetime.datetime(2025, 1, 8, 23, 49, 15, tzinfo=<git.objects.util.tzoffset object at 0x000001A2B17999F0>)], [29, datetime.datetime(2025, 1, 8, 22, 48, 55, tzinfo=<git.objects.util.tzoffset object at 0x000001A2B179EFB0>)], [29, datetime.datetime(2025, 1, 8, 21, 49, 15, tzinfo=<git.objects.util.tzoffset object at 0x000001A2B18DC5B0>)], [27, datetime.datetime(2025, 1, 8, 20, 49, 13, tzinfo=<git.objects.util.tzoffset object at 0x000001A2B18E5B70>)], [25, datetime.datetime(2025, 1, 8, 19, 49, 3, tzinfo=<git.objects.util.tzoffset object at 0x000001A2B18EB130>)], [26, datetime.datetime(2025, 1, 8, 18, 49, 37, tzinfo=<git.objects.util.tzoffset object at 0x000001A2B18F8250>)], [25, datetime.datetime(2025, 1, 8, 17, 49, 5, tzinfo=<git.objects.util.tzoffset object at 0x000001A2B1901630>)], [26, datetime.datetime(2025, 1, 8, 16, 50, 13, tzinfo=<git.objects.util.tzoffset object at 0x000001A2B190ABF0>)], [27, datetime.datetime(2025, 1, 8, 15, 49, 13, tzinfo=<git.objects.util.tzoffset object at 0x000001A2B191C1F0>)]], 'PHIBSBOROUGH ROAD': [[17, datetime.datetime(2025, 1, 8, 23, 49, 15, tzinfo=<git.objects.util.tzoffset object at 0x000001A2B1799AB0>)], [17, datetime.datetime(2025, 1, 8, 22, 48, 55, tzinfo=<git.objects.util.tzoffset object at 0x000001A2B179F070>)], [18, datetime.datetime(2025, 1, 8, 21, 49, 15, tzinfo=<git.objects.util.tzoffset object at 0x000001A2B18DC670>)], [17, datetime.datetime(2025, 1, 8, 20, 49, 13, tzinfo=<git.objects.util.tzoffset object at 0x000001A2B18E5C30>)], [17, datetime.datetime(2025, 1, 8, 19, 49, 3, tzinfo=<git.objects.util.tzoffset object at 0x000001A2B18EB1F0>)], [15, datetime.datetime(2025, 1, 8, 18, 49, 37, tzinfo=<git.objects.util.tzoffset object at 0x000001A2B18F8310>)], [15, datetime.datetime(2025, 1, 8, 17, 49, 5, tzinfo=<git.objects.util.tzoffset object at 0x000001A2B19016F0>)], [15, datetime.datetime(2025, 1, 8, 16, 50, 13, tzinfo=<git.objects.util.tzoffset object at 0x000001A2B190ACB0>)], [6, datetime.datetime(2025, 1, 8, 15, 49, 13, tzinfo=<git.objects.util.tzoffset object at 0x000001A2B191C2B0>)]], 'MOUNTJOY SQUARE EAST': [[10, datetime.datetime(2025, 1, 8, 23, 49, 15, tzinfo=<git.objects.util.tzoffset object at 0x000001A2B1799B70>)], [8, datetime.datetime(2025, 1, 8, 22, 48, 55, tzinfo=<git.objects.util.tzoffset object at 0x000001A2B179F130>)], [5, datetime.datetime(2025, 1, 8, 21, 49, 15, tzinfo=<git.objects.util.tzoffset object at 0x000001A2B18DC730>)], [6, datetime.datetime(2025, 1, 8, 20, 49, 13, tzinfo=<git.objects.util.tzoffset object at 0x000001A2B18E5CF0>)], [5, datetime.datetime(2025, 1, 8, 19, 49, 3, tzinfo=<git.objects.util.tzoffset object at 0x000001A2B18EB2B0>)], [2, datetime.datetime(2025, 1, 8, 18, 49, 37, tzinfo=<git.objects.util.tzoffset object at 0x000001A2B18F83D0>)], [1, datetime.datetime(2025, 1, 8, 17, 49, 5, tzinfo=<git.objects.util.tzoffset object at 0x000001A2B19017B0>)], [0, datetime.datetime(2025, 1, 8, 16, 50, 13, tzinfo=<git.objects.util.tzoffset object at 0x000001A2B190AD70>)], [1, datetime.datetime(2025, 1, 8, 15, 49, 13, tzinfo=<git.objects.util.tzoffset object at 0x000001A2B191C370>)]], \"NORTH CIRCULAR ROAD (O'CONNELL'S)\": [[30, datetime.datetime(2025, 1, 8, 23, 49, 15, tzinfo=<git.objects.util.tzoffset object at 0x000001A2B1799C30>)], [30, datetime.datetime(2025, 1, 8, 22, 48, 55, tzinfo=<git.objects.util.tzoffset object at 0x000001A2B179F1F0>)], [29, datetime.datetime(2025, 1, 8, 21, 49, 15, tzinfo=<git.objects.util.tzoffset object at 0x000001A2B18DC7F0>)], [29, datetime.datetime(2025, 1, 8, 20, 49, 13, tzinfo=<git.objects.util.tzoffset object at 0x000001A2B18E5DB0>)], [30, datetime.datetime(2025, 1, 8, 19, 49, 3, tzinfo=<git.objects.util.tzoffset object at 0x000001A2B18EB370>)], [27, datetime.datetime(2025, 1, 8, 18, 49, 37, tzinfo=<git.objects.util.tzoffset object at 0x000001A2B18F8490>)], [22, datetime.datetime(2025, 1, 8, 17, 49, 5, tzinfo=<git.objects.util.tzoffset object at 0x000001A2B1901870>)], [18, datetime.datetime(2025, 1, 8, 16, 50, 13, tzinfo=<git.objects.util.tzoffset object at 0x000001A2B190AE30>)], [11, datetime.datetime(2025, 1, 8, 15, 49, 13, tzinfo=<git.objects.util.tzoffset object at 0x000001A2B191C430>)]], 'MERRION SQUARE SOUTH': [[0, datetime.datetime(2025, 1, 8, 23, 49, 15, tzinfo=<git.objects.util.tzoffset object at 0x000001A2B1799CF0>)], [0, datetime.datetime(2025, 1, 8, 22, 48, 55, tzinfo=<git.objects.util.tzoffset object at 0x000001A2B179F2B0>)], [0, datetime.datetime(2025, 1, 8, 21, 49, 15, tzinfo=<git.objects.util.tzoffset object at 0x000001A2B18DC8B0>)], [0, datetime.datetime(2025, 1, 8, 20, 49, 13, tzinfo=<git.objects.util.tzoffset object at 0x000001A2B18E5E70>)], [0, datetime.datetime(2025, 1, 8, 19, 49, 3, tzinfo=<git.objects.util.tzoffset object at 0x000001A2B18EB430>)], [1, datetime.datetime(2025, 1, 8, 18, 49, 37, tzinfo=<git.objects.util.tzoffset object at 0x000001A2B18F8550>)], [2, datetime.datetime(2025, 1, 8, 17, 49, 5, tzinfo=<git.objects.util.tzoffset object at 0x000001A2B1901930>)], [8, datetime.datetime(2025, 1, 8, 16, 50, 13, tzinfo=<git.objects.util.tzoffset object at 0x000001A2B190AEF0>)], [8, datetime.datetime(2025, 1, 8, 15, 49, 13, tzinfo=<git.objects.util.tzoffset object at 0x000001A2B191C4F0>)]], 'WILTON TERRACE (PARK)': [[0, datetime.datetime(2025, 1, 8, 23, 49, 15, tzinfo=<git.objects.util.tzoffset object at 0x000001A2B1799DB0>)], [0, datetime.datetime(2025, 1, 8, 22, 48, 55, tzinfo=<git.objects.util.tzoffset object at 0x000001A2B179F370>)], [0, datetime.datetime(2025, 1, 8, 21, 49, 15, tzinfo=<git.objects.util.tzoffset object at 0x000001A2B18DC970>)], [0, datetime.datetime(2025, 1, 8, 20, 49, 13, tzinfo=<git.objects.util.tzoffset object at 0x000001A2B18E5F30>)], [0, datetime.datetime(2025, 1, 8, 19, 49, 3, tzinfo=<git.objects.util.tzoffset object at 0x000001A2B18EB4F0>)], [0, datetime.datetime(2025, 1, 8, 18, 49, 37, tzinfo=<git.objects.util.tzoffset object at 0x000001A2B18F8610>)], [3, datetime.datetime(2025, 1, 8, 17, 49, 5, tzinfo=<git.objects.util.tzoffset object at 0x000001A2B19019F0>)], [18, datetime.datetime(2025, 1, 8, 16, 50, 13, tzinfo=<git.objects.util.tzoffset object at 0x000001A2B190AFB0>)], [20, datetime.datetime(2025, 1, 8, 15, 49, 13, tzinfo=<git.objects.util.tzoffset object at 0x000001A2B191C5B0>)]], 'KILLARNEY STREET': [[30, datetime.datetime(2025, 1, 8, 23, 49, 15, tzinfo=<git.objects.util.tzoffset object at 0x000001A2B1799E70>)], [29, datetime.datetime(2025, 1, 8, 22, 48, 55, tzinfo=<git.objects.util.tzoffset object at 0x000001A2B179F430>)], [30, datetime.datetime(2025, 1, 8, 21, 49, 15, tzinfo=<git.objects.util.tzoffset object at 0x000001A2B18DCA30>)], [30, datetime.datetime(2025, 1, 8, 20, 49, 13, tzinfo=<git.objects.util.tzoffset object at 0x000001A2B18E5FF0>)], [28, datetime.datetime(2025, 1, 8, 19, 49, 3, tzinfo=<git.objects.util.tzoffset object at 0x000001A2B18EB5B0>)], [20, datetime.datetime(2025, 1, 8, 18, 49, 37, tzinfo=<git.objects.util.tzoffset object at 0x000001A2B18F86D0>)], [15, datetime.datetime(2025, 1, 8, 17, 49, 5, tzinfo=<git.objects.util.tzoffset object at 0x000001A2B1901AB0>)], [12, datetime.datetime(2025, 1, 8, 16, 50, 13, tzinfo=<git.objects.util.tzoffset object at 0x000001A2B190B070>)], [15, datetime.datetime(2025, 1, 8, 15, 49, 13, tzinfo=<git.objects.util.tzoffset object at 0x000001A2B191C670>)]], 'BROADSTONE': [[18, datetime.datetime(2025, 1, 8, 23, 49, 15, tzinfo=<git.objects.util.tzoffset object at 0x000001A2B1799F30>)], [17, datetime.datetime(2025, 1, 8, 22, 48, 55, tzinfo=<git.objects.util.tzoffset object at 0x000001A2B179F4F0>)], [17, datetime.datetime(2025, 1, 8, 21, 49, 15, tzinfo=<git.objects.util.tzoffset object at 0x000001A2B18DCAF0>)], [17, datetime.datetime(2025, 1, 8, 20, 49, 13, tzinfo=<git.objects.util.tzoffset object at 0x000001A2B18E60B0>)], [17, datetime.datetime(2025, 1, 8, 19, 49, 3, tzinfo=<git.objects.util.tzoffset object at 0x000001A2B18EB670>)], [17, datetime.datetime(2025, 1, 8, 18, 49, 37, tzinfo=<git.objects.util.tzoffset object at 0x000001A2B18F8790>)], [17, datetime.datetime(2025, 1, 8, 17, 49, 5, tzinfo=<git.objects.util.tzoffset object at 0x000001A2B1901B70>)], [17, datetime.datetime(2025, 1, 8, 16, 50, 13, tzinfo=<git.objects.util.tzoffset object at 0x000001A2B190B130>)], [17, datetime.datetime(2025, 1, 8, 15, 49, 13, tzinfo=<git.objects.util.tzoffset object at 0x000001A2B191C730>)]], 'HANOVER QUAY EAST': [[4, datetime.datetime(2025, 1, 8, 23, 49, 15, tzinfo=<git.objects.util.tzoffset object at 0x000001A2B1799FF0>)], [4, datetime.datetime(2025, 1, 8, 22, 48, 55, tzinfo=<git.objects.util.tzoffset object at 0x000001A2B179F5B0>)], [3, datetime.datetime(2025, 1, 8, 21, 49, 15, tzinfo=<git.objects.util.tzoffset object at 0x000001A2B18DCBB0>)], [3, datetime.datetime(2025, 1, 8, 20, 49, 13, tzinfo=<git.objects.util.tzoffset object at 0x000001A2B18E6170>)], [4, datetime.datetime(2025, 1, 8, 19, 49, 3, tzinfo=<git.objects.util.tzoffset object at 0x000001A2B18EB730>)], [2, datetime.datetime(2025, 1, 8, 18, 49, 37, tzinfo=<git.objects.util.tzoffset object at 0x000001A2B18F8850>)], [0, datetime.datetime(2025, 1, 8, 17, 49, 5, tzinfo=<git.objects.util.tzoffset object at 0x000001A2B1901C30>)], [3, datetime.datetime(2025, 1, 8, 16, 50, 13, tzinfo=<git.objects.util.tzoffset object at 0x000001A2B190B1F0>)], [9, datetime.datetime(2025, 1, 8, 15, 49, 13, tzinfo=<git.objects.util.tzoffset object at 0x000001A2B191C7F0>)]]}\n"
     ]
    }
   ],
   "source": [
    "start_time = datetime.datetime.now()\n",
    "last_day_and_hour = None\n",
    "\n",
    "for commit in repo.iter_commits():\n",
    "    # Stop when we reach the earliest bike date\n",
    "    if commit.committed_datetime <= datetime.datetime.strptime(last_bike_datetime, \"%Y-%m-%d %H:%M:%S %Z\").replace(tzinfo=datetime.timezone.utc):\n",
    "        print(\"breaking at: \", commit.committed_datetime)\n",
    "        break\n",
    "\n",
    "    # Skip commits from today\n",
    "    if commit.committed_datetime > today.replace(tzinfo=datetime.timezone.utc).replace(hour=0, minute=0, second=0, microsecond=0):\n",
    "        first_commited_datetime = repo.commit().committed_datetime\n",
    "        continue\n",
    "\n",
    "    day_and_hour = commit.committed_datetime.replace(minute=0, second=0, microsecond=0)\n",
    "    # print(\"day_and_hour: \", day_and_hour, \" - last_day_and_hour: \", last_day_and_hour)\n",
    "    if day_and_hour == last_day_and_hour:\n",
    "        continue\n",
    "    last_day_and_hour = day_and_hour\n",
    "\n",
    "    # Get the data for the commit\n",
    "    print(\"Processing commit: \", commit.hexsha, \" - \", commit.committed_datetime)\n",
    "    try:\n",
    "        repo.git.checkout(commit.hexsha, force=True)\n",
    "    except Exception as e:\n",
    "        print(\"Error checking out commit: \", e)\n",
    "        break\n",
    "\n",
    "    data_file = os.path.join(CLONE_DIR, \"data/stations/\" + TARGET_CITY + \"/\" + FILE_NAME)\n",
    "    if os.path.exists(data_file):\n",
    "        with open(data_file, \"r\") as f:\n",
    "            data = f.read()\n",
    "            data = json.loads(data)\n",
    "            for feature in data[\"features\"]:\n",
    "                try:\n",
    "                    results[feature[\"properties\"][\"name\"]].append([feature[\"properties\"][\"available_bikes\"], commit.committed_datetime])\n",
    "                except KeyError:\n",
    "                    continue\n",
    "\n",
    "print(results)\n"
   ]
  },
  {
   "cell_type": "code",
   "execution_count": 10,
   "metadata": {
    "execution": {
     "iopub.execute_input": "2025-01-09T16:34:28.309085Z",
     "iopub.status.busy": "2025-01-09T16:34:28.308083Z",
     "iopub.status.idle": "2025-01-09T16:34:28.463025Z",
     "shell.execute_reply": "2025-01-09T16:34:28.462022Z"
    }
   },
   "outputs": [],
   "source": [
    "# turn results into a dataframe\n",
    "df_bike_today = pd.DataFrame()\n",
    "\n",
    "for station, values in results.items():\n",
    "    if len(values) > 0:\n",
    "        df = pd.DataFrame(values, columns=[\"num_bikes_available\", \"datetime\"])\n",
    "        df[\"datetime\"] = pd.to_datetime(df[\"datetime\"], utc=True)\n",
    "        df[\"station\"] = station.replace(\" \", \"_\")\n",
    "        df_bike_today = pd.concat([df_bike_today, df])\n",
    "\n",
    "# if empty, do nothing\n",
    "if not df_bike_today.empty:\n",
    "    df_bike_today.dropna(inplace=True)\n",
    "    df_bike_today[\"num_bikes_available\"] = df_bike_today[\"num_bikes_available\"].astype(\"float32\")\n",
    "    df_bike_today = df_bike_today[df_bike_today['station'].isin([STATION.replace(\" \", \"_\")])]\n",
    "    df_bike_today\n"
   ]
  },
  {
   "cell_type": "markdown",
   "metadata": {},
   "source": [
    "## Fetch the weather data for the same time period"
   ]
  },
  {
   "cell_type": "code",
   "execution_count": 11,
   "metadata": {
    "execution": {
     "iopub.execute_input": "2025-01-09T16:34:28.467027Z",
     "iopub.status.busy": "2025-01-09T16:34:28.467027Z",
     "iopub.status.idle": "2025-01-09T16:34:29.415697Z",
     "shell.execute_reply": "2025-01-09T16:34:29.414696Z"
    }
   },
   "outputs": [
    {
     "name": "stdout",
     "output_type": "stream",
     "text": [
      "features: {'hourly': ['temperature_2m', 'apparent_temperature', 'rain', 'snowfall', 'wind_speed_10m'], 'daily': ['daylight_duration', 'rain_sum']}\n",
      "params: {'latitude': 53.35, 'longitude': -6.26, 'hourly': ['temperature_2m', 'apparent_temperature', 'rain', 'snowfall', 'wind_speed_10m'], 'daily': ['daylight_duration', 'rain_sum']}\n",
      "Coordinates 53.5°N -6.25°E\n",
      "Elevation 11.0 m asl\n",
      "Timezone None None\n",
      "Timezone difference to GMT+0 0 s\n"
     ]
    },
    {
     "name": "stdout",
     "output_type": "stream",
     "text": [
      "False\n"
     ]
    },
    {
     "data": {
      "text/html": [
       "<div>\n",
       "<style scoped>\n",
       "    .dataframe tbody tr th:only-of-type {\n",
       "        vertical-align: middle;\n",
       "    }\n",
       "\n",
       "    .dataframe tbody tr th {\n",
       "        vertical-align: top;\n",
       "    }\n",
       "\n",
       "    .dataframe thead th {\n",
       "        text-align: right;\n",
       "    }\n",
       "</style>\n",
       "<table border=\"1\" class=\"dataframe\">\n",
       "  <thead>\n",
       "    <tr style=\"text-align: right;\">\n",
       "      <th></th>\n",
       "      <th>datetime</th>\n",
       "      <th>temperature_2m</th>\n",
       "      <th>apparent_temperature</th>\n",
       "      <th>rain</th>\n",
       "      <th>snowfall</th>\n",
       "      <th>wind_speed_10m</th>\n",
       "      <th>daylight_duration</th>\n",
       "      <th>rain_sum</th>\n",
       "      <th>city</th>\n",
       "    </tr>\n",
       "  </thead>\n",
       "  <tbody>\n",
       "    <tr>\n",
       "      <th>0</th>\n",
       "      <td>2025-01-09 00:00:00+00:00</td>\n",
       "      <td>-2.30</td>\n",
       "      <td>-6.498223</td>\n",
       "      <td>0.0</td>\n",
       "      <td>0.0</td>\n",
       "      <td>10.966713</td>\n",
       "      <td>28145.916016</td>\n",
       "      <td>0.0</td>\n",
       "      <td>dublin</td>\n",
       "    </tr>\n",
       "    <tr>\n",
       "      <th>1</th>\n",
       "      <td>2025-01-09 01:00:00+00:00</td>\n",
       "      <td>-2.50</td>\n",
       "      <td>-6.804034</td>\n",
       "      <td>0.0</td>\n",
       "      <td>0.0</td>\n",
       "      <td>11.525623</td>\n",
       "      <td>28145.916016</td>\n",
       "      <td>0.0</td>\n",
       "      <td>dublin</td>\n",
       "    </tr>\n",
       "    <tr>\n",
       "      <th>2</th>\n",
       "      <td>2025-01-09 02:00:00+00:00</td>\n",
       "      <td>-2.75</td>\n",
       "      <td>-7.173875</td>\n",
       "      <td>0.0</td>\n",
       "      <td>0.0</td>\n",
       "      <td>12.261158</td>\n",
       "      <td>28145.916016</td>\n",
       "      <td>0.0</td>\n",
       "      <td>dublin</td>\n",
       "    </tr>\n",
       "    <tr>\n",
       "      <th>3</th>\n",
       "      <td>2025-01-09 03:00:00+00:00</td>\n",
       "      <td>-2.85</td>\n",
       "      <td>-7.443090</td>\n",
       "      <td>0.0</td>\n",
       "      <td>0.0</td>\n",
       "      <td>13.339445</td>\n",
       "      <td>28145.916016</td>\n",
       "      <td>0.0</td>\n",
       "      <td>dublin</td>\n",
       "    </tr>\n",
       "    <tr>\n",
       "      <th>4</th>\n",
       "      <td>2025-01-09 04:00:00+00:00</td>\n",
       "      <td>-2.75</td>\n",
       "      <td>-7.531152</td>\n",
       "      <td>0.0</td>\n",
       "      <td>0.0</td>\n",
       "      <td>14.830076</td>\n",
       "      <td>28145.916016</td>\n",
       "      <td>0.0</td>\n",
       "      <td>dublin</td>\n",
       "    </tr>\n",
       "    <tr>\n",
       "      <th>...</th>\n",
       "      <td>...</td>\n",
       "      <td>...</td>\n",
       "      <td>...</td>\n",
       "      <td>...</td>\n",
       "      <td>...</td>\n",
       "      <td>...</td>\n",
       "      <td>...</td>\n",
       "      <td>...</td>\n",
       "      <td>...</td>\n",
       "    </tr>\n",
       "    <tr>\n",
       "      <th>235</th>\n",
       "      <td>2025-01-18 19:00:00+00:00</td>\n",
       "      <td>8.75</td>\n",
       "      <td>5.630491</td>\n",
       "      <td>0.0</td>\n",
       "      <td>0.0</td>\n",
       "      <td>15.379206</td>\n",
       "      <td>29524.685547</td>\n",
       "      <td>0.0</td>\n",
       "      <td>dublin</td>\n",
       "    </tr>\n",
       "    <tr>\n",
       "      <th>236</th>\n",
       "      <td>2025-01-18 20:00:00+00:00</td>\n",
       "      <td>8.30</td>\n",
       "      <td>5.193879</td>\n",
       "      <td>0.0</td>\n",
       "      <td>0.0</td>\n",
       "      <td>14.332340</td>\n",
       "      <td>29524.685547</td>\n",
       "      <td>0.0</td>\n",
       "      <td>dublin</td>\n",
       "    </tr>\n",
       "    <tr>\n",
       "      <th>237</th>\n",
       "      <td>2025-01-18 21:00:00+00:00</td>\n",
       "      <td>7.95</td>\n",
       "      <td>4.828638</td>\n",
       "      <td>0.0</td>\n",
       "      <td>0.0</td>\n",
       "      <td>13.661038</td>\n",
       "      <td>29524.685547</td>\n",
       "      <td>0.0</td>\n",
       "      <td>dublin</td>\n",
       "    </tr>\n",
       "    <tr>\n",
       "      <th>238</th>\n",
       "      <td>2025-01-18 22:00:00+00:00</td>\n",
       "      <td>7.70</td>\n",
       "      <td>4.545562</td>\n",
       "      <td>0.0</td>\n",
       "      <td>0.0</td>\n",
       "      <td>13.276144</td>\n",
       "      <td>29524.685547</td>\n",
       "      <td>0.0</td>\n",
       "      <td>dublin</td>\n",
       "    </tr>\n",
       "    <tr>\n",
       "      <th>239</th>\n",
       "      <td>2025-01-18 23:00:00+00:00</td>\n",
       "      <td>7.55</td>\n",
       "      <td>4.304496</td>\n",
       "      <td>0.0</td>\n",
       "      <td>0.0</td>\n",
       "      <td>13.441071</td>\n",
       "      <td>29524.685547</td>\n",
       "      <td>0.0</td>\n",
       "      <td>dublin</td>\n",
       "    </tr>\n",
       "  </tbody>\n",
       "</table>\n",
       "<p>240 rows × 9 columns</p>\n",
       "</div>"
      ],
      "text/plain": [
       "                     datetime  temperature_2m  apparent_temperature  rain  \\\n",
       "0   2025-01-09 00:00:00+00:00           -2.30             -6.498223   0.0   \n",
       "1   2025-01-09 01:00:00+00:00           -2.50             -6.804034   0.0   \n",
       "2   2025-01-09 02:00:00+00:00           -2.75             -7.173875   0.0   \n",
       "3   2025-01-09 03:00:00+00:00           -2.85             -7.443090   0.0   \n",
       "4   2025-01-09 04:00:00+00:00           -2.75             -7.531152   0.0   \n",
       "..                        ...             ...                   ...   ...   \n",
       "235 2025-01-18 19:00:00+00:00            8.75              5.630491   0.0   \n",
       "236 2025-01-18 20:00:00+00:00            8.30              5.193879   0.0   \n",
       "237 2025-01-18 21:00:00+00:00            7.95              4.828638   0.0   \n",
       "238 2025-01-18 22:00:00+00:00            7.70              4.545562   0.0   \n",
       "239 2025-01-18 23:00:00+00:00            7.55              4.304496   0.0   \n",
       "\n",
       "     snowfall  wind_speed_10m  daylight_duration  rain_sum    city  \n",
       "0         0.0       10.966713       28145.916016       0.0  dublin  \n",
       "1         0.0       11.525623       28145.916016       0.0  dublin  \n",
       "2         0.0       12.261158       28145.916016       0.0  dublin  \n",
       "3         0.0       13.339445       28145.916016       0.0  dublin  \n",
       "4         0.0       14.830076       28145.916016       0.0  dublin  \n",
       "..        ...             ...                ...       ...     ...  \n",
       "235       0.0       15.379206       29524.685547       0.0  dublin  \n",
       "236       0.0       14.332340       29524.685547       0.0  dublin  \n",
       "237       0.0       13.661038       29524.685547       0.0  dublin  \n",
       "238       0.0       13.276144       29524.685547       0.0  dublin  \n",
       "239       0.0       13.441071       29524.685547       0.0  dublin  \n",
       "\n",
       "[240 rows x 9 columns]"
      ]
     },
     "execution_count": 11,
     "metadata": {},
     "output_type": "execute_result"
    }
   ],
   "source": [
    "forecast_df = utils.get_hourly_weather_forecast(CITY)\n",
    "forecast_df = forecast_df.rename(columns={'date_x': 'datetime'})\n",
    "forecast_df = forecast_df.drop(columns=['date_y', 'date_only'])\n",
    "forecast_df.dropna(inplace=True)\n",
    "\n",
    "print(forecast_df.empty)\n",
    "\n",
    "forecast_df"
   ]
  },
  {
   "cell_type": "markdown",
   "metadata": {},
   "source": [
    "## Insert the bike and weather data into Hopsworks"
   ]
  },
  {
   "cell_type": "code",
   "execution_count": 12,
   "metadata": {
    "execution": {
     "iopub.execute_input": "2025-01-09T16:34:29.418696Z",
     "iopub.status.busy": "2025-01-09T16:34:29.418696Z",
     "iopub.status.idle": "2025-01-09T16:34:42.191357Z",
     "shell.execute_reply": "2025-01-09T16:34:42.190359Z"
    }
   },
   "outputs": [
    {
     "name": "stderr",
     "output_type": "stream",
     "text": [
      "\r",
      "Uploading Dataframe: 0.00% |                                       | Rows 0/9 | Elapsed Time: 00:00 | Remaining Time: ?"
     ]
    },
    {
     "name": "stderr",
     "output_type": "stream",
     "text": [
      "\r",
      "Uploading Dataframe: 44.44% |███████████████                   | Rows 4/9 | Elapsed Time: 00:01 | Remaining Time: 00:01"
     ]
    },
    {
     "name": "stderr",
     "output_type": "stream",
     "text": [
      "\r",
      "Uploading Dataframe: 100.00% |█████████████████████████████████| Rows 9/9 | Elapsed Time: 00:01 | Remaining Time: 00:00"
     ]
    },
    {
     "name": "stderr",
     "output_type": "stream",
     "text": [
      "\n"
     ]
    },
    {
     "name": "stdout",
     "output_type": "stream",
     "text": [
      "Launching job: bike_data_1_offline_fg_materialization\n"
     ]
    },
    {
     "name": "stdout",
     "output_type": "stream",
     "text": [
      "Job started successfully, you can follow the progress at \n",
      "https://c.app.hopsworks.ai:443/p/1207494/jobs/named/bike_data_1_offline_fg_materialization/executions\n"
     ]
    }
   ],
   "source": [
    "if df_bike_today.empty:\n",
    "    print(\"No bike data available for today\")\n",
    "else:\n",
    "    bike_fg.insert(df_bike_today)"
   ]
  },
  {
   "cell_type": "code",
   "execution_count": 13,
   "metadata": {
    "execution": {
     "iopub.execute_input": "2025-01-09T16:34:42.195411Z",
     "iopub.status.busy": "2025-01-09T16:34:42.195411Z",
     "iopub.status.idle": "2025-01-09T16:37:00.886108Z",
     "shell.execute_reply": "2025-01-09T16:37:00.885079Z"
    }
   },
   "outputs": [
    {
     "name": "stderr",
     "output_type": "stream",
     "text": [
      "\r",
      "Uploading Dataframe: 0.00% |                                     | Rows 0/240 | Elapsed Time: 00:00 | Remaining Time: ?"
     ]
    },
    {
     "name": "stderr",
     "output_type": "stream",
     "text": [
      "\r",
      "Uploading Dataframe: 0.42% |▏                                | Rows 1/240 | Elapsed Time: 00:01 | Remaining Time: 04:53"
     ]
    },
    {
     "name": "stderr",
     "output_type": "stream",
     "text": [
      "\r",
      "Uploading Dataframe: 100.00% |█████████████████████████████| Rows 240/240 | Elapsed Time: 00:02 | Remaining Time: 00:00"
     ]
    },
    {
     "name": "stderr",
     "output_type": "stream",
     "text": [
      "\n"
     ]
    },
    {
     "name": "stdout",
     "output_type": "stream",
     "text": [
      "Launching job: weather_data_1_offline_fg_materialization\n"
     ]
    },
    {
     "name": "stdout",
     "output_type": "stream",
     "text": [
      "Job started successfully, you can follow the progress at \n",
      "https://c.app.hopsworks.ai:443/p/1207494/jobs/named/weather_data_1_offline_fg_materialization/executions\n"
     ]
    },
    {
     "name": "stdout",
     "output_type": "stream",
     "text": [
      "2025-01-09 17:34:59,139 INFO: Waiting for execution to finish. Current state: SUBMITTED. Final status: UNDEFINED\n"
     ]
    },
    {
     "name": "stdout",
     "output_type": "stream",
     "text": [
      "2025-01-09 17:35:02,317 INFO: Waiting for execution to finish. Current state: RUNNING. Final status: UNDEFINED\n"
     ]
    },
    {
     "name": "stdout",
     "output_type": "stream",
     "text": [
      "2025-01-09 17:36:35,224 INFO: Waiting for execution to finish. Current state: SUCCEEDING. Final status: UNDEFINED\n"
     ]
    },
    {
     "name": "stdout",
     "output_type": "stream",
     "text": [
      "2025-01-09 17:36:38,410 INFO: Waiting for execution to finish. Current state: AGGREGATING_LOGS. Final status: SUCCEEDED\n"
     ]
    },
    {
     "name": "stdout",
     "output_type": "stream",
     "text": [
      "2025-01-09 17:36:38,615 INFO: Waiting for log aggregation to finish.\n"
     ]
    },
    {
     "name": "stdout",
     "output_type": "stream",
     "text": [
      "2025-01-09 17:37:00,868 INFO: Execution finished successfully.\n"
     ]
    }
   ],
   "source": [
    "if forecast_df.empty:\n",
    "    print(\"No weather forecast available for today\")\n",
    "else:\n",
    "    weather_fg.insert(forecast_df, write_options={\"wait_for_job\": True})\n"
   ]
  }
 ],
 "metadata": {
  "kernelspec": {
   "display_name": "SML_Project",
   "language": "python",
   "name": "python3"
  },
  "language_info": {
   "codemirror_mode": {
    "name": "ipython",
    "version": 3
   },
   "file_extension": ".py",
   "mimetype": "text/x-python",
   "name": "python",
   "nbconvert_exporter": "python",
   "pygments_lexer": "ipython3",
   "version": "3.10.0"
  }
 },
 "nbformat": 4,
 "nbformat_minor": 2
}
