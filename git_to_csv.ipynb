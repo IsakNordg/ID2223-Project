{
 "cells": [
  {
   "cell_type": "markdown",
   "metadata": {},
   "source": [
    "# Github to csv converter\n",
    "This notebook converts the github dataset bike-sharing-dataset to a csv file"
   ]
  },
  {
   "cell_type": "code",
   "execution_count": 29,
   "metadata": {},
   "outputs": [],
   "source": [
    "import git\n",
    "import os\n",
    "import pandas as pd\n",
    "from datetime import datetime\n",
    "import json"
   ]
  },
  {
   "cell_type": "code",
   "execution_count": 30,
   "metadata": {},
   "outputs": [],
   "source": [
    "\n",
    "# Configuration\n",
    "REPO_URL = \"https://github.com/MaxHalford/bike-sharing-history\"\n",
    "CLONE_DIR = \"./bike_data/bike-sharing-history\"\n",
    "TARGET_CITY = \"dublin\"\n",
    "FILE_NAME = \"jcdecaux.geojson\"\n",
    "\n",
    "NUMBER_OF_DATAPOINTS = 20000\n",
    "SAVE_INTERVAL = 20"
   ]
  },
  {
   "cell_type": "code",
   "execution_count": 31,
   "metadata": {},
   "outputs": [
    {
     "data": {
      "text/plain": [
       "''"
      ]
     },
     "execution_count": 31,
     "metadata": {},
     "output_type": "execute_result"
    }
   ],
   "source": [
    "start_commit = \"94099be29e4f35a08b91ecee3d8a2f09081ef076\"\n",
    "# Clone the repository\n",
    "if not os.path.exists(CLONE_DIR):\n",
    "    print(\"Cloning repository...\")\n",
    "    git.Repo.clone_from(REPO_URL, CLONE_DIR)\n",
    "repo = git.Repo(CLONE_DIR)\n",
    "\n",
    "# go to main and pull the latest changes\n",
    "repo.git.checkout(start_commit, force=True)\n",
    "#repo.remotes.origin.pull()"
   ]
  },
  {
   "cell_type": "code",
   "execution_count": 32,
   "metadata": {},
   "outputs": [],
   "source": [
    "# Prepare the output DataFrame\n",
    "results = {}\n",
    "id_to_station = {}\n",
    "\n",
    "# populate the results dictionary with the stations\n",
    "data_file = os.path.join(CLONE_DIR, \"data/stations/\" + TARGET_CITY + \"/\" + FILE_NAME)\n",
    "if os.path.exists(data_file):\n",
    "    with open(data_file, \"r\") as f:\n",
    "        data = f.read()\n",
    "        data = json.loads(data)\n",
    "        for feature in data[\"features\"]:\n",
    "            name = feature[\"properties\"][\"name\"]\n",
    "            results[name] = []"
   ]
  },
  {
   "cell_type": "code",
   "execution_count": 33,
   "metadata": {},
   "outputs": [],
   "source": [
    "# Check if the data is already there\n",
    "def get_existing_data():\n",
    "    # data_file = TARGET_CITY + \"/\" + \"28031717_Dalgångsgatan.csv\"\n",
    "    filename = \"AVONDALE ROAD.csv\"\n",
    "    data_file = TARGET_CITY + \"/\" + filename.replace(\" \", \"_\")\n",
    "    if os.path.exists(data_file):\n",
    "        print(\"Data already exists\")\n",
    "        # check the last date\n",
    "        df = pd.read_csv(data_file)\n",
    "        last_day_and_hour = df[\"datetime\"].min()\n",
    "        last_day_and_hour = datetime.strptime(last_day_and_hour, \"%Y-%m-%d %H:%M:%S%z\")\n",
    "        number_of_rows = len(df)\n",
    "        continuing = True\n",
    "        print(f\"Last date read: {last_day_and_hour}\")\n",
    "    else:\n",
    "        last_day_and_hour = datetime(1970, 1, 1, 0, 0, 0)\n",
    "        number_of_rows = 0\n",
    "        continuing = False\n",
    "        print(\"Data does not exist\")\n",
    "    return last_day_and_hour, number_of_rows, continuing"
   ]
  },
  {
   "cell_type": "code",
   "execution_count": 34,
   "metadata": {},
   "outputs": [],
   "source": [
    "def save_data(results, continuing):\n",
    "    if not continuing:\n",
    "        for station_name, data in results.items():\n",
    "            df = pd.DataFrame(data, columns=[\"num_bikes_available\", \"datetime\"])\n",
    "\n",
    "            # station names may have slashes, which are not allowed in filenames\n",
    "            filename = f\"{station_name.replace('/', '_')}.csv\"\n",
    "            filename = TARGET_CITY + \"/\" + filename.replace(\" \", \"_\")\n",
    "\n",
    "            df.to_csv(filename, index=False)\n",
    "\n",
    "    else:\n",
    "        for station_name, data in results.items():\n",
    "            df = pd.DataFrame(data, columns=[\"num_bikes_available\", \"datetime\"])\n",
    "\n",
    "            # station names may have slashes, which are not allowed in filenames\n",
    "            filename = f\"{station_name.replace('/', '_')}.csv\"\n",
    "            filename = TARGET_CITY + \"/\" + filename.replace(\" \", \"_\")\n",
    "\n",
    "            df.to_csv(filename, mode='a', header=False, index=False)\n",
    "    \n",
    "    # clear the results\n",
    "    for station_name in results:\n",
    "        results[station_name] = []\n",
    "\n",
    "    return results\n"
   ]
  },
  {
   "cell_type": "markdown",
   "metadata": {},
   "source": [
    "## Iterate through the repo\n",
    "and save the data to a dict with the following structure:\n",
    "```\n",
    "{\n",
    "    \"station_id\": [\n",
    "        [num_bikes_available, datetime],\n",
    "        ...\n",
    "    ],\n",
    "    ...\n",
    "}\n",
    "```\n",
    "\n",
    "Doing one year takes about 2h"
   ]
  },
  {
   "cell_type": "code",
   "execution_count": 35,
   "metadata": {},
   "outputs": [
    {
     "name": "stdout",
     "output_type": "stream",
     "text": [
      "Data already exists\n",
      "Last date read: 2023-08-05 12:56:53+00:00\n",
      "Continuing from last commit: 9167 - 40728cc8fc0ef7e08d3f1e8b34f7cbaac056ae4c, 2023-08-05 12:56:53+00:00\n",
      "9168 - Checking commit: 044cf3556a3858ef42fce2e30e3991bbf177c944, 2023-08-05 13:51:16+02:00, time elapsed: 0:00:04.350490\n",
      "9169 - Checking commit: aee1eb2f77fe8c4580cbd1268e6d42fcd4878b5c, 2023-08-05 10:49:13+00:00, time elapsed: 0:00:04.541131\n",
      "9170 - Checking commit: b7f03be3b36641ec8a0e835dea522cad3e05bcfc, 2023-08-05 09:48:55+00:00, time elapsed: 0:00:04.861402\n"
     ]
    },
    {
     "ename": "KeyboardInterrupt",
     "evalue": "",
     "output_type": "error",
     "traceback": [
      "\u001b[1;31m---------------------------------------------------------------------------\u001b[0m",
      "\u001b[1;31mKeyboardInterrupt\u001b[0m                         Traceback (most recent call last)",
      "Cell \u001b[1;32mIn[35], line 34\u001b[0m\n\u001b[0;32m     32\u001b[0m \u001b[38;5;28mprint\u001b[39m(\u001b[38;5;124mf\u001b[39m\u001b[38;5;124m\"\u001b[39m\u001b[38;5;132;01m{\u001b[39;00mi\u001b[38;5;132;01m}\u001b[39;00m\u001b[38;5;124m - Checking commit: \u001b[39m\u001b[38;5;132;01m{\u001b[39;00mcommit\u001b[38;5;241m.\u001b[39mhexsha\u001b[38;5;132;01m}\u001b[39;00m\u001b[38;5;124m, \u001b[39m\u001b[38;5;132;01m{\u001b[39;00mcommit\u001b[38;5;241m.\u001b[39mcommitted_datetime\u001b[38;5;132;01m}\u001b[39;00m\u001b[38;5;124m, time elapsed: \u001b[39m\u001b[38;5;132;01m{\u001b[39;00mdatetime\u001b[38;5;241m.\u001b[39mnow()\u001b[38;5;250m \u001b[39m\u001b[38;5;241m-\u001b[39m\u001b[38;5;250m \u001b[39mstart_time\u001b[38;5;132;01m}\u001b[39;00m\u001b[38;5;124m\"\u001b[39m)\n\u001b[0;32m     33\u001b[0m \u001b[38;5;28;01mtry\u001b[39;00m:\n\u001b[1;32m---> 34\u001b[0m     \u001b[43mrepo\u001b[49m\u001b[38;5;241;43m.\u001b[39;49m\u001b[43mgit\u001b[49m\u001b[38;5;241;43m.\u001b[39;49m\u001b[43mcheckout\u001b[49m\u001b[43m(\u001b[49m\u001b[43mcommit\u001b[49m\u001b[38;5;241;43m.\u001b[39;49m\u001b[43mhexsha\u001b[49m\u001b[43m,\u001b[49m\u001b[43m \u001b[49m\u001b[43mforce\u001b[49m\u001b[38;5;241;43m=\u001b[39;49m\u001b[38;5;28;43;01mTrue\u001b[39;49;00m\u001b[43m)\u001b[49m\n\u001b[0;32m     35\u001b[0m \u001b[38;5;28;01mexcept\u001b[39;00m \u001b[38;5;167;01mException\u001b[39;00m \u001b[38;5;28;01mas\u001b[39;00m e:\n\u001b[0;32m     36\u001b[0m     \u001b[38;5;28mprint\u001b[39m(\u001b[38;5;124m\"\u001b[39m\u001b[38;5;124mError checking out commit: \u001b[39m\u001b[38;5;124m\"\u001b[39m, e)\n",
      "File \u001b[1;32mc:\\Users\\isakn\\miniconda3\\envs\\SML\\lib\\site-packages\\git\\cmd.py:986\u001b[0m, in \u001b[0;36mGit.__getattr__.<locals>.<lambda>\u001b[1;34m(*args, **kwargs)\u001b[0m\n\u001b[0;32m    984\u001b[0m \u001b[38;5;28;01mif\u001b[39;00m name\u001b[38;5;241m.\u001b[39mstartswith(\u001b[38;5;124m\"\u001b[39m\u001b[38;5;124m_\u001b[39m\u001b[38;5;124m\"\u001b[39m):\n\u001b[0;32m    985\u001b[0m     \u001b[38;5;28;01mreturn\u001b[39;00m \u001b[38;5;28msuper\u001b[39m()\u001b[38;5;241m.\u001b[39m\u001b[38;5;21m__getattribute__\u001b[39m(name)\n\u001b[1;32m--> 986\u001b[0m \u001b[38;5;28;01mreturn\u001b[39;00m \u001b[38;5;28;01mlambda\u001b[39;00m \u001b[38;5;241m*\u001b[39margs, \u001b[38;5;241m*\u001b[39m\u001b[38;5;241m*\u001b[39mkwargs: \u001b[38;5;28mself\u001b[39m\u001b[38;5;241m.\u001b[39m_call_process(name, \u001b[38;5;241m*\u001b[39margs, \u001b[38;5;241m*\u001b[39m\u001b[38;5;241m*\u001b[39mkwargs)\n",
      "File \u001b[1;32mc:\\Users\\isakn\\miniconda3\\envs\\SML\\lib\\site-packages\\git\\cmd.py:1599\u001b[0m, in \u001b[0;36mGit._call_process\u001b[1;34m(self, method, *args, **kwargs)\u001b[0m\n\u001b[0;32m   1596\u001b[0m call\u001b[38;5;241m.\u001b[39mappend(dashify(method))\n\u001b[0;32m   1597\u001b[0m call\u001b[38;5;241m.\u001b[39mextend(args_list)\n\u001b[1;32m-> 1599\u001b[0m \u001b[38;5;28;01mreturn\u001b[39;00m \u001b[38;5;28mself\u001b[39m\u001b[38;5;241m.\u001b[39mexecute(call, \u001b[38;5;241m*\u001b[39m\u001b[38;5;241m*\u001b[39mexec_kwargs)\n",
      "File \u001b[1;32mc:\\Users\\isakn\\miniconda3\\envs\\SML\\lib\\site-packages\\git\\cmd.py:1344\u001b[0m, in \u001b[0;36mGit.execute\u001b[1;34m(self, command, istream, with_extended_output, with_exceptions, as_process, output_stream, stdout_as_string, kill_after_timeout, with_stdout, universal_newlines, shell, env, max_chunk_size, strip_newline_in_stdout, **subprocess_kwargs)\u001b[0m\n\u001b[0;32m   1342\u001b[0m \u001b[38;5;28;01mtry\u001b[39;00m:\n\u001b[0;32m   1343\u001b[0m     \u001b[38;5;28;01mif\u001b[39;00m output_stream \u001b[38;5;129;01mis\u001b[39;00m \u001b[38;5;28;01mNone\u001b[39;00m:\n\u001b[1;32m-> 1344\u001b[0m         stdout_value, stderr_value \u001b[38;5;241m=\u001b[39m \u001b[43mcommunicate\u001b[49m\u001b[43m(\u001b[49m\u001b[43m)\u001b[49m\n\u001b[0;32m   1345\u001b[0m         \u001b[38;5;66;03m# Strip trailing \"\\n\".\u001b[39;00m\n\u001b[0;32m   1346\u001b[0m         \u001b[38;5;28;01mif\u001b[39;00m stdout_value\u001b[38;5;241m.\u001b[39mendswith(newline) \u001b[38;5;129;01mand\u001b[39;00m strip_newline_in_stdout:  \u001b[38;5;66;03m# type: ignore[arg-type]\u001b[39;00m\n",
      "File \u001b[1;32mc:\\Users\\isakn\\miniconda3\\envs\\SML\\lib\\subprocess.py:1134\u001b[0m, in \u001b[0;36mPopen.communicate\u001b[1;34m(self, input, timeout)\u001b[0m\n\u001b[0;32m   1131\u001b[0m     endtime \u001b[38;5;241m=\u001b[39m \u001b[38;5;28;01mNone\u001b[39;00m\n\u001b[0;32m   1133\u001b[0m \u001b[38;5;28;01mtry\u001b[39;00m:\n\u001b[1;32m-> 1134\u001b[0m     stdout, stderr \u001b[38;5;241m=\u001b[39m \u001b[38;5;28;43mself\u001b[39;49m\u001b[38;5;241;43m.\u001b[39;49m\u001b[43m_communicate\u001b[49m\u001b[43m(\u001b[49m\u001b[38;5;28;43minput\u001b[39;49m\u001b[43m,\u001b[49m\u001b[43m \u001b[49m\u001b[43mendtime\u001b[49m\u001b[43m,\u001b[49m\u001b[43m \u001b[49m\u001b[43mtimeout\u001b[49m\u001b[43m)\u001b[49m\n\u001b[0;32m   1135\u001b[0m \u001b[38;5;28;01mexcept\u001b[39;00m \u001b[38;5;167;01mKeyboardInterrupt\u001b[39;00m:\n\u001b[0;32m   1136\u001b[0m     \u001b[38;5;66;03m# https://bugs.python.org/issue25942\u001b[39;00m\n\u001b[0;32m   1137\u001b[0m     \u001b[38;5;66;03m# See the detailed comment in .wait().\u001b[39;00m\n\u001b[0;32m   1138\u001b[0m     \u001b[38;5;28;01mif\u001b[39;00m timeout \u001b[38;5;129;01mis\u001b[39;00m \u001b[38;5;129;01mnot\u001b[39;00m \u001b[38;5;28;01mNone\u001b[39;00m:\n",
      "File \u001b[1;32mc:\\Users\\isakn\\miniconda3\\envs\\SML\\lib\\subprocess.py:1524\u001b[0m, in \u001b[0;36mPopen._communicate\u001b[1;34m(self, input, endtime, orig_timeout)\u001b[0m\n\u001b[0;32m   1520\u001b[0m \u001b[38;5;66;03m# Wait for the reader threads, or time out.  If we time out, the\u001b[39;00m\n\u001b[0;32m   1521\u001b[0m \u001b[38;5;66;03m# threads remain reading and the fds left open in case the user\u001b[39;00m\n\u001b[0;32m   1522\u001b[0m \u001b[38;5;66;03m# calls communicate again.\u001b[39;00m\n\u001b[0;32m   1523\u001b[0m \u001b[38;5;28;01mif\u001b[39;00m \u001b[38;5;28mself\u001b[39m\u001b[38;5;241m.\u001b[39mstdout \u001b[38;5;129;01mis\u001b[39;00m \u001b[38;5;129;01mnot\u001b[39;00m \u001b[38;5;28;01mNone\u001b[39;00m:\n\u001b[1;32m-> 1524\u001b[0m     \u001b[38;5;28;43mself\u001b[39;49m\u001b[38;5;241;43m.\u001b[39;49m\u001b[43mstdout_thread\u001b[49m\u001b[38;5;241;43m.\u001b[39;49m\u001b[43mjoin\u001b[49m\u001b[43m(\u001b[49m\u001b[38;5;28;43mself\u001b[39;49m\u001b[38;5;241;43m.\u001b[39;49m\u001b[43m_remaining_time\u001b[49m\u001b[43m(\u001b[49m\u001b[43mendtime\u001b[49m\u001b[43m)\u001b[49m\u001b[43m)\u001b[49m\n\u001b[0;32m   1525\u001b[0m     \u001b[38;5;28;01mif\u001b[39;00m \u001b[38;5;28mself\u001b[39m\u001b[38;5;241m.\u001b[39mstdout_thread\u001b[38;5;241m.\u001b[39mis_alive():\n\u001b[0;32m   1526\u001b[0m         \u001b[38;5;28;01mraise\u001b[39;00m TimeoutExpired(\u001b[38;5;28mself\u001b[39m\u001b[38;5;241m.\u001b[39margs, orig_timeout)\n",
      "File \u001b[1;32mc:\\Users\\isakn\\miniconda3\\envs\\SML\\lib\\threading.py:1060\u001b[0m, in \u001b[0;36mThread.join\u001b[1;34m(self, timeout)\u001b[0m\n\u001b[0;32m   1057\u001b[0m     \u001b[38;5;28;01mraise\u001b[39;00m \u001b[38;5;167;01mRuntimeError\u001b[39;00m(\u001b[38;5;124m\"\u001b[39m\u001b[38;5;124mcannot join current thread\u001b[39m\u001b[38;5;124m\"\u001b[39m)\n\u001b[0;32m   1059\u001b[0m \u001b[38;5;28;01mif\u001b[39;00m timeout \u001b[38;5;129;01mis\u001b[39;00m \u001b[38;5;28;01mNone\u001b[39;00m:\n\u001b[1;32m-> 1060\u001b[0m     \u001b[38;5;28;43mself\u001b[39;49m\u001b[38;5;241;43m.\u001b[39;49m\u001b[43m_wait_for_tstate_lock\u001b[49m\u001b[43m(\u001b[49m\u001b[43m)\u001b[49m\n\u001b[0;32m   1061\u001b[0m \u001b[38;5;28;01melse\u001b[39;00m:\n\u001b[0;32m   1062\u001b[0m     \u001b[38;5;66;03m# the behavior of a negative timeout isn't documented, but\u001b[39;00m\n\u001b[0;32m   1063\u001b[0m     \u001b[38;5;66;03m# historically .join(timeout=x) for x<0 has acted as if timeout=0\u001b[39;00m\n\u001b[0;32m   1064\u001b[0m     \u001b[38;5;28mself\u001b[39m\u001b[38;5;241m.\u001b[39m_wait_for_tstate_lock(timeout\u001b[38;5;241m=\u001b[39m\u001b[38;5;28mmax\u001b[39m(timeout, \u001b[38;5;241m0\u001b[39m))\n",
      "File \u001b[1;32mc:\\Users\\isakn\\miniconda3\\envs\\SML\\lib\\threading.py:1080\u001b[0m, in \u001b[0;36mThread._wait_for_tstate_lock\u001b[1;34m(self, block, timeout)\u001b[0m\n\u001b[0;32m   1077\u001b[0m     \u001b[38;5;28;01mreturn\u001b[39;00m\n\u001b[0;32m   1079\u001b[0m \u001b[38;5;28;01mtry\u001b[39;00m:\n\u001b[1;32m-> 1080\u001b[0m     \u001b[38;5;28;01mif\u001b[39;00m \u001b[43mlock\u001b[49m\u001b[38;5;241;43m.\u001b[39;49m\u001b[43macquire\u001b[49m\u001b[43m(\u001b[49m\u001b[43mblock\u001b[49m\u001b[43m,\u001b[49m\u001b[43m \u001b[49m\u001b[43mtimeout\u001b[49m\u001b[43m)\u001b[49m:\n\u001b[0;32m   1081\u001b[0m         lock\u001b[38;5;241m.\u001b[39mrelease()\n\u001b[0;32m   1082\u001b[0m         \u001b[38;5;28mself\u001b[39m\u001b[38;5;241m.\u001b[39m_stop()\n",
      "\u001b[1;31mKeyboardInterrupt\u001b[0m: "
     ]
    }
   ],
   "source": [
    "start_time = datetime.now()\n",
    "loop_outer = True\n",
    "\n",
    "\n",
    "while loop_outer:\n",
    "    loop_inner = True\n",
    "    i = 0\n",
    "\n",
    "    repo.git.checkout(start_commit, force=True)\n",
    "    last_day_and_hour, number_of_rows, continuing = get_existing_data()\n",
    "\n",
    "    for commit in repo.iter_commits():\n",
    "        if continuing and loop_inner:\n",
    "            if commit.committed_datetime == last_day_and_hour:\n",
    "                loop_inner = False\n",
    "                print(f\"Continuing from last commit: {number_of_rows} - {commit.hexsha}, {commit.committed_datetime}\")\n",
    "                last_day_and_hour = commit.committed_datetime.replace(minute=0, second=0, microsecond=0)\n",
    "                i = number_of_rows\n",
    "                continue\n",
    "            else:\n",
    "                continue\n",
    "\n",
    "\n",
    "        # check if there has been a commit this hour\n",
    "        day_and_hour = commit.committed_datetime.replace(minute=0, second=0, microsecond=0)\n",
    "        if day_and_hour == last_day_and_hour:\n",
    "            # print(f\"Skipping commit: {commit.hexsha}, {commit.committed_datetime}\")\n",
    "            continue\n",
    "        last_day_and_hour = day_and_hour\n",
    "        i += 1\n",
    "\n",
    "        print(f\"{i} - Checking commit: {commit.hexsha}, {commit.committed_datetime}, time elapsed: {datetime.now() - start_time}\")\n",
    "        try:\n",
    "            repo.git.checkout(commit.hexsha, force=True)\n",
    "        except Exception as e:\n",
    "            print(\"Error checking out commit: \", e)\n",
    "            results = save_data(results, continuing)\n",
    "            break\n",
    "\n",
    "        data_file = os.path.join(CLONE_DIR, \"data/stations/\" + TARGET_CITY + \"/\" + FILE_NAME)\n",
    "        if os.path.exists(data_file):\n",
    "            with open(data_file, \"r\") as f:\n",
    "                data = f.read()\n",
    "                data = json.loads(data)\n",
    "\n",
    "                for feature in data[\"features\"]:\n",
    "                    try:\n",
    "                        results[feature[\"properties\"][\"name\"]].append([feature[\"properties\"][\"available_bikes\"], commit.committed_datetime])\n",
    "                    except KeyError:\n",
    "                        continue\n",
    "\n",
    "        if i % SAVE_INTERVAL == 0:\n",
    "            results = save_data(results, continuing)\n",
    "            continuing = True\n",
    "            print(f\"Saved data at {i} commits\")\n",
    "\n",
    "        if i >= NUMBER_OF_DATAPOINTS:\n",
    "            results = save_data(results, continuing)\n",
    "            loop_outer = False\n",
    "            break"
   ]
  }
 ],
 "metadata": {
  "kernelspec": {
   "display_name": "SML",
   "language": "python",
   "name": "python3"
  },
  "language_info": {
   "codemirror_mode": {
    "name": "ipython",
    "version": 3
   },
   "file_extension": ".py",
   "mimetype": "text/x-python",
   "name": "python",
   "nbconvert_exporter": "python",
   "pygments_lexer": "ipython3",
   "version": "3.9.21"
  }
 },
 "nbformat": 4,
 "nbformat_minor": 2
}
