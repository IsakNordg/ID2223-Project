{
 "cells": [
  {
   "cell_type": "markdown",
   "metadata": {},
   "source": [
    "# Github to csv converter\n",
    "This notebook converts the github dataset bike-sharing-dataset to a csv file"
   ]
  },
  {
   "cell_type": "code",
   "execution_count": 68,
   "metadata": {},
   "outputs": [],
   "source": [
    "import git\n",
    "import os\n",
    "import pandas as pd\n",
    "from datetime import datetime\n",
    "import json"
   ]
  },
  {
   "cell_type": "code",
   "execution_count": 69,
   "metadata": {},
   "outputs": [],
   "source": [
    "\n",
    "# Configuration\n",
    "REPO_URL = \"https://github.com/MaxHalford/bike-sharing-history\"\n",
    "CLONE_DIR = \"./bike_data/bike-sharing-history\"\n",
    "TARGET_CITY = \"Gothenburg\"\n",
    "NUMBER_OF_DATAPOINTS = 6000\n",
    "SAVE_INTERVAL = 20"
   ]
  },
  {
   "cell_type": "code",
   "execution_count": 70,
   "metadata": {},
   "outputs": [
    {
     "data": {
      "text/plain": [
       "''"
      ]
     },
     "execution_count": 70,
     "metadata": {},
     "output_type": "execute_result"
    }
   ],
   "source": [
    "start_commit = \"94099be29e4f35a08b91ecee3d8a2f09081ef076\"\n",
    "# Clone the repository\n",
    "if not os.path.exists(CLONE_DIR):\n",
    "    print(\"Cloning repository...\")\n",
    "    git.Repo.clone_from(REPO_URL, CLONE_DIR)\n",
    "repo = git.Repo(CLONE_DIR)\n",
    "\n",
    "# go to main and pull the latest changes\n",
    "repo.git.checkout(start_commit, force=True)\n",
    "#repo.remotes.origin.pull()"
   ]
  },
  {
   "cell_type": "code",
   "execution_count": 71,
   "metadata": {},
   "outputs": [],
   "source": [
    "# Prepare the output DataFrame\n",
    "results = {}\n",
    "id_to_station = {}\n",
    "\n",
    "# populate the results dictionary with the stations\n",
    "data_file = os.path.join(CLONE_DIR, \"data/stations/gothenburg/styr--stall.geojson\")\n",
    "if os.path.exists(data_file):\n",
    "    with open(data_file, \"r\") as f:\n",
    "        data = f.read()\n",
    "        data = json.loads(data)\n",
    "        for feature in data[\"features\"]:\n",
    "            station_id = feature[\"properties\"][\"station_id\"]\n",
    "            results[station_id] = []\n",
    "            id_to_station[station_id] = feature[\"properties\"][\"name\"]"
   ]
  },
  {
   "cell_type": "code",
   "execution_count": 72,
   "metadata": {},
   "outputs": [],
   "source": [
    "# Check if the data is already there\n",
    "def get_existing_data():\n",
    "    data_file = \"clean_data/28031717_Dalgångsgatan.csv\"\n",
    "    if os.path.exists(data_file):\n",
    "        print(\"Data already exists\")\n",
    "        # check the last date\n",
    "        df = pd.read_csv(data_file)\n",
    "        last_day_and_hour = df[\"datetime\"].min()\n",
    "        last_day_and_hour = datetime.strptime(last_day_and_hour, \"%Y-%m-%d %H:%M:%S%z\")\n",
    "        number_of_rows = len(df)\n",
    "        continuing = True\n",
    "        print(f\"Last date read: {last_day_and_hour}\")\n",
    "    else:\n",
    "        last_day_and_hour = datetime(1970, 1, 1, 0, 0, 0)\n",
    "        number_of_rows = 0\n",
    "        continuing = False\n",
    "        print(\"Data does not exist\")\n",
    "    return last_day_and_hour, number_of_rows, continuing"
   ]
  },
  {
   "cell_type": "code",
   "execution_count": 73,
   "metadata": {},
   "outputs": [],
   "source": [
    "def save_data(results, id_to_station, continuing):\n",
    "    if not continuing:\n",
    "        for station_id, data in results.items():\n",
    "            df = pd.DataFrame(data, columns=[\"num_bikes_available\", \"datetime\"])\n",
    "            station = id_to_station[station_id]\n",
    "\n",
    "            # station names may have slashes, which are not allowed in filenames\n",
    "            filename = f\"{station_id}_{station.replace('/', '_')}.csv\"\n",
    "            filename = \"clean_data/\" + filename\n",
    "\n",
    "            df.to_csv(filename, index=False)\n",
    "\n",
    "    else:\n",
    "        for station_id, data in results.items():\n",
    "            df = pd.DataFrame(data, columns=[\"num_bikes_available\", \"datetime\"])\n",
    "            station = id_to_station[station_id]\n",
    "\n",
    "            # station names may have slashes, which are not allowed in filenames\n",
    "            filename = f\"{station_id}_{station.replace('/', '_')}.csv\"\n",
    "            filename = \"clean_data/\" + filename\n",
    "\n",
    "            df.to_csv(filename, mode='a', header=False, index=False)\n",
    "    \n",
    "    # clear the results\n",
    "    for station_id in results:\n",
    "        results[station_id] = []\n",
    "\n",
    "    return results\n"
   ]
  },
  {
   "cell_type": "markdown",
   "metadata": {},
   "source": [
    "## Iterate through the repo\n",
    "and save the data to a dict with the following structure:\n",
    "```\n",
    "{\n",
    "    \"station_id\": [\n",
    "        [num_bikes_available, datetime],\n",
    "        ...\n",
    "    ],\n",
    "    ...\n",
    "}\n",
    "```\n",
    "\n",
    "Doing one year takes about 2h"
   ]
  },
  {
   "cell_type": "code",
   "execution_count": null,
   "metadata": {},
   "outputs": [
    {
     "name": "stdout",
     "output_type": "stream",
     "text": [
      "Data already exists\n",
      "Last date read: 2024-10-01 04:49:34+00:00\n",
      "Continuing from last commit: 2240 - 61acaf944483d97a3041f3503d9057515508b7fa, 2024-10-01 04:49:34+00:00\n",
      "2241 - Checking commit: 707d4404b46e48dac1e43fc30ec648c974a217a7, 2024-10-01 03:51:26+00:00, time elapsed: 0:00:01.043603\n",
      "2242 - Checking commit: 5957af5f07e6b9752350beef720369da2fa0f645, 2024-10-01 02:52:45+00:00, time elapsed: 0:00:01.391947\n",
      "2243 - Checking commit: cfa07682ef0838b1e0c3c4cd11369a2853cbbff6, 2024-10-01 01:33:52+00:00, time elapsed: 0:00:01.861725\n",
      "2244 - Checking commit: 0f51c5c38654567cbd6315b2493ccf157bb84584, 2024-10-01 00:50:36+00:00, time elapsed: 0:00:02.288833\n",
      "2245 - Checking commit: 27a543d16a63ac7e8e378e56e7bb7f079b1870b6, 2024-09-30 23:49:10+00:00, time elapsed: 0:00:02.716977\n",
      "2246 - Checking commit: ad5c0fe1b5660fdab28b463f35c60ee2e24b59a5, 2024-09-30 22:49:17+00:00, time elapsed: 0:00:03.634121\n",
      "2247 - Checking commit: b6a73b3916c1742771be813822129b4243754fc9, 2024-09-30 21:48:56+00:00, time elapsed: 0:00:07.675510\n",
      "2248 - Checking commit: af7d1a82b83907300301884f56d14be87e4d17ac, 2024-09-30 20:49:02+00:00, time elapsed: 0:00:08.132379\n",
      "2249 - Checking commit: a53f9563112cb48710697cd15598d337937734c1, 2024-09-30 19:49:01+00:00, time elapsed: 0:00:08.547033\n",
      "2250 - Checking commit: 7eedcece4f11711ad5a31dcd4ed542572bc7a29c, 2024-09-30 18:50:06+00:00, time elapsed: 0:00:08.960805\n",
      "2251 - Checking commit: acebcf57bb2d1167c6ec5cffcfb077f786e47220, 2024-09-30 17:49:17+00:00, time elapsed: 0:00:09.351700\n",
      "2252 - Checking commit: dfa0e0125c9f863a1b13f61aa435e23be1c6b369, 2024-09-30 16:51:16+00:00, time elapsed: 0:00:09.854132\n",
      "2253 - Checking commit: 9006c0359974584ad862f1c8f7bf20e3bac129f2, 2024-09-30 15:48:46+00:00, time elapsed: 0:00:10.304530\n",
      "2254 - Checking commit: f96bff289ce21adb27c5df48f7d874dcb1aef494, 2024-09-30 14:48:54+00:00, time elapsed: 0:00:10.813069\n",
      "2255 - Checking commit: c6478208d8596663b94536940cd71f4e463a74b7, 2024-09-30 13:48:45+00:00, time elapsed: 0:00:16.115472\n",
      "2256 - Checking commit: 06c34a770697e51e332f66cc210cd1de88b159d4, 2024-09-30 12:46:37+00:00, time elapsed: 0:00:16.728229\n",
      "2257 - Checking commit: 8d7480979a0e763cf89d5f85d132d2a6dffc82c1, 2024-09-30 11:48:50+00:00, time elapsed: 0:00:17.190420\n",
      "2258 - Checking commit: 5d40f834c93c5be961ef762cc4b3182a9e373549, 2024-09-30 10:49:03+00:00, time elapsed: 0:00:17.587946\n",
      "2259 - Checking commit: 12d94c083bfe7df6164391df261b667618814587, 2024-09-30 09:49:07+00:00, time elapsed: 0:00:18.057543\n",
      "2260 - Checking commit: 9ba1332d1a111ac93e56ade46ca662c129572382, 2024-09-30 08:50:45+00:00, time elapsed: 0:00:18.553546\n",
      "Saved 2260 datapoints\n",
      "2261 - Checking commit: 47fae2589222fd8455f3407d0673a0cce1feca5c, 2024-09-30 07:49:11+00:00, time elapsed: 0:00:19.142640\n",
      "2262 - Checking commit: 18bcbf71fe9ffda1faf4b084fc64d1a96fd1c07d, 2024-09-30 06:50:49+00:00, time elapsed: 0:00:19.622265\n",
      "2263 - Checking commit: a6f326e275cc9039929af874899801db01908d2a, 2024-09-30 05:49:05+00:00, time elapsed: 0:00:24.804160\n",
      "2264 - Checking commit: 8a19ee26e87ba4174ec0f6d9318e2c70dd9ac26b, 2024-09-30 04:49:33+00:00, time elapsed: 0:00:25.526990\n",
      "2265 - Checking commit: a297c89bdaf6c8ac746a02ebe5adf5a531cb85e7, 2024-09-30 03:50:32+00:00, time elapsed: 0:00:26.012693\n",
      "2266 - Checking commit: 9559cb3c563df42ac96b83ca9c73af90c01db25f, 2024-09-30 02:44:29+00:00, time elapsed: 0:00:26.499345\n",
      "2267 - Checking commit: 05530324c5b433a82889cc7f6cef28d5ccc8da25, 2024-09-30 01:33:42+00:00, time elapsed: 0:00:26.991943\n",
      "2268 - Checking commit: f819f30a53eb4d055fc6cd957bd75dc2f9d9080a, 2024-09-30 00:49:51+00:00, time elapsed: 0:00:27.401169\n",
      "2269 - Checking commit: d9ba0be2178ffa6fdb5ea7709610bb1d31d4872e, 2024-09-29 23:49:03+00:00, time elapsed: 0:00:27.831281\n",
      "2270 - Checking commit: 36201840816665ad182719153484af89b07d69ee, 2024-09-29 22:49:11+00:00, time elapsed: 0:00:28.279366\n",
      "2271 - Checking commit: 8e0de597becf2d25f5951e36bfcfcc5f42c89c36, 2024-09-29 21:49:09+00:00, time elapsed: 0:00:31.634698\n",
      "2272 - Checking commit: 9550e18e1403b85d4198513c95ea34fc1aaf2f7e, 2024-09-29 20:49:01+00:00, time elapsed: 0:00:33.169394\n",
      "2273 - Checking commit: b4c68f73e16cfa6fba8bad0ceb3d7a55828e19b8, 2024-09-29 19:48:55+00:00, time elapsed: 0:00:33.603861\n",
      "2274 - Checking commit: 5c568295c425354fb0963c0be3db36188d0c507b, 2024-09-29 18:48:57+00:00, time elapsed: 0:00:34.004382\n",
      "2275 - Checking commit: 61c65ee283c36433c295ddc500b9b1379d0cb8c9, 2024-09-29 17:48:57+00:00, time elapsed: 0:00:34.429037\n",
      "2276 - Checking commit: 7c56276e76d260d58ca0630068b635d742da4c82, 2024-09-29 16:49:15+00:00, time elapsed: 0:00:34.835630\n",
      "2277 - Checking commit: 6b6aa2e89286a5d4aac2225e30f8fc3ddb9b8b20, 2024-09-29 15:48:46+00:00, time elapsed: 0:00:35.256859\n",
      "2278 - Checking commit: b5f4a9fc1bd0abb82284688b1dbe6d264ad0028d, 2024-09-29 14:48:48+00:00, time elapsed: 0:00:35.729724\n",
      "2279 - Checking commit: b020c47c56ab049358909d3ba03df0d00233c07a, 2024-09-29 13:48:57+00:00, time elapsed: 0:00:36.199487\n",
      "2280 - Checking commit: 83476f9d88c3ccf1928c44b29b067ff91fce99f1, 2024-09-29 12:57:54+00:00, time elapsed: 0:00:41.521213\n",
      "Saved 2280 datapoints\n",
      "2281 - Checking commit: 980ffd945851a4c2dbe825f6105185592fc95a01, 2024-09-29 11:48:55+00:00, time elapsed: 0:00:42.234576\n",
      "2282 - Checking commit: d01f1ec91a727209b806b7cee73ba03cda46cf59, 2024-09-29 10:48:49+00:00, time elapsed: 0:00:42.676256\n",
      "2283 - Checking commit: 0c4196781594710dda3b09dda7b0d1b7a3c8fbbb, 2024-09-29 09:49:10+00:00, time elapsed: 0:00:43.180608\n",
      "2284 - Checking commit: e0a812d404329e3ae8a6eeb0ece8d194192642cf, 2024-09-29 08:48:57+00:00, time elapsed: 0:00:43.608915\n",
      "2285 - Checking commit: 9cf49ff637006987d8255a89c6652bd9ecd979c9, 2024-09-29 07:49:15+00:00, time elapsed: 0:00:44.052079\n",
      "2286 - Checking commit: 74e19c869689745a1c9155e56c0b2fad7959c1f8, 2024-09-29 06:49:32+00:00, time elapsed: 0:00:44.453565\n",
      "2287 - Checking commit: f1b193085e8f4ad9aac16faae015dd1dc04cc875, 2024-09-29 05:48:55+00:00, time elapsed: 0:00:44.914330\n",
      "2288 - Checking commit: dff343441995b89de6a51c1d185508eed4ae31e6, 2024-09-29 04:48:57+00:00, time elapsed: 0:00:49.165127\n",
      "2289 - Checking commit: 8075413f8cab78f533f1f83769caaadba5f924d7, 2024-09-29 03:49:47+00:00, time elapsed: 0:00:50.816371\n",
      "2290 - Checking commit: 4bdabb63c5f8f20286110e83e87eb728401d095f, 2024-09-29 02:44:50+00:00, time elapsed: 0:00:51.270315\n",
      "2291 - Checking commit: f392bed5d2abacdb5bb482da128b98f2a8bdc325, 2024-09-29 01:33:17+00:00, time elapsed: 0:00:51.742495\n",
      "2292 - Checking commit: a531bc53157275f55e2cd03ad058e26125ae5f66, 2024-09-29 00:50:24+00:00, time elapsed: 0:00:52.175794\n",
      "2293 - Checking commit: dec342f5b5e9eaccc03dd5ba4869fcfba5179890, 2024-09-28 23:49:07+00:00, time elapsed: 0:00:52.600725\n",
      "2294 - Checking commit: e27e77fb0af823e1bf22d96d377df44fab0f9e7f, 2024-09-28 22:49:13+00:00, time elapsed: 0:00:53.049839\n",
      "2295 - Checking commit: c3c9c7c6c662ff5ba024d93e49f98b378cbd14f4, 2024-09-28 21:49:15+00:00, time elapsed: 0:00:53.546456\n"
     ]
    }
   ],
   "source": [
    "start_time = datetime.now()\n",
    "\n",
    "while True:\n",
    "    loop = True\n",
    "    i = 0\n",
    "\n",
    "    repo.git.checkout(start_commit, force=True)\n",
    "    last_day_and_hour, number_of_rows, continuing = get_existing_data()\n",
    "\n",
    "    for commit in repo.iter_commits():\n",
    "        if continuing and loop:\n",
    "            if commit.committed_datetime == last_day_and_hour:\n",
    "                loop = False\n",
    "                print(f\"Continuing from last commit: {number_of_rows} - {commit.hexsha}, {commit.committed_datetime}\")\n",
    "                last_day_and_hour = commit.committed_datetime.replace(minute=0, second=0, microsecond=0)\n",
    "                i = number_of_rows\n",
    "                continue\n",
    "            else:\n",
    "                continue\n",
    "\n",
    "\n",
    "        # check if there has been a commit this hour\n",
    "        day_and_hour = commit.committed_datetime.replace(minute=0, second=0, microsecond=0)\n",
    "        if day_and_hour == last_day_and_hour:\n",
    "            # print(f\"Skipping commit: {commit.hexsha}, {commit.committed_datetime}\")\n",
    "            continue\n",
    "        last_day_and_hour = day_and_hour\n",
    "        i += 1\n",
    "\n",
    "        print(f\"{i} - Checking commit: {commit.hexsha}, {commit.committed_datetime}, time elapsed: {datetime.now() - start_time}\")\n",
    "        try:\n",
    "            repo.git.checkout(commit.hexsha, force=True)\n",
    "        except Exception as e:\n",
    "            print(\"Error checking out commit: \", e)\n",
    "            results = save_data(results, id_to_station, continuing)\n",
    "            break\n",
    "\n",
    "        data_file = os.path.join(CLONE_DIR, \"data/stations/gothenburg/styr--stall.geojson\")\n",
    "        if os.path.exists(data_file):\n",
    "            with open(data_file, \"r\") as f:\n",
    "                data = f.read()\n",
    "                data = json.loads(data)\n",
    "                # print(data[\"features\"][0][\"properties\"][\"num_bikes_available\"])\n",
    "                # print(len(data[\"features\"]))\n",
    "                for feature in data[\"features\"]:\n",
    "                    results[feature[\"properties\"][\"station_id\"]].append([feature[\"properties\"][\"num_bikes_available\"], commit.committed_datetime])\n",
    "\n",
    "        if i % SAVE_INTERVAL == 0:\n",
    "            results = save_data(results, id_to_station, continuing)\n",
    "            print(f\"Saved {i} datapoints\")\n",
    "\n",
    "        if i >= NUMBER_OF_DATAPOINTS:\n",
    "            results = save_data(results, id_to_station, continuing)\n",
    "            break"
   ]
  },
  {
   "cell_type": "markdown",
   "metadata": {},
   "source": [
    "## Store the data to a csv file\n",
    "One file per station, where each row is a snapshot of the station's status at a given time."
   ]
  },
  {
   "cell_type": "code",
   "execution_count": 17,
   "metadata": {},
   "outputs": [],
   "source": [
    "results = save_data(results)"
   ]
  }
 ],
 "metadata": {
  "kernelspec": {
   "display_name": "SML",
   "language": "python",
   "name": "python3"
  },
  "language_info": {
   "codemirror_mode": {
    "name": "ipython",
    "version": 3
   },
   "file_extension": ".py",
   "mimetype": "text/x-python",
   "name": "python",
   "nbconvert_exporter": "python",
   "pygments_lexer": "ipython3",
   "version": "3.9.21"
  }
 },
 "nbformat": 4,
 "nbformat_minor": 2
}
