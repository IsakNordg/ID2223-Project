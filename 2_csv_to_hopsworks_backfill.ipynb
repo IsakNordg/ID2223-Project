{
 "cells": [
  {
   "cell_type": "code",
   "execution_count": 1,
   "metadata": {},
   "outputs": [],
   "source": [
    "import datetime\n",
    "import pandas as pd\n",
    "import hopsworks\n",
    "import os\n",
    "from dotenv import load_dotenv\n",
    "from functions import utils\n",
    "import json\n",
    "\n",
    "import datetime\n",
    "import requests\n",
    "import pandas as pd\n",
    "import hopsworks\n",
    "import datetime\n",
    "from pathlib import Path\n",
    "from functions import utils\n",
    "import json\n",
    "import re\n",
    "import os\n",
    "import warnings\n",
    "warnings.filterwarnings(\"ignore\")"
   ]
  },
  {
   "cell_type": "code",
   "execution_count": 2,
   "metadata": {},
   "outputs": [
    {
     "name": "stdout",
     "output_type": "stream",
     "text": [
      "AhdA5UndBaVILBvJ.cvcBxXmN8mo8HPjR1Ryb7XncvNQ6enGsnTHL3LZIUJJ75mpRD0tTptadPTgx4zRu\n"
     ]
    }
   ],
   "source": [
    "load_dotenv()\n",
    "HOPSWORKS_API_KEY = os.getenv(\"HOPSWORKS_API_KEY\")\n",
    "\n",
    "os.environ[\"HOPSWORKS_API_KEY\"] = HOPSWORKS_API_KEY\n",
    "print(HOPSWORKS_API_KEY)"
   ]
  },
  {
   "cell_type": "code",
   "execution_count": 3,
   "metadata": {},
   "outputs": [],
   "source": [
    "CITY = \"dublin\"\n",
    "STATION = \"HEUSTON BRIDGE (NORTH)\""
   ]
  },
  {
   "cell_type": "markdown",
   "metadata": {},
   "source": [
    "## Read the bike data from csv-files"
   ]
  },
  {
   "cell_type": "code",
   "execution_count": 4,
   "metadata": {},
   "outputs": [
    {
     "data": {
      "text/html": [
       "<div>\n",
       "<style scoped>\n",
       "    .dataframe tbody tr th:only-of-type {\n",
       "        vertical-align: middle;\n",
       "    }\n",
       "\n",
       "    .dataframe tbody tr th {\n",
       "        vertical-align: top;\n",
       "    }\n",
       "\n",
       "    .dataframe thead th {\n",
       "        text-align: right;\n",
       "    }\n",
       "</style>\n",
       "<table border=\"1\" class=\"dataframe\">\n",
       "  <thead>\n",
       "    <tr style=\"text-align: right;\">\n",
       "      <th></th>\n",
       "      <th>datetime</th>\n",
       "      <th>station</th>\n",
       "      <th>num_bikes_available</th>\n",
       "    </tr>\n",
       "  </thead>\n",
       "  <tbody>\n",
       "    <tr>\n",
       "      <th>0</th>\n",
       "      <td>2025-01-08 15:00:00+00:00</td>\n",
       "      <td>AVONDALE_ROAD</td>\n",
       "      <td>15</td>\n",
       "    </tr>\n",
       "    <tr>\n",
       "      <th>1</th>\n",
       "      <td>2025-01-08 14:00:00+00:00</td>\n",
       "      <td>AVONDALE_ROAD</td>\n",
       "      <td>18</td>\n",
       "    </tr>\n",
       "    <tr>\n",
       "      <th>2</th>\n",
       "      <td>2025-01-08 13:00:00+00:00</td>\n",
       "      <td>AVONDALE_ROAD</td>\n",
       "      <td>16</td>\n",
       "    </tr>\n",
       "    <tr>\n",
       "      <th>3</th>\n",
       "      <td>2025-01-08 12:00:00+00:00</td>\n",
       "      <td>AVONDALE_ROAD</td>\n",
       "      <td>16</td>\n",
       "    </tr>\n",
       "    <tr>\n",
       "      <th>4</th>\n",
       "      <td>2025-01-08 11:00:00+00:00</td>\n",
       "      <td>AVONDALE_ROAD</td>\n",
       "      <td>18</td>\n",
       "    </tr>\n",
       "    <tr>\n",
       "      <th>...</th>\n",
       "      <td>...</td>\n",
       "      <td>...</td>\n",
       "      <td>...</td>\n",
       "    </tr>\n",
       "    <tr>\n",
       "      <th>1057801</th>\n",
       "      <td>2023-08-07 06:00:00+00:00</td>\n",
       "      <td>YORK_STREET_WEST</td>\n",
       "      <td>20</td>\n",
       "    </tr>\n",
       "    <tr>\n",
       "      <th>1057802</th>\n",
       "      <td>2023-08-07 05:00:00+00:00</td>\n",
       "      <td>YORK_STREET_WEST</td>\n",
       "      <td>20</td>\n",
       "    </tr>\n",
       "    <tr>\n",
       "      <th>1057803</th>\n",
       "      <td>2023-08-07 04:00:00+00:00</td>\n",
       "      <td>YORK_STREET_WEST</td>\n",
       "      <td>21</td>\n",
       "    </tr>\n",
       "    <tr>\n",
       "      <th>1057804</th>\n",
       "      <td>2023-08-07 03:00:00+00:00</td>\n",
       "      <td>YORK_STREET_WEST</td>\n",
       "      <td>21</td>\n",
       "    </tr>\n",
       "    <tr>\n",
       "      <th>1057805</th>\n",
       "      <td>2023-08-07 02:00:00+00:00</td>\n",
       "      <td>YORK_STREET_WEST</td>\n",
       "      <td>21</td>\n",
       "    </tr>\n",
       "  </tbody>\n",
       "</table>\n",
       "<p>1057806 rows × 3 columns</p>\n",
       "</div>"
      ],
      "text/plain": [
       "                         datetime           station  num_bikes_available\n",
       "0       2025-01-08 15:00:00+00:00     AVONDALE_ROAD                   15\n",
       "1       2025-01-08 14:00:00+00:00     AVONDALE_ROAD                   18\n",
       "2       2025-01-08 13:00:00+00:00     AVONDALE_ROAD                   16\n",
       "3       2025-01-08 12:00:00+00:00     AVONDALE_ROAD                   16\n",
       "4       2025-01-08 11:00:00+00:00     AVONDALE_ROAD                   18\n",
       "...                           ...               ...                  ...\n",
       "1057801 2023-08-07 06:00:00+00:00  YORK_STREET_WEST                   20\n",
       "1057802 2023-08-07 05:00:00+00:00  YORK_STREET_WEST                   20\n",
       "1057803 2023-08-07 04:00:00+00:00  YORK_STREET_WEST                   21\n",
       "1057804 2023-08-07 03:00:00+00:00  YORK_STREET_WEST                   21\n",
       "1057805 2023-08-07 02:00:00+00:00  YORK_STREET_WEST                   21\n",
       "\n",
       "[1057806 rows x 3 columns]"
      ]
     },
     "execution_count": 4,
     "metadata": {},
     "output_type": "execute_result"
    }
   ],
   "source": [
    "# get directory path and all files in it\n",
    "df_bike = pd.DataFrame()\n",
    "for file in os.listdir(CITY):\n",
    "    if file.endswith(\".csv\"):\n",
    "        df_tmp = pd.read_csv(f\"{CITY}/\" + file,  parse_dates=['datetime'], skipinitialspace=True)\n",
    "        df_tmp['station'] = file.split(\".\")[0]\n",
    "        df_bike = pd.concat([df_bike, df_tmp])\n",
    "\n",
    "df_bike['datetime'] = pd.to_datetime(df_bike['datetime'], utc=True).dt.floor('H') + datetime.timedelta(hours=1)\n",
    "df_bike = df_bike.set_index(['datetime', 'station']).reset_index(drop=False)\n",
    "\n",
    "df_bike"
   ]
  },
  {
   "cell_type": "code",
   "execution_count": 5,
   "metadata": {},
   "outputs": [
    {
     "data": {
      "text/html": [
       "<div>\n",
       "<style scoped>\n",
       "    .dataframe tbody tr th:only-of-type {\n",
       "        vertical-align: middle;\n",
       "    }\n",
       "\n",
       "    .dataframe tbody tr th {\n",
       "        vertical-align: top;\n",
       "    }\n",
       "\n",
       "    .dataframe thead th {\n",
       "        text-align: right;\n",
       "    }\n",
       "</style>\n",
       "<table border=\"1\" class=\"dataframe\">\n",
       "  <thead>\n",
       "    <tr style=\"text-align: right;\">\n",
       "      <th></th>\n",
       "      <th>datetime</th>\n",
       "      <th>station</th>\n",
       "      <th>num_bikes_available</th>\n",
       "    </tr>\n",
       "  </thead>\n",
       "  <tbody>\n",
       "    <tr>\n",
       "      <th>491787</th>\n",
       "      <td>2025-01-08 15:00:00+00:00</td>\n",
       "      <td>HEUSTON_BRIDGE_(NORTH)</td>\n",
       "      <td>39.0</td>\n",
       "    </tr>\n",
       "    <tr>\n",
       "      <th>491788</th>\n",
       "      <td>2025-01-08 14:00:00+00:00</td>\n",
       "      <td>HEUSTON_BRIDGE_(NORTH)</td>\n",
       "      <td>39.0</td>\n",
       "    </tr>\n",
       "    <tr>\n",
       "      <th>491789</th>\n",
       "      <td>2025-01-08 13:00:00+00:00</td>\n",
       "      <td>HEUSTON_BRIDGE_(NORTH)</td>\n",
       "      <td>39.0</td>\n",
       "    </tr>\n",
       "    <tr>\n",
       "      <th>491790</th>\n",
       "      <td>2025-01-08 12:00:00+00:00</td>\n",
       "      <td>HEUSTON_BRIDGE_(NORTH)</td>\n",
       "      <td>38.0</td>\n",
       "    </tr>\n",
       "    <tr>\n",
       "      <th>491791</th>\n",
       "      <td>2025-01-08 11:00:00+00:00</td>\n",
       "      <td>HEUSTON_BRIDGE_(NORTH)</td>\n",
       "      <td>39.0</td>\n",
       "    </tr>\n",
       "    <tr>\n",
       "      <th>...</th>\n",
       "      <td>...</td>\n",
       "      <td>...</td>\n",
       "      <td>...</td>\n",
       "    </tr>\n",
       "    <tr>\n",
       "      <th>501061</th>\n",
       "      <td>2023-08-07 06:00:00+00:00</td>\n",
       "      <td>HEUSTON_BRIDGE_(NORTH)</td>\n",
       "      <td>10.0</td>\n",
       "    </tr>\n",
       "    <tr>\n",
       "      <th>501062</th>\n",
       "      <td>2023-08-07 05:00:00+00:00</td>\n",
       "      <td>HEUSTON_BRIDGE_(NORTH)</td>\n",
       "      <td>10.0</td>\n",
       "    </tr>\n",
       "    <tr>\n",
       "      <th>501063</th>\n",
       "      <td>2023-08-07 04:00:00+00:00</td>\n",
       "      <td>HEUSTON_BRIDGE_(NORTH)</td>\n",
       "      <td>10.0</td>\n",
       "    </tr>\n",
       "    <tr>\n",
       "      <th>501064</th>\n",
       "      <td>2023-08-07 03:00:00+00:00</td>\n",
       "      <td>HEUSTON_BRIDGE_(NORTH)</td>\n",
       "      <td>10.0</td>\n",
       "    </tr>\n",
       "    <tr>\n",
       "      <th>501065</th>\n",
       "      <td>2023-08-07 02:00:00+00:00</td>\n",
       "      <td>HEUSTON_BRIDGE_(NORTH)</td>\n",
       "      <td>10.0</td>\n",
       "    </tr>\n",
       "  </tbody>\n",
       "</table>\n",
       "<p>9279 rows × 3 columns</p>\n",
       "</div>"
      ],
      "text/plain": [
       "                        datetime                 station  num_bikes_available\n",
       "491787 2025-01-08 15:00:00+00:00  HEUSTON_BRIDGE_(NORTH)                 39.0\n",
       "491788 2025-01-08 14:00:00+00:00  HEUSTON_BRIDGE_(NORTH)                 39.0\n",
       "491789 2025-01-08 13:00:00+00:00  HEUSTON_BRIDGE_(NORTH)                 39.0\n",
       "491790 2025-01-08 12:00:00+00:00  HEUSTON_BRIDGE_(NORTH)                 38.0\n",
       "491791 2025-01-08 11:00:00+00:00  HEUSTON_BRIDGE_(NORTH)                 39.0\n",
       "...                          ...                     ...                  ...\n",
       "501061 2023-08-07 06:00:00+00:00  HEUSTON_BRIDGE_(NORTH)                 10.0\n",
       "501062 2023-08-07 05:00:00+00:00  HEUSTON_BRIDGE_(NORTH)                 10.0\n",
       "501063 2023-08-07 04:00:00+00:00  HEUSTON_BRIDGE_(NORTH)                 10.0\n",
       "501064 2023-08-07 03:00:00+00:00  HEUSTON_BRIDGE_(NORTH)                 10.0\n",
       "501065 2023-08-07 02:00:00+00:00  HEUSTON_BRIDGE_(NORTH)                 10.0\n",
       "\n",
       "[9279 rows x 3 columns]"
      ]
     },
     "execution_count": 5,
     "metadata": {},
     "output_type": "execute_result"
    }
   ],
   "source": [
    "df_bike.dropna(inplace=True)\n",
    "df_bike[\"num_bikes_available\"] = df_bike[\"num_bikes_available\"].astype(\"float32\")\n",
    "\n",
    "# Remove all rows that are not the given streets\n",
    "df_bike = df_bike[df_bike['station'].isin([STATION.replace(\" \", \"_\")])]\n",
    "df_bike"
   ]
  },
  {
   "cell_type": "markdown",
   "metadata": {},
   "source": [
    "## Get the weather data from Open Mateo"
   ]
  },
  {
   "cell_type": "markdown",
   "metadata": {},
   "source": [
    "First, we need to get the earliest date of the bike data so that we can get the weater data from Open Mateo for the same period."
   ]
  },
  {
   "cell_type": "code",
   "execution_count": 6,
   "metadata": {},
   "outputs": [
    {
     "data": {
      "text/plain": [
       "('2023-08-07 02:00:00 UTC', '2025-01-08 15:00:00 UTC')"
      ]
     },
     "execution_count": 6,
     "metadata": {},
     "output_type": "execute_result"
    }
   ],
   "source": [
    "earliest_bike_date_raw = pd.Series.min(df_bike['datetime'])\n",
    "earliest_bike_date = earliest_bike_date_raw.strftime('%Y-%m-%d')\n",
    "earliest_bike_datetime = earliest_bike_date_raw.strftime('%Y-%m-%d %H:%M:%S %Z')\n",
    "last_bike_date_raw = pd.Series.max(df_bike['datetime'])\n",
    "last_bike_date = last_bike_date_raw.strftime('%Y-%m-%d')\n",
    "last_bike_datetime = last_bike_date_raw.strftime('%Y-%m-%d %H:%M:%S %Z')\n",
    "\n",
    "earliest_bike_datetime, last_bike_datetime"
   ]
  },
  {
   "cell_type": "markdown",
   "metadata": {},
   "source": [
    "Then, we get the weather data from Open Mateo"
   ]
  },
  {
   "cell_type": "code",
   "execution_count": 7,
   "metadata": {},
   "outputs": [
    {
     "name": "stdout",
     "output_type": "stream",
     "text": [
      "Coordinates 53.32161331176758°N -6.501922607421875°E\n",
      "Elevation 11.0 m asl\n",
      "Timezone None None\n",
      "Timezone difference to GMT+0 0 s\n"
     ]
    },
    {
     "data": {
      "text/html": [
       "<div>\n",
       "<style scoped>\n",
       "    .dataframe tbody tr th:only-of-type {\n",
       "        vertical-align: middle;\n",
       "    }\n",
       "\n",
       "    .dataframe tbody tr th {\n",
       "        vertical-align: top;\n",
       "    }\n",
       "\n",
       "    .dataframe thead th {\n",
       "        text-align: right;\n",
       "    }\n",
       "</style>\n",
       "<table border=\"1\" class=\"dataframe\">\n",
       "  <thead>\n",
       "    <tr style=\"text-align: right;\">\n",
       "      <th></th>\n",
       "      <th>datetime</th>\n",
       "      <th>temperature_2m</th>\n",
       "      <th>apparent_temperature</th>\n",
       "      <th>rain</th>\n",
       "      <th>snowfall</th>\n",
       "      <th>wind_speed_10m</th>\n",
       "      <th>daylight_duration</th>\n",
       "      <th>rain_sum</th>\n",
       "      <th>city</th>\n",
       "    </tr>\n",
       "  </thead>\n",
       "  <tbody>\n",
       "    <tr>\n",
       "      <th>0</th>\n",
       "      <td>2023-08-07 00:00:00+00:00</td>\n",
       "      <td>11.539500</td>\n",
       "      <td>10.177939</td>\n",
       "      <td>0.0</td>\n",
       "      <td>0.0</td>\n",
       "      <td>8.654986</td>\n",
       "      <td>55149.910156</td>\n",
       "      <td>0.1</td>\n",
       "      <td>dublin</td>\n",
       "    </tr>\n",
       "    <tr>\n",
       "      <th>1</th>\n",
       "      <td>2023-08-07 01:00:00+00:00</td>\n",
       "      <td>11.039500</td>\n",
       "      <td>9.729592</td>\n",
       "      <td>0.0</td>\n",
       "      <td>0.0</td>\n",
       "      <td>8.396570</td>\n",
       "      <td>55149.910156</td>\n",
       "      <td>0.1</td>\n",
       "      <td>dublin</td>\n",
       "    </tr>\n",
       "    <tr>\n",
       "      <th>2</th>\n",
       "      <td>2023-08-07 02:00:00+00:00</td>\n",
       "      <td>10.439500</td>\n",
       "      <td>8.994471</td>\n",
       "      <td>0.0</td>\n",
       "      <td>0.0</td>\n",
       "      <td>8.942214</td>\n",
       "      <td>55149.910156</td>\n",
       "      <td>0.1</td>\n",
       "      <td>dublin</td>\n",
       "    </tr>\n",
       "    <tr>\n",
       "      <th>3</th>\n",
       "      <td>2023-08-07 03:00:00+00:00</td>\n",
       "      <td>10.139501</td>\n",
       "      <td>8.546630</td>\n",
       "      <td>0.0</td>\n",
       "      <td>0.0</td>\n",
       "      <td>9.673221</td>\n",
       "      <td>55149.910156</td>\n",
       "      <td>0.1</td>\n",
       "      <td>dublin</td>\n",
       "    </tr>\n",
       "    <tr>\n",
       "      <th>4</th>\n",
       "      <td>2023-08-07 04:00:00+00:00</td>\n",
       "      <td>9.939500</td>\n",
       "      <td>8.157264</td>\n",
       "      <td>0.0</td>\n",
       "      <td>0.0</td>\n",
       "      <td>10.691453</td>\n",
       "      <td>55149.910156</td>\n",
       "      <td>0.1</td>\n",
       "      <td>dublin</td>\n",
       "    </tr>\n",
       "    <tr>\n",
       "      <th>...</th>\n",
       "      <td>...</td>\n",
       "      <td>...</td>\n",
       "      <td>...</td>\n",
       "      <td>...</td>\n",
       "      <td>...</td>\n",
       "      <td>...</td>\n",
       "      <td>...</td>\n",
       "      <td>...</td>\n",
       "      <td>...</td>\n",
       "    </tr>\n",
       "    <tr>\n",
       "      <th>12451</th>\n",
       "      <td>2025-01-06 19:00:00+00:00</td>\n",
       "      <td>0.439500</td>\n",
       "      <td>-5.516075</td>\n",
       "      <td>0.0</td>\n",
       "      <td>0.0</td>\n",
       "      <td>24.412407</td>\n",
       "      <td>27908.451172</td>\n",
       "      <td>0.5</td>\n",
       "      <td>dublin</td>\n",
       "    </tr>\n",
       "    <tr>\n",
       "      <th>12452</th>\n",
       "      <td>2025-01-06 20:00:00+00:00</td>\n",
       "      <td>-0.010500</td>\n",
       "      <td>-6.014175</td>\n",
       "      <td>0.0</td>\n",
       "      <td>0.0</td>\n",
       "      <td>24.056108</td>\n",
       "      <td>27908.451172</td>\n",
       "      <td>0.5</td>\n",
       "      <td>dublin</td>\n",
       "    </tr>\n",
       "    <tr>\n",
       "      <th>12453</th>\n",
       "      <td>2025-01-06 21:00:00+00:00</td>\n",
       "      <td>-0.260500</td>\n",
       "      <td>-6.202991</td>\n",
       "      <td>0.0</td>\n",
       "      <td>0.0</td>\n",
       "      <td>23.197662</td>\n",
       "      <td>27908.451172</td>\n",
       "      <td>0.5</td>\n",
       "      <td>dublin</td>\n",
       "    </tr>\n",
       "    <tr>\n",
       "      <th>12454</th>\n",
       "      <td>2025-01-06 22:00:00+00:00</td>\n",
       "      <td>-0.260500</td>\n",
       "      <td>-6.153846</td>\n",
       "      <td>0.0</td>\n",
       "      <td>0.0</td>\n",
       "      <td>22.689283</td>\n",
       "      <td>27908.451172</td>\n",
       "      <td>0.5</td>\n",
       "      <td>dublin</td>\n",
       "    </tr>\n",
       "    <tr>\n",
       "      <th>12455</th>\n",
       "      <td>2025-01-06 23:00:00+00:00</td>\n",
       "      <td>-0.310500</td>\n",
       "      <td>-5.887775</td>\n",
       "      <td>0.0</td>\n",
       "      <td>0.0</td>\n",
       "      <td>20.352739</td>\n",
       "      <td>27908.451172</td>\n",
       "      <td>0.5</td>\n",
       "      <td>dublin</td>\n",
       "    </tr>\n",
       "  </tbody>\n",
       "</table>\n",
       "<p>12456 rows × 9 columns</p>\n",
       "</div>"
      ],
      "text/plain": [
       "                       datetime  temperature_2m  apparent_temperature  rain  \\\n",
       "0     2023-08-07 00:00:00+00:00       11.539500             10.177939   0.0   \n",
       "1     2023-08-07 01:00:00+00:00       11.039500              9.729592   0.0   \n",
       "2     2023-08-07 02:00:00+00:00       10.439500              8.994471   0.0   \n",
       "3     2023-08-07 03:00:00+00:00       10.139501              8.546630   0.0   \n",
       "4     2023-08-07 04:00:00+00:00        9.939500              8.157264   0.0   \n",
       "...                         ...             ...                   ...   ...   \n",
       "12451 2025-01-06 19:00:00+00:00        0.439500             -5.516075   0.0   \n",
       "12452 2025-01-06 20:00:00+00:00       -0.010500             -6.014175   0.0   \n",
       "12453 2025-01-06 21:00:00+00:00       -0.260500             -6.202991   0.0   \n",
       "12454 2025-01-06 22:00:00+00:00       -0.260500             -6.153846   0.0   \n",
       "12455 2025-01-06 23:00:00+00:00       -0.310500             -5.887775   0.0   \n",
       "\n",
       "       snowfall  wind_speed_10m  daylight_duration  rain_sum    city  \n",
       "0           0.0        8.654986       55149.910156       0.1  dublin  \n",
       "1           0.0        8.396570       55149.910156       0.1  dublin  \n",
       "2           0.0        8.942214       55149.910156       0.1  dublin  \n",
       "3           0.0        9.673221       55149.910156       0.1  dublin  \n",
       "4           0.0       10.691453       55149.910156       0.1  dublin  \n",
       "...         ...             ...                ...       ...     ...  \n",
       "12451       0.0       24.412407       27908.451172       0.5  dublin  \n",
       "12452       0.0       24.056108       27908.451172       0.5  dublin  \n",
       "12453       0.0       23.197662       27908.451172       0.5  dublin  \n",
       "12454       0.0       22.689283       27908.451172       0.5  dublin  \n",
       "12455       0.0       20.352739       27908.451172       0.5  dublin  \n",
       "\n",
       "[12456 rows x 9 columns]"
      ]
     },
     "execution_count": 7,
     "metadata": {},
     "output_type": "execute_result"
    }
   ],
   "source": [
    "weather_df = utils.get_historical_weather(CITY, earliest_bike_date, last_bike_date)\n",
    "weather_df = weather_df.rename(columns={'date_x': 'datetime'})\n",
    "weather_df['datetime'] = pd.to_datetime(weather_df['datetime'], utc=True).dt.floor('H')\n",
    "weather_df.dropna(inplace=True)\n",
    "\n",
    "# remove col date_y, date_only\n",
    "weather_df = weather_df.drop(columns=['date_y', 'date_only'])\n",
    "\n",
    "weather_df"
   ]
  },
  {
   "cell_type": "markdown",
   "metadata": {},
   "source": [
    "## Data validation rules"
   ]
  },
  {
   "cell_type": "markdown",
   "metadata": {},
   "source": [
    "First, we validate that the number of bikes avaliable is always greater than or equal to zero."
   ]
  },
  {
   "cell_type": "code",
   "execution_count": 8,
   "metadata": {},
   "outputs": [
    {
     "name": "stdout",
     "output_type": "stream",
     "text": [
      "Validation passed: All values in 'num_bikes_available' are within the range 0 to 100.\n"
     ]
    }
   ],
   "source": [
    "if 'num_bikes_available' not in df_bike.columns:\n",
    "    raise ValueError(\"The column 'num_bikes_available' does not exist in the dataframe.\")\n",
    "\n",
    "invalid_rows = df_bike[(df_bike['num_bikes_available'] < 0) | (df_bike['num_bikes_available'] > 100)]\n",
    "\n",
    "if not invalid_rows.empty:\n",
    "    print(\"Validation failed: Some rows have invalid values in 'num_bikes_available'.\")\n",
    "    print(invalid_rows)\n",
    "    assert False\n",
    "else:\n",
    "    print(\"Validation passed: All values in 'num_bikes_available' are within the range 0 to 100.\")\n",
    "    assert True"
   ]
  },
  {
   "cell_type": "markdown",
   "metadata": {},
   "source": [
    "Then, we validate that the rainfall, snowfall, and wind speed are always greater than or equal to zero, and below 1000."
   ]
  },
  {
   "cell_type": "code",
   "execution_count": 9,
   "metadata": {},
   "outputs": [
    {
     "name": "stdout",
     "output_type": "stream",
     "text": [
      "Validation passed: All values in the specified columns are within the range 0 to 1000.\n"
     ]
    }
   ],
   "source": [
    "if 'rain' not in weather_df.columns:\n",
    "    raise ValueError(\"The column 'rain' does not exist in the dataframe.\")\n",
    "if 'snowfall' not in weather_df.columns:\n",
    "    raise ValueError(\"The column 'snowfall' does not exist in the dataframe.\")\n",
    "if 'wind_speed_10m' not in weather_df.columns:\n",
    "    raise ValueError(\"The column 'wind_speed_10m' does not exist in the dataframe.\")\n",
    "\n",
    "invalid_rows = weather_df[(weather_df['rain'] < 0) | (weather_df['rain'] > 1000) |\n",
    "                          (weather_df['snowfall'] < 0) | (weather_df['snowfall'] > 1000) |\n",
    "                          (weather_df['wind_speed_10m'] < 0) | (weather_df['wind_speed_10m'] > 1000)]\n",
    "\n",
    "if not invalid_rows.empty:\n",
    "    print(\"Validation failed: Some rows have invalid values in the specified columns.\")\n",
    "    print(invalid_rows)\n",
    "    assert False\n",
    "else:\n",
    "    print(\"Validation passed: All values in the specified columns are within the range 0 to 1000.\")\n",
    "    assert True\n"
   ]
  },
  {
   "cell_type": "markdown",
   "metadata": {},
   "source": [
    "## Connect to Hopsworks and create two feature groups (+more)"
   ]
  },
  {
   "cell_type": "code",
   "execution_count": 10,
   "metadata": {},
   "outputs": [
    {
     "name": "stdout",
     "output_type": "stream",
     "text": [
      "2025-01-21 10:48:34,861 INFO: Initializing external client\n",
      "2025-01-21 10:48:34,863 INFO: Base URL: https://c.app.hopsworks.ai:443\n",
      "2025-01-21 10:48:36,976 INFO: Python Engine initialized.\n",
      "\n",
      "Logged in to project, explore it here https://c.app.hopsworks.ai:443/p/1207494\n"
     ]
    }
   ],
   "source": [
    "project = hopsworks.login()\n",
    "fs = project.get_feature_store()"
   ]
  },
  {
   "cell_type": "markdown",
   "metadata": {},
   "source": [
    "Save the city location and times for the data to Hopsworks for easy access later."
   ]
  },
  {
   "cell_type": "code",
   "execution_count": 11,
   "metadata": {},
   "outputs": [
    {
     "data": {
      "text/plain": [
       "'\\nlatitude, longitude = utils.get_city_coordinates(CITY)\\n\\ncity_secrets_dict = {\\n    \"city\": CITY,\\n    \"latitude\": latitude,\\n    \"longitude\": longitude,\\n}\\n\\ntime_secrets_dict = {\\n    \"earliest_bike_datetime\": earliest_bike_datetime,\\n    \"last_bike_datetime\": last_bike_datetime\\n}\\n\\ncity_secrets_json = json.dumps(city_secrets_dict)\\ntime_secrets_json = json.dumps(time_secrets_dict)\\n\\ntry:\\n    secrets.create_secret(\"city_secrets\", city_secrets_json)\\nexcept hopsworks.RestAPIError:\\n    print(\"city_secrets already exists. To update, delete the secret in the UI (https://c.app.hopsworks.ai/account/secrets) and re-run this cell.\")\\n    existing_key = secrets.get_secret(\"city_secrets\").value\\n    print(f\"{existing_key}\")\\n    print()\\n\\ntry:\\n    secrets.create_secret(\"time_secrets\", time_secrets_json)\\nexcept hopsworks.RestAPIError:\\n    print(\"time_secrets already exists. To update, delete the secret in the UI (https://c.app.hopsworks.ai/account/secrets) and re-run this cell.\")\\n    existing_key = secrets.get_secret(\"time_secrets\").value\\n    print(f\"{existing_key}\")\\n'"
      ]
     },
     "execution_count": 11,
     "metadata": {},
     "output_type": "execute_result"
    }
   ],
   "source": [
    "\"\"\"\n",
    "latitude, longitude = utils.get_city_coordinates(CITY)\n",
    "\n",
    "city_secrets_dict = {\n",
    "    \"city\": CITY,\n",
    "    \"latitude\": latitude,\n",
    "    \"longitude\": longitude,\n",
    "}\n",
    "\n",
    "time_secrets_dict = {\n",
    "    \"earliest_bike_datetime\": earliest_bike_datetime,\n",
    "    \"last_bike_datetime\": last_bike_datetime\n",
    "}\n",
    "\n",
    "city_secrets_json = json.dumps(city_secrets_dict)\n",
    "time_secrets_json = json.dumps(time_secrets_dict)\n",
    "\n",
    "try:\n",
    "    secrets.create_secret(\"city_secrets\", city_secrets_json)\n",
    "except hopsworks.RestAPIError:\n",
    "    print(\"city_secrets already exists. To update, delete the secret in the UI (https://c.app.hopsworks.ai/account/secrets) and re-run this cell.\")\n",
    "    existing_key = secrets.get_secret(\"city_secrets\").value\n",
    "    print(f\"{existing_key}\")\n",
    "    print()\n",
    "\n",
    "try:\n",
    "    secrets.create_secret(\"time_secrets\", time_secrets_json)\n",
    "except hopsworks.RestAPIError:\n",
    "    print(\"time_secrets already exists. To update, delete the secret in the UI (https://c.app.hopsworks.ai/account/secrets) and re-run this cell.\")\n",
    "    existing_key = secrets.get_secret(\"time_secrets\").value\n",
    "    print(f\"{existing_key}\")\n",
    "\"\"\"\n"
   ]
  },
  {
   "cell_type": "markdown",
   "metadata": {},
   "source": [
    "### Feature group 1: Bike data"
   ]
  },
  {
   "cell_type": "code",
   "execution_count": 12,
   "metadata": {},
   "outputs": [
    {
     "name": "stdout",
     "output_type": "stream",
     "text": [
      "Feature Group created successfully, explore it at \n",
      "https://c.app.hopsworks.ai:443/p/1207494/fs/1195126/fg/1398091\n"
     ]
    },
    {
     "name": "stderr",
     "output_type": "stream",
     "text": [
      "Uploading Dataframe: 100.00% |██████████| Rows 9279/9279 | Elapsed Time: 00:01 | Remaining Time: 00:00\n"
     ]
    },
    {
     "name": "stdout",
     "output_type": "stream",
     "text": [
      "Launching job: bike_data_1_offline_fg_materialization\n",
      "Job started successfully, you can follow the progress at \n",
      "https://c.app.hopsworks.ai:443/p/1207494/jobs/named/bike_data_1_offline_fg_materialization/executions\n"
     ]
    },
    {
     "data": {
      "text/plain": [
       "<hsfs.feature_group.FeatureGroup at 0x1bf01220b50>"
      ]
     },
     "execution_count": 12,
     "metadata": {},
     "output_type": "execute_result"
    }
   ],
   "source": [
    "bike_fg = fs.get_or_create_feature_group(\n",
    "    name='bike_data',\n",
    "    description='How many bikes are available at each station at a given time',\n",
    "    version=1,\n",
    "    primary_key=[\"datetime\", \"station\"],\n",
    "    event_time=\"datetime\"\n",
    ")\n",
    "\n",
    "bike_fg.insert(df_bike)\n",
    "\n",
    "bike_fg.update_feature_description(\"num_bikes_available\", \"Number of bikes available at the station\")\n",
    "bike_fg.update_feature_description(\"datetime\", \"Timestamp of the observation\")\n",
    "bike_fg.update_feature_description(\"station\", \"Name of the station\")"
   ]
  },
  {
   "cell_type": "markdown",
   "metadata": {},
   "source": [
    "### Feature group 2: Weather data"
   ]
  },
  {
   "cell_type": "code",
   "execution_count": 13,
   "metadata": {},
   "outputs": [
    {
     "name": "stdout",
     "output_type": "stream",
     "text": [
      "Feature Group created successfully, explore it at \n",
      "https://c.app.hopsworks.ai:443/p/1207494/fs/1195126/fg/1398092\n"
     ]
    },
    {
     "name": "stderr",
     "output_type": "stream",
     "text": [
      "Uploading Dataframe: 100.00% |██████████| Rows 12456/12456 | Elapsed Time: 00:03 | Remaining Time: 00:00\n"
     ]
    },
    {
     "name": "stdout",
     "output_type": "stream",
     "text": [
      "Launching job: weather_data_1_offline_fg_materialization\n",
      "Job started successfully, you can follow the progress at \n",
      "https://c.app.hopsworks.ai:443/p/1207494/jobs/named/weather_data_1_offline_fg_materialization/executions\n",
      "2025-01-21 10:49:13,203 INFO: Waiting for execution to finish. Current state: INITIALIZING. Final status: UNDEFINED\n",
      "2025-01-21 10:53:06,073 INFO: Waiting for execution to finish. Current state: RUNNING. Final status: UNDEFINED\n",
      "2025-01-21 10:54:54,659 INFO: Waiting for log aggregation to finish.\n",
      "2025-01-21 10:58:51,235 INFO: Execution finished successfully.\n"
     ]
    },
    {
     "data": {
      "text/plain": [
       "<hsfs.feature_group.FeatureGroup at 0x1bf7332bf40>"
      ]
     },
     "execution_count": 13,
     "metadata": {},
     "output_type": "execute_result"
    }
   ],
   "source": [
    "weather_fg = fs.get_or_create_feature_group(\n",
    "    name='weather_data',\n",
    "    description='Weather data for the city',\n",
    "    version=1,\n",
    "    primary_key=[\"datetime\"],\n",
    "    event_time=\"datetime\"\n",
    ")\n",
    "\n",
    "weather_fg.insert(weather_df, write_options={\"wait_for_job\": True})\n",
    "\n",
    "# \"hourly\": [\"temperature_2m\", \"apparent_temperature\", \"rain\", \"snowfall\", \"snow_depth\", \"wind_speed_10m\"],\n",
    "# \"daily\": [\"sunshine_duration\", \"daylight_duration\", \"rain_sum\"]\n",
    "\n",
    "weather_fg.update_feature_description(\"datetime\", \"Timestamp of the observation\")\n",
    "weather_fg.update_feature_description(\"temperature_2m\", \"Temperature in Celsius\")\n",
    "weather_fg.update_feature_description(\"apparent_temperature\", \"Apparent temperature in Celsius\")\n",
    "weather_fg.update_feature_description(\"rain\", \"Rain percipitation in mm\")\n",
    "weather_fg.update_feature_description(\"snowfall\", \"Snowfall in mm\")\n",
    "weather_fg.update_feature_description(\"wind_speed_10m\", \"Wind speed 10 m above ground level\")\n",
    "weather_fg.update_feature_description(\"daylight_duration\", \"Daylight duration in seconds\")\n",
    "weather_fg.update_feature_description(\"rain_sum\", \"Total rain in mm\")"
   ]
  }
 ],
 "metadata": {
  "kernelspec": {
   "display_name": "SML_Project",
   "language": "python",
   "name": "python3"
  },
  "language_info": {
   "codemirror_mode": {
    "name": "ipython",
    "version": 3
   },
   "file_extension": ".py",
   "mimetype": "text/x-python",
   "name": "python",
   "nbconvert_exporter": "python",
   "pygments_lexer": "ipython3",
   "version": "3.10.0"
  }
 },
 "nbformat": 4,
 "nbformat_minor": 2
}
