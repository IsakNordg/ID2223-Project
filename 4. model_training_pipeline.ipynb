{
 "cells": [
  {
   "cell_type": "code",
   "execution_count": 1,
   "metadata": {},
   "outputs": [
    {
     "name": "stderr",
     "output_type": "stream",
     "text": [
      "c:\\Users\\isakn\\miniconda3\\envs\\SML_test\\lib\\site-packages\\tqdm\\auto.py:21: TqdmWarning: IProgress not found. Please update jupyter and ipywidgets. See https://ipywidgets.readthedocs.io/en/stable/user_install.html\n",
      "  from .autonotebook import tqdm as notebook_tqdm\n"
     ]
    }
   ],
   "source": [
    "import os\n",
    "from datetime import datetime, timedelta\n",
    "import pandas as pd\n",
    "import matplotlib.pyplot as plt\n",
    "from xgboost import XGBRegressor\n",
    "from xgboost import plot_importance\n",
    "from sklearn.metrics import mean_squared_error, r2_score\n",
    "import hopsworks\n",
    "from functions import utils\n",
    "import json\n",
    "import warnings\n",
    "warnings.filterwarnings(\"ignore\")"
   ]
  },
  {
   "cell_type": "code",
   "execution_count": 2,
   "metadata": {},
   "outputs": [],
   "source": [
    "from dotenv import load_dotenv\n",
    "load_dotenv()\n",
    "HOPSWORKS_API_KEY = os.getenv(\"HOPSWORKS_API_KEY\")\n",
    "os.environ[\"HOPSWORKS_API_KEY\"] = HOPSWORKS_API_KEY"
   ]
  },
  {
   "cell_type": "code",
   "execution_count": 3,
   "metadata": {},
   "outputs": [
    {
     "name": "stdout",
     "output_type": "stream",
     "text": [
      "2025-01-07 09:59:18,600 INFO: Initializing external client\n",
      "2025-01-07 09:59:18,601 INFO: Base URL: https://c.app.hopsworks.ai:443\n",
      "2025-01-07 09:59:20,033 INFO: Python Engine initialized.\n",
      "\n",
      "Logged in to project, explore it here https://c.app.hopsworks.ai:443/p/1207494\n",
      "2025-01-07 09:59:21,381 INFO: Closing external client and cleaning up certificates.\n",
      "Connection closed.\n",
      "2025-01-07 09:59:21,386 INFO: Initializing external client\n",
      "2025-01-07 09:59:21,386 INFO: Base URL: https://c.app.hopsworks.ai:443\n",
      "2025-01-07 09:59:22,657 INFO: Python Engine initialized.\n",
      "\n",
      "Logged in to project, explore it here https://c.app.hopsworks.ai:443/p/1207494\n",
      "2025-01-07 09:59:23,882 INFO: Closing external client and cleaning up certificates.\n",
      "2025-01-07 09:59:23,886 INFO: Initializing external client\n",
      "2025-01-07 09:59:23,887 INFO: Base URL: https://c.app.hopsworks.ai:443\n",
      "<class 'hsfs.feature_store.FeatureStore'>\n"
     ]
    }
   ],
   "source": [
    "project = hopsworks.login()\n",
    "fs = project.get_feature_store() \n",
    "secrets = utils.secrets_api()\n",
    "\n",
    "city_secrets = json.loads(secrets.get_secret(\"city_secrets\").value)\n",
    "CITY = city_secrets[\"city\"]\n",
    "latitude = city_secrets[\"latitude\"]\n",
    "longitude = city_secrets[\"longitude\"]\n",
    "\n",
    "time_secrets = json.loads(secrets.get_secret(\"time_secrets\").value)\n",
    "earliest_bike_datetime = time_secrets[\"earliest_bike_datetime\"]\n",
    "last_bike_datetime = time_secrets[\"last_bike_datetime\"]\n",
    "\n",
    "today = datetime.now()\n",
    "\n",
    "print(type(fs))"
   ]
  },
  {
   "cell_type": "markdown",
   "metadata": {},
   "source": [
    "## Creating the feature view"
   ]
  },
  {
   "cell_type": "code",
   "execution_count": null,
   "metadata": {},
   "outputs": [
    {
     "ename": "TypeError",
     "evalue": "FeatureStore.get_feature_group() missing 1 required positional argument: 'name'",
     "output_type": "error",
     "traceback": [
      "\u001b[1;31m---------------------------------------------------------------------------\u001b[0m",
      "\u001b[1;31mTypeError\u001b[0m                                 Traceback (most recent call last)",
      "Cell \u001b[1;32mIn[10], line 1\u001b[0m\n\u001b[1;32m----> 1\u001b[0m bike_fg \u001b[38;5;241m=\u001b[39m \u001b[43mfs\u001b[49m\u001b[38;5;241;43m.\u001b[39;49m\u001b[43mget_feature_group\u001b[49m\u001b[43m(\u001b[49m\u001b[43m)\u001b[49m\n",
      "\u001b[1;31mTypeError\u001b[0m: FeatureStore.get_feature_group() missing 1 required positional argument: 'name'"
     ]
    }
   ],
   "source": [
    "bike_fg = fs.get_feature_group(\"bike_data\")"
   ]
  },
  {
   "cell_type": "code",
   "execution_count": null,
   "metadata": {},
   "outputs": [],
   "source": [
    "selected_features = bike_fg.select([\"station\", \"num_bikes_available\"]).join(weather_fg.select_all(), on=['datetime'])\n",
    "selected_features.show(10)\n",
    "\n",
    "\"\"\"\n",
    "bike_df = bike_fg.read()\n",
    "weather_df = weather_fg.read()\n",
    "\n",
    "# Merge data\n",
    "bike_df['datetime'] = pd.to_datetime(bike_df['datetime'])\n",
    "weather_df['datetime'] = pd.to_datetime(weather_df['datetime'])\n",
    "\n",
    "df = pd.merge(bike_df, weather_df, on='datetime', how='left')\n",
    "\n",
    "df\n",
    "\"\"\""
   ]
  },
  {
   "cell_type": "code",
   "execution_count": 6,
   "metadata": {},
   "outputs": [],
   "source": [
    "feature_view = fs.get_or_create_feature_view(\n",
    "    name='bike_weather_fw',\n",
    "    description=\"weather features with bike availability as the target\",\n",
    "    version=1,\n",
    "    labels=['num_bikes_available'],\n",
    "    query=selected_features,\n",
    ")\n"
   ]
  },
  {
   "cell_type": "code",
   "execution_count": 7,
   "metadata": {},
   "outputs": [],
   "source": [
    "start_date_test_data = \"2024-10-15\"\n",
    "# Convert string to datetime object\n",
    "test_start = datetime.strptime(start_date_test_data, \"%Y-%m-%d\")"
   ]
  },
  {
   "cell_type": "code",
   "execution_count": null,
   "metadata": {},
   "outputs": [],
   "source": [
    "X_train, X_test, y_train, y_test = feature_view.train_test_split(\n",
    "    test_size=0.2, \n",
    ")"
   ]
  },
  {
   "cell_type": "code",
   "execution_count": null,
   "metadata": {},
   "outputs": [],
   "source": [
    "X_train"
   ]
  }
 ],
 "metadata": {
  "kernelspec": {
   "display_name": "SML_test",
   "language": "python",
   "name": "python3"
  },
  "language_info": {
   "codemirror_mode": {
    "name": "ipython",
    "version": 3
   },
   "file_extension": ".py",
   "mimetype": "text/x-python",
   "name": "python",
   "nbconvert_exporter": "python",
   "pygments_lexer": "ipython3",
   "version": "3.10.0"
  }
 },
 "nbformat": 4,
 "nbformat_minor": 2
}
