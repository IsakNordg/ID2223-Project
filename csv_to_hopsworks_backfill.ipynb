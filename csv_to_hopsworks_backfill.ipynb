{
 "cells": [
  {
   "cell_type": "code",
   "execution_count": 1,
   "metadata": {},
   "outputs": [],
   "source": [
    "import datetime\n",
    "import pandas as pd\n",
    "import hopsworks\n",
    "import os\n",
    "from dotenv import load_dotenv\n",
    "from functions import utils\n",
    "import json\n",
    "\n",
    "import datetime\n",
    "import requests\n",
    "import pandas as pd\n",
    "import hopsworks\n",
    "import datetime\n",
    "from pathlib import Path\n",
    "from functions import utils\n",
    "import json\n",
    "import re\n",
    "import os\n",
    "import warnings\n",
    "warnings.filterwarnings(\"ignore\")"
   ]
  },
  {
   "cell_type": "code",
   "execution_count": 2,
   "metadata": {},
   "outputs": [
    {
     "name": "stdout",
     "output_type": "stream",
     "text": [
      "AhdA5UndBaVILBvJ.cvcBxXmN8mo8HPjR1Ryb7XncvNQ6enGsnTHL3LZIUJJ75mpRD0tTptadPTgx4zRu\n"
     ]
    }
   ],
   "source": [
    "load_dotenv()\n",
    "HOPSWORKS_API_KEY = os.getenv(\"HOPSWORKS_API_KEY\")\n",
    "\n",
    "os.environ[\"HOPSWORKS_API_KEY\"] = HOPSWORKS_API_KEY\n",
    "print(HOPSWORKS_API_KEY)"
   ]
  },
  {
   "cell_type": "code",
   "execution_count": 3,
   "metadata": {},
   "outputs": [],
   "source": [
    "CITY = \"dublin\""
   ]
  },
  {
   "cell_type": "markdown",
   "metadata": {},
   "source": [
    "## Read the bike data from csv-files"
   ]
  },
  {
   "cell_type": "code",
   "execution_count": 4,
   "metadata": {},
   "outputs": [
    {
     "data": {
      "text/html": [
       "<div>\n",
       "<style scoped>\n",
       "    .dataframe tbody tr th:only-of-type {\n",
       "        vertical-align: middle;\n",
       "    }\n",
       "\n",
       "    .dataframe tbody tr th {\n",
       "        vertical-align: top;\n",
       "    }\n",
       "\n",
       "    .dataframe thead th {\n",
       "        text-align: right;\n",
       "    }\n",
       "</style>\n",
       "<table border=\"1\" class=\"dataframe\">\n",
       "  <thead>\n",
       "    <tr style=\"text-align: right;\">\n",
       "      <th></th>\n",
       "      <th>datetime</th>\n",
       "      <th>station</th>\n",
       "      <th>num_bikes_available</th>\n",
       "    </tr>\n",
       "  </thead>\n",
       "  <tbody>\n",
       "    <tr>\n",
       "      <th>0</th>\n",
       "      <td>2025-01-02 11:05:44+00:00</td>\n",
       "      <td>AVONDALE_ROAD</td>\n",
       "      <td>22</td>\n",
       "    </tr>\n",
       "    <tr>\n",
       "      <th>1</th>\n",
       "      <td>2025-01-02 10:48:53+00:00</td>\n",
       "      <td>AVONDALE_ROAD</td>\n",
       "      <td>22</td>\n",
       "    </tr>\n",
       "    <tr>\n",
       "      <th>2</th>\n",
       "      <td>2025-01-02 09:49:18+00:00</td>\n",
       "      <td>AVONDALE_ROAD</td>\n",
       "      <td>22</td>\n",
       "    </tr>\n",
       "    <tr>\n",
       "      <th>3</th>\n",
       "      <td>2025-01-02 08:49:10+00:00</td>\n",
       "      <td>AVONDALE_ROAD</td>\n",
       "      <td>23</td>\n",
       "    </tr>\n",
       "    <tr>\n",
       "      <th>4</th>\n",
       "      <td>2025-01-02 07:49:04+00:00</td>\n",
       "      <td>AVONDALE_ROAD</td>\n",
       "      <td>23</td>\n",
       "    </tr>\n",
       "    <tr>\n",
       "      <th>...</th>\n",
       "      <td>...</td>\n",
       "      <td>...</td>\n",
       "      <td>...</td>\n",
       "    </tr>\n",
       "    <tr>\n",
       "      <th>1045033</th>\n",
       "      <td>2023-08-05 16:54:54+00:00</td>\n",
       "      <td>YORK_STREET_WEST</td>\n",
       "      <td>20</td>\n",
       "    </tr>\n",
       "    <tr>\n",
       "      <th>1045034</th>\n",
       "      <td>2023-08-05 17:56:37+02:00</td>\n",
       "      <td>YORK_STREET_WEST</td>\n",
       "      <td>16</td>\n",
       "    </tr>\n",
       "    <tr>\n",
       "      <th>1045035</th>\n",
       "      <td>2023-08-05 14:51:22+00:00</td>\n",
       "      <td>YORK_STREET_WEST</td>\n",
       "      <td>19</td>\n",
       "    </tr>\n",
       "    <tr>\n",
       "      <th>1045036</th>\n",
       "      <td>2023-08-05 15:54:31+02:00</td>\n",
       "      <td>YORK_STREET_WEST</td>\n",
       "      <td>17</td>\n",
       "    </tr>\n",
       "    <tr>\n",
       "      <th>1045037</th>\n",
       "      <td>2023-08-05 12:56:53+00:00</td>\n",
       "      <td>YORK_STREET_WEST</td>\n",
       "      <td>18</td>\n",
       "    </tr>\n",
       "  </tbody>\n",
       "</table>\n",
       "<p>1045038 rows × 3 columns</p>\n",
       "</div>"
      ],
      "text/plain": [
       "                          datetime           station  num_bikes_available\n",
       "0        2025-01-02 11:05:44+00:00     AVONDALE_ROAD                   22\n",
       "1        2025-01-02 10:48:53+00:00     AVONDALE_ROAD                   22\n",
       "2        2025-01-02 09:49:18+00:00     AVONDALE_ROAD                   22\n",
       "3        2025-01-02 08:49:10+00:00     AVONDALE_ROAD                   23\n",
       "4        2025-01-02 07:49:04+00:00     AVONDALE_ROAD                   23\n",
       "...                            ...               ...                  ...\n",
       "1045033  2023-08-05 16:54:54+00:00  YORK_STREET_WEST                   20\n",
       "1045034  2023-08-05 17:56:37+02:00  YORK_STREET_WEST                   16\n",
       "1045035  2023-08-05 14:51:22+00:00  YORK_STREET_WEST                   19\n",
       "1045036  2023-08-05 15:54:31+02:00  YORK_STREET_WEST                   17\n",
       "1045037  2023-08-05 12:56:53+00:00  YORK_STREET_WEST                   18\n",
       "\n",
       "[1045038 rows x 3 columns]"
      ]
     },
     "execution_count": 4,
     "metadata": {},
     "output_type": "execute_result"
    }
   ],
   "source": [
    "# get directory path and all files in it\n",
    "df_bike = pd.DataFrame()\n",
    "for file in os.listdir(CITY):\n",
    "    if file.endswith(\".csv\"):\n",
    "        df_tmp = pd.read_csv(f\"{CITY}/\" + file,  parse_dates=['datetime'], skipinitialspace=True)\n",
    "        df_tmp['station'] = file.split(\".\")[0]\n",
    "        df_bike = pd.concat([df_bike, df_tmp])\n",
    "\n",
    "df_bike = df_bike.set_index(['datetime', 'station']).reset_index(drop=False)\n",
    "\n",
    "df_bike"
   ]
  },
  {
   "cell_type": "code",
   "execution_count": 5,
   "metadata": {},
   "outputs": [
    {
     "data": {
      "text/html": [
       "<div>\n",
       "<style scoped>\n",
       "    .dataframe tbody tr th:only-of-type {\n",
       "        vertical-align: middle;\n",
       "    }\n",
       "\n",
       "    .dataframe tbody tr th {\n",
       "        vertical-align: top;\n",
       "    }\n",
       "\n",
       "    .dataframe thead th {\n",
       "        text-align: right;\n",
       "    }\n",
       "</style>\n",
       "<table border=\"1\" class=\"dataframe\">\n",
       "  <thead>\n",
       "    <tr style=\"text-align: right;\">\n",
       "      <th></th>\n",
       "      <th>datetime</th>\n",
       "      <th>station</th>\n",
       "      <th>num_bikes_available</th>\n",
       "    </tr>\n",
       "  </thead>\n",
       "  <tbody>\n",
       "    <tr>\n",
       "      <th>0</th>\n",
       "      <td>2025-01-02 11:05:44+00:00</td>\n",
       "      <td>AVONDALE_ROAD</td>\n",
       "      <td>22</td>\n",
       "    </tr>\n",
       "    <tr>\n",
       "      <th>1</th>\n",
       "      <td>2025-01-02 10:48:53+00:00</td>\n",
       "      <td>AVONDALE_ROAD</td>\n",
       "      <td>22</td>\n",
       "    </tr>\n",
       "    <tr>\n",
       "      <th>2</th>\n",
       "      <td>2025-01-02 09:49:18+00:00</td>\n",
       "      <td>AVONDALE_ROAD</td>\n",
       "      <td>22</td>\n",
       "    </tr>\n",
       "    <tr>\n",
       "      <th>3</th>\n",
       "      <td>2025-01-02 08:49:10+00:00</td>\n",
       "      <td>AVONDALE_ROAD</td>\n",
       "      <td>23</td>\n",
       "    </tr>\n",
       "    <tr>\n",
       "      <th>4</th>\n",
       "      <td>2025-01-02 07:49:04+00:00</td>\n",
       "      <td>AVONDALE_ROAD</td>\n",
       "      <td>23</td>\n",
       "    </tr>\n",
       "    <tr>\n",
       "      <th>...</th>\n",
       "      <td>...</td>\n",
       "      <td>...</td>\n",
       "      <td>...</td>\n",
       "    </tr>\n",
       "    <tr>\n",
       "      <th>1045033</th>\n",
       "      <td>2023-08-05 16:54:54+00:00</td>\n",
       "      <td>YORK_STREET_WEST</td>\n",
       "      <td>20</td>\n",
       "    </tr>\n",
       "    <tr>\n",
       "      <th>1045034</th>\n",
       "      <td>2023-08-05 17:56:37+02:00</td>\n",
       "      <td>YORK_STREET_WEST</td>\n",
       "      <td>16</td>\n",
       "    </tr>\n",
       "    <tr>\n",
       "      <th>1045035</th>\n",
       "      <td>2023-08-05 14:51:22+00:00</td>\n",
       "      <td>YORK_STREET_WEST</td>\n",
       "      <td>19</td>\n",
       "    </tr>\n",
       "    <tr>\n",
       "      <th>1045036</th>\n",
       "      <td>2023-08-05 15:54:31+02:00</td>\n",
       "      <td>YORK_STREET_WEST</td>\n",
       "      <td>17</td>\n",
       "    </tr>\n",
       "    <tr>\n",
       "      <th>1045037</th>\n",
       "      <td>2023-08-05 12:56:53+00:00</td>\n",
       "      <td>YORK_STREET_WEST</td>\n",
       "      <td>18</td>\n",
       "    </tr>\n",
       "  </tbody>\n",
       "</table>\n",
       "<p>1045038 rows × 3 columns</p>\n",
       "</div>"
      ],
      "text/plain": [
       "                          datetime           station  num_bikes_available\n",
       "0        2025-01-02 11:05:44+00:00     AVONDALE_ROAD                   22\n",
       "1        2025-01-02 10:48:53+00:00     AVONDALE_ROAD                   22\n",
       "2        2025-01-02 09:49:18+00:00     AVONDALE_ROAD                   22\n",
       "3        2025-01-02 08:49:10+00:00     AVONDALE_ROAD                   23\n",
       "4        2025-01-02 07:49:04+00:00     AVONDALE_ROAD                   23\n",
       "...                            ...               ...                  ...\n",
       "1045033  2023-08-05 16:54:54+00:00  YORK_STREET_WEST                   20\n",
       "1045034  2023-08-05 17:56:37+02:00  YORK_STREET_WEST                   16\n",
       "1045035  2023-08-05 14:51:22+00:00  YORK_STREET_WEST                   19\n",
       "1045036  2023-08-05 15:54:31+02:00  YORK_STREET_WEST                   17\n",
       "1045037  2023-08-05 12:56:53+00:00  YORK_STREET_WEST                   18\n",
       "\n",
       "[1045038 rows x 3 columns]"
      ]
     },
     "execution_count": 5,
     "metadata": {},
     "output_type": "execute_result"
    }
   ],
   "source": [
    "df_bike.dropna(inplace=True)\n",
    "df_bike\n"
   ]
  },
  {
   "cell_type": "markdown",
   "metadata": {},
   "source": [
    "## Get the weather data from Open Mateo"
   ]
  },
  {
   "cell_type": "markdown",
   "metadata": {},
   "source": [
    "First, we need to get the earliest date of the bike data so that we can get the weater data from Open Mateo for the same period."
   ]
  },
  {
   "cell_type": "code",
   "execution_count": 6,
   "metadata": {},
   "outputs": [
    {
     "data": {
      "text/plain": [
       "('2023-08-05', '2025-01-02')"
      ]
     },
     "execution_count": 6,
     "metadata": {},
     "output_type": "execute_result"
    }
   ],
   "source": [
    "earliest_bike_date = pd.Series.min(df_bike['datetime'])\n",
    "earliest_bike_date = earliest_bike_date.strftime('%Y-%m-%d')\n",
    "last_bike_date = pd.Series.max(df_bike['datetime'])\n",
    "last_bike_date = last_bike_date.strftime('%Y-%m-%d')\n",
    "\n",
    "earliest_bike_date, last_bike_date"
   ]
  },
  {
   "cell_type": "markdown",
   "metadata": {},
   "source": [
    "Then, we get the weather data from Open Mateo"
   ]
  },
  {
   "cell_type": "code",
   "execution_count": 7,
   "metadata": {},
   "outputs": [
    {
     "name": "stdout",
     "output_type": "stream",
     "text": [
      "Coordinates 53.32161331176758°N -6.501922607421875°E\n",
      "Elevation 11.0 m asl\n",
      "Timezone None None\n",
      "Timezone difference to GMT+0 0 s\n"
     ]
    },
    {
     "data": {
      "text/html": [
       "<div>\n",
       "<style scoped>\n",
       "    .dataframe tbody tr th:only-of-type {\n",
       "        vertical-align: middle;\n",
       "    }\n",
       "\n",
       "    .dataframe tbody tr th {\n",
       "        vertical-align: top;\n",
       "    }\n",
       "\n",
       "    .dataframe thead th {\n",
       "        text-align: right;\n",
       "    }\n",
       "</style>\n",
       "<table border=\"1\" class=\"dataframe\">\n",
       "  <thead>\n",
       "    <tr style=\"text-align: right;\">\n",
       "      <th></th>\n",
       "      <th>datetime</th>\n",
       "      <th>temperature_2m</th>\n",
       "      <th>apparent_temperature</th>\n",
       "      <th>rain</th>\n",
       "      <th>snowfall</th>\n",
       "      <th>snow_depth</th>\n",
       "      <th>wind_speed_10m</th>\n",
       "      <th>sunshine_duration</th>\n",
       "      <th>daylight_duration</th>\n",
       "      <th>rain_sum</th>\n",
       "      <th>city</th>\n",
       "    </tr>\n",
       "  </thead>\n",
       "  <tbody>\n",
       "    <tr>\n",
       "      <th>0</th>\n",
       "      <td>2023-08-05 00:00:00+00:00</td>\n",
       "      <td>12.889501</td>\n",
       "      <td>11.347359</td>\n",
       "      <td>0.5</td>\n",
       "      <td>0.0</td>\n",
       "      <td>0.0</td>\n",
       "      <td>13.202726</td>\n",
       "      <td>29269.033203</td>\n",
       "      <td>55572.929688</td>\n",
       "      <td>26.800001</td>\n",
       "      <td>dublin</td>\n",
       "    </tr>\n",
       "    <tr>\n",
       "      <th>1</th>\n",
       "      <td>2023-08-05 01:00:00+00:00</td>\n",
       "      <td>12.589500</td>\n",
       "      <td>10.415937</td>\n",
       "      <td>4.7</td>\n",
       "      <td>0.0</td>\n",
       "      <td>0.0</td>\n",
       "      <td>17.114204</td>\n",
       "      <td>29269.033203</td>\n",
       "      <td>55572.929688</td>\n",
       "      <td>26.800001</td>\n",
       "      <td>dublin</td>\n",
       "    </tr>\n",
       "    <tr>\n",
       "      <th>2</th>\n",
       "      <td>2023-08-05 02:00:00+00:00</td>\n",
       "      <td>12.339500</td>\n",
       "      <td>9.593327</td>\n",
       "      <td>4.4</td>\n",
       "      <td>0.0</td>\n",
       "      <td>0.0</td>\n",
       "      <td>20.833395</td>\n",
       "      <td>29269.033203</td>\n",
       "      <td>55572.929688</td>\n",
       "      <td>26.800001</td>\n",
       "      <td>dublin</td>\n",
       "    </tr>\n",
       "    <tr>\n",
       "      <th>3</th>\n",
       "      <td>2023-08-05 03:00:00+00:00</td>\n",
       "      <td>12.589500</td>\n",
       "      <td>9.265682</td>\n",
       "      <td>2.9</td>\n",
       "      <td>0.0</td>\n",
       "      <td>0.0</td>\n",
       "      <td>25.420181</td>\n",
       "      <td>29269.033203</td>\n",
       "      <td>55572.929688</td>\n",
       "      <td>26.800001</td>\n",
       "      <td>dublin</td>\n",
       "    </tr>\n",
       "    <tr>\n",
       "      <th>4</th>\n",
       "      <td>2023-08-05 04:00:00+00:00</td>\n",
       "      <td>12.839500</td>\n",
       "      <td>9.678358</td>\n",
       "      <td>2.6</td>\n",
       "      <td>0.0</td>\n",
       "      <td>0.0</td>\n",
       "      <td>25.264202</td>\n",
       "      <td>29269.033203</td>\n",
       "      <td>55572.929688</td>\n",
       "      <td>26.800001</td>\n",
       "      <td>dublin</td>\n",
       "    </tr>\n",
       "    <tr>\n",
       "      <th>...</th>\n",
       "      <td>...</td>\n",
       "      <td>...</td>\n",
       "      <td>...</td>\n",
       "      <td>...</td>\n",
       "      <td>...</td>\n",
       "      <td>...</td>\n",
       "      <td>...</td>\n",
       "      <td>...</td>\n",
       "      <td>...</td>\n",
       "      <td>...</td>\n",
       "      <td>...</td>\n",
       "    </tr>\n",
       "    <tr>\n",
       "      <th>12331</th>\n",
       "      <td>2024-12-30 19:00:00+00:00</td>\n",
       "      <td>9.639501</td>\n",
       "      <td>5.089009</td>\n",
       "      <td>0.0</td>\n",
       "      <td>0.0</td>\n",
       "      <td>0.0</td>\n",
       "      <td>26.002993</td>\n",
       "      <td>14400.000000</td>\n",
       "      <td>27309.888672</td>\n",
       "      <td>0.000000</td>\n",
       "      <td>dublin</td>\n",
       "    </tr>\n",
       "    <tr>\n",
       "      <th>12332</th>\n",
       "      <td>2024-12-30 20:00:00+00:00</td>\n",
       "      <td>9.339500</td>\n",
       "      <td>4.924521</td>\n",
       "      <td>0.0</td>\n",
       "      <td>0.0</td>\n",
       "      <td>0.0</td>\n",
       "      <td>25.570139</td>\n",
       "      <td>14400.000000</td>\n",
       "      <td>27309.888672</td>\n",
       "      <td>0.000000</td>\n",
       "      <td>dublin</td>\n",
       "    </tr>\n",
       "    <tr>\n",
       "      <th>12333</th>\n",
       "      <td>2024-12-30 21:00:00+00:00</td>\n",
       "      <td>9.739500</td>\n",
       "      <td>5.079718</td>\n",
       "      <td>0.0</td>\n",
       "      <td>0.0</td>\n",
       "      <td>0.0</td>\n",
       "      <td>28.269171</td>\n",
       "      <td>14400.000000</td>\n",
       "      <td>27309.888672</td>\n",
       "      <td>0.000000</td>\n",
       "      <td>dublin</td>\n",
       "    </tr>\n",
       "    <tr>\n",
       "      <th>12334</th>\n",
       "      <td>2024-12-30 22:00:00+00:00</td>\n",
       "      <td>9.889501</td>\n",
       "      <td>5.275105</td>\n",
       "      <td>0.0</td>\n",
       "      <td>0.0</td>\n",
       "      <td>0.0</td>\n",
       "      <td>27.871534</td>\n",
       "      <td>14400.000000</td>\n",
       "      <td>27309.888672</td>\n",
       "      <td>0.000000</td>\n",
       "      <td>dublin</td>\n",
       "    </tr>\n",
       "    <tr>\n",
       "      <th>12335</th>\n",
       "      <td>2024-12-30 23:00:00+00:00</td>\n",
       "      <td>10.039500</td>\n",
       "      <td>5.333132</td>\n",
       "      <td>0.0</td>\n",
       "      <td>0.0</td>\n",
       "      <td>0.0</td>\n",
       "      <td>28.416065</td>\n",
       "      <td>14400.000000</td>\n",
       "      <td>27309.888672</td>\n",
       "      <td>0.000000</td>\n",
       "      <td>dublin</td>\n",
       "    </tr>\n",
       "  </tbody>\n",
       "</table>\n",
       "<p>11832 rows × 11 columns</p>\n",
       "</div>"
      ],
      "text/plain": [
       "                       datetime  temperature_2m  apparent_temperature  rain  \\\n",
       "0     2023-08-05 00:00:00+00:00       12.889501             11.347359   0.5   \n",
       "1     2023-08-05 01:00:00+00:00       12.589500             10.415937   4.7   \n",
       "2     2023-08-05 02:00:00+00:00       12.339500              9.593327   4.4   \n",
       "3     2023-08-05 03:00:00+00:00       12.589500              9.265682   2.9   \n",
       "4     2023-08-05 04:00:00+00:00       12.839500              9.678358   2.6   \n",
       "...                         ...             ...                   ...   ...   \n",
       "12331 2024-12-30 19:00:00+00:00        9.639501              5.089009   0.0   \n",
       "12332 2024-12-30 20:00:00+00:00        9.339500              4.924521   0.0   \n",
       "12333 2024-12-30 21:00:00+00:00        9.739500              5.079718   0.0   \n",
       "12334 2024-12-30 22:00:00+00:00        9.889501              5.275105   0.0   \n",
       "12335 2024-12-30 23:00:00+00:00       10.039500              5.333132   0.0   \n",
       "\n",
       "       snowfall  snow_depth  wind_speed_10m  sunshine_duration  \\\n",
       "0           0.0         0.0       13.202726       29269.033203   \n",
       "1           0.0         0.0       17.114204       29269.033203   \n",
       "2           0.0         0.0       20.833395       29269.033203   \n",
       "3           0.0         0.0       25.420181       29269.033203   \n",
       "4           0.0         0.0       25.264202       29269.033203   \n",
       "...         ...         ...             ...                ...   \n",
       "12331       0.0         0.0       26.002993       14400.000000   \n",
       "12332       0.0         0.0       25.570139       14400.000000   \n",
       "12333       0.0         0.0       28.269171       14400.000000   \n",
       "12334       0.0         0.0       27.871534       14400.000000   \n",
       "12335       0.0         0.0       28.416065       14400.000000   \n",
       "\n",
       "       daylight_duration   rain_sum    city  \n",
       "0           55572.929688  26.800001  dublin  \n",
       "1           55572.929688  26.800001  dublin  \n",
       "2           55572.929688  26.800001  dublin  \n",
       "3           55572.929688  26.800001  dublin  \n",
       "4           55572.929688  26.800001  dublin  \n",
       "...                  ...        ...     ...  \n",
       "12331       27309.888672   0.000000  dublin  \n",
       "12332       27309.888672   0.000000  dublin  \n",
       "12333       27309.888672   0.000000  dublin  \n",
       "12334       27309.888672   0.000000  dublin  \n",
       "12335       27309.888672   0.000000  dublin  \n",
       "\n",
       "[11832 rows x 11 columns]"
      ]
     },
     "execution_count": 7,
     "metadata": {},
     "output_type": "execute_result"
    }
   ],
   "source": [
    "weather_df = utils.get_historical_weather(CITY, earliest_bike_date, last_bike_date)\n",
    "weather_df = weather_df.rename(columns={'date_x': 'datetime'})\n",
    "weather_df.dropna(inplace=True)\n",
    "\n",
    "# remove col date_y, date_only\n",
    "weather_df = weather_df.drop(columns=['date_y', 'date_only'])\n",
    "\n",
    "weather_df"
   ]
  },
  {
   "cell_type": "markdown",
   "metadata": {},
   "source": [
    "## Data validation rules"
   ]
  },
  {
   "cell_type": "markdown",
   "metadata": {},
   "source": [
    "First, we validate that the number of bikes avaliable is always greater than or equal to zero."
   ]
  },
  {
   "cell_type": "code",
   "execution_count": 8,
   "metadata": {},
   "outputs": [
    {
     "name": "stdout",
     "output_type": "stream",
     "text": [
      "Validation passed: All values in 'num_bikes_available' are within the range 0 to 100.\n"
     ]
    }
   ],
   "source": [
    "if 'num_bikes_available' not in df_bike.columns:\n",
    "    raise ValueError(\"The column 'num_bikes_available' does not exist in the dataframe.\")\n",
    "\n",
    "invalid_rows = df_bike[(df_bike['num_bikes_available'] < 0) | (df_bike['num_bikes_available'] > 100)]\n",
    "\n",
    "if not invalid_rows.empty:\n",
    "    print(\"Validation failed: Some rows have invalid values in 'num_bikes_available'.\")\n",
    "    print(invalid_rows)\n",
    "    assert False\n",
    "else:\n",
    "    print(\"Validation passed: All values in 'num_bikes_available' are within the range 0 to 100.\")\n",
    "    assert True"
   ]
  },
  {
   "cell_type": "markdown",
   "metadata": {},
   "source": [
    "Then, we validate that the rainfall, snowfall, and wind speed are always greater than or equal to zero, and below 1000."
   ]
  },
  {
   "cell_type": "code",
   "execution_count": 9,
   "metadata": {},
   "outputs": [
    {
     "name": "stdout",
     "output_type": "stream",
     "text": [
      "Validation passed: All values in the specified columns are within the range 0 to 1000.\n"
     ]
    }
   ],
   "source": [
    "if 'rain' not in weather_df.columns:\n",
    "    raise ValueError(\"The column 'rain' does not exist in the dataframe.\")\n",
    "if 'snowfall' not in weather_df.columns:\n",
    "    raise ValueError(\"The column 'snowfall' does not exist in the dataframe.\")\n",
    "if 'wind_speed_10m' not in weather_df.columns:\n",
    "    raise ValueError(\"The column 'wind_speed_10m' does not exist in the dataframe.\")\n",
    "\n",
    "invalid_rows = weather_df[(weather_df['rain'] < 0) | (weather_df['rain'] > 1000) |\n",
    "                          (weather_df['snowfall'] < 0) | (weather_df['snowfall'] > 1000) |\n",
    "                          (weather_df['wind_speed_10m'] < 0) | (weather_df['wind_speed_10m'] > 1000)]\n",
    "\n",
    "if not invalid_rows.empty:\n",
    "    print(\"Validation failed: Some rows have invalid values in the specified columns.\")\n",
    "    print(invalid_rows)\n",
    "    assert False\n",
    "else:\n",
    "    print(\"Validation passed: All values in the specified columns are within the range 0 to 1000.\")\n",
    "    assert True\n"
   ]
  },
  {
   "cell_type": "markdown",
   "metadata": {},
   "source": [
    "## Connect to Hopsworks and create two feature groups (+more)"
   ]
  },
  {
   "cell_type": "code",
   "execution_count": 10,
   "metadata": {},
   "outputs": [
    {
     "name": "stdout",
     "output_type": "stream",
     "text": [
      "Connected. Call `.close()` to terminate connection gracefully.\n"
     ]
    },
    {
     "name": "stderr",
     "output_type": "stream",
     "text": [
      "\n",
      "\n"
     ]
    },
    {
     "name": "stdout",
     "output_type": "stream",
     "text": [
      "\n",
      "Logged in to project, explore it here https://c.app.hopsworks.ai:443/p/1207494\n",
      "Connected. Call `.close()` to terminate connection gracefully.\n"
     ]
    },
    {
     "name": "stderr",
     "output_type": "stream",
     "text": [
      "\n",
      "\n"
     ]
    },
    {
     "name": "stdout",
     "output_type": "stream",
     "text": [
      "2025-01-05 11:55:36,251 INFO: Initializing external client\n",
      "2025-01-05 11:55:36,252 INFO: Base URL: https://c.app.hopsworks.ai:443\n",
      "Connected. Call `.close()` to terminate connection gracefully.\n"
     ]
    }
   ],
   "source": [
    "project = hopsworks.login()\n",
    "secrets = utils.secrets_api(project.name)\n",
    "\n",
    "fs = project.get_feature_store() "
   ]
  },
  {
   "cell_type": "markdown",
   "metadata": {},
   "source": [
    "Save the city location to Hopsworks for easy access later."
   ]
  },
  {
   "cell_type": "code",
   "execution_count": 11,
   "metadata": {},
   "outputs": [
    {
     "name": "stdout",
     "output_type": "stream",
     "text": [
      "CITY_JSON already exists. To update, delete the secret in the UI (https://c.app.hopsworks.ai/account/secrets) and re-run this cell.\n",
      "{\"city\": \"dublin\", \"latitude\": 53.35, \"longitude\": -6.26}\n"
     ]
    }
   ],
   "source": [
    "latitude, longitude = utils.get_city_coordinates(CITY)\n",
    "\n",
    "secrets_dict = {\n",
    "    \"city\": CITY,\n",
    "    \"latitude\": latitude,\n",
    "    \"longitude\": longitude,\n",
    "}\n",
    "\n",
    "secrets_json = json.dumps(secrets_dict)\n",
    "\n",
    "try:\n",
    "    secrets.create_secret(\"CITY_JSON\", secrets_json)\n",
    "except hopsworks.RestAPIError:\n",
    "    print(\"CITY_JSON already exists. To update, delete the secret in the UI (https://c.app.hopsworks.ai/account/secrets) and re-run this cell.\")\n",
    "    existing_key = secrets.get_secret(\"CITY_JSON\").value\n",
    "    print(f\"{existing_key}\")"
   ]
  },
  {
   "cell_type": "markdown",
   "metadata": {},
   "source": [
    "### Feature group 1: Bike data"
   ]
  },
  {
   "cell_type": "code",
   "execution_count": 12,
   "metadata": {},
   "outputs": [
    {
     "name": "stdout",
     "output_type": "stream",
     "text": [
      "Feature Group created successfully, explore it at \n",
      "https://c.app.hopsworks.ai:443/p/1207494/fs/1195126/fg/1394560\n"
     ]
    },
    {
     "data": {
      "application/vnd.jupyter.widget-view+json": {
       "model_id": "6e05200a98e84beeb79b17e9c59787f9",
       "version_major": 2,
       "version_minor": 0
      },
      "text/plain": [
       "Uploading Dataframe: 0.00% |          | Rows 0/1045038 | Elapsed Time: 00:00 | Remaining Time: ?"
      ]
     },
     "metadata": {},
     "output_type": "display_data"
    },
    {
     "name": "stdout",
     "output_type": "stream",
     "text": [
      "Launching job: bike_data_1_offline_fg_materialization\n",
      "Job started successfully, you can follow the progress at \n",
      "http://c.app.hopsworks.ai/p/1207494/jobs/named/bike_data_1_offline_fg_materialization/executions\n"
     ]
    },
    {
     "data": {
      "text/plain": [
       "<hsfs.feature_group.FeatureGroup at 0x20802c2d0c0>"
      ]
     },
     "execution_count": 12,
     "metadata": {},
     "output_type": "execute_result"
    }
   ],
   "source": [
    "bike_fg = fs.get_or_create_feature_group(\n",
    "    name='bike_data',\n",
    "    description='How many bikes are available at each station at a given time',\n",
    "    version=1,\n",
    "    primary_key=[\"datetime\", \"station\"],\n",
    "    event_time=\"datetime\"\n",
    ")\n",
    "\n",
    "bike_fg.insert(df_bike)\n",
    "\n",
    "bike_fg.update_feature_description(\"num_bikes_available\", \"Number of bikes available at the station\")\n",
    "bike_fg.update_feature_description(\"datetime\", \"Timestamp of the observation\")\n",
    "bike_fg.update_feature_description(\"station\", \"Name of the station\")"
   ]
  },
  {
   "cell_type": "markdown",
   "metadata": {},
   "source": [
    "### Feature group 2: Weather data"
   ]
  },
  {
   "cell_type": "code",
   "execution_count": 13,
   "metadata": {},
   "outputs": [
    {
     "name": "stdout",
     "output_type": "stream",
     "text": [
      "Feature Group created successfully, explore it at \n",
      "https://c.app.hopsworks.ai:443/p/1207494/fs/1195126/fg/1393553\n"
     ]
    },
    {
     "data": {
      "application/vnd.jupyter.widget-view+json": {
       "model_id": "5ecb034a862c4fad9bc141a577c5a958",
       "version_major": 2,
       "version_minor": 0
      },
      "text/plain": [
       "Uploading Dataframe: 0.00% |          | Rows 0/11832 | Elapsed Time: 00:00 | Remaining Time: ?"
      ]
     },
     "metadata": {},
     "output_type": "display_data"
    },
    {
     "name": "stdout",
     "output_type": "stream",
     "text": [
      "Launching job: weather_data_1_offline_fg_materialization\n",
      "Job started successfully, you can follow the progress at \n",
      "http://c.app.hopsworks.ai/p/1207494/jobs/named/weather_data_1_offline_fg_materialization/executions\n"
     ]
    },
    {
     "ename": "KeyError",
     "evalue": "\"'FeatureGroup' object has no feature called 'temperature_2m_mean'.\"",
     "output_type": "error",
     "traceback": [
      "\u001b[1;31m---------------------------------------------------------------------------\u001b[0m",
      "\u001b[1;31mKeyError\u001b[0m                                  Traceback (most recent call last)",
      "Cell \u001b[1;32mIn[13], line 14\u001b[0m\n\u001b[0;32m     11\u001b[0m \u001b[38;5;66;03m# datetime\ttemperature_2m_mean\tapparent_temperature_mean\tdaylight_duration\train_sum\tsnowfall_sum\twind_speed_10m_max\twind_direction_10m_dominant\t\u001b[39;00m\n\u001b[0;32m     13\u001b[0m weather_fg\u001b[38;5;241m.\u001b[39mupdate_feature_description(\u001b[38;5;124m\"\u001b[39m\u001b[38;5;124mdatetime\u001b[39m\u001b[38;5;124m\"\u001b[39m, \u001b[38;5;124m\"\u001b[39m\u001b[38;5;124mTimestamp of the observation\u001b[39m\u001b[38;5;124m\"\u001b[39m)\n\u001b[1;32m---> 14\u001b[0m \u001b[43mweather_fg\u001b[49m\u001b[38;5;241;43m.\u001b[39;49m\u001b[43mupdate_feature_description\u001b[49m\u001b[43m(\u001b[49m\u001b[38;5;124;43m\"\u001b[39;49m\u001b[38;5;124;43mtemperature_2m_mean\u001b[39;49m\u001b[38;5;124;43m\"\u001b[39;49m\u001b[43m,\u001b[49m\u001b[43m \u001b[49m\u001b[38;5;124;43m\"\u001b[39;49m\u001b[38;5;124;43mTemperature in Celsius\u001b[39;49m\u001b[38;5;124;43m\"\u001b[39;49m\u001b[43m)\u001b[49m\n\u001b[0;32m     15\u001b[0m weather_fg\u001b[38;5;241m.\u001b[39mupdate_feature_description(\u001b[38;5;124m\"\u001b[39m\u001b[38;5;124mapparent_temperature_mean\u001b[39m\u001b[38;5;124m\"\u001b[39m, \u001b[38;5;124m\"\u001b[39m\u001b[38;5;124mApparent temperature in Celsius\u001b[39m\u001b[38;5;124m\"\u001b[39m)\n\u001b[0;32m     16\u001b[0m weather_fg\u001b[38;5;241m.\u001b[39mupdate_feature_description(\u001b[38;5;124m\"\u001b[39m\u001b[38;5;124mdaylight_duration\u001b[39m\u001b[38;5;124m\"\u001b[39m, \u001b[38;5;124m\"\u001b[39m\u001b[38;5;124mDuration of daylight\u001b[39m\u001b[38;5;124m\"\u001b[39m)\n",
      "File \u001b[1;32mc:\\Users\\isakn\\miniconda3\\envs\\SML_Project\\lib\\site-packages\\hsfs\\feature_group.py:814\u001b[0m, in \u001b[0;36mFeatureGroupBase.update_feature_description\u001b[1;34m(self, feature_name, description)\u001b[0m\n\u001b[0;32m    786\u001b[0m \u001b[38;5;28;01mdef\u001b[39;00m \u001b[38;5;21mupdate_feature_description\u001b[39m(\n\u001b[0;32m    787\u001b[0m     \u001b[38;5;28mself\u001b[39m, feature_name: \u001b[38;5;28mstr\u001b[39m, description: \u001b[38;5;28mstr\u001b[39m\n\u001b[0;32m    788\u001b[0m ) \u001b[38;5;241m-\u001b[39m\u001b[38;5;241m>\u001b[39m Union[FeatureGroupBase, FeatureGroup, ExternalFeatureGroup, SpineGroup]:\n\u001b[0;32m    789\u001b[0m \u001b[38;5;250m    \u001b[39m\u001b[38;5;124;03m\"\"\"Update the description of a single feature in this feature group.\u001b[39;00m\n\u001b[0;32m    790\u001b[0m \n\u001b[0;32m    791\u001b[0m \u001b[38;5;124;03m    !!! example\u001b[39;00m\n\u001b[1;32m   (...)\u001b[0m\n\u001b[0;32m    812\u001b[0m \u001b[38;5;124;03m        `FeatureGroup`. The updated feature group object.\u001b[39;00m\n\u001b[0;32m    813\u001b[0m \u001b[38;5;124;03m    \"\"\"\u001b[39;00m\n\u001b[1;32m--> 814\u001b[0m     f_copy \u001b[38;5;241m=\u001b[39m copy\u001b[38;5;241m.\u001b[39mdeepcopy(\u001b[38;5;28;43mself\u001b[39;49m\u001b[43m[\u001b[49m\u001b[43mfeature_name\u001b[49m\u001b[43m]\u001b[49m)\n\u001b[0;32m    815\u001b[0m     f_copy\u001b[38;5;241m.\u001b[39mdescription \u001b[38;5;241m=\u001b[39m description\n\u001b[0;32m    816\u001b[0m     \u001b[38;5;28mself\u001b[39m\u001b[38;5;241m.\u001b[39m_feature_group_engine\u001b[38;5;241m.\u001b[39mupdate_features(\u001b[38;5;28mself\u001b[39m, [f_copy])\n",
      "File \u001b[1;32mc:\\Users\\isakn\\miniconda3\\envs\\SML_Project\\lib\\site-packages\\hsfs\\feature_group.py:1561\u001b[0m, in \u001b[0;36mFeatureGroupBase.__getitem__\u001b[1;34m(self, name)\u001b[0m\n\u001b[0;32m   1559\u001b[0m     \u001b[38;5;28;01mreturn\u001b[39;00m feature[\u001b[38;5;241m0\u001b[39m]\n\u001b[0;32m   1560\u001b[0m \u001b[38;5;28;01melse\u001b[39;00m:\n\u001b[1;32m-> 1561\u001b[0m     \u001b[38;5;28;01mraise\u001b[39;00m \u001b[38;5;167;01mKeyError\u001b[39;00m(\u001b[38;5;124mf\u001b[39m\u001b[38;5;124m\"\u001b[39m\u001b[38;5;124m'\u001b[39m\u001b[38;5;124mFeatureGroup\u001b[39m\u001b[38;5;124m'\u001b[39m\u001b[38;5;124m object has no feature called \u001b[39m\u001b[38;5;124m'\u001b[39m\u001b[38;5;132;01m{\u001b[39;00mname\u001b[38;5;132;01m}\u001b[39;00m\u001b[38;5;124m'\u001b[39m\u001b[38;5;124m.\u001b[39m\u001b[38;5;124m\"\u001b[39m)\n",
      "\u001b[1;31mKeyError\u001b[0m: \"'FeatureGroup' object has no feature called 'temperature_2m_mean'.\""
     ]
    }
   ],
   "source": [
    "weather_fg = fs.get_or_create_feature_group(\n",
    "    name='weather_data',\n",
    "    description='Weather data for the city',\n",
    "    version=1,\n",
    "    primary_key=[\"datetime\"],\n",
    "    event_time=\"datetime\"\n",
    ")\n",
    "\n",
    "weather_fg.insert(weather_df)\n",
    "\n",
    "# \"hourly\": [\"temperature_2m\", \"apparent_temperature\", \"rain\", \"snowfall\", \"snow_depth\", \"wind_speed_10m\"],\n",
    "# \"daily\": [\"sunshine_duration\", \"daylight_duration\", \"rain_sum\"]\n",
    "\n",
    "weather_fg.update_feature_description(\"datetime\", \"Timestamp of the observation\")\n",
    "weather_fg.update_feature_description(\"temperature_2m\", \"Temperature in Celsius\")\n",
    "weather_fg.update_feature_description(\"apparent_temperature\", \"Apparent temperature in Celsius\")\n",
    "weather_fg.update_feature_description(\"rain\", \"Rain percipitation in mm\")\n",
    "weather_fg.update_feature_description(\"snowfall\", \"Snowfall in mm\")\n",
    "weather_fg.update_feature_description(\"snow_depth\", \"Snow depth in mm\")\n",
    "weather_fg.update_feature_description(\"wind_speed_10m\", \"Wind speed 10 m above ground level\")\n",
    "weather_fg.update_feature_description(\"sunshine_duration\", \"Sunshine duration in seconds\")\n",
    "weather_fg.update_feature_description(\"daylight_duration\", \"Daylight duration in seconds\")\n",
    "weather_fg.update_feature_description(\"rain_sum\", \"Total rain in mm\")\n",
    "\n"
   ]
  }
 ],
 "metadata": {
  "kernelspec": {
   "display_name": "SML_Project",
   "language": "python",
   "name": "python3"
  },
  "language_info": {
   "codemirror_mode": {
    "name": "ipython",
    "version": 3
   },
   "file_extension": ".py",
   "mimetype": "text/x-python",
   "name": "python",
   "nbconvert_exporter": "python",
   "pygments_lexer": "ipython3",
   "version": "3.10.0"
  }
 },
 "nbformat": 4,
 "nbformat_minor": 2
}
