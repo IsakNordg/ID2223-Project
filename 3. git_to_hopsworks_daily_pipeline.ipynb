{
 "cells": [
  {
   "cell_type": "code",
   "execution_count": 107,
   "metadata": {},
   "outputs": [],
   "source": [
    "import datetime\n",
    "import time\n",
    "import requests\n",
    "import pandas as pd\n",
    "import hopsworks\n",
    "from functions import utils\n",
    "import json\n",
    "import os\n",
    "import git\n",
    "import warnings\n",
    "warnings.filterwarnings(\"ignore\")"
   ]
  },
  {
   "cell_type": "code",
   "execution_count": 108,
   "metadata": {},
   "outputs": [],
   "source": [
    "from dotenv import load_dotenv\n",
    "load_dotenv()\n",
    "HOPSWORKS_API_KEY = os.getenv(\"HOPSWORKS_API_KEY\")\n",
    "os.environ[\"HOPSWORKS_API_KEY\"] = HOPSWORKS_API_KEY"
   ]
  },
  {
   "cell_type": "markdown",
   "metadata": {},
   "source": [
    "## Get the necessary data from Hopsworks"
   ]
  },
  {
   "cell_type": "code",
   "execution_count": 109,
   "metadata": {},
   "outputs": [
    {
     "name": "stdout",
     "output_type": "stream",
     "text": [
      "2025-01-07 18:28:57,466 INFO: Closing external client and cleaning up certificates.\n",
      "2025-01-07 18:28:57,472 INFO: Initializing external client\n",
      "2025-01-07 18:28:57,473 INFO: Base URL: https://c.app.hopsworks.ai:443\n",
      "2025-01-07 18:28:58,886 INFO: Python Engine initialized.\n",
      "\n",
      "Logged in to project, explore it here https://c.app.hopsworks.ai:443/p/1207494\n"
     ]
    }
   ],
   "source": [
    "project = hopsworks.login()\n",
    "fs = project.get_feature_store() \n",
    "# secrets = utils.secrets_api(project.name)\n",
    "\n",
    "CITY = \"dublin\"\n",
    "STATION_1 = \"MOUNTJOY SQUARE WEST\"\n",
    "STATION_2 = \"HEUSTON BRIDGE (NORTH)\"\n",
    "\n",
    "# latitude =\n",
    "# longitude =\n",
    "\n",
    "earliest_bike_datetime = \"2023-08-05 12:56:53 UTC\"\n",
    "last_bike_datetime = \"2025-01-06 15:06:11 UTC\"\n",
    "\n",
    "today = datetime.datetime.now()"
   ]
  },
  {
   "cell_type": "code",
   "execution_count": 110,
   "metadata": {},
   "outputs": [],
   "source": [
    "# Retrieve feature groups\n",
    "bike_fg = fs.get_feature_group(\n",
    "    name='bike_data',\n",
    "    version=1,\n",
    ")\n",
    "weather_fg = fs.get_feature_group(\n",
    "    name='weather_data',\n",
    "    version=1,\n",
    ")\n"
   ]
  },
  {
   "cell_type": "markdown",
   "metadata": {},
   "source": [
    "## Clone and pull the repository with the bike data"
   ]
  },
  {
   "cell_type": "code",
   "execution_count": 111,
   "metadata": {},
   "outputs": [],
   "source": [
    "# Configuration\n",
    "REPO_URL = \"https://github.com/MaxHalford/bike-sharing-history\"\n",
    "CLONE_DIR = \"./bike_data/bike-sharing-history\"\n",
    "TARGET_CITY = \"dublin\"\n",
    "FILE_NAME = \"jcdecaux.geojson\""
   ]
  },
  {
   "cell_type": "code",
   "execution_count": 112,
   "metadata": {},
   "outputs": [
    {
     "data": {
      "text/plain": [
       "[<git.remote.FetchInfo at 0x1a437758630>,\n",
       " <git.remote.FetchInfo at 0x1a437758900>]"
      ]
     },
     "execution_count": 112,
     "metadata": {},
     "output_type": "execute_result"
    }
   ],
   "source": [
    "if not os.path.exists(CLONE_DIR):\n",
    "    print(\"Cloning repository...\")\n",
    "    git.Repo.clone_from(REPO_URL, CLONE_DIR)\n",
    "repo = git.Repo(CLONE_DIR)\n",
    "\n",
    "# go to main and pull the latest changes\n",
    "repo.git.checkout(\"main\", force=True)\n",
    "repo.remotes.origin.pull()"
   ]
  },
  {
   "cell_type": "markdown",
   "metadata": {},
   "source": [
    "## Loop through the commits and convert the bike data into a dataframe"
   ]
  },
  {
   "cell_type": "code",
   "execution_count": 113,
   "metadata": {},
   "outputs": [],
   "source": [
    "results = {}\n",
    "\n",
    "# Populate the results dict with the stations\n",
    "data_file = os.path.join(CLONE_DIR, \"data/stations/\" + TARGET_CITY + \"/\" + FILE_NAME)\n",
    "if os.path.exists(data_file):\n",
    "    with open(data_file, \"r\") as f:\n",
    "        data = f.read()\n",
    "        data = json.loads(data)\n",
    "        for feature in data[\"features\"]:\n",
    "            name = feature[\"properties\"][\"name\"]\n",
    "            results[name] = []"
   ]
  },
  {
   "cell_type": "code",
   "execution_count": 114,
   "metadata": {},
   "outputs": [
    {
     "name": "stdout",
     "output_type": "stream",
     "text": [
      "Processing commit:  68290eccd75b7d4e47320383a23d86e7a43eff1c  -  2025-01-06 23:49:02+00:00\n",
      "Processing commit:  a7bc71c83506577ff7dc6e6687e852d36651c6c8  -  2025-01-06 22:49:02+00:00\n",
      "Processing commit:  3397f6bd8f1013ee14a88f3cb6dc46b7c4706db0  -  2025-01-06 21:49:09+00:00\n",
      "Processing commit:  133f27c2e3b1237915f63add44b13ef61619910b  -  2025-01-06 20:49:03+00:00\n",
      "Processing commit:  97141c31253eb495340fd2b1fa675c75fbfadf8e  -  2025-01-06 19:49:05+00:00\n",
      "Processing commit:  d86a5ba24238c2a6d82943004d7998317a6158c1  -  2025-01-06 18:49:48+00:00\n",
      "Processing commit:  e794fc5ce20ae14539f97f31a3315af922959f42  -  2025-01-06 17:49:18+00:00\n",
      "Processing commit:  42967854469793e1d901cb67f10c74a619a510af  -  2025-01-06 16:50:06+00:00\n",
      "Processing commit:  c307dd3308878520b876dde02b330ff3271e624e  -  2025-01-06 15:49:08+00:00\n",
      "breaking at:  2025-01-06 15:06:11+00:00\n",
      "{'CLARENDON ROW': [[1, datetime.datetime(2025, 1, 6, 23, 49, 2, tzinfo=<git.objects.util.tzoffset object at 0x000001A436F56650>)], [2, datetime.datetime(2025, 1, 6, 22, 49, 2, tzinfo=<git.objects.util.tzoffset object at 0x000001A436F55ED0>)], [3, datetime.datetime(2025, 1, 6, 21, 49, 9, tzinfo=<git.objects.util.tzoffset object at 0x000001A46A212770>)], [4, datetime.datetime(2025, 1, 6, 20, 49, 3, tzinfo=<git.objects.util.tzoffset object at 0x000001A4366F7D30>)], [0, datetime.datetime(2025, 1, 6, 19, 49, 5, tzinfo=<git.objects.util.tzoffset object at 0x000001A436F559F0>)], [1, datetime.datetime(2025, 1, 6, 18, 49, 48, tzinfo=<git.objects.util.tzoffset object at 0x000001A4368E6890>)], [0, datetime.datetime(2025, 1, 6, 17, 49, 18, tzinfo=<git.objects.util.tzoffset object at 0x000001A4369039A0>)], [7, datetime.datetime(2025, 1, 6, 16, 50, 6, tzinfo=<git.objects.util.tzoffset object at 0x000001A4368FC490>)], [11, datetime.datetime(2025, 1, 6, 15, 49, 8, tzinfo=<git.objects.util.tzoffset object at 0x000001A4368FAD10>)]], 'BLESSINGTON STREET': [[6, datetime.datetime(2025, 1, 6, 23, 49, 2, tzinfo=<git.objects.util.tzoffset object at 0x000001A436F57FD0>)], [6, datetime.datetime(2025, 1, 6, 22, 49, 2, tzinfo=<git.objects.util.tzoffset object at 0x000001A436F57C70>)], [6, datetime.datetime(2025, 1, 6, 21, 49, 9, tzinfo=<git.objects.util.tzoffset object at 0x000001A43635C5B0>)], [5, datetime.datetime(2025, 1, 6, 20, 49, 3, tzinfo=<git.objects.util.tzoffset object at 0x000001A4368E69B0>)], [7, datetime.datetime(2025, 1, 6, 19, 49, 5, tzinfo=<git.objects.util.tzoffset object at 0x000001A436903B20>)], [8, datetime.datetime(2025, 1, 6, 18, 49, 48, tzinfo=<git.objects.util.tzoffset object at 0x000001A4368FC610>)], [8, datetime.datetime(2025, 1, 6, 17, 49, 18, tzinfo=<git.objects.util.tzoffset object at 0x000001A4368FAB90>)], [14, datetime.datetime(2025, 1, 6, 16, 50, 6, tzinfo=<git.objects.util.tzoffset object at 0x000001A436735750>)], [14, datetime.datetime(2025, 1, 6, 15, 49, 8, tzinfo=<git.objects.util.tzoffset object at 0x000001A436FA5DE0>)]], 'BOLTON STREET': [[6, datetime.datetime(2025, 1, 6, 23, 49, 2, tzinfo=<git.objects.util.tzoffset object at 0x000001A436F568C0>)], [4, datetime.datetime(2025, 1, 6, 22, 49, 2, tzinfo=<git.objects.util.tzoffset object at 0x000001A43635CB50>)], [3, datetime.datetime(2025, 1, 6, 21, 49, 9, tzinfo=<git.objects.util.tzoffset object at 0x000001A4368E6860>)], [2, datetime.datetime(2025, 1, 6, 20, 49, 3, tzinfo=<git.objects.util.tzoffset object at 0x000001A436903A60>)], [2, datetime.datetime(2025, 1, 6, 19, 49, 5, tzinfo=<git.objects.util.tzoffset object at 0x000001A4368FC550>)], [3, datetime.datetime(2025, 1, 6, 18, 49, 48, tzinfo=<git.objects.util.tzoffset object at 0x000001A4368FAC50>)], [2, datetime.datetime(2025, 1, 6, 17, 49, 18, tzinfo=<git.objects.util.tzoffset object at 0x000001A436735720>)], [0, datetime.datetime(2025, 1, 6, 16, 50, 6, tzinfo=<git.objects.util.tzoffset object at 0x000001A436FA4430>)], [2, datetime.datetime(2025, 1, 6, 15, 49, 8, tzinfo=<git.objects.util.tzoffset object at 0x000001A437009240>)]], 'GREEK STREET': [[14, datetime.datetime(2025, 1, 6, 23, 49, 2, tzinfo=<git.objects.util.tzoffset object at 0x000001A436F56080>)], [14, datetime.datetime(2025, 1, 6, 22, 49, 2, tzinfo=<git.objects.util.tzoffset object at 0x000001A43635FDC0>)], [14, datetime.datetime(2025, 1, 6, 21, 49, 9, tzinfo=<git.objects.util.tzoffset object at 0x000001A4368E6A70>)], [14, datetime.datetime(2025, 1, 6, 20, 49, 3, tzinfo=<git.objects.util.tzoffset object at 0x000001A436902D10>)], [13, datetime.datetime(2025, 1, 6, 19, 49, 5, tzinfo=<git.objects.util.tzoffset object at 0x000001A4368FCBB0>)], [13, datetime.datetime(2025, 1, 6, 18, 49, 48, tzinfo=<git.objects.util.tzoffset object at 0x000001A4368FA650>)], [12, datetime.datetime(2025, 1, 6, 17, 49, 18, tzinfo=<git.objects.util.tzoffset object at 0x000001A436735A80>)], [11, datetime.datetime(2025, 1, 6, 16, 50, 6, tzinfo=<git.objects.util.tzoffset object at 0x000001A436FA55A0>)], [11, datetime.datetime(2025, 1, 6, 15, 49, 8, tzinfo=<git.objects.util.tzoffset object at 0x000001A43700B430>)]], 'CHARLEMONT PLACE': [[39, datetime.datetime(2025, 1, 6, 23, 49, 2, tzinfo=<git.objects.util.tzoffset object at 0x000001A4368F75E0>)], [39, datetime.datetime(2025, 1, 6, 22, 49, 2, tzinfo=<git.objects.util.tzoffset object at 0x000001A43635D2A0>)], [40, datetime.datetime(2025, 1, 6, 21, 49, 9, tzinfo=<git.objects.util.tzoffset object at 0x000001A4368E6230>)], [38, datetime.datetime(2025, 1, 6, 20, 49, 3, tzinfo=<git.objects.util.tzoffset object at 0x000001A436903F10>)], [40, datetime.datetime(2025, 1, 6, 19, 49, 5, tzinfo=<git.objects.util.tzoffset object at 0x000001A4368FCA60>)], [40, datetime.datetime(2025, 1, 6, 18, 49, 48, tzinfo=<git.objects.util.tzoffset object at 0x000001A4368FA2C0>)], [39, datetime.datetime(2025, 1, 6, 17, 49, 18, tzinfo=<git.objects.util.tzoffset object at 0x000001A436735AE0>)], [22, datetime.datetime(2025, 1, 6, 16, 50, 6, tzinfo=<git.objects.util.tzoffset object at 0x000001A436FA59C0>)], [13, datetime.datetime(2025, 1, 6, 15, 49, 8, tzinfo=<git.objects.util.tzoffset object at 0x000001A43700BC40>)]], 'CHRISTCHURCH PLACE': [[6, datetime.datetime(2025, 1, 6, 23, 49, 2, tzinfo=<git.objects.util.tzoffset object at 0x000001A4368F7730>)], [6, datetime.datetime(2025, 1, 6, 22, 49, 2, tzinfo=<git.objects.util.tzoffset object at 0x000001A43635FA90>)], [6, datetime.datetime(2025, 1, 6, 21, 49, 9, tzinfo=<git.objects.util.tzoffset object at 0x000001A4368E63B0>)], [7, datetime.datetime(2025, 1, 6, 20, 49, 3, tzinfo=<git.objects.util.tzoffset object at 0x000001A436902BF0>)], [7, datetime.datetime(2025, 1, 6, 19, 49, 5, tzinfo=<git.objects.util.tzoffset object at 0x000001A4368FC8E0>)], [8, datetime.datetime(2025, 1, 6, 18, 49, 48, tzinfo=<git.objects.util.tzoffset object at 0x000001A4368FA4D0>)], [6, datetime.datetime(2025, 1, 6, 17, 49, 18, tzinfo=<git.objects.util.tzoffset object at 0x000001A436735840>)], [4, datetime.datetime(2025, 1, 6, 16, 50, 6, tzinfo=<git.objects.util.tzoffset object at 0x000001A436FA5F90>)], [4, datetime.datetime(2025, 1, 6, 15, 49, 8, tzinfo=<git.objects.util.tzoffset object at 0x000001A4370082E0>)]], 'HIGH STREET': [[19, datetime.datetime(2025, 1, 6, 23, 49, 2, tzinfo=<git.objects.util.tzoffset object at 0x000001A4368F7BB0>)], [19, datetime.datetime(2025, 1, 6, 22, 49, 2, tzinfo=<git.objects.util.tzoffset object at 0x000001A43635D450>)], [19, datetime.datetime(2025, 1, 6, 21, 49, 9, tzinfo=<git.objects.util.tzoffset object at 0x000001A4368E6C20>)], [19, datetime.datetime(2025, 1, 6, 20, 49, 3, tzinfo=<git.objects.util.tzoffset object at 0x000001A436903BE0>)], [17, datetime.datetime(2025, 1, 6, 19, 49, 5, tzinfo=<git.objects.util.tzoffset object at 0x000001A4368FC6D0>)], [18, datetime.datetime(2025, 1, 6, 18, 49, 48, tzinfo=<git.objects.util.tzoffset object at 0x000001A4368FACB0>)], [19, datetime.datetime(2025, 1, 6, 17, 49, 18, tzinfo=<git.objects.util.tzoffset object at 0x000001A4367357B0>)], [19, datetime.datetime(2025, 1, 6, 16, 50, 6, tzinfo=<git.objects.util.tzoffset object at 0x000001A436FA5C30>)], [19, datetime.datetime(2025, 1, 6, 15, 49, 8, tzinfo=<git.objects.util.tzoffset object at 0x000001A43700BB50>)]], 'CUSTOM HOUSE QUAY': [[10, datetime.datetime(2025, 1, 6, 23, 49, 2, tzinfo=<git.objects.util.tzoffset object at 0x000001A4368F7E50>)], [10, datetime.datetime(2025, 1, 6, 22, 49, 2, tzinfo=<git.objects.util.tzoffset object at 0x000001A43635F190>)], [9, datetime.datetime(2025, 1, 6, 21, 49, 9, tzinfo=<git.objects.util.tzoffset object at 0x000001A4368E67A0>)], [9, datetime.datetime(2025, 1, 6, 20, 49, 3, tzinfo=<git.objects.util.tzoffset object at 0x000001A436902DA0>)], [10, datetime.datetime(2025, 1, 6, 19, 49, 5, tzinfo=<git.objects.util.tzoffset object at 0x000001A4368FC790>)], [12, datetime.datetime(2025, 1, 6, 18, 49, 48, tzinfo=<git.objects.util.tzoffset object at 0x000001A4368FABF0>)], [9, datetime.datetime(2025, 1, 6, 17, 49, 18, tzinfo=<git.objects.util.tzoffset object at 0x000001A436736770>)], [11, datetime.datetime(2025, 1, 6, 16, 50, 6, tzinfo=<git.objects.util.tzoffset object at 0x000001A436FA4100>)], [6, datetime.datetime(2025, 1, 6, 15, 49, 8, tzinfo=<git.objects.util.tzoffset object at 0x000001A437009660>)]], 'EXCHEQUER STREET': [[2, datetime.datetime(2025, 1, 6, 23, 49, 2, tzinfo=<git.objects.util.tzoffset object at 0x000001A4368F7220>)], [3, datetime.datetime(2025, 1, 6, 22, 49, 2, tzinfo=<git.objects.util.tzoffset object at 0x000001A43635DA80>)], [4, datetime.datetime(2025, 1, 6, 21, 49, 9, tzinfo=<git.objects.util.tzoffset object at 0x000001A4368E68F0>)], [6, datetime.datetime(2025, 1, 6, 20, 49, 3, tzinfo=<git.objects.util.tzoffset object at 0x000001A436903E50>)], [8, datetime.datetime(2025, 1, 6, 19, 49, 5, tzinfo=<git.objects.util.tzoffset object at 0x000001A4368FCEB0>)], [9, datetime.datetime(2025, 1, 6, 18, 49, 48, tzinfo=<git.objects.util.tzoffset object at 0x000001A4368FA2F0>)], [15, datetime.datetime(2025, 1, 6, 17, 49, 18, tzinfo=<git.objects.util.tzoffset object at 0x000001A436735DE0>)], [11, datetime.datetime(2025, 1, 6, 16, 50, 6, tzinfo=<git.objects.util.tzoffset object at 0x000001A436FA4160>)], [11, datetime.datetime(2025, 1, 6, 15, 49, 8, tzinfo=<git.objects.util.tzoffset object at 0x000001A4370086D0>)]], 'DAME STREET': [[9, datetime.datetime(2025, 1, 6, 23, 49, 2, tzinfo=<git.objects.util.tzoffset object at 0x000001A4368F6C80>)], [10, datetime.datetime(2025, 1, 6, 22, 49, 2, tzinfo=<git.objects.util.tzoffset object at 0x000001A43635C970>)], [11, datetime.datetime(2025, 1, 6, 21, 49, 9, tzinfo=<git.objects.util.tzoffset object at 0x000001A4368E60B0>)], [10, datetime.datetime(2025, 1, 6, 20, 49, 3, tzinfo=<git.objects.util.tzoffset object at 0x000001A436903CA0>)], [12, datetime.datetime(2025, 1, 6, 19, 49, 5, tzinfo=<git.objects.util.tzoffset object at 0x000001A4368FCBE0>)], [11, datetime.datetime(2025, 1, 6, 18, 49, 48, tzinfo=<git.objects.util.tzoffset object at 0x000001A4368FA3E0>)], [11, datetime.datetime(2025, 1, 6, 17, 49, 18, tzinfo=<git.objects.util.tzoffset object at 0x000001A436735CC0>)], [10, datetime.datetime(2025, 1, 6, 16, 50, 6, tzinfo=<git.objects.util.tzoffset object at 0x000001A436FA7F70>)], [12, datetime.datetime(2025, 1, 6, 15, 49, 8, tzinfo=<git.objects.util.tzoffset object at 0x000001A43700A2F0>)]], 'EARLSFORT TERRACE': [[0, datetime.datetime(2025, 1, 6, 23, 49, 2, tzinfo=<git.objects.util.tzoffset object at 0x000001A4368F6BF0>)], [0, datetime.datetime(2025, 1, 6, 22, 49, 2, tzinfo=<git.objects.util.tzoffset object at 0x000001A43635D870>)], [0, datetime.datetime(2025, 1, 6, 21, 49, 9, tzinfo=<git.objects.util.tzoffset object at 0x000001A4368E6350>)], [0, datetime.datetime(2025, 1, 6, 20, 49, 3, tzinfo=<git.objects.util.tzoffset object at 0x000001A436FEEF20>)], [0, datetime.datetime(2025, 1, 6, 19, 49, 5, tzinfo=<git.objects.util.tzoffset object at 0x000001A4368FCE80>)], [0, datetime.datetime(2025, 1, 6, 18, 49, 48, tzinfo=<git.objects.util.tzoffset object at 0x000001A4368FA560>)], [0, datetime.datetime(2025, 1, 6, 17, 49, 18, tzinfo=<git.objects.util.tzoffset object at 0x000001A4367376D0>)], [7, datetime.datetime(2025, 1, 6, 16, 50, 6, tzinfo=<git.objects.util.tzoffset object at 0x000001A436FA45B0>)], [9, datetime.datetime(2025, 1, 6, 15, 49, 8, tzinfo=<git.objects.util.tzoffset object at 0x000001A43700B940>)]], 'ECCLES STREET': [[2, datetime.datetime(2025, 1, 6, 23, 49, 2, tzinfo=<git.objects.util.tzoffset object at 0x000001A4368F69E0>)], [1, datetime.datetime(2025, 1, 6, 22, 49, 2, tzinfo=<git.objects.util.tzoffset object at 0x000001A43635F550>)], [1, datetime.datetime(2025, 1, 6, 21, 49, 9, tzinfo=<git.objects.util.tzoffset object at 0x000001A4368E6290>)], [0, datetime.datetime(2025, 1, 6, 20, 49, 3, tzinfo=<git.objects.util.tzoffset object at 0x000001A436FEED10>)], [0, datetime.datetime(2025, 1, 6, 19, 49, 5, tzinfo=<git.objects.util.tzoffset object at 0x000001A4368FCF40>)], [3, datetime.datetime(2025, 1, 6, 18, 49, 48, tzinfo=<git.objects.util.tzoffset object at 0x000001A4368FA320>)], [2, datetime.datetime(2025, 1, 6, 17, 49, 18, tzinfo=<git.objects.util.tzoffset object at 0x000001A436737730>)], [0, datetime.datetime(2025, 1, 6, 16, 50, 6, tzinfo=<git.objects.util.tzoffset object at 0x000001A436FA42B0>)], [0, datetime.datetime(2025, 1, 6, 15, 49, 8, tzinfo=<git.objects.util.tzoffset object at 0x000001A43700A6E0>)]], 'FITZWILLIAM SQUARE WEST': [[1, datetime.datetime(2025, 1, 6, 23, 49, 2, tzinfo=<git.objects.util.tzoffset object at 0x000001A4368F6CB0>)], [1, datetime.datetime(2025, 1, 6, 22, 49, 2, tzinfo=<git.objects.util.tzoffset object at 0x000001A43635E1A0>)], [1, datetime.datetime(2025, 1, 6, 21, 49, 9, tzinfo=<git.objects.util.tzoffset object at 0x000001A4368E61D0>)], [1, datetime.datetime(2025, 1, 6, 20, 49, 3, tzinfo=<git.objects.util.tzoffset object at 0x000001A436FEFD30>)], [1, datetime.datetime(2025, 1, 6, 19, 49, 5, tzinfo=<git.objects.util.tzoffset object at 0x000001A4368FD000>)], [0, datetime.datetime(2025, 1, 6, 18, 49, 48, tzinfo=<git.objects.util.tzoffset object at 0x000001A4368FA080>)], [2, datetime.datetime(2025, 1, 6, 17, 49, 18, tzinfo=<git.objects.util.tzoffset object at 0x000001A436737F10>)], [7, datetime.datetime(2025, 1, 6, 16, 50, 6, tzinfo=<git.objects.util.tzoffset object at 0x000001A436FA6B00>)], [7, datetime.datetime(2025, 1, 6, 15, 49, 8, tzinfo=<git.objects.util.tzoffset object at 0x000001A43700BD90>)]], 'FOWNES STREET UPPER': [[12, datetime.datetime(2025, 1, 6, 23, 49, 2, tzinfo=<git.objects.util.tzoffset object at 0x000001A4368F67A0>)], [14, datetime.datetime(2025, 1, 6, 22, 49, 2, tzinfo=<git.objects.util.tzoffset object at 0x000001A43635E470>)], [14, datetime.datetime(2025, 1, 6, 21, 49, 9, tzinfo=<git.objects.util.tzoffset object at 0x000001A4368E6110>)], [13, datetime.datetime(2025, 1, 6, 20, 49, 3, tzinfo=<git.objects.util.tzoffset object at 0x000001A436FEF160>)], [13, datetime.datetime(2025, 1, 6, 19, 49, 5, tzinfo=<git.objects.util.tzoffset object at 0x000001A4368FD0C0>)], [12, datetime.datetime(2025, 1, 6, 18, 49, 48, tzinfo=<git.objects.util.tzoffset object at 0x000001A4368F9CF0>)], [12, datetime.datetime(2025, 1, 6, 17, 49, 18, tzinfo=<git.objects.util.tzoffset object at 0x000001A436737E20>)], [14, datetime.datetime(2025, 1, 6, 16, 50, 6, tzinfo=<git.objects.util.tzoffset object at 0x000001A436FA4AC0>)], [11, datetime.datetime(2025, 1, 6, 15, 49, 8, tzinfo=<git.objects.util.tzoffset object at 0x000001A437008C10>)]], 'HARDWICKE STREET': [[2, datetime.datetime(2025, 1, 6, 23, 49, 2, tzinfo=<git.objects.util.tzoffset object at 0x000001A4368F63E0>)], [2, datetime.datetime(2025, 1, 6, 22, 49, 2, tzinfo=<git.objects.util.tzoffset object at 0x000001A43635C790>)], [2, datetime.datetime(2025, 1, 6, 21, 49, 9, tzinfo=<git.objects.util.tzoffset object at 0x000001A4368E6050>)], [2, datetime.datetime(2025, 1, 6, 20, 49, 3, tzinfo=<git.objects.util.tzoffset object at 0x000001A436FEF940>)], [5, datetime.datetime(2025, 1, 6, 19, 49, 5, tzinfo=<git.objects.util.tzoffset object at 0x000001A4368FD180>)], [3, datetime.datetime(2025, 1, 6, 18, 49, 48, tzinfo=<git.objects.util.tzoffset object at 0x000001A4368F9F60>)], [1, datetime.datetime(2025, 1, 6, 17, 49, 18, tzinfo=<git.objects.util.tzoffset object at 0x000001A436734670>)], [1, datetime.datetime(2025, 1, 6, 16, 50, 6, tzinfo=<git.objects.util.tzoffset object at 0x000001A436FA7EE0>)], [1, datetime.datetime(2025, 1, 6, 15, 49, 8, tzinfo=<git.objects.util.tzoffset object at 0x000001A437008D30>)]], 'GEORGES QUAY': [[6, datetime.datetime(2025, 1, 6, 23, 49, 2, tzinfo=<git.objects.util.tzoffset object at 0x000001A4368F76D0>)], [6, datetime.datetime(2025, 1, 6, 22, 49, 2, tzinfo=<git.objects.util.tzoffset object at 0x000001A43635D1E0>)], [6, datetime.datetime(2025, 1, 6, 21, 49, 9, tzinfo=<git.objects.util.tzoffset object at 0x000001A4368E5F90>)], [6, datetime.datetime(2025, 1, 6, 20, 49, 3, tzinfo=<git.objects.util.tzoffset object at 0x000001A436FED690>)], [5, datetime.datetime(2025, 1, 6, 19, 49, 5, tzinfo=<git.objects.util.tzoffset object at 0x000001A4368FD570>)], [7, datetime.datetime(2025, 1, 6, 18, 49, 48, tzinfo=<git.objects.util.tzoffset object at 0x000001A4368F9DB0>)], [9, datetime.datetime(2025, 1, 6, 17, 49, 18, tzinfo=<git.objects.util.tzoffset object at 0x000001A436734BB0>)], [8, datetime.datetime(2025, 1, 6, 16, 50, 6, tzinfo=<git.objects.util.tzoffset object at 0x000001A436FA6500>)], [5, datetime.datetime(2025, 1, 6, 15, 49, 8, tzinfo=<git.objects.util.tzoffset object at 0x000001A43700A590>)]], 'GOLDEN LANE': [[0, datetime.datetime(2025, 1, 6, 23, 49, 2, tzinfo=<git.objects.util.tzoffset object at 0x000001A4368F4F70>)], [0, datetime.datetime(2025, 1, 6, 22, 49, 2, tzinfo=<git.objects.util.tzoffset object at 0x000001A436F0EDA0>)], [0, datetime.datetime(2025, 1, 6, 21, 49, 9, tzinfo=<git.objects.util.tzoffset object at 0x000001A4368E5ED0>)], [0, datetime.datetime(2025, 1, 6, 20, 49, 3, tzinfo=<git.objects.util.tzoffset object at 0x000001A436FED2D0>)], [2, datetime.datetime(2025, 1, 6, 19, 49, 5, tzinfo=<git.objects.util.tzoffset object at 0x000001A4368FD120>)], [3, datetime.datetime(2025, 1, 6, 18, 49, 48, tzinfo=<git.objects.util.tzoffset object at 0x000001A4368F9F90>)], [1, datetime.datetime(2025, 1, 6, 17, 49, 18, tzinfo=<git.objects.util.tzoffset object at 0x000001A436736EF0>)], [1, datetime.datetime(2025, 1, 6, 16, 50, 6, tzinfo=<git.objects.util.tzoffset object at 0x000001A436FA6DA0>)], [1, datetime.datetime(2025, 1, 6, 15, 49, 8, tzinfo=<git.objects.util.tzoffset object at 0x000001A4370083A0>)]], 'GRANTHAM STREET': [[18, datetime.datetime(2025, 1, 6, 23, 49, 2, tzinfo=<git.objects.util.tzoffset object at 0x000001A4368F5030>)], [18, datetime.datetime(2025, 1, 6, 22, 49, 2, tzinfo=<git.objects.util.tzoffset object at 0x000001A436F0F370>)], [19, datetime.datetime(2025, 1, 6, 21, 49, 9, tzinfo=<git.objects.util.tzoffset object at 0x000001A4368E5E10>)], [17, datetime.datetime(2025, 1, 6, 20, 49, 3, tzinfo=<git.objects.util.tzoffset object at 0x000001A436FEFA00>)], [20, datetime.datetime(2025, 1, 6, 19, 49, 5, tzinfo=<git.objects.util.tzoffset object at 0x000001A4368FD360>)], [16, datetime.datetime(2025, 1, 6, 18, 49, 48, tzinfo=<git.objects.util.tzoffset object at 0x000001A4368F99F0>)], [14, datetime.datetime(2025, 1, 6, 17, 49, 18, tzinfo=<git.objects.util.tzoffset object at 0x000001A436734790>)], [11, datetime.datetime(2025, 1, 6, 16, 50, 6, tzinfo=<git.objects.util.tzoffset object at 0x000001A436FA76A0>)], [9, datetime.datetime(2025, 1, 6, 15, 49, 8, tzinfo=<git.objects.util.tzoffset object at 0x000001A43700A650>)]], 'HERBERT PLACE': [[1, datetime.datetime(2025, 1, 6, 23, 49, 2, tzinfo=<git.objects.util.tzoffset object at 0x000001A4368F50F0>)], [1, datetime.datetime(2025, 1, 6, 22, 49, 2, tzinfo=<git.objects.util.tzoffset object at 0x000001A436F0DFC0>)], [1, datetime.datetime(2025, 1, 6, 21, 49, 9, tzinfo=<git.objects.util.tzoffset object at 0x000001A4368E5D50>)], [1, datetime.datetime(2025, 1, 6, 20, 49, 3, tzinfo=<git.objects.util.tzoffset object at 0x000001A436FEDF30>)], [0, datetime.datetime(2025, 1, 6, 19, 49, 5, tzinfo=<git.objects.util.tzoffset object at 0x000001A4368FD7B0>)], [1, datetime.datetime(2025, 1, 6, 18, 49, 48, tzinfo=<git.objects.util.tzoffset object at 0x000001A4368F9D50>)], [2, datetime.datetime(2025, 1, 6, 17, 49, 18, tzinfo=<git.objects.util.tzoffset object at 0x000001A436736DD0>)], [22, datetime.datetime(2025, 1, 6, 16, 50, 6, tzinfo=<git.objects.util.tzoffset object at 0x000001A436FA7490>)], [27, datetime.datetime(2025, 1, 6, 15, 49, 8, tzinfo=<git.objects.util.tzoffset object at 0x000001A43700B070>)]], 'JAMES STREET EAST': [[0, datetime.datetime(2025, 1, 6, 23, 49, 2, tzinfo=<git.objects.util.tzoffset object at 0x000001A4368F51B0>)], [0, datetime.datetime(2025, 1, 6, 22, 49, 2, tzinfo=<git.objects.util.tzoffset object at 0x000001A436F0E0E0>)], [0, datetime.datetime(2025, 1, 6, 21, 49, 9, tzinfo=<git.objects.util.tzoffset object at 0x000001A4368E5C90>)], [0, datetime.datetime(2025, 1, 6, 20, 49, 3, tzinfo=<git.objects.util.tzoffset object at 0x000001A436FEDC90>)], [0, datetime.datetime(2025, 1, 6, 19, 49, 5, tzinfo=<git.objects.util.tzoffset object at 0x000001A4368FD450>)], [2, datetime.datetime(2025, 1, 6, 18, 49, 48, tzinfo=<git.objects.util.tzoffset object at 0x000001A4368F9C60>)], [1, datetime.datetime(2025, 1, 6, 17, 49, 18, tzinfo=<git.objects.util.tzoffset object at 0x000001A436734400>)], [5, datetime.datetime(2025, 1, 6, 16, 50, 6, tzinfo=<git.objects.util.tzoffset object at 0x000001A436FA7E20>)], [11, datetime.datetime(2025, 1, 6, 15, 49, 8, tzinfo=<git.objects.util.tzoffset object at 0x000001A4370098D0>)]], 'LEINSTER STREET SOUTH': [[0, datetime.datetime(2025, 1, 6, 23, 49, 2, tzinfo=<git.objects.util.tzoffset object at 0x000001A4368F7910>)], [0, datetime.datetime(2025, 1, 6, 22, 49, 2, tzinfo=<git.objects.util.tzoffset object at 0x000001A436F0ECB0>)], [0, datetime.datetime(2025, 1, 6, 21, 49, 9, tzinfo=<git.objects.util.tzoffset object at 0x000001A4368E5DB0>)], [2, datetime.datetime(2025, 1, 6, 20, 49, 3, tzinfo=<git.objects.util.tzoffset object at 0x000001A436FEDF00>)], [3, datetime.datetime(2025, 1, 6, 19, 49, 5, tzinfo=<git.objects.util.tzoffset object at 0x000001A4368FD480>)], [4, datetime.datetime(2025, 1, 6, 18, 49, 48, tzinfo=<git.objects.util.tzoffset object at 0x000001A4368F9BA0>)], [9, datetime.datetime(2025, 1, 6, 17, 49, 18, tzinfo=<git.objects.util.tzoffset object at 0x000001A436736C80>)], [12, datetime.datetime(2025, 1, 6, 16, 50, 6, tzinfo=<git.objects.util.tzoffset object at 0x000001A436FA5240>)], [17, datetime.datetime(2025, 1, 6, 15, 49, 8, tzinfo=<git.objects.util.tzoffset object at 0x000001A436731BD0>)]], 'TOWNSEND STREET': [[7, datetime.datetime(2025, 1, 6, 23, 49, 2, tzinfo=<git.objects.util.tzoffset object at 0x000001A4368F79A0>)], [7, datetime.datetime(2025, 1, 6, 22, 49, 2, tzinfo=<git.objects.util.tzoffset object at 0x000001A436F0E6B0>)], [7, datetime.datetime(2025, 1, 6, 21, 49, 9, tzinfo=<git.objects.util.tzoffset object at 0x000001A4368E5840>)], [9, datetime.datetime(2025, 1, 6, 20, 49, 3, tzinfo=<git.objects.util.tzoffset object at 0x000001A436FEE980>)], [9, datetime.datetime(2025, 1, 6, 19, 49, 5, tzinfo=<git.objects.util.tzoffset object at 0x000001A4368FD390>)], [7, datetime.datetime(2025, 1, 6, 18, 49, 48, tzinfo=<git.objects.util.tzoffset object at 0x000001A4368F9AE0>)], [4, datetime.datetime(2025, 1, 6, 17, 49, 18, tzinfo=<git.objects.util.tzoffset object at 0x000001A436734550>)], [5, datetime.datetime(2025, 1, 6, 16, 50, 6, tzinfo=<git.objects.util.tzoffset object at 0x000001A436FA7400>)], [0, datetime.datetime(2025, 1, 6, 15, 49, 8, tzinfo=<git.objects.util.tzoffset object at 0x000001A4367322F0>)]], 'CUSTOM HOUSE': [[14, datetime.datetime(2025, 1, 6, 23, 49, 2, tzinfo=<git.objects.util.tzoffset object at 0x000001A4368F7850>)], [16, datetime.datetime(2025, 1, 6, 22, 49, 2, tzinfo=<git.objects.util.tzoffset object at 0x000001A436F0F430>)], [16, datetime.datetime(2025, 1, 6, 21, 49, 9, tzinfo=<git.objects.util.tzoffset object at 0x000001A4368E59C0>)], [14, datetime.datetime(2025, 1, 6, 20, 49, 3, tzinfo=<git.objects.util.tzoffset object at 0x000001A436FEF730>)], [15, datetime.datetime(2025, 1, 6, 19, 49, 5, tzinfo=<git.objects.util.tzoffset object at 0x000001A4368FD960>)], [15, datetime.datetime(2025, 1, 6, 18, 49, 48, tzinfo=<git.objects.util.tzoffset object at 0x000001A4368F9A20>)], [14, datetime.datetime(2025, 1, 6, 17, 49, 18, tzinfo=<git.objects.util.tzoffset object at 0x000001A436734730>)], [13, datetime.datetime(2025, 1, 6, 16, 50, 6, tzinfo=<git.objects.util.tzoffset object at 0x000001A436FA7DC0>)], [11, datetime.datetime(2025, 1, 6, 15, 49, 8, tzinfo=<git.objects.util.tzoffset object at 0x000001A4367333D0>)]], 'CATHAL BRUGHA STREET': [[15, datetime.datetime(2025, 1, 6, 23, 49, 2, tzinfo=<git.objects.util.tzoffset object at 0x000001A4368F7760>)], [13, datetime.datetime(2025, 1, 6, 22, 49, 2, tzinfo=<git.objects.util.tzoffset object at 0x000001A436F0F6D0>)], [13, datetime.datetime(2025, 1, 6, 21, 49, 9, tzinfo=<git.objects.util.tzoffset object at 0x000001A4368E5780>)], [10, datetime.datetime(2025, 1, 6, 20, 49, 3, tzinfo=<git.objects.util.tzoffset object at 0x000001A436FEF0D0>)], [9, datetime.datetime(2025, 1, 6, 19, 49, 5, tzinfo=<git.objects.util.tzoffset object at 0x000001A4368FD5D0>)], [4, datetime.datetime(2025, 1, 6, 18, 49, 48, tzinfo=<git.objects.util.tzoffset object at 0x000001A4368F9960>)], [8, datetime.datetime(2025, 1, 6, 17, 49, 18, tzinfo=<git.objects.util.tzoffset object at 0x000001A436734100>)], [7, datetime.datetime(2025, 1, 6, 16, 50, 6, tzinfo=<git.objects.util.tzoffset object at 0x000001A436FA5AB0>)], [10, datetime.datetime(2025, 1, 6, 15, 49, 8, tzinfo=<git.objects.util.tzoffset object at 0x000001A4367320B0>)]], 'MERRION SQUARE EAST': [[12, datetime.datetime(2025, 1, 6, 23, 49, 2, tzinfo=<git.objects.util.tzoffset object at 0x000001A4368F7A30>)], [12, datetime.datetime(2025, 1, 6, 22, 49, 2, tzinfo=<git.objects.util.tzoffset object at 0x000001A436F0F910>)], [12, datetime.datetime(2025, 1, 6, 21, 49, 9, tzinfo=<git.objects.util.tzoffset object at 0x000001A4368E5990>)], [12, datetime.datetime(2025, 1, 6, 20, 49, 3, tzinfo=<git.objects.util.tzoffset object at 0x000001A436FEF670>)], [13, datetime.datetime(2025, 1, 6, 19, 49, 5, tzinfo=<git.objects.util.tzoffset object at 0x000001A4368FDDB0>)], [13, datetime.datetime(2025, 1, 6, 18, 49, 48, tzinfo=<git.objects.util.tzoffset object at 0x000001A4368F98A0>)], [12, datetime.datetime(2025, 1, 6, 17, 49, 18, tzinfo=<git.objects.util.tzoffset object at 0x000001A436734580>)], [17, datetime.datetime(2025, 1, 6, 16, 50, 6, tzinfo=<git.objects.util.tzoffset object at 0x000001A436FA66E0>)], [21, datetime.datetime(2025, 1, 6, 15, 49, 8, tzinfo=<git.objects.util.tzoffset object at 0x000001A4368DB700>)]], 'MERRION SQUARE WEST': [[0, datetime.datetime(2025, 1, 6, 23, 49, 2, tzinfo=<git.objects.util.tzoffset object at 0x000001A4368F5510>)], [0, datetime.datetime(2025, 1, 6, 22, 49, 2, tzinfo=<git.objects.util.tzoffset object at 0x000001A436F0EE00>)], [0, datetime.datetime(2025, 1, 6, 21, 49, 9, tzinfo=<git.objects.util.tzoffset object at 0x000001A4368E5A50>)], [0, datetime.datetime(2025, 1, 6, 20, 49, 3, tzinfo=<git.objects.util.tzoffset object at 0x000001A436FED1B0>)], [0, datetime.datetime(2025, 1, 6, 19, 49, 5, tzinfo=<git.objects.util.tzoffset object at 0x000001A4368FD5A0>)], [3, datetime.datetime(2025, 1, 6, 18, 49, 48, tzinfo=<git.objects.util.tzoffset object at 0x000001A4368F97E0>)], [10, datetime.datetime(2025, 1, 6, 17, 49, 18, tzinfo=<git.objects.util.tzoffset object at 0x000001A436736E60>)], [7, datetime.datetime(2025, 1, 6, 16, 50, 6, tzinfo=<git.objects.util.tzoffset object at 0x000001A436FA77F0>)], [10, datetime.datetime(2025, 1, 6, 15, 49, 8, tzinfo=<git.objects.util.tzoffset object at 0x000001A4368D8970>)]], 'MOLESWORTH STREET': [[0, datetime.datetime(2025, 1, 6, 23, 49, 2, tzinfo=<git.objects.util.tzoffset object at 0x000001A4368F45B0>)], [0, datetime.datetime(2025, 1, 6, 22, 49, 2, tzinfo=<git.objects.util.tzoffset object at 0x000001A436F0EB00>)], [0, datetime.datetime(2025, 1, 6, 21, 49, 9, tzinfo=<git.objects.util.tzoffset object at 0x000001A4368E5930>)], [1, datetime.datetime(2025, 1, 6, 20, 49, 3, tzinfo=<git.objects.util.tzoffset object at 0x000001A436FEE170>)], [0, datetime.datetime(2025, 1, 6, 19, 49, 5, tzinfo=<git.objects.util.tzoffset object at 0x000001A4368FD9C0>)], [0, datetime.datetime(2025, 1, 6, 18, 49, 48, tzinfo=<git.objects.util.tzoffset object at 0x000001A4368F9720>)], [1, datetime.datetime(2025, 1, 6, 17, 49, 18, tzinfo=<git.objects.util.tzoffset object at 0x000001A4367346A0>)], [5, datetime.datetime(2025, 1, 6, 16, 50, 6, tzinfo=<git.objects.util.tzoffset object at 0x000001A436FA61D0>)], [3, datetime.datetime(2025, 1, 6, 15, 49, 8, tzinfo=<git.objects.util.tzoffset object at 0x000001A4368DB190>)]], 'MOUNTJOY SQUARE WEST': [[6, datetime.datetime(2025, 1, 6, 23, 49, 2, tzinfo=<git.objects.util.tzoffset object at 0x000001A4368F44F0>)], [5, datetime.datetime(2025, 1, 6, 22, 49, 2, tzinfo=<git.objects.util.tzoffset object at 0x000001A436F0F610>)], [4, datetime.datetime(2025, 1, 6, 21, 49, 9, tzinfo=<git.objects.util.tzoffset object at 0x000001A4368E5750>)], [4, datetime.datetime(2025, 1, 6, 20, 49, 3, tzinfo=<git.objects.util.tzoffset object at 0x000001A436FED840>)], [3, datetime.datetime(2025, 1, 6, 19, 49, 5, tzinfo=<git.objects.util.tzoffset object at 0x000001A4368FD600>)], [2, datetime.datetime(2025, 1, 6, 18, 49, 48, tzinfo=<git.objects.util.tzoffset object at 0x000001A4368F9660>)], [2, datetime.datetime(2025, 1, 6, 17, 49, 18, tzinfo=<git.objects.util.tzoffset object at 0x000001A436737010>)], [2, datetime.datetime(2025, 1, 6, 16, 50, 6, tzinfo=<git.objects.util.tzoffset object at 0x000001A436FA40D0>)], [3, datetime.datetime(2025, 1, 6, 15, 49, 8, tzinfo=<git.objects.util.tzoffset object at 0x000001A4368DAA10>)]], 'ORMOND QUAY UPPER': [[4, datetime.datetime(2025, 1, 6, 23, 49, 2, tzinfo=<git.objects.util.tzoffset object at 0x000001A4368F4430>)], [3, datetime.datetime(2025, 1, 6, 22, 49, 2, tzinfo=<git.objects.util.tzoffset object at 0x000001A436F0D510>)], [4, datetime.datetime(2025, 1, 6, 21, 49, 9, tzinfo=<git.objects.util.tzoffset object at 0x000001A4368E42E0>)], [7, datetime.datetime(2025, 1, 6, 20, 49, 3, tzinfo=<git.objects.util.tzoffset object at 0x000001A436FEF3D0>)], [11, datetime.datetime(2025, 1, 6, 19, 49, 5, tzinfo=<git.objects.util.tzoffset object at 0x000001A4368FDDE0>)], [10, datetime.datetime(2025, 1, 6, 18, 49, 48, tzinfo=<git.objects.util.tzoffset object at 0x000001A4368F95A0>)], [11, datetime.datetime(2025, 1, 6, 17, 49, 18, tzinfo=<git.objects.util.tzoffset object at 0x000001A436734F40>)], [13, datetime.datetime(2025, 1, 6, 16, 50, 6, tzinfo=<git.objects.util.tzoffset object at 0x000001A436FA5BA0>)], [12, datetime.datetime(2025, 1, 6, 15, 49, 8, tzinfo=<git.objects.util.tzoffset object at 0x000001A4368DBB20>)]], 'PARNELL SQUARE NORTH': [[0, datetime.datetime(2025, 1, 6, 23, 49, 2, tzinfo=<git.objects.util.tzoffset object at 0x000001A4368F4370>)], [0, datetime.datetime(2025, 1, 6, 22, 49, 2, tzinfo=<git.objects.util.tzoffset object at 0x000001A436F0EB60>)], [0, datetime.datetime(2025, 1, 6, 21, 49, 9, tzinfo=<git.objects.util.tzoffset object at 0x000001A4368E4A60>)], [0, datetime.datetime(2025, 1, 6, 20, 49, 3, tzinfo=<git.objects.util.tzoffset object at 0x000001A436FED720>)], [0, datetime.datetime(2025, 1, 6, 19, 49, 5, tzinfo=<git.objects.util.tzoffset object at 0x000001A4368FDD80>)], [0, datetime.datetime(2025, 1, 6, 18, 49, 48, tzinfo=<git.objects.util.tzoffset object at 0x000001A4368F94E0>)], [1, datetime.datetime(2025, 1, 6, 17, 49, 18, tzinfo=<git.objects.util.tzoffset object at 0x000001A436737C10>)], [0, datetime.datetime(2025, 1, 6, 16, 50, 6, tzinfo=<git.objects.util.tzoffset object at 0x000001A436FA6200>)], [0, datetime.datetime(2025, 1, 6, 15, 49, 8, tzinfo=<git.objects.util.tzoffset object at 0x000001A4368DABF0>)]], 'PARNELL STREET': [[18, datetime.datetime(2025, 1, 6, 23, 49, 2, tzinfo=<git.objects.util.tzoffset object at 0x000001A4368F42B0>)], [18, datetime.datetime(2025, 1, 6, 22, 49, 2, tzinfo=<git.objects.util.tzoffset object at 0x000001A436F0C6D0>)], [19, datetime.datetime(2025, 1, 6, 21, 49, 9, tzinfo=<git.objects.util.tzoffset object at 0x000001A4368E49D0>)], [19, datetime.datetime(2025, 1, 6, 20, 49, 3, tzinfo=<git.objects.util.tzoffset object at 0x000001A436FEE6E0>)], [18, datetime.datetime(2025, 1, 6, 19, 49, 5, tzinfo=<git.objects.util.tzoffset object at 0x000001A436FBB910>)], [18, datetime.datetime(2025, 1, 6, 18, 49, 48, tzinfo=<git.objects.util.tzoffset object at 0x000001A4368F9420>)], [14, datetime.datetime(2025, 1, 6, 17, 49, 18, tzinfo=<git.objects.util.tzoffset object at 0x000001A436737CA0>)], [19, datetime.datetime(2025, 1, 6, 16, 50, 6, tzinfo=<git.objects.util.tzoffset object at 0x000001A436FA7370>)], [16, datetime.datetime(2025, 1, 6, 15, 49, 8, tzinfo=<git.objects.util.tzoffset object at 0x000001A4368D8C70>)]], 'PEARSE STREET': [[23, datetime.datetime(2025, 1, 6, 23, 49, 2, tzinfo=<git.objects.util.tzoffset object at 0x000001A4368F41F0>)], [23, datetime.datetime(2025, 1, 6, 22, 49, 2, tzinfo=<git.objects.util.tzoffset object at 0x000001A436F0E1D0>)], [26, datetime.datetime(2025, 1, 6, 21, 49, 9, tzinfo=<git.objects.util.tzoffset object at 0x000001A4368E5660>)], [29, datetime.datetime(2025, 1, 6, 20, 49, 3, tzinfo=<git.objects.util.tzoffset object at 0x000001A436FEE350>)], [29, datetime.datetime(2025, 1, 6, 19, 49, 5, tzinfo=<git.objects.util.tzoffset object at 0x000001A436FB9BD0>)], [28, datetime.datetime(2025, 1, 6, 18, 49, 48, tzinfo=<git.objects.util.tzoffset object at 0x000001A4368F9360>)], [18, datetime.datetime(2025, 1, 6, 17, 49, 18, tzinfo=<git.objects.util.tzoffset object at 0x000001A4368EF7F0>)], [10, datetime.datetime(2025, 1, 6, 16, 50, 6, tzinfo=<git.objects.util.tzoffset object at 0x000001A436FA7430>)], [9, datetime.datetime(2025, 1, 6, 15, 49, 8, tzinfo=<git.objects.util.tzoffset object at 0x000001A4368DAEF0>)]], \"PRINCES STREET / O'CONNELL STREET\": [[19, datetime.datetime(2025, 1, 6, 23, 49, 2, tzinfo=<git.objects.util.tzoffset object at 0x000001A4368F4130>)], [20, datetime.datetime(2025, 1, 6, 22, 49, 2, tzinfo=<git.objects.util.tzoffset object at 0x000001A436F0C760>)], [23, datetime.datetime(2025, 1, 6, 21, 49, 9, tzinfo=<git.objects.util.tzoffset object at 0x000001A4368E5540>)], [20, datetime.datetime(2025, 1, 6, 20, 49, 3, tzinfo=<git.objects.util.tzoffset object at 0x000001A436FEE710>)], [22, datetime.datetime(2025, 1, 6, 19, 49, 5, tzinfo=<git.objects.util.tzoffset object at 0x000001A436FB8940>)], [23, datetime.datetime(2025, 1, 6, 18, 49, 48, tzinfo=<git.objects.util.tzoffset object at 0x000001A4368F92A0>)], [22, datetime.datetime(2025, 1, 6, 17, 49, 18, tzinfo=<git.objects.util.tzoffset object at 0x000001A4368EF910>)], [17, datetime.datetime(2025, 1, 6, 16, 50, 6, tzinfo=<git.objects.util.tzoffset object at 0x000001A436FA5E40>)], [13, datetime.datetime(2025, 1, 6, 15, 49, 8, tzinfo=<git.objects.util.tzoffset object at 0x000001A4368D8BB0>)]], 'PORTOBELLO HARBOUR': [[29, datetime.datetime(2025, 1, 6, 23, 49, 2, tzinfo=<git.objects.util.tzoffset object at 0x000001A4368F4070>)], [29, datetime.datetime(2025, 1, 6, 22, 49, 2, tzinfo=<git.objects.util.tzoffset object at 0x000001A436F0E380>)], [29, datetime.datetime(2025, 1, 6, 21, 49, 9, tzinfo=<git.objects.util.tzoffset object at 0x000001A4368E4AC0>)], [28, datetime.datetime(2025, 1, 6, 20, 49, 3, tzinfo=<git.objects.util.tzoffset object at 0x000001A436FEC3A0>)], [28, datetime.datetime(2025, 1, 6, 19, 49, 5, tzinfo=<git.objects.util.tzoffset object at 0x000001A436FBA5C0>)], [30, datetime.datetime(2025, 1, 6, 18, 49, 48, tzinfo=<git.objects.util.tzoffset object at 0x000001A4368F91E0>)], [22, datetime.datetime(2025, 1, 6, 17, 49, 18, tzinfo=<git.objects.util.tzoffset object at 0x000001A4368EFA30>)], [12, datetime.datetime(2025, 1, 6, 16, 50, 6, tzinfo=<git.objects.util.tzoffset object at 0x000001A436FA74C0>)], [7, datetime.datetime(2025, 1, 6, 15, 49, 8, tzinfo=<git.objects.util.tzoffset object at 0x000001A4368DA7A0>)]], 'SMITHFIELD': [[23, datetime.datetime(2025, 1, 6, 23, 49, 2, tzinfo=<git.objects.util.tzoffset object at 0x000001A4368F40D0>)], [23, datetime.datetime(2025, 1, 6, 22, 49, 2, tzinfo=<git.objects.util.tzoffset object at 0x000001A436F0E8F0>)], [23, datetime.datetime(2025, 1, 6, 21, 49, 9, tzinfo=<git.objects.util.tzoffset object at 0x000001A4368E5570>)], [22, datetime.datetime(2025, 1, 6, 20, 49, 3, tzinfo=<git.objects.util.tzoffset object at 0x000001A436FEECB0>)], [22, datetime.datetime(2025, 1, 6, 19, 49, 5, tzinfo=<git.objects.util.tzoffset object at 0x000001A436FBA020>)], [22, datetime.datetime(2025, 1, 6, 18, 49, 48, tzinfo=<git.objects.util.tzoffset object at 0x000001A4368F9120>)], [15, datetime.datetime(2025, 1, 6, 17, 49, 18, tzinfo=<git.objects.util.tzoffset object at 0x000001A4368EF700>)], [12, datetime.datetime(2025, 1, 6, 16, 50, 6, tzinfo=<git.objects.util.tzoffset object at 0x000001A436FA4A00>)], [12, datetime.datetime(2025, 1, 6, 15, 49, 8, tzinfo=<git.objects.util.tzoffset object at 0x000001A4368D9CC0>)]], \"ST. STEPHEN'S GREEN EAST\": [[0, datetime.datetime(2025, 1, 6, 23, 49, 2, tzinfo=<git.objects.util.tzoffset object at 0x000001A4368F7EB0>)], [1, datetime.datetime(2025, 1, 6, 22, 49, 2, tzinfo=<git.objects.util.tzoffset object at 0x000001A436F0CC70>)], [1, datetime.datetime(2025, 1, 6, 21, 49, 9, tzinfo=<git.objects.util.tzoffset object at 0x000001A4368E4F40>)], [0, datetime.datetime(2025, 1, 6, 20, 49, 3, tzinfo=<git.objects.util.tzoffset object at 0x000001A436FEF520>)], [0, datetime.datetime(2025, 1, 6, 19, 49, 5, tzinfo=<git.objects.util.tzoffset object at 0x000001A436FBB310>)], [0, datetime.datetime(2025, 1, 6, 18, 49, 48, tzinfo=<git.objects.util.tzoffset object at 0x000001A4368F9060>)], [1, datetime.datetime(2025, 1, 6, 17, 49, 18, tzinfo=<git.objects.util.tzoffset object at 0x000001A4368EF5E0>)], [6, datetime.datetime(2025, 1, 6, 16, 50, 6, tzinfo=<git.objects.util.tzoffset object at 0x000001A436FA7A90>)], [9, datetime.datetime(2025, 1, 6, 15, 49, 8, tzinfo=<git.objects.util.tzoffset object at 0x000001A4368DADA0>)]], \"ST. STEPHEN'S GREEN SOUTH\": [[2, datetime.datetime(2025, 1, 6, 23, 49, 2, tzinfo=<git.objects.util.tzoffset object at 0x000001A4368F7DF0>)], [2, datetime.datetime(2025, 1, 6, 22, 49, 2, tzinfo=<git.objects.util.tzoffset object at 0x000001A436F0FFA0>)], [2, datetime.datetime(2025, 1, 6, 21, 49, 9, tzinfo=<git.objects.util.tzoffset object at 0x000001A4368E5720>)], [3, datetime.datetime(2025, 1, 6, 20, 49, 3, tzinfo=<git.objects.util.tzoffset object at 0x000001A436FEC1F0>)], [3, datetime.datetime(2025, 1, 6, 19, 49, 5, tzinfo=<git.objects.util.tzoffset object at 0x000001A436FBAF80>)], [4, datetime.datetime(2025, 1, 6, 18, 49, 48, tzinfo=<git.objects.util.tzoffset object at 0x000001A4368F8FA0>)], [10, datetime.datetime(2025, 1, 6, 17, 49, 18, tzinfo=<git.objects.util.tzoffset object at 0x000001A4368EF670>)], [14, datetime.datetime(2025, 1, 6, 16, 50, 6, tzinfo=<git.objects.util.tzoffset object at 0x000001A436FA4EB0>)], [15, datetime.datetime(2025, 1, 6, 15, 49, 8, tzinfo=<git.objects.util.tzoffset object at 0x000001A4368DA6E0>)]], 'TALBOT STREET': [[14, datetime.datetime(2025, 1, 6, 23, 49, 2, tzinfo=<git.objects.util.tzoffset object at 0x000001A4368F7D30>)], [14, datetime.datetime(2025, 1, 6, 22, 49, 2, tzinfo=<git.objects.util.tzoffset object at 0x000001A436F0CD00>)], [14, datetime.datetime(2025, 1, 6, 21, 49, 9, tzinfo=<git.objects.util.tzoffset object at 0x000001A4368E47C0>)], [15, datetime.datetime(2025, 1, 6, 20, 49, 3, tzinfo=<git.objects.util.tzoffset object at 0x000001A436FEEB30>)], [14, datetime.datetime(2025, 1, 6, 19, 49, 5, tzinfo=<git.objects.util.tzoffset object at 0x000001A436FB8970>)], [12, datetime.datetime(2025, 1, 6, 18, 49, 48, tzinfo=<git.objects.util.tzoffset object at 0x000001A4368F8EE0>)], [13, datetime.datetime(2025, 1, 6, 17, 49, 18, tzinfo=<git.objects.util.tzoffset object at 0x000001A4368EF430>)], [11, datetime.datetime(2025, 1, 6, 16, 50, 6, tzinfo=<git.objects.util.tzoffset object at 0x000001A436FA7E80>)], [6, datetime.datetime(2025, 1, 6, 15, 49, 8, tzinfo=<git.objects.util.tzoffset object at 0x000001A4368DB220>)]], 'WILTON TERRACE': [[13, datetime.datetime(2025, 1, 6, 23, 49, 2, tzinfo=<git.objects.util.tzoffset object at 0x000001A4368F4910>)], [12, datetime.datetime(2025, 1, 6, 22, 49, 2, tzinfo=<git.objects.util.tzoffset object at 0x000001A436F0D480>)], [14, datetime.datetime(2025, 1, 6, 21, 49, 9, tzinfo=<git.objects.util.tzoffset object at 0x000001A4368E52D0>)], [13, datetime.datetime(2025, 1, 6, 20, 49, 3, tzinfo=<git.objects.util.tzoffset object at 0x000001A436FEEA70>)], [10, datetime.datetime(2025, 1, 6, 19, 49, 5, tzinfo=<git.objects.util.tzoffset object at 0x000001A436FB8E50>)], [9, datetime.datetime(2025, 1, 6, 18, 49, 48, tzinfo=<git.objects.util.tzoffset object at 0x000001A4368F8A00>)], [11, datetime.datetime(2025, 1, 6, 17, 49, 18, tzinfo=<git.objects.util.tzoffset object at 0x000001A4368EF6D0>)], [8, datetime.datetime(2025, 1, 6, 16, 50, 6, tzinfo=<git.objects.util.tzoffset object at 0x000001A436FA4130>)], [8, datetime.datetime(2025, 1, 6, 15, 49, 8, tzinfo=<git.objects.util.tzoffset object at 0x000001A4368D9420>)]], 'JERVIS STREET': [[0, datetime.datetime(2025, 1, 6, 23, 49, 2, tzinfo=<git.objects.util.tzoffset object at 0x000001A4368F48E0>)], [0, datetime.datetime(2025, 1, 6, 22, 49, 2, tzinfo=<git.objects.util.tzoffset object at 0x000001A436F0F190>)], [2, datetime.datetime(2025, 1, 6, 21, 49, 9, tzinfo=<git.objects.util.tzoffset object at 0x000001A4368E4D30>)], [3, datetime.datetime(2025, 1, 6, 20, 49, 3, tzinfo=<git.objects.util.tzoffset object at 0x000001A436FEDE10>)], [4, datetime.datetime(2025, 1, 6, 19, 49, 5, tzinfo=<git.objects.util.tzoffset object at 0x000001A436FB8EE0>)], [6, datetime.datetime(2025, 1, 6, 18, 49, 48, tzinfo=<git.objects.util.tzoffset object at 0x000001A4368F8CA0>)], [5, datetime.datetime(2025, 1, 6, 17, 49, 18, tzinfo=<git.objects.util.tzoffset object at 0x000001A4368EF130>)], [7, datetime.datetime(2025, 1, 6, 16, 50, 6, tzinfo=<git.objects.util.tzoffset object at 0x000001A436FA5900>)], [8, datetime.datetime(2025, 1, 6, 15, 49, 8, tzinfo=<git.objects.util.tzoffset object at 0x000001A4368DAB60>)]], 'HARCOURT TERRACE': [[5, datetime.datetime(2025, 1, 6, 23, 49, 2, tzinfo=<git.objects.util.tzoffset object at 0x000001A4368F49D0>)], [5, datetime.datetime(2025, 1, 6, 22, 49, 2, tzinfo=<git.objects.util.tzoffset object at 0x000001A436F0D9F0>)], [4, datetime.datetime(2025, 1, 6, 21, 49, 9, tzinfo=<git.objects.util.tzoffset object at 0x000001A4368E5390>)], [4, datetime.datetime(2025, 1, 6, 20, 49, 3, tzinfo=<git.objects.util.tzoffset object at 0x000001A436FEFAC0>)], [6, datetime.datetime(2025, 1, 6, 19, 49, 5, tzinfo=<git.objects.util.tzoffset object at 0x000001A436FB98A0>)], [6, datetime.datetime(2025, 1, 6, 18, 49, 48, tzinfo=<git.objects.util.tzoffset object at 0x000001A4368F8A90>)], [3, datetime.datetime(2025, 1, 6, 17, 49, 18, tzinfo=<git.objects.util.tzoffset object at 0x000001A4368EF310>)], [1, datetime.datetime(2025, 1, 6, 16, 50, 6, tzinfo=<git.objects.util.tzoffset object at 0x000001A436FA6E90>)], [1, datetime.datetime(2025, 1, 6, 15, 49, 8, tzinfo=<git.objects.util.tzoffset object at 0x000001A4368DB940>)]], 'SMITHFIELD NORTH': [[14, datetime.datetime(2025, 1, 6, 23, 49, 2, tzinfo=<git.objects.util.tzoffset object at 0x000001A4368F4E50>)], [15, datetime.datetime(2025, 1, 6, 22, 49, 2, tzinfo=<git.objects.util.tzoffset object at 0x000001A436F0CC10>)], [15, datetime.datetime(2025, 1, 6, 21, 49, 9, tzinfo=<git.objects.util.tzoffset object at 0x000001A4368E53F0>)], [17, datetime.datetime(2025, 1, 6, 20, 49, 3, tzinfo=<git.objects.util.tzoffset object at 0x000001A436FEE4D0>)], [19, datetime.datetime(2025, 1, 6, 19, 49, 5, tzinfo=<git.objects.util.tzoffset object at 0x000001A436FB9CC0>)], [16, datetime.datetime(2025, 1, 6, 18, 49, 48, tzinfo=<git.objects.util.tzoffset object at 0x000001A4368F8700>)], [12, datetime.datetime(2025, 1, 6, 17, 49, 18, tzinfo=<git.objects.util.tzoffset object at 0x000001A4368EEFE0>)], [8, datetime.datetime(2025, 1, 6, 16, 50, 6, tzinfo=<git.objects.util.tzoffset object at 0x000001A436FA47F0>)], [3, datetime.datetime(2025, 1, 6, 15, 49, 8, tzinfo=<git.objects.util.tzoffset object at 0x000001A4368D9600>)]], 'PORTOBELLO ROAD': [[28, datetime.datetime(2025, 1, 6, 23, 49, 2, tzinfo=<git.objects.util.tzoffset object at 0x000001A4368F4BE0>)], [26, datetime.datetime(2025, 1, 6, 22, 49, 2, tzinfo=<git.objects.util.tzoffset object at 0x000001A436F0D060>)], [26, datetime.datetime(2025, 1, 6, 21, 49, 9, tzinfo=<git.objects.util.tzoffset object at 0x000001A4368E52A0>)], [27, datetime.datetime(2025, 1, 6, 20, 49, 3, tzinfo=<git.objects.util.tzoffset object at 0x000001A436FEEFE0>)], [27, datetime.datetime(2025, 1, 6, 19, 49, 5, tzinfo=<git.objects.util.tzoffset object at 0x000001A436FB8310>)], [26, datetime.datetime(2025, 1, 6, 18, 49, 48, tzinfo=<git.objects.util.tzoffset object at 0x000001A4368F86A0>)], [27, datetime.datetime(2025, 1, 6, 17, 49, 18, tzinfo=<git.objects.util.tzoffset object at 0x000001A4368EEF50>)], [17, datetime.datetime(2025, 1, 6, 16, 50, 6, tzinfo=<git.objects.util.tzoffset object at 0x000001A436FA7790>)], [19, datetime.datetime(2025, 1, 6, 15, 49, 8, tzinfo=<git.objects.util.tzoffset object at 0x000001A4368D85E0>)]], 'UPPER SHERRARD STREET': [[20, datetime.datetime(2025, 1, 6, 23, 49, 2, tzinfo=<git.objects.util.tzoffset object at 0x000001A4368F4CD0>)], [20, datetime.datetime(2025, 1, 6, 22, 49, 2, tzinfo=<git.objects.util.tzoffset object at 0x000001A436F0CBB0>)], [19, datetime.datetime(2025, 1, 6, 21, 49, 9, tzinfo=<git.objects.util.tzoffset object at 0x000001A4368E44C0>)], [18, datetime.datetime(2025, 1, 6, 20, 49, 3, tzinfo=<git.objects.util.tzoffset object at 0x000001A436FEE770>)], [16, datetime.datetime(2025, 1, 6, 19, 49, 5, tzinfo=<git.objects.util.tzoffset object at 0x000001A436FB94E0>)], [16, datetime.datetime(2025, 1, 6, 18, 49, 48, tzinfo=<git.objects.util.tzoffset object at 0x000001A4368F8B50>)], [13, datetime.datetime(2025, 1, 6, 17, 49, 18, tzinfo=<git.objects.util.tzoffset object at 0x000001A4368EF340>)], [12, datetime.datetime(2025, 1, 6, 16, 50, 6, tzinfo=<git.objects.util.tzoffset object at 0x000001A436FA5600>)], [9, datetime.datetime(2025, 1, 6, 15, 49, 8, tzinfo=<git.objects.util.tzoffset object at 0x000001A4368DB850>)]], 'DEVERELL PLACE': [[21, datetime.datetime(2025, 1, 6, 23, 49, 2, tzinfo=<git.objects.util.tzoffset object at 0x000001A4368F4BB0>)], [21, datetime.datetime(2025, 1, 6, 22, 49, 2, tzinfo=<git.objects.util.tzoffset object at 0x000001A436F0EE90>)], [19, datetime.datetime(2025, 1, 6, 21, 49, 9, tzinfo=<git.objects.util.tzoffset object at 0x000001A436902A40>)], [18, datetime.datetime(2025, 1, 6, 20, 49, 3, tzinfo=<git.objects.util.tzoffset object at 0x000001A436FED8A0>)], [19, datetime.datetime(2025, 1, 6, 19, 49, 5, tzinfo=<git.objects.util.tzoffset object at 0x000001A436FBBFA0>)], [17, datetime.datetime(2025, 1, 6, 18, 49, 48, tzinfo=<git.objects.util.tzoffset object at 0x000001A4368F8640>)], [16, datetime.datetime(2025, 1, 6, 17, 49, 18, tzinfo=<git.objects.util.tzoffset object at 0x000001A4368EF100>)], [15, datetime.datetime(2025, 1, 6, 16, 50, 6, tzinfo=<git.objects.util.tzoffset object at 0x000001A436FA5C90>)], [13, datetime.datetime(2025, 1, 6, 15, 49, 8, tzinfo=<git.objects.util.tzoffset object at 0x000001A4368D84F0>)]], 'HERBERT STREET': [[1, datetime.datetime(2025, 1, 6, 23, 49, 2, tzinfo=<git.objects.util.tzoffset object at 0x000001A4368F4D60>)], [0, datetime.datetime(2025, 1, 6, 22, 49, 2, tzinfo=<git.objects.util.tzoffset object at 0x000001A436F0F850>)], [0, datetime.datetime(2025, 1, 6, 21, 49, 9, tzinfo=<git.objects.util.tzoffset object at 0x000001A436902B30>)], [0, datetime.datetime(2025, 1, 6, 20, 49, 3, tzinfo=<git.objects.util.tzoffset object at 0x000001A436FED960>)], [0, datetime.datetime(2025, 1, 6, 19, 49, 5, tzinfo=<git.objects.util.tzoffset object at 0x000001A436FB9480>)], [0, datetime.datetime(2025, 1, 6, 18, 49, 48, tzinfo=<git.objects.util.tzoffset object at 0x000001A4368F8790>)], [5, datetime.datetime(2025, 1, 6, 17, 49, 18, tzinfo=<git.objects.util.tzoffset object at 0x000001A4368EF280>)], [5, datetime.datetime(2025, 1, 6, 16, 50, 6, tzinfo=<git.objects.util.tzoffset object at 0x000001A436FA5840>)], [4, datetime.datetime(2025, 1, 6, 15, 49, 8, tzinfo=<git.objects.util.tzoffset object at 0x000001A4368D8B20>)]], 'EXCISE WALK': [[11, datetime.datetime(2025, 1, 6, 23, 49, 2, tzinfo=<git.objects.util.tzoffset object at 0x000001A4368F4DF0>)], [11, datetime.datetime(2025, 1, 6, 22, 49, 2, tzinfo=<git.objects.util.tzoffset object at 0x000001A436F0E9E0>)], [10, datetime.datetime(2025, 1, 6, 21, 49, 9, tzinfo=<git.objects.util.tzoffset object at 0x000001A436902500>)], [11, datetime.datetime(2025, 1, 6, 20, 49, 3, tzinfo=<git.objects.util.tzoffset object at 0x000001A436FED000>)], [10, datetime.datetime(2025, 1, 6, 19, 49, 5, tzinfo=<git.objects.util.tzoffset object at 0x000001A436FB8B20>)], [12, datetime.datetime(2025, 1, 6, 18, 49, 48, tzinfo=<git.objects.util.tzoffset object at 0x000001A4368F8430>)], [9, datetime.datetime(2025, 1, 6, 17, 49, 18, tzinfo=<git.objects.util.tzoffset object at 0x000001A4368EEAD0>)], [1, datetime.datetime(2025, 1, 6, 16, 50, 6, tzinfo=<git.objects.util.tzoffset object at 0x000001A436FA4D60>)], [1, datetime.datetime(2025, 1, 6, 15, 49, 8, tzinfo=<git.objects.util.tzoffset object at 0x000001A4368DA6B0>)]], 'GUILD STREET': [[32, datetime.datetime(2025, 1, 6, 23, 49, 2, tzinfo=<git.objects.util.tzoffset object at 0x000001A4368F4EB0>)], [32, datetime.datetime(2025, 1, 6, 22, 49, 2, tzinfo=<git.objects.util.tzoffset object at 0x000001A436F0FCD0>)], [31, datetime.datetime(2025, 1, 6, 21, 49, 9, tzinfo=<git.objects.util.tzoffset object at 0x000001A4369028F0>)], [32, datetime.datetime(2025, 1, 6, 20, 49, 3, tzinfo=<git.objects.util.tzoffset object at 0x000001A436FEF100>)], [28, datetime.datetime(2025, 1, 6, 19, 49, 5, tzinfo=<git.objects.util.tzoffset object at 0x000001A436FBB9D0>)], [28, datetime.datetime(2025, 1, 6, 18, 49, 48, tzinfo=<git.objects.util.tzoffset object at 0x000001A4368F83D0>)], [20, datetime.datetime(2025, 1, 6, 17, 49, 18, tzinfo=<git.objects.util.tzoffset object at 0x000001A4368EE8F0>)], [26, datetime.datetime(2025, 1, 6, 16, 50, 6, tzinfo=<git.objects.util.tzoffset object at 0x000001A436FA4A90>)], [17, datetime.datetime(2025, 1, 6, 15, 49, 8, tzinfo=<git.objects.util.tzoffset object at 0x000001A4368DB340>)]], 'GEORGES LANE': [[34, datetime.datetime(2025, 1, 6, 23, 49, 2, tzinfo=<git.objects.util.tzoffset object at 0x000001A4368F7520>)], [34, datetime.datetime(2025, 1, 6, 22, 49, 2, tzinfo=<git.objects.util.tzoffset object at 0x000001A436F0FD90>)], [32, datetime.datetime(2025, 1, 6, 21, 49, 9, tzinfo=<git.objects.util.tzoffset object at 0x000001A436902AA0>)], [29, datetime.datetime(2025, 1, 6, 20, 49, 3, tzinfo=<git.objects.util.tzoffset object at 0x000001A436FEF250>)], [26, datetime.datetime(2025, 1, 6, 19, 49, 5, tzinfo=<git.objects.util.tzoffset object at 0x000001A436FBAA10>)], [25, datetime.datetime(2025, 1, 6, 18, 49, 48, tzinfo=<git.objects.util.tzoffset object at 0x000001A4368F8580>)], [22, datetime.datetime(2025, 1, 6, 17, 49, 18, tzinfo=<git.objects.util.tzoffset object at 0x000001A4368EEA40>)], [14, datetime.datetime(2025, 1, 6, 16, 50, 6, tzinfo=<git.objects.util.tzoffset object at 0x000001A436FA5A50>)], [12, datetime.datetime(2025, 1, 6, 15, 49, 8, tzinfo=<git.objects.util.tzoffset object at 0x000001A4368DA3B0>)]], 'YORK STREET WEST': [[0, datetime.datetime(2025, 1, 6, 23, 49, 2, tzinfo=<git.objects.util.tzoffset object at 0x000001A43673D030>)], [0, datetime.datetime(2025, 1, 6, 22, 49, 2, tzinfo=<git.objects.util.tzoffset object at 0x000001A436F0D8A0>)], [0, datetime.datetime(2025, 1, 6, 21, 49, 9, tzinfo=<git.objects.util.tzoffset object at 0x000001A436902A10>)], [0, datetime.datetime(2025, 1, 6, 20, 49, 3, tzinfo=<git.objects.util.tzoffset object at 0x000001A436FEE080>)], [0, datetime.datetime(2025, 1, 6, 19, 49, 5, tzinfo=<git.objects.util.tzoffset object at 0x000001A436FB9330>)], [0, datetime.datetime(2025, 1, 6, 18, 49, 48, tzinfo=<git.objects.util.tzoffset object at 0x000001A4368F8130>)], [0, datetime.datetime(2025, 1, 6, 17, 49, 18, tzinfo=<git.objects.util.tzoffset object at 0x000001A4368EEB30>)], [0, datetime.datetime(2025, 1, 6, 16, 50, 6, tzinfo=<git.objects.util.tzoffset object at 0x000001A436FA43A0>)], [0, datetime.datetime(2025, 1, 6, 15, 49, 8, tzinfo=<git.objects.util.tzoffset object at 0x000001A4368DA440>)]], 'YORK STREET EAST': [[6, datetime.datetime(2025, 1, 6, 23, 49, 2, tzinfo=<git.objects.util.tzoffset object at 0x000001A43673CEB0>)], [7, datetime.datetime(2025, 1, 6, 22, 49, 2, tzinfo=<git.objects.util.tzoffset object at 0x000001A436F0D960>)], [7, datetime.datetime(2025, 1, 6, 21, 49, 9, tzinfo=<git.objects.util.tzoffset object at 0x000001A4369029B0>)], [7, datetime.datetime(2025, 1, 6, 20, 49, 3, tzinfo=<git.objects.util.tzoffset object at 0x000001A436FEDE70>)], [7, datetime.datetime(2025, 1, 6, 19, 49, 5, tzinfo=<git.objects.util.tzoffset object at 0x000001A436FB98D0>)], [8, datetime.datetime(2025, 1, 6, 18, 49, 48, tzinfo=<git.objects.util.tzoffset object at 0x000001A4368F8250>)], [10, datetime.datetime(2025, 1, 6, 17, 49, 18, tzinfo=<git.objects.util.tzoffset object at 0x000001A4368EEA10>)], [12, datetime.datetime(2025, 1, 6, 16, 50, 6, tzinfo=<git.objects.util.tzoffset object at 0x000001A436FA5A20>)], [11, datetime.datetime(2025, 1, 6, 15, 49, 8, tzinfo=<git.objects.util.tzoffset object at 0x000001A4368DA500>)]], 'NEWMAN HOUSE': [[0, datetime.datetime(2025, 1, 6, 23, 49, 2, tzinfo=<git.objects.util.tzoffset object at 0x000001A43673C1F0>)], [0, datetime.datetime(2025, 1, 6, 22, 49, 2, tzinfo=<git.objects.util.tzoffset object at 0x000001A436F0DF60>)], [0, datetime.datetime(2025, 1, 6, 21, 49, 9, tzinfo=<git.objects.util.tzoffset object at 0x000001A4369022C0>)], [0, datetime.datetime(2025, 1, 6, 20, 49, 3, tzinfo=<git.objects.util.tzoffset object at 0x000001A436FEDF90>)], [0, datetime.datetime(2025, 1, 6, 19, 49, 5, tzinfo=<git.objects.util.tzoffset object at 0x000001A436FBBE50>)], [0, datetime.datetime(2025, 1, 6, 18, 49, 48, tzinfo=<git.objects.util.tzoffset object at 0x000001A4368F80A0>)], [1, datetime.datetime(2025, 1, 6, 17, 49, 18, tzinfo=<git.objects.util.tzoffset object at 0x000001A4368EE710>)], [6, datetime.datetime(2025, 1, 6, 16, 50, 6, tzinfo=<git.objects.util.tzoffset object at 0x000001A436FA7670>)], [6, datetime.datetime(2025, 1, 6, 15, 49, 8, tzinfo=<git.objects.util.tzoffset object at 0x000001A4368D9C30>)]], 'CLONMEL STREET': [[5, datetime.datetime(2025, 1, 6, 23, 49, 2, tzinfo=<git.objects.util.tzoffset object at 0x000001A43673E740>)], [5, datetime.datetime(2025, 1, 6, 22, 49, 2, tzinfo=<git.objects.util.tzoffset object at 0x000001A436F0E980>)], [6, datetime.datetime(2025, 1, 6, 21, 49, 9, tzinfo=<git.objects.util.tzoffset object at 0x000001A436902230>)], [6, datetime.datetime(2025, 1, 6, 20, 49, 3, tzinfo=<git.objects.util.tzoffset object at 0x000001A436FEC4C0>)], [7, datetime.datetime(2025, 1, 6, 19, 49, 5, tzinfo=<git.objects.util.tzoffset object at 0x000001A436FB88B0>)], [7, datetime.datetime(2025, 1, 6, 18, 49, 48, tzinfo=<git.objects.util.tzoffset object at 0x000001A4368FBC10>)], [8, datetime.datetime(2025, 1, 6, 17, 49, 18, tzinfo=<git.objects.util.tzoffset object at 0x000001A4368EE470>)], [12, datetime.datetime(2025, 1, 6, 16, 50, 6, tzinfo=<git.objects.util.tzoffset object at 0x000001A436FA6E60>)], [11, datetime.datetime(2025, 1, 6, 15, 49, 8, tzinfo=<git.objects.util.tzoffset object at 0x000001A4368D8B80>)]], 'HATCH STREET': [[0, datetime.datetime(2025, 1, 6, 23, 49, 2, tzinfo=<git.objects.util.tzoffset object at 0x000001A43673D390>)], [0, datetime.datetime(2025, 1, 6, 22, 49, 2, tzinfo=<git.objects.util.tzoffset object at 0x000001A436F0C970>)], [0, datetime.datetime(2025, 1, 6, 21, 49, 9, tzinfo=<git.objects.util.tzoffset object at 0x000001A436902440>)], [1, datetime.datetime(2025, 1, 6, 20, 49, 3, tzinfo=<git.objects.util.tzoffset object at 0x000001A436FEEFB0>)], [1, datetime.datetime(2025, 1, 6, 19, 49, 5, tzinfo=<git.objects.util.tzoffset object at 0x000001A436FB8040>)], [0, datetime.datetime(2025, 1, 6, 18, 49, 48, tzinfo=<git.objects.util.tzoffset object at 0x000001A4368FBE50>)], [0, datetime.datetime(2025, 1, 6, 17, 49, 18, tzinfo=<git.objects.util.tzoffset object at 0x000001A4368EE680>)], [9, datetime.datetime(2025, 1, 6, 16, 50, 6, tzinfo=<git.objects.util.tzoffset object at 0x000001A436FA63E0>)], [12, datetime.datetime(2025, 1, 6, 15, 49, 8, tzinfo=<git.objects.util.tzoffset object at 0x000001A43690B760>)]], 'MOUNT STREET LOWER': [[3, datetime.datetime(2025, 1, 6, 23, 49, 2, tzinfo=<git.objects.util.tzoffset object at 0x000001A43673E050>)], [3, datetime.datetime(2025, 1, 6, 22, 49, 2, tzinfo=<git.objects.util.tzoffset object at 0x000001A436F0CAC0>)], [3, datetime.datetime(2025, 1, 6, 21, 49, 9, tzinfo=<git.objects.util.tzoffset object at 0x000001A436902170>)], [3, datetime.datetime(2025, 1, 6, 20, 49, 3, tzinfo=<git.objects.util.tzoffset object at 0x000001A436FEFD90>)], [3, datetime.datetime(2025, 1, 6, 19, 49, 5, tzinfo=<git.objects.util.tzoffset object at 0x000001A436FBBC70>)], [2, datetime.datetime(2025, 1, 6, 18, 49, 48, tzinfo=<git.objects.util.tzoffset object at 0x000001A4368FBDC0>)], [7, datetime.datetime(2025, 1, 6, 17, 49, 18, tzinfo=<git.objects.util.tzoffset object at 0x000001A4368EE6B0>)], [15, datetime.datetime(2025, 1, 6, 16, 50, 6, tzinfo=<git.objects.util.tzoffset object at 0x000001A436FA7700>)], [21, datetime.datetime(2025, 1, 6, 15, 49, 8, tzinfo=<git.objects.util.tzoffset object at 0x000001A436909B10>)]], 'GRATTAN STREET': [[4, datetime.datetime(2025, 1, 6, 23, 49, 2, tzinfo=<git.objects.util.tzoffset object at 0x000001A43673DA80>)], [4, datetime.datetime(2025, 1, 6, 22, 49, 2, tzinfo=<git.objects.util.tzoffset object at 0x000001A436F0D660>)], [4, datetime.datetime(2025, 1, 6, 21, 49, 9, tzinfo=<git.objects.util.tzoffset object at 0x000001A436902290>)], [3, datetime.datetime(2025, 1, 6, 20, 49, 3, tzinfo=<git.objects.util.tzoffset object at 0x000001A436FEFC40>)], [2, datetime.datetime(2025, 1, 6, 19, 49, 5, tzinfo=<git.objects.util.tzoffset object at 0x000001A436FBB7F0>)], [4, datetime.datetime(2025, 1, 6, 18, 49, 48, tzinfo=<git.objects.util.tzoffset object at 0x000001A4368FBF40>)], [3, datetime.datetime(2025, 1, 6, 17, 49, 18, tzinfo=<git.objects.util.tzoffset object at 0x000001A4368EE590>)], [4, datetime.datetime(2025, 1, 6, 16, 50, 6, tzinfo=<git.objects.util.tzoffset object at 0x000001A436FA70A0>)], [5, datetime.datetime(2025, 1, 6, 15, 49, 8, tzinfo=<git.objects.util.tzoffset object at 0x000001A43690B400>)]], \"SIR PATRICK DUN'S\": [[11, datetime.datetime(2025, 1, 6, 23, 49, 2, tzinfo=<git.objects.util.tzoffset object at 0x000001A43673E110>)], [12, datetime.datetime(2025, 1, 6, 22, 49, 2, tzinfo=<git.objects.util.tzoffset object at 0x000001A436F0D0C0>)], [13, datetime.datetime(2025, 1, 6, 21, 49, 9, tzinfo=<git.objects.util.tzoffset object at 0x000001A436902110>)], [12, datetime.datetime(2025, 1, 6, 20, 49, 3, tzinfo=<git.objects.util.tzoffset object at 0x000001A436FEE200>)], [17, datetime.datetime(2025, 1, 6, 19, 49, 5, tzinfo=<git.objects.util.tzoffset object at 0x000001A436FB85B0>)], [20, datetime.datetime(2025, 1, 6, 18, 49, 48, tzinfo=<git.objects.util.tzoffset object at 0x000001A4368FBB50>)], [17, datetime.datetime(2025, 1, 6, 17, 49, 18, tzinfo=<git.objects.util.tzoffset object at 0x000001A4368EE4D0>)], [13, datetime.datetime(2025, 1, 6, 16, 50, 6, tzinfo=<git.objects.util.tzoffset object at 0x000001A436FA5270>)], [17, datetime.datetime(2025, 1, 6, 15, 49, 8, tzinfo=<git.objects.util.tzoffset object at 0x000001A43690B250>)]], 'DENMARK STREET GREAT': [[1, datetime.datetime(2025, 1, 6, 23, 49, 2, tzinfo=<git.objects.util.tzoffset object at 0x000001A43673C0D0>)], [0, datetime.datetime(2025, 1, 6, 22, 49, 2, tzinfo=<git.objects.util.tzoffset object at 0x000001A436F0FF10>)], [0, datetime.datetime(2025, 1, 6, 21, 49, 9, tzinfo=<git.objects.util.tzoffset object at 0x000001A436902050>)], [0, datetime.datetime(2025, 1, 6, 20, 49, 3, tzinfo=<git.objects.util.tzoffset object at 0x000001A436FEE380>)], [1, datetime.datetime(2025, 1, 6, 19, 49, 5, tzinfo=<git.objects.util.tzoffset object at 0x000001A436FBA920>)], [0, datetime.datetime(2025, 1, 6, 18, 49, 48, tzinfo=<git.objects.util.tzoffset object at 0x000001A4368FB6D0>)], [0, datetime.datetime(2025, 1, 6, 17, 49, 18, tzinfo=<git.objects.util.tzoffset object at 0x000001A4368EE410>)], [2, datetime.datetime(2025, 1, 6, 16, 50, 6, tzinfo=<git.objects.util.tzoffset object at 0x000001A436FA67A0>)], [4, datetime.datetime(2025, 1, 6, 15, 49, 8, tzinfo=<git.objects.util.tzoffset object at 0x000001A43690B2E0>)]], 'NORTH CIRCULAR ROAD': [[29, datetime.datetime(2025, 1, 6, 23, 49, 2, tzinfo=<git.objects.util.tzoffset object at 0x000001A43673C6A0>)], [28, datetime.datetime(2025, 1, 6, 22, 49, 2, tzinfo=<git.objects.util.tzoffset object at 0x000001A436F0E7D0>)], [25, datetime.datetime(2025, 1, 6, 21, 49, 9, tzinfo=<git.objects.util.tzoffset object at 0x000001A436901F90>)], [24, datetime.datetime(2025, 1, 6, 20, 49, 3, tzinfo=<git.objects.util.tzoffset object at 0x000001A436FEDCF0>)], [23, datetime.datetime(2025, 1, 6, 19, 49, 5, tzinfo=<git.objects.util.tzoffset object at 0x000001A436FB8DF0>)], [23, datetime.datetime(2025, 1, 6, 18, 49, 48, tzinfo=<git.objects.util.tzoffset object at 0x000001A4368FBAF0>)], [19, datetime.datetime(2025, 1, 6, 17, 49, 18, tzinfo=<git.objects.util.tzoffset object at 0x000001A4368EE230>)], [17, datetime.datetime(2025, 1, 6, 16, 50, 6, tzinfo=<git.objects.util.tzoffset object at 0x000001A436FA5C60>)], [19, datetime.datetime(2025, 1, 6, 15, 49, 8, tzinfo=<git.objects.util.tzoffset object at 0x000001A43690AF50>)]], 'HARDWICKE PLACE': [[3, datetime.datetime(2025, 1, 6, 23, 49, 2, tzinfo=<git.objects.util.tzoffset object at 0x000001A43673D810>)], [4, datetime.datetime(2025, 1, 6, 22, 49, 2, tzinfo=<git.objects.util.tzoffset object at 0x000001A436F0D750>)], [3, datetime.datetime(2025, 1, 6, 21, 49, 9, tzinfo=<git.objects.util.tzoffset object at 0x000001A436901ED0>)], [3, datetime.datetime(2025, 1, 6, 20, 49, 3, tzinfo=<git.objects.util.tzoffset object at 0x000001A436FEE110>)], [3, datetime.datetime(2025, 1, 6, 19, 49, 5, tzinfo=<git.objects.util.tzoffset object at 0x000001A436FB80D0>)], [2, datetime.datetime(2025, 1, 6, 18, 49, 48, tzinfo=<git.objects.util.tzoffset object at 0x000001A4368FBC70>)], [3, datetime.datetime(2025, 1, 6, 17, 49, 18, tzinfo=<git.objects.util.tzoffset object at 0x000001A4368EE170>)], [6, datetime.datetime(2025, 1, 6, 16, 50, 6, tzinfo=<git.objects.util.tzoffset object at 0x000001A436FA6230>)], [9, datetime.datetime(2025, 1, 6, 15, 49, 8, tzinfo=<git.objects.util.tzoffset object at 0x000001A4369090F0>)]], 'LIME STREET': [[11, datetime.datetime(2025, 1, 6, 23, 49, 2, tzinfo=<git.objects.util.tzoffset object at 0x000001A435FFED40>)], [11, datetime.datetime(2025, 1, 6, 22, 49, 2, tzinfo=<git.objects.util.tzoffset object at 0x000001A436F0CD30>)], [12, datetime.datetime(2025, 1, 6, 21, 49, 9, tzinfo=<git.objects.util.tzoffset object at 0x000001A436901E10>)], [13, datetime.datetime(2025, 1, 6, 20, 49, 3, tzinfo=<git.objects.util.tzoffset object at 0x000001A436FEFFA0>)], [9, datetime.datetime(2025, 1, 6, 19, 49, 5, tzinfo=<git.objects.util.tzoffset object at 0x000001A436FB9AB0>)], [9, datetime.datetime(2025, 1, 6, 18, 49, 48, tzinfo=<git.objects.util.tzoffset object at 0x000001A4368FB670>)], [10, datetime.datetime(2025, 1, 6, 17, 49, 18, tzinfo=<git.objects.util.tzoffset object at 0x000001A4368EE0B0>)], [8, datetime.datetime(2025, 1, 6, 16, 50, 6, tzinfo=<git.objects.util.tzoffset object at 0x000001A436FA5F60>)], [10, datetime.datetime(2025, 1, 6, 15, 49, 8, tzinfo=<git.objects.util.tzoffset object at 0x000001A436909390>)]], 'FENIAN STREET': [[12, datetime.datetime(2025, 1, 6, 23, 49, 2, tzinfo=<git.objects.util.tzoffset object at 0x000001A435FFFA90>)], [12, datetime.datetime(2025, 1, 6, 22, 49, 2, tzinfo=<git.objects.util.tzoffset object at 0x000001A436F0D6C0>)], [16, datetime.datetime(2025, 1, 6, 21, 49, 9, tzinfo=<git.objects.util.tzoffset object at 0x000001A436901D50>)], [15, datetime.datetime(2025, 1, 6, 20, 49, 3, tzinfo=<git.objects.util.tzoffset object at 0x000001A436FEC310>)], [16, datetime.datetime(2025, 1, 6, 19, 49, 5, tzinfo=<git.objects.util.tzoffset object at 0x000001A436FBAEC0>)], [19, datetime.datetime(2025, 1, 6, 18, 49, 48, tzinfo=<git.objects.util.tzoffset object at 0x000001A4368FB400>)], [17, datetime.datetime(2025, 1, 6, 17, 49, 18, tzinfo=<git.objects.util.tzoffset object at 0x000001A4368EDFF0>)], [12, datetime.datetime(2025, 1, 6, 16, 50, 6, tzinfo=<git.objects.util.tzoffset object at 0x000001A436FA6260>)], [13, datetime.datetime(2025, 1, 6, 15, 49, 8, tzinfo=<git.objects.util.tzoffset object at 0x000001A436909000>)]], 'SANDWITH STREET': [[20, datetime.datetime(2025, 1, 6, 23, 49, 2, tzinfo=<git.objects.util.tzoffset object at 0x000001A435FFEB90>)], [20, datetime.datetime(2025, 1, 6, 22, 49, 2, tzinfo=<git.objects.util.tzoffset object at 0x000001A436F0C820>)], [19, datetime.datetime(2025, 1, 6, 21, 49, 9, tzinfo=<git.objects.util.tzoffset object at 0x000001A436901C90>)], [21, datetime.datetime(2025, 1, 6, 20, 49, 3, tzinfo=<git.objects.util.tzoffset object at 0x000001A436FED4B0>)], [21, datetime.datetime(2025, 1, 6, 19, 49, 5, tzinfo=<git.objects.util.tzoffset object at 0x000001A436FBB1F0>)], [20, datetime.datetime(2025, 1, 6, 18, 49, 48, tzinfo=<git.objects.util.tzoffset object at 0x000001A4368FB340>)], [19, datetime.datetime(2025, 1, 6, 17, 49, 18, tzinfo=<git.objects.util.tzoffset object at 0x000001A4368EDF30>)], [12, datetime.datetime(2025, 1, 6, 16, 50, 6, tzinfo=<git.objects.util.tzoffset object at 0x000001A436FA4040>)], [9, datetime.datetime(2025, 1, 6, 15, 49, 8, tzinfo=<git.objects.util.tzoffset object at 0x000001A436908E20>)]], 'CONVENTION CENTRE': [[3, datetime.datetime(2025, 1, 6, 23, 49, 2, tzinfo=<git.objects.util.tzoffset object at 0x000001A435FFF7F0>)], [4, datetime.datetime(2025, 1, 6, 22, 49, 2, tzinfo=<git.objects.util.tzoffset object at 0x000001A436F0F280>)], [2, datetime.datetime(2025, 1, 6, 21, 49, 9, tzinfo=<git.objects.util.tzoffset object at 0x000001A436901BD0>)], [4, datetime.datetime(2025, 1, 6, 20, 49, 3, tzinfo=<git.objects.util.tzoffset object at 0x000001A436FEDB40>)], [3, datetime.datetime(2025, 1, 6, 19, 49, 5, tzinfo=<git.objects.util.tzoffset object at 0x000001A436FBA800>)], [0, datetime.datetime(2025, 1, 6, 18, 49, 48, tzinfo=<git.objects.util.tzoffset object at 0x000001A4368FB8B0>)], [5, datetime.datetime(2025, 1, 6, 17, 49, 18, tzinfo=<git.objects.util.tzoffset object at 0x000001A4368EDE70>)], [17, datetime.datetime(2025, 1, 6, 16, 50, 6, tzinfo=<git.objects.util.tzoffset object at 0x000001A436FA54B0>)], [22, datetime.datetime(2025, 1, 6, 15, 49, 8, tzinfo=<git.objects.util.tzoffset object at 0x000001A436908F70>)]], 'NEW CENTRAL BANK': [[5, datetime.datetime(2025, 1, 6, 23, 49, 2, tzinfo=<git.objects.util.tzoffset object at 0x000001A435FFEF50>)], [4, datetime.datetime(2025, 1, 6, 22, 49, 2, tzinfo=<git.objects.util.tzoffset object at 0x000001A436F0DCF0>)], [3, datetime.datetime(2025, 1, 6, 21, 49, 9, tzinfo=<git.objects.util.tzoffset object at 0x000001A436901780>)], [2, datetime.datetime(2025, 1, 6, 20, 49, 3, tzinfo=<git.objects.util.tzoffset object at 0x000001A436380C40>)], [4, datetime.datetime(2025, 1, 6, 19, 49, 5, tzinfo=<git.objects.util.tzoffset object at 0x000001A436FBA740>)], [2, datetime.datetime(2025, 1, 6, 18, 49, 48, tzinfo=<git.objects.util.tzoffset object at 0x000001A4368FBA60>)], [6, datetime.datetime(2025, 1, 6, 17, 49, 18, tzinfo=<git.objects.util.tzoffset object at 0x000001A4368EDDB0>)], [3, datetime.datetime(2025, 1, 6, 16, 50, 6, tzinfo=<git.objects.util.tzoffset object at 0x000001A436FA40A0>)], [11, datetime.datetime(2025, 1, 6, 15, 49, 8, tzinfo=<git.objects.util.tzoffset object at 0x000001A436909270>)]], 'THE POINT': [[20, datetime.datetime(2025, 1, 6, 23, 49, 2, tzinfo=<git.objects.util.tzoffset object at 0x000001A435FFFA30>)], [21, datetime.datetime(2025, 1, 6, 22, 49, 2, tzinfo=<git.objects.util.tzoffset object at 0x000001A436F0C8B0>)], [20, datetime.datetime(2025, 1, 6, 21, 49, 9, tzinfo=<git.objects.util.tzoffset object at 0x000001A4369015D0>)], [20, datetime.datetime(2025, 1, 6, 20, 49, 3, tzinfo=<git.objects.util.tzoffset object at 0x000001A4368FDF60>)], [23, datetime.datetime(2025, 1, 6, 19, 49, 5, tzinfo=<git.objects.util.tzoffset object at 0x000001A436FBAA70>)], [25, datetime.datetime(2025, 1, 6, 18, 49, 48, tzinfo=<git.objects.util.tzoffset object at 0x000001A4368FB2B0>)], [26, datetime.datetime(2025, 1, 6, 17, 49, 18, tzinfo=<git.objects.util.tzoffset object at 0x000001A4368EDCF0>)], [24, datetime.datetime(2025, 1, 6, 16, 50, 6, tzinfo=<git.objects.util.tzoffset object at 0x000001A436FA56F0>)], [23, datetime.datetime(2025, 1, 6, 15, 49, 8, tzinfo=<git.objects.util.tzoffset object at 0x000001A4369096C0>)]], 'HANOVER QUAY': [[9, datetime.datetime(2025, 1, 6, 23, 49, 2, tzinfo=<git.objects.util.tzoffset object at 0x000001A437616FE0>)], [10, datetime.datetime(2025, 1, 6, 22, 49, 2, tzinfo=<git.objects.util.tzoffset object at 0x000001A436F0CD60>)], [9, datetime.datetime(2025, 1, 6, 21, 49, 9, tzinfo=<git.objects.util.tzoffset object at 0x000001A436901B40>)], [8, datetime.datetime(2025, 1, 6, 20, 49, 3, tzinfo=<git.objects.util.tzoffset object at 0x000001A4368FE020>)], [10, datetime.datetime(2025, 1, 6, 19, 49, 5, tzinfo=<git.objects.util.tzoffset object at 0x000001A436FBA860>)], [7, datetime.datetime(2025, 1, 6, 18, 49, 48, tzinfo=<git.objects.util.tzoffset object at 0x000001A4368FB1C0>)], [6, datetime.datetime(2025, 1, 6, 17, 49, 18, tzinfo=<git.objects.util.tzoffset object at 0x000001A4368EDF90>)], [12, datetime.datetime(2025, 1, 6, 16, 50, 6, tzinfo=<git.objects.util.tzoffset object at 0x000001A436FA7010>)], [17, datetime.datetime(2025, 1, 6, 15, 49, 8, tzinfo=<git.objects.util.tzoffset object at 0x000001A436909780>)]], 'GRAND CANAL DOCK': [[33, datetime.datetime(2025, 1, 6, 23, 49, 2, tzinfo=<git.objects.util.tzoffset object at 0x000001A4376171C0>)], [33, datetime.datetime(2025, 1, 6, 22, 49, 2, tzinfo=<git.objects.util.tzoffset object at 0x000001A436F0FC70>)], [34, datetime.datetime(2025, 1, 6, 21, 49, 9, tzinfo=<git.objects.util.tzoffset object at 0x000001A436901A80>)], [36, datetime.datetime(2025, 1, 6, 20, 49, 3, tzinfo=<git.objects.util.tzoffset object at 0x000001A4368FE0E0>)], [31, datetime.datetime(2025, 1, 6, 19, 49, 5, tzinfo=<git.objects.util.tzoffset object at 0x000001A436FBB250>)], [32, datetime.datetime(2025, 1, 6, 18, 49, 48, tzinfo=<git.objects.util.tzoffset object at 0x000001A4368FB460>)], [30, datetime.datetime(2025, 1, 6, 17, 49, 18, tzinfo=<git.objects.util.tzoffset object at 0x000001A4368EDC90>)], [26, datetime.datetime(2025, 1, 6, 16, 50, 6, tzinfo=<git.objects.util.tzoffset object at 0x000001A436FA4CD0>)], [25, datetime.datetime(2025, 1, 6, 15, 49, 8, tzinfo=<git.objects.util.tzoffset object at 0x000001A4369099F0>)]], 'KEVIN STREET': [[20, datetime.datetime(2025, 1, 6, 23, 49, 2, tzinfo=<git.objects.util.tzoffset object at 0x000001A437616C80>)], [20, datetime.datetime(2025, 1, 6, 22, 49, 2, tzinfo=<git.objects.util.tzoffset object at 0x000001A436F0DD20>)], [18, datetime.datetime(2025, 1, 6, 21, 49, 9, tzinfo=<git.objects.util.tzoffset object at 0x000001A4369019C0>)], [18, datetime.datetime(2025, 1, 6, 20, 49, 3, tzinfo=<git.objects.util.tzoffset object at 0x000001A4368FE1A0>)], [17, datetime.datetime(2025, 1, 6, 19, 49, 5, tzinfo=<git.objects.util.tzoffset object at 0x000001A436FB8220>)], [17, datetime.datetime(2025, 1, 6, 18, 49, 48, tzinfo=<git.objects.util.tzoffset object at 0x000001A4368FB5E0>)], [20, datetime.datetime(2025, 1, 6, 17, 49, 18, tzinfo=<git.objects.util.tzoffset object at 0x000001A4368EDC60>)], [25, datetime.datetime(2025, 1, 6, 16, 50, 6, tzinfo=<git.objects.util.tzoffset object at 0x000001A436FA6950>)], [22, datetime.datetime(2025, 1, 6, 15, 49, 8, tzinfo=<git.objects.util.tzoffset object at 0x000001A436909630>)]], 'JOHN STREET WEST': [[13, datetime.datetime(2025, 1, 6, 23, 49, 2, tzinfo=<git.objects.util.tzoffset object at 0x000001A437616EF0>)], [13, datetime.datetime(2025, 1, 6, 22, 49, 2, tzinfo=<git.objects.util.tzoffset object at 0x000001A436F0EB90>)], [13, datetime.datetime(2025, 1, 6, 21, 49, 9, tzinfo=<git.objects.util.tzoffset object at 0x000001A436901900>)], [13, datetime.datetime(2025, 1, 6, 20, 49, 3, tzinfo=<git.objects.util.tzoffset object at 0x000001A4368FE260>)], [11, datetime.datetime(2025, 1, 6, 19, 49, 5, tzinfo=<git.objects.util.tzoffset object at 0x000001A436FB8910>)], [10, datetime.datetime(2025, 1, 6, 18, 49, 48, tzinfo=<git.objects.util.tzoffset object at 0x000001A4367347C0>)], [11, datetime.datetime(2025, 1, 6, 17, 49, 18, tzinfo=<git.objects.util.tzoffset object at 0x000001A4368ED9C0>)], [9, datetime.datetime(2025, 1, 6, 16, 50, 6, tzinfo=<git.objects.util.tzoffset object at 0x000001A437008A00>)], [10, datetime.datetime(2025, 1, 6, 15, 49, 8, tzinfo=<git.objects.util.tzoffset object at 0x000001A4369096F0>)]], 'FRANCIS STREET': [[24, datetime.datetime(2025, 1, 6, 23, 49, 2, tzinfo=<git.objects.util.tzoffset object at 0x000001A437617700>)], [24, datetime.datetime(2025, 1, 6, 22, 49, 2, tzinfo=<git.objects.util.tzoffset object at 0x000001A436F0D810>)], [24, datetime.datetime(2025, 1, 6, 21, 49, 9, tzinfo=<git.objects.util.tzoffset object at 0x000001A4369018D0>)], [24, datetime.datetime(2025, 1, 6, 20, 49, 3, tzinfo=<git.objects.util.tzoffset object at 0x000001A4368FE320>)], [24, datetime.datetime(2025, 1, 6, 19, 49, 5, tzinfo=<git.objects.util.tzoffset object at 0x000001A436FB8160>)], [22, datetime.datetime(2025, 1, 6, 18, 49, 48, tzinfo=<git.objects.util.tzoffset object at 0x000001A436737B20>)], [23, datetime.datetime(2025, 1, 6, 17, 49, 18, tzinfo=<git.objects.util.tzoffset object at 0x000001A4368ED7B0>)], [20, datetime.datetime(2025, 1, 6, 16, 50, 6, tzinfo=<git.objects.util.tzoffset object at 0x000001A437009780>)], [20, datetime.datetime(2025, 1, 6, 15, 49, 8, tzinfo=<git.objects.util.tzoffset object at 0x000001A436909BA0>)]], 'OLIVER BOND STREET': [[24, datetime.datetime(2025, 1, 6, 23, 49, 2, tzinfo=<git.objects.util.tzoffset object at 0x000001A437616F50>)], [22, datetime.datetime(2025, 1, 6, 22, 49, 2, tzinfo=<git.objects.util.tzoffset object at 0x000001A436F0FB50>)], [21, datetime.datetime(2025, 1, 6, 21, 49, 9, tzinfo=<git.objects.util.tzoffset object at 0x000001A4369005B0>)], [21, datetime.datetime(2025, 1, 6, 20, 49, 3, tzinfo=<git.objects.util.tzoffset object at 0x000001A4368FE3E0>)], [20, datetime.datetime(2025, 1, 6, 19, 49, 5, tzinfo=<git.objects.util.tzoffset object at 0x000001A436FBBBE0>)], [19, datetime.datetime(2025, 1, 6, 18, 49, 48, tzinfo=<git.objects.util.tzoffset object at 0x000001A436737A60>)], [18, datetime.datetime(2025, 1, 6, 17, 49, 18, tzinfo=<git.objects.util.tzoffset object at 0x000001A4368EDC00>)], [17, datetime.datetime(2025, 1, 6, 16, 50, 6, tzinfo=<git.objects.util.tzoffset object at 0x000001A43700A7A0>)], [17, datetime.datetime(2025, 1, 6, 15, 49, 8, tzinfo=<git.objects.util.tzoffset object at 0x000001A436909B70>)]], 'JAMES STREET': [[13, datetime.datetime(2025, 1, 6, 23, 49, 2, tzinfo=<git.objects.util.tzoffset object at 0x000001A437616800>)], [12, datetime.datetime(2025, 1, 6, 22, 49, 2, tzinfo=<git.objects.util.tzoffset object at 0x000001A436F0F730>)], [12, datetime.datetime(2025, 1, 6, 21, 49, 9, tzinfo=<git.objects.util.tzoffset object at 0x000001A436900580>)], [12, datetime.datetime(2025, 1, 6, 20, 49, 3, tzinfo=<git.objects.util.tzoffset object at 0x000001A4368FF220>)], [12, datetime.datetime(2025, 1, 6, 19, 49, 5, tzinfo=<git.objects.util.tzoffset object at 0x000001A436FBA560>)], [12, datetime.datetime(2025, 1, 6, 18, 49, 48, tzinfo=<git.objects.util.tzoffset object at 0x000001A4367379A0>)], [12, datetime.datetime(2025, 1, 6, 17, 49, 18, tzinfo=<git.objects.util.tzoffset object at 0x000001A4368ED870>)], [11, datetime.datetime(2025, 1, 6, 16, 50, 6, tzinfo=<git.objects.util.tzoffset object at 0x000001A437009CC0>)], [14, datetime.datetime(2025, 1, 6, 15, 49, 8, tzinfo=<git.objects.util.tzoffset object at 0x000001A436909A20>)]], 'MARKET STREET SOUTH': [[13, datetime.datetime(2025, 1, 6, 23, 49, 2, tzinfo=<git.objects.util.tzoffset object at 0x000001A437616050>)], [12, datetime.datetime(2025, 1, 6, 22, 49, 2, tzinfo=<git.objects.util.tzoffset object at 0x000001A436F0CA60>)], [12, datetime.datetime(2025, 1, 6, 21, 49, 9, tzinfo=<git.objects.util.tzoffset object at 0x000001A4369009A0>)], [12, datetime.datetime(2025, 1, 6, 20, 49, 3, tzinfo=<git.objects.util.tzoffset object at 0x000001A4368FE6E0>)], [11, datetime.datetime(2025, 1, 6, 19, 49, 5, tzinfo=<git.objects.util.tzoffset object at 0x000001A436FB9B40>)], [10, datetime.datetime(2025, 1, 6, 18, 49, 48, tzinfo=<git.objects.util.tzoffset object at 0x000001A436735FC0>)], [9, datetime.datetime(2025, 1, 6, 17, 49, 18, tzinfo=<git.objects.util.tzoffset object at 0x000001A4368EDAE0>)], [12, datetime.datetime(2025, 1, 6, 16, 50, 6, tzinfo=<git.objects.util.tzoffset object at 0x000001A43700AC50>)], [14, datetime.datetime(2025, 1, 6, 15, 49, 8, tzinfo=<git.objects.util.tzoffset object at 0x000001A436909AE0>)]], 'WOLFE TONE STREET': [[18, datetime.datetime(2025, 1, 6, 23, 49, 2, tzinfo=<git.objects.util.tzoffset object at 0x000001A437615FC0>)], [18, datetime.datetime(2025, 1, 6, 22, 49, 2, tzinfo=<git.objects.util.tzoffset object at 0x000001A436F0E5F0>)], [18, datetime.datetime(2025, 1, 6, 21, 49, 9, tzinfo=<git.objects.util.tzoffset object at 0x000001A4369007F0>)], [18, datetime.datetime(2025, 1, 6, 20, 49, 3, tzinfo=<git.objects.util.tzoffset object at 0x000001A4368FE620>)], [20, datetime.datetime(2025, 1, 6, 19, 49, 5, tzinfo=<git.objects.util.tzoffset object at 0x000001A436FBB430>)], [21, datetime.datetime(2025, 1, 6, 18, 49, 48, tzinfo=<git.objects.util.tzoffset object at 0x000001A436736080>)], [23, datetime.datetime(2025, 1, 6, 17, 49, 18, tzinfo=<git.objects.util.tzoffset object at 0x000001A4368ED810>)], [20, datetime.datetime(2025, 1, 6, 16, 50, 6, tzinfo=<git.objects.util.tzoffset object at 0x000001A43700B490>)], [18, datetime.datetime(2025, 1, 6, 15, 49, 8, tzinfo=<git.objects.util.tzoffset object at 0x000001A436909BD0>)]], 'MATER HOSPITAL': [[19, datetime.datetime(2025, 1, 6, 23, 49, 2, tzinfo=<git.objects.util.tzoffset object at 0x000001A437616C50>)], [19, datetime.datetime(2025, 1, 6, 22, 49, 2, tzinfo=<git.objects.util.tzoffset object at 0x000001A436F0DEA0>)], [20, datetime.datetime(2025, 1, 6, 21, 49, 9, tzinfo=<git.objects.util.tzoffset object at 0x000001A436900760>)], [19, datetime.datetime(2025, 1, 6, 20, 49, 3, tzinfo=<git.objects.util.tzoffset object at 0x000001A4368FE560>)], [20, datetime.datetime(2025, 1, 6, 19, 49, 5, tzinfo=<git.objects.util.tzoffset object at 0x000001A436FBB490>)], [21, datetime.datetime(2025, 1, 6, 18, 49, 48, tzinfo=<git.objects.util.tzoffset object at 0x000001A4367341F0>)], [18, datetime.datetime(2025, 1, 6, 17, 49, 18, tzinfo=<git.objects.util.tzoffset object at 0x000001A4368ED780>)], [21, datetime.datetime(2025, 1, 6, 16, 50, 6, tzinfo=<git.objects.util.tzoffset object at 0x000001A43700ADD0>)], [22, datetime.datetime(2025, 1, 6, 15, 49, 8, tzinfo=<git.objects.util.tzoffset object at 0x000001A436909D80>)]], 'ECCLES STREET EAST': [[3, datetime.datetime(2025, 1, 6, 23, 49, 2, tzinfo=<git.objects.util.tzoffset object at 0x000001A4376168F0>)], [3, datetime.datetime(2025, 1, 6, 22, 49, 2, tzinfo=<git.objects.util.tzoffset object at 0x000001A436F0C8E0>)], [4, datetime.datetime(2025, 1, 6, 21, 49, 9, tzinfo=<git.objects.util.tzoffset object at 0x000001A436900730>)], [4, datetime.datetime(2025, 1, 6, 20, 49, 3, tzinfo=<git.objects.util.tzoffset object at 0x000001A4368FE4A0>)], [5, datetime.datetime(2025, 1, 6, 19, 49, 5, tzinfo=<git.objects.util.tzoffset object at 0x000001A436FBA8F0>)], [6, datetime.datetime(2025, 1, 6, 18, 49, 48, tzinfo=<git.objects.util.tzoffset object at 0x000001A436736020>)], [5, datetime.datetime(2025, 1, 6, 17, 49, 18, tzinfo=<git.objects.util.tzoffset object at 0x000001A4368ED6C0>)], [6, datetime.datetime(2025, 1, 6, 16, 50, 6, tzinfo=<git.objects.util.tzoffset object at 0x000001A4370094E0>)], [10, datetime.datetime(2025, 1, 6, 15, 49, 8, tzinfo=<git.objects.util.tzoffset object at 0x000001A436909E40>)]], 'ST JAMES HOSPITAL (LUAS)': [[14, datetime.datetime(2025, 1, 6, 23, 49, 2, tzinfo=<git.objects.util.tzoffset object at 0x000001A437616830>)], [14, datetime.datetime(2025, 1, 6, 22, 49, 2, tzinfo=<git.objects.util.tzoffset object at 0x000001A436F0CB80>)], [13, datetime.datetime(2025, 1, 6, 21, 49, 9, tzinfo=<git.objects.util.tzoffset object at 0x000001A436900700>)], [13, datetime.datetime(2025, 1, 6, 20, 49, 3, tzinfo=<git.objects.util.tzoffset object at 0x000001A4368FF5E0>)], [14, datetime.datetime(2025, 1, 6, 19, 49, 5, tzinfo=<git.objects.util.tzoffset object at 0x000001A436FBA260>)], [17, datetime.datetime(2025, 1, 6, 18, 49, 48, tzinfo=<git.objects.util.tzoffset object at 0x000001A4367378E0>)], [19, datetime.datetime(2025, 1, 6, 17, 49, 18, tzinfo=<git.objects.util.tzoffset object at 0x000001A4368ED600>)], [20, datetime.datetime(2025, 1, 6, 16, 50, 6, tzinfo=<git.objects.util.tzoffset object at 0x000001A4370085E0>)], [23, datetime.datetime(2025, 1, 6, 15, 49, 8, tzinfo=<git.objects.util.tzoffset object at 0x000001A436909F00>)]], 'MOUNT BROWN': [[12, datetime.datetime(2025, 1, 6, 23, 49, 2, tzinfo=<git.objects.util.tzoffset object at 0x000001A437616980>)], [11, datetime.datetime(2025, 1, 6, 22, 49, 2, tzinfo=<git.objects.util.tzoffset object at 0x000001A436F0DAE0>)], [11, datetime.datetime(2025, 1, 6, 21, 49, 9, tzinfo=<git.objects.util.tzoffset object at 0x000001A436900A90>)], [9, datetime.datetime(2025, 1, 6, 20, 49, 3, tzinfo=<git.objects.util.tzoffset object at 0x000001A4368FE860>)], [9, datetime.datetime(2025, 1, 6, 19, 49, 5, tzinfo=<git.objects.util.tzoffset object at 0x000001A436FBA3E0>)], [8, datetime.datetime(2025, 1, 6, 18, 49, 48, tzinfo=<git.objects.util.tzoffset object at 0x000001A436734070>)], [7, datetime.datetime(2025, 1, 6, 17, 49, 18, tzinfo=<git.objects.util.tzoffset object at 0x000001A4368ED540>)], [8, datetime.datetime(2025, 1, 6, 16, 50, 6, tzinfo=<git.objects.util.tzoffset object at 0x000001A437009420>)], [9, datetime.datetime(2025, 1, 6, 15, 49, 8, tzinfo=<git.objects.util.tzoffset object at 0x000001A436909FC0>)]], 'EMMET ROAD': [[33, datetime.datetime(2025, 1, 6, 23, 49, 2, tzinfo=<git.objects.util.tzoffset object at 0x000001A437616AD0>)], [33, datetime.datetime(2025, 1, 6, 22, 49, 2, tzinfo=<git.objects.util.tzoffset object at 0x000001A436F0EC20>)], [33, datetime.datetime(2025, 1, 6, 21, 49, 9, tzinfo=<git.objects.util.tzoffset object at 0x000001A436900A30>)], [33, datetime.datetime(2025, 1, 6, 20, 49, 3, tzinfo=<git.objects.util.tzoffset object at 0x000001A4368FE8F0>)], [29, datetime.datetime(2025, 1, 6, 19, 49, 5, tzinfo=<git.objects.util.tzoffset object at 0x000001A436FBA200>)], [27, datetime.datetime(2025, 1, 6, 18, 49, 48, tzinfo=<git.objects.util.tzoffset object at 0x000001A436734AC0>)], [23, datetime.datetime(2025, 1, 6, 17, 49, 18, tzinfo=<git.objects.util.tzoffset object at 0x000001A4368ED480>)], [24, datetime.datetime(2025, 1, 6, 16, 50, 6, tzinfo=<git.objects.util.tzoffset object at 0x000001A4370087F0>)], [24, datetime.datetime(2025, 1, 6, 15, 49, 8, tzinfo=<git.objects.util.tzoffset object at 0x000001A43690A080>)]], 'BROOKFIELD ROAD': [[23, datetime.datetime(2025, 1, 6, 23, 49, 2, tzinfo=<git.objects.util.tzoffset object at 0x000001A437616D40>)], [23, datetime.datetime(2025, 1, 6, 22, 49, 2, tzinfo=<git.objects.util.tzoffset object at 0x000001A4368E4D60>)], [23, datetime.datetime(2025, 1, 6, 21, 49, 9, tzinfo=<git.objects.util.tzoffset object at 0x000001A436900D90>)], [22, datetime.datetime(2025, 1, 6, 20, 49, 3, tzinfo=<git.objects.util.tzoffset object at 0x000001A4368FF3A0>)], [21, datetime.datetime(2025, 1, 6, 19, 49, 5, tzinfo=<git.objects.util.tzoffset object at 0x000001A436FBAA40>)], [21, datetime.datetime(2025, 1, 6, 18, 49, 48, tzinfo=<git.objects.util.tzoffset object at 0x000001A4367370D0>)], [21, datetime.datetime(2025, 1, 6, 17, 49, 18, tzinfo=<git.objects.util.tzoffset object at 0x000001A4368ED3C0>)], [19, datetime.datetime(2025, 1, 6, 16, 50, 6, tzinfo=<git.objects.util.tzoffset object at 0x000001A43700B9A0>)], [21, datetime.datetime(2025, 1, 6, 15, 49, 8, tzinfo=<git.objects.util.tzoffset object at 0x000001A43690A140>)]], 'ROTHE ABBEY': [[27, datetime.datetime(2025, 1, 6, 23, 49, 2, tzinfo=<git.objects.util.tzoffset object at 0x000001A437616E00>)], [27, datetime.datetime(2025, 1, 6, 22, 49, 2, tzinfo=<git.objects.util.tzoffset object at 0x000001A4368E40D0>)], [26, datetime.datetime(2025, 1, 6, 21, 49, 9, tzinfo=<git.objects.util.tzoffset object at 0x000001A436900EB0>)], [26, datetime.datetime(2025, 1, 6, 20, 49, 3, tzinfo=<git.objects.util.tzoffset object at 0x000001A4368FF460>)], [26, datetime.datetime(2025, 1, 6, 19, 49, 5, tzinfo=<git.objects.util.tzoffset object at 0x000001A436FBA6B0>)], [26, datetime.datetime(2025, 1, 6, 18, 49, 48, tzinfo=<git.objects.util.tzoffset object at 0x000001A436735030>)], [25, datetime.datetime(2025, 1, 6, 17, 49, 18, tzinfo=<git.objects.util.tzoffset object at 0x000001A4368ED300>)], [23, datetime.datetime(2025, 1, 6, 16, 50, 6, tzinfo=<git.objects.util.tzoffset object at 0x000001A43700A050>)], [23, datetime.datetime(2025, 1, 6, 15, 49, 8, tzinfo=<git.objects.util.tzoffset object at 0x000001A43690A200>)]], 'PARKGATE STREET': [[15, datetime.datetime(2025, 1, 6, 23, 49, 2, tzinfo=<git.objects.util.tzoffset object at 0x000001A437616DD0>)], [15, datetime.datetime(2025, 1, 6, 22, 49, 2, tzinfo=<git.objects.util.tzoffset object at 0x000001A4368E5600>)], [16, datetime.datetime(2025, 1, 6, 21, 49, 9, tzinfo=<git.objects.util.tzoffset object at 0x000001A436900FA0>)], [16, datetime.datetime(2025, 1, 6, 20, 49, 3, tzinfo=<git.objects.util.tzoffset object at 0x000001A4368FF520>)], [16, datetime.datetime(2025, 1, 6, 19, 49, 5, tzinfo=<git.objects.util.tzoffset object at 0x000001A436FB9FC0>)], [18, datetime.datetime(2025, 1, 6, 18, 49, 48, tzinfo=<git.objects.util.tzoffset object at 0x000001A436735180>)], [15, datetime.datetime(2025, 1, 6, 17, 49, 18, tzinfo=<git.objects.util.tzoffset object at 0x000001A4368ED240>)], [10, datetime.datetime(2025, 1, 6, 16, 50, 6, tzinfo=<git.objects.util.tzoffset object at 0x000001A4370090C0>)], [7, datetime.datetime(2025, 1, 6, 15, 49, 8, tzinfo=<git.objects.util.tzoffset object at 0x000001A43690A2C0>)]], 'COLLINS BARRACKS MUSEUM': [[30, datetime.datetime(2025, 1, 6, 23, 49, 2, tzinfo=<git.objects.util.tzoffset object at 0x000001A437617040>)], [29, datetime.datetime(2025, 1, 6, 22, 49, 2, tzinfo=<git.objects.util.tzoffset object at 0x000001A4368E4400>)], [28, datetime.datetime(2025, 1, 6, 21, 49, 9, tzinfo=<git.objects.util.tzoffset object at 0x000001A436900DF0>)], [25, datetime.datetime(2025, 1, 6, 20, 49, 3, tzinfo=<git.objects.util.tzoffset object at 0x000001A4368FF160>)], [24, datetime.datetime(2025, 1, 6, 19, 49, 5, tzinfo=<git.objects.util.tzoffset object at 0x000001A436FB8D60>)], [22, datetime.datetime(2025, 1, 6, 18, 49, 48, tzinfo=<git.objects.util.tzoffset object at 0x000001A4367350F0>)], [21, datetime.datetime(2025, 1, 6, 17, 49, 18, tzinfo=<git.objects.util.tzoffset object at 0x000001A4368ED180>)], [20, datetime.datetime(2025, 1, 6, 16, 50, 6, tzinfo=<git.objects.util.tzoffset object at 0x000001A437009750>)], [19, datetime.datetime(2025, 1, 6, 15, 49, 8, tzinfo=<git.objects.util.tzoffset object at 0x000001A43690A380>)]], 'BLACKHALL PLACE': [[8, datetime.datetime(2025, 1, 6, 23, 49, 2, tzinfo=<git.objects.util.tzoffset object at 0x000001A437617F70>)], [9, datetime.datetime(2025, 1, 6, 22, 49, 2, tzinfo=<git.objects.util.tzoffset object at 0x000001A4368E4070>)], [7, datetime.datetime(2025, 1, 6, 21, 49, 9, tzinfo=<git.objects.util.tzoffset object at 0x000001A436900D60>)], [9, datetime.datetime(2025, 1, 6, 20, 49, 3, tzinfo=<git.objects.util.tzoffset object at 0x000001A4368FF0A0>)], [10, datetime.datetime(2025, 1, 6, 19, 49, 5, tzinfo=<git.objects.util.tzoffset object at 0x000001A436FB96F0>)], [10, datetime.datetime(2025, 1, 6, 18, 49, 48, tzinfo=<git.objects.util.tzoffset object at 0x000001A436734E50>)], [6, datetime.datetime(2025, 1, 6, 17, 49, 18, tzinfo=<git.objects.util.tzoffset object at 0x000001A4368ED0C0>)], [8, datetime.datetime(2025, 1, 6, 16, 50, 6, tzinfo=<git.objects.util.tzoffset object at 0x000001A43700BCA0>)], [9, datetime.datetime(2025, 1, 6, 15, 49, 8, tzinfo=<git.objects.util.tzoffset object at 0x000001A43690A440>)]], 'FITZWILLIAM SQUARE EAST': [[2, datetime.datetime(2025, 1, 6, 23, 49, 2, tzinfo=<git.objects.util.tzoffset object at 0x000001A4376178B0>)], [2, datetime.datetime(2025, 1, 6, 22, 49, 2, tzinfo=<git.objects.util.tzoffset object at 0x000001A4368E4610>)], [2, datetime.datetime(2025, 1, 6, 21, 49, 9, tzinfo=<git.objects.util.tzoffset object at 0x000001A436900F10>)], [2, datetime.datetime(2025, 1, 6, 20, 49, 3, tzinfo=<git.objects.util.tzoffset object at 0x000001A4368FEFE0>)], [3, datetime.datetime(2025, 1, 6, 19, 49, 5, tzinfo=<git.objects.util.tzoffset object at 0x000001A436FB94B0>)], [3, datetime.datetime(2025, 1, 6, 18, 49, 48, tzinfo=<git.objects.util.tzoffset object at 0x000001A436735240>)], [8, datetime.datetime(2025, 1, 6, 17, 49, 18, tzinfo=<git.objects.util.tzoffset object at 0x000001A4368ED000>)], [14, datetime.datetime(2025, 1, 6, 16, 50, 6, tzinfo=<git.objects.util.tzoffset object at 0x000001A43700B100>)], [16, datetime.datetime(2025, 1, 6, 15, 49, 8, tzinfo=<git.objects.util.tzoffset object at 0x000001A43690A500>)]], 'BENSON STREET': [[1, datetime.datetime(2025, 1, 6, 23, 49, 2, tzinfo=<git.objects.util.tzoffset object at 0x000001A437617E20>)], [0, datetime.datetime(2025, 1, 6, 22, 49, 2, tzinfo=<git.objects.util.tzoffset object at 0x000001A4368E4DC0>)], [2, datetime.datetime(2025, 1, 6, 21, 49, 9, tzinfo=<git.objects.util.tzoffset object at 0x000001A436901000>)], [5, datetime.datetime(2025, 1, 6, 20, 49, 3, tzinfo=<git.objects.util.tzoffset object at 0x000001A4368FEF20>)], [4, datetime.datetime(2025, 1, 6, 19, 49, 5, tzinfo=<git.objects.util.tzoffset object at 0x000001A436FB8640>)], [5, datetime.datetime(2025, 1, 6, 18, 49, 48, tzinfo=<git.objects.util.tzoffset object at 0x000001A436734A30>)], [2, datetime.datetime(2025, 1, 6, 17, 49, 18, tzinfo=<git.objects.util.tzoffset object at 0x000001A4368ECF40>)], [4, datetime.datetime(2025, 1, 6, 16, 50, 6, tzinfo=<git.objects.util.tzoffset object at 0x000001A43700A1D0>)], [17, datetime.datetime(2025, 1, 6, 15, 49, 8, tzinfo=<git.objects.util.tzoffset object at 0x000001A43690A5C0>)]], 'SOUTH DOCK ROAD': [[20, datetime.datetime(2025, 1, 6, 23, 49, 2, tzinfo=<git.objects.util.tzoffset object at 0x000001A437615CF0>)], [20, datetime.datetime(2025, 1, 6, 22, 49, 2, tzinfo=<git.objects.util.tzoffset object at 0x000001A4368E4BE0>)], [23, datetime.datetime(2025, 1, 6, 21, 49, 9, tzinfo=<git.objects.util.tzoffset object at 0x000001A4369012A0>)], [21, datetime.datetime(2025, 1, 6, 20, 49, 3, tzinfo=<git.objects.util.tzoffset object at 0x000001A4368FF1F0>)], [17, datetime.datetime(2025, 1, 6, 19, 49, 5, tzinfo=<git.objects.util.tzoffset object at 0x000001A436FBB520>)], [15, datetime.datetime(2025, 1, 6, 18, 49, 48, tzinfo=<git.objects.util.tzoffset object at 0x000001A4367351B0>)], [15, datetime.datetime(2025, 1, 6, 17, 49, 18, tzinfo=<git.objects.util.tzoffset object at 0x000001A4368ECE80>)], [12, datetime.datetime(2025, 1, 6, 16, 50, 6, tzinfo=<git.objects.util.tzoffset object at 0x000001A437009A50>)], [7, datetime.datetime(2025, 1, 6, 15, 49, 8, tzinfo=<git.objects.util.tzoffset object at 0x000001A43690A680>)]], 'HEUSTON BRIDGE (NORTH)': [[37, datetime.datetime(2025, 1, 6, 23, 49, 2, tzinfo=<git.objects.util.tzoffset object at 0x000001A437615E70>)], [37, datetime.datetime(2025, 1, 6, 22, 49, 2, tzinfo=<git.objects.util.tzoffset object at 0x000001A4368E5210>)], [36, datetime.datetime(2025, 1, 6, 21, 49, 9, tzinfo=<git.objects.util.tzoffset object at 0x000001A436901150>)], [35, datetime.datetime(2025, 1, 6, 20, 49, 3, tzinfo=<git.objects.util.tzoffset object at 0x000001A4368FF130>)], [35, datetime.datetime(2025, 1, 6, 19, 49, 5, tzinfo=<git.objects.util.tzoffset object at 0x000001A436FB9F90>)], [37, datetime.datetime(2025, 1, 6, 18, 49, 48, tzinfo=<git.objects.util.tzoffset object at 0x000001A4367354B0>)], [32, datetime.datetime(2025, 1, 6, 17, 49, 18, tzinfo=<git.objects.util.tzoffset object at 0x000001A4368ECCD0>)], [28, datetime.datetime(2025, 1, 6, 16, 50, 6, tzinfo=<git.objects.util.tzoffset object at 0x000001A437008E80>)], [27, datetime.datetime(2025, 1, 6, 15, 49, 8, tzinfo=<git.objects.util.tzoffset object at 0x000001A43690A740>)]], 'HEUSTON STATION (CENTRAL)': [[24, datetime.datetime(2025, 1, 6, 23, 49, 2, tzinfo=<git.objects.util.tzoffset object at 0x000001A437617C70>)], [24, datetime.datetime(2025, 1, 6, 22, 49, 2, tzinfo=<git.objects.util.tzoffset object at 0x000001A4368E5270>)], [24, datetime.datetime(2025, 1, 6, 21, 49, 9, tzinfo=<git.objects.util.tzoffset object at 0x000001A436901210>)], [24, datetime.datetime(2025, 1, 6, 20, 49, 3, tzinfo=<git.objects.util.tzoffset object at 0x000001A4368FF070>)], [24, datetime.datetime(2025, 1, 6, 19, 49, 5, tzinfo=<git.objects.util.tzoffset object at 0x000001A436FB8F40>)], [24, datetime.datetime(2025, 1, 6, 18, 49, 48, tzinfo=<git.objects.util.tzoffset object at 0x000001A436735210>)], [19, datetime.datetime(2025, 1, 6, 17, 49, 18, tzinfo=<git.objects.util.tzoffset object at 0x000001A4368ECBE0>)], [10, datetime.datetime(2025, 1, 6, 16, 50, 6, tzinfo=<git.objects.util.tzoffset object at 0x000001A437009F30>)], [10, datetime.datetime(2025, 1, 6, 15, 49, 8, tzinfo=<git.objects.util.tzoffset object at 0x000001A43690A800>)]], 'HEUSTON STATION (CAR PARK)': [[26, datetime.datetime(2025, 1, 6, 23, 49, 2, tzinfo=<git.objects.util.tzoffset object at 0x000001A437617CA0>)], [26, datetime.datetime(2025, 1, 6, 22, 49, 2, tzinfo=<git.objects.util.tzoffset object at 0x000001A4368E5150>)], [26, datetime.datetime(2025, 1, 6, 21, 49, 9, tzinfo=<git.objects.util.tzoffset object at 0x000001A4369012D0>)], [26, datetime.datetime(2025, 1, 6, 20, 49, 3, tzinfo=<git.objects.util.tzoffset object at 0x000001A4368FEA70>)], [26, datetime.datetime(2025, 1, 6, 19, 49, 5, tzinfo=<git.objects.util.tzoffset object at 0x000001A436FBACB0>)], [26, datetime.datetime(2025, 1, 6, 18, 49, 48, tzinfo=<git.objects.util.tzoffset object at 0x000001A4367374C0>)], [25, datetime.datetime(2025, 1, 6, 17, 49, 18, tzinfo=<git.objects.util.tzoffset object at 0x000001A4368ECB20>)], [23, datetime.datetime(2025, 1, 6, 16, 50, 6, tzinfo=<git.objects.util.tzoffset object at 0x000001A43700B0D0>)], [23, datetime.datetime(2025, 1, 6, 15, 49, 8, tzinfo=<git.objects.util.tzoffset object at 0x000001A43690A8C0>)]], 'ROYAL HOSPITAL': [[9, datetime.datetime(2025, 1, 6, 23, 49, 2, tzinfo=<git.objects.util.tzoffset object at 0x000001A43774C0D0>)], [10, datetime.datetime(2025, 1, 6, 22, 49, 2, tzinfo=<git.objects.util.tzoffset object at 0x000001A4368E7C40>)], [10, datetime.datetime(2025, 1, 6, 21, 49, 9, tzinfo=<git.objects.util.tzoffset object at 0x000001A436901390>)], [9, datetime.datetime(2025, 1, 6, 20, 49, 3, tzinfo=<git.objects.util.tzoffset object at 0x000001A4368FEEF0>)], [8, datetime.datetime(2025, 1, 6, 19, 49, 5, tzinfo=<git.objects.util.tzoffset object at 0x000001A436FB8C40>)], [4, datetime.datetime(2025, 1, 6, 18, 49, 48, tzinfo=<git.objects.util.tzoffset object at 0x000001A436736740>)], [4, datetime.datetime(2025, 1, 6, 17, 49, 18, tzinfo=<git.objects.util.tzoffset object at 0x000001A4368EC790>)], [5, datetime.datetime(2025, 1, 6, 16, 50, 6, tzinfo=<git.objects.util.tzoffset object at 0x000001A4370098A0>)], [4, datetime.datetime(2025, 1, 6, 15, 49, 8, tzinfo=<git.objects.util.tzoffset object at 0x000001A43690A980>)]], 'KILMAINHAM LANE': [[11, datetime.datetime(2025, 1, 6, 23, 49, 2, tzinfo=<git.objects.util.tzoffset object at 0x000001A43774C850>)], [11, datetime.datetime(2025, 1, 6, 22, 49, 2, tzinfo=<git.objects.util.tzoffset object at 0x000001A4368E7D30>)], [11, datetime.datetime(2025, 1, 6, 21, 49, 9, tzinfo=<git.objects.util.tzoffset object at 0x000001A436901450>)], [11, datetime.datetime(2025, 1, 6, 20, 49, 3, tzinfo=<git.objects.util.tzoffset object at 0x000001A4368FEC50>)], [10, datetime.datetime(2025, 1, 6, 19, 49, 5, tzinfo=<git.objects.util.tzoffset object at 0x000001A436FBAD70>)], [9, datetime.datetime(2025, 1, 6, 18, 49, 48, tzinfo=<git.objects.util.tzoffset object at 0x000001A4367376A0>)], [7, datetime.datetime(2025, 1, 6, 17, 49, 18, tzinfo=<git.objects.util.tzoffset object at 0x000001A4368EC8E0>)], [6, datetime.datetime(2025, 1, 6, 16, 50, 6, tzinfo=<git.objects.util.tzoffset object at 0x000001A43700AE30>)], [6, datetime.datetime(2025, 1, 6, 15, 49, 8, tzinfo=<git.objects.util.tzoffset object at 0x000001A43690AA40>)]], 'KILMAINHAM GAOL': [[29, datetime.datetime(2025, 1, 6, 23, 49, 2, tzinfo=<git.objects.util.tzoffset object at 0x000001A43774C310>)], [29, datetime.datetime(2025, 1, 6, 22, 49, 2, tzinfo=<git.objects.util.tzoffset object at 0x000001A4368E7C70>)], [29, datetime.datetime(2025, 1, 6, 21, 49, 9, tzinfo=<git.objects.util.tzoffset object at 0x000001A436901510>)], [28, datetime.datetime(2025, 1, 6, 20, 49, 3, tzinfo=<git.objects.util.tzoffset object at 0x000001A4368FEBC0>)], [28, datetime.datetime(2025, 1, 6, 19, 49, 5, tzinfo=<git.objects.util.tzoffset object at 0x000001A436FB84C0>)], [26, datetime.datetime(2025, 1, 6, 18, 49, 48, tzinfo=<git.objects.util.tzoffset object at 0x000001A4367364D0>)], [23, datetime.datetime(2025, 1, 6, 17, 49, 18, tzinfo=<git.objects.util.tzoffset object at 0x000001A4368ECB50>)], [23, datetime.datetime(2025, 1, 6, 16, 50, 6, tzinfo=<git.objects.util.tzoffset object at 0x000001A437008FD0>)], [24, datetime.datetime(2025, 1, 6, 15, 49, 8, tzinfo=<git.objects.util.tzoffset object at 0x000001A43690AB00>)]], 'FREDERICK STREET SOUTH': [[0, datetime.datetime(2025, 1, 6, 23, 49, 2, tzinfo=<git.objects.util.tzoffset object at 0x000001A43774C700>)], [1, datetime.datetime(2025, 1, 6, 22, 49, 2, tzinfo=<git.objects.util.tzoffset object at 0x000001A4368E7E20>)], [1, datetime.datetime(2025, 1, 6, 21, 49, 9, tzinfo=<git.objects.util.tzoffset object at 0x000001A436902EC0>)], [1, datetime.datetime(2025, 1, 6, 20, 49, 3, tzinfo=<git.objects.util.tzoffset object at 0x000001A4368FFD60>)], [2, datetime.datetime(2025, 1, 6, 19, 49, 5, tzinfo=<git.objects.util.tzoffset object at 0x000001A436FB9240>)], [3, datetime.datetime(2025, 1, 6, 18, 49, 48, tzinfo=<git.objects.util.tzoffset object at 0x000001A4367373A0>)], [10, datetime.datetime(2025, 1, 6, 17, 49, 18, tzinfo=<git.objects.util.tzoffset object at 0x000001A4368EC670>)], [17, datetime.datetime(2025, 1, 6, 16, 50, 6, tzinfo=<git.objects.util.tzoffset object at 0x000001A437009270>)], [19, datetime.datetime(2025, 1, 6, 15, 49, 8, tzinfo=<git.objects.util.tzoffset object at 0x000001A43690ABC0>)]], 'CITY QUAY': [[7, datetime.datetime(2025, 1, 6, 23, 49, 2, tzinfo=<git.objects.util.tzoffset object at 0x000001A43774C2B0>)], [8, datetime.datetime(2025, 1, 6, 22, 49, 2, tzinfo=<git.objects.util.tzoffset object at 0x000001A4368E7F10>)], [9, datetime.datetime(2025, 1, 6, 21, 49, 9, tzinfo=<git.objects.util.tzoffset object at 0x000001A436902DD0>)], [9, datetime.datetime(2025, 1, 6, 20, 49, 3, tzinfo=<git.objects.util.tzoffset object at 0x000001A4368FFAF0>)], [9, datetime.datetime(2025, 1, 6, 19, 49, 5, tzinfo=<git.objects.util.tzoffset object at 0x000001A436FBB580>)], [8, datetime.datetime(2025, 1, 6, 18, 49, 48, tzinfo=<git.objects.util.tzoffset object at 0x000001A436736440>)], [11, datetime.datetime(2025, 1, 6, 17, 49, 18, tzinfo=<git.objects.util.tzoffset object at 0x000001A4368EC5B0>)], [15, datetime.datetime(2025, 1, 6, 16, 50, 6, tzinfo=<git.objects.util.tzoffset object at 0x000001A437008310>)], [13, datetime.datetime(2025, 1, 6, 15, 49, 8, tzinfo=<git.objects.util.tzoffset object at 0x000001A43690AC80>)]], 'HEUSTON BRIDGE (SOUTH)': [[25, datetime.datetime(2025, 1, 6, 23, 49, 2, tzinfo=<git.objects.util.tzoffset object at 0x000001A4373DC040>)], [25, datetime.datetime(2025, 1, 6, 22, 49, 2, tzinfo=<git.objects.util.tzoffset object at 0x000001A4368E7A00>)], [25, datetime.datetime(2025, 1, 6, 21, 49, 9, tzinfo=<git.objects.util.tzoffset object at 0x000001A436900070>)], [25, datetime.datetime(2025, 1, 6, 20, 49, 3, tzinfo=<git.objects.util.tzoffset object at 0x000001A4368FFAC0>)], [24, datetime.datetime(2025, 1, 6, 19, 49, 5, tzinfo=<git.objects.util.tzoffset object at 0x000001A436FBAFB0>)], [24, datetime.datetime(2025, 1, 6, 18, 49, 48, tzinfo=<git.objects.util.tzoffset object at 0x000001A4367375B0>)], [25, datetime.datetime(2025, 1, 6, 17, 49, 18, tzinfo=<git.objects.util.tzoffset object at 0x000001A4368EC550>)], [18, datetime.datetime(2025, 1, 6, 16, 50, 6, tzinfo=<git.objects.util.tzoffset object at 0x000001A4370095D0>)], [10, datetime.datetime(2025, 1, 6, 15, 49, 8, tzinfo=<git.objects.util.tzoffset object at 0x000001A43690B130>)]], 'KING STREET NORTH': [[14, datetime.datetime(2025, 1, 6, 23, 49, 2, tzinfo=<git.objects.util.tzoffset object at 0x000001A4375E42E0>)], [13, datetime.datetime(2025, 1, 6, 22, 49, 2, tzinfo=<git.objects.util.tzoffset object at 0x000001A4368E7910>)], [12, datetime.datetime(2025, 1, 6, 21, 49, 9, tzinfo=<git.objects.util.tzoffset object at 0x000001A436900130>)], [12, datetime.datetime(2025, 1, 6, 20, 49, 3, tzinfo=<git.objects.util.tzoffset object at 0x000001A4368FF850>)], [12, datetime.datetime(2025, 1, 6, 19, 49, 5, tzinfo=<git.objects.util.tzoffset object at 0x000001A436FB9180>)], [10, datetime.datetime(2025, 1, 6, 18, 49, 48, tzinfo=<git.objects.util.tzoffset object at 0x000001A4367365C0>)], [9, datetime.datetime(2025, 1, 6, 17, 49, 18, tzinfo=<git.objects.util.tzoffset object at 0x000001A4368EC370>)], [7, datetime.datetime(2025, 1, 6, 16, 50, 6, tzinfo=<git.objects.util.tzoffset object at 0x000001A437008670>)], [7, datetime.datetime(2025, 1, 6, 15, 49, 8, tzinfo=<git.objects.util.tzoffset object at 0x000001A43690B1C0>)]], 'WESTERN WAY': [[13, datetime.datetime(2025, 1, 6, 23, 49, 2, tzinfo=<git.objects.util.tzoffset object at 0x000001A4375E4280>)], [13, datetime.datetime(2025, 1, 6, 22, 49, 2, tzinfo=<git.objects.util.tzoffset object at 0x000001A4368E7B80>)], [12, datetime.datetime(2025, 1, 6, 21, 49, 9, tzinfo=<git.objects.util.tzoffset object at 0x000001A4369001F0>)], [13, datetime.datetime(2025, 1, 6, 20, 49, 3, tzinfo=<git.objects.util.tzoffset object at 0x000001A4368FF4C0>)], [13, datetime.datetime(2025, 1, 6, 19, 49, 5, tzinfo=<git.objects.util.tzoffset object at 0x000001A436FB9060>)], [13, datetime.datetime(2025, 1, 6, 18, 49, 48, tzinfo=<git.objects.util.tzoffset object at 0x000001A436736530>)], [13, datetime.datetime(2025, 1, 6, 17, 49, 18, tzinfo=<git.objects.util.tzoffset object at 0x000001A4368EC4C0>)], [14, datetime.datetime(2025, 1, 6, 16, 50, 6, tzinfo=<git.objects.util.tzoffset object at 0x000001A43700AF50>)], [16, datetime.datetime(2025, 1, 6, 15, 49, 8, tzinfo=<git.objects.util.tzoffset object at 0x000001A43690AB90>)]], 'GRANGEGORMAN LOWER (SOUTH)': [[3, datetime.datetime(2025, 1, 6, 23, 49, 2, tzinfo=<git.objects.util.tzoffset object at 0x000001A4375E5210>)], [3, datetime.datetime(2025, 1, 6, 22, 49, 2, tzinfo=<git.objects.util.tzoffset object at 0x000001A4368E7700>)], [2, datetime.datetime(2025, 1, 6, 21, 49, 9, tzinfo=<git.objects.util.tzoffset object at 0x000001A4369017B0>)], [2, datetime.datetime(2025, 1, 6, 20, 49, 3, tzinfo=<git.objects.util.tzoffset object at 0x000001A4368FFDF0>)], [2, datetime.datetime(2025, 1, 6, 19, 49, 5, tzinfo=<git.objects.util.tzoffset object at 0x000001A436FB95A0>)], [1, datetime.datetime(2025, 1, 6, 18, 49, 48, tzinfo=<git.objects.util.tzoffset object at 0x000001A4367353C0>)], [1, datetime.datetime(2025, 1, 6, 17, 49, 18, tzinfo=<git.objects.util.tzoffset object at 0x000001A4368EC400>)], [1, datetime.datetime(2025, 1, 6, 16, 50, 6, tzinfo=<git.objects.util.tzoffset object at 0x000001A43700BA30>)], [0, datetime.datetime(2025, 1, 6, 15, 49, 8, tzinfo=<git.objects.util.tzoffset object at 0x000001A43690AC50>)]], 'GRANGEGORMAN LOWER (CENTRAL)': [[7, datetime.datetime(2025, 1, 6, 23, 49, 2, tzinfo=<git.objects.util.tzoffset object at 0x000001A4375E4CD0>)], [7, datetime.datetime(2025, 1, 6, 22, 49, 2, tzinfo=<git.objects.util.tzoffset object at 0x000001A4368E7640>)], [7, datetime.datetime(2025, 1, 6, 21, 49, 9, tzinfo=<git.objects.util.tzoffset object at 0x000001A436902F80>)], [7, datetime.datetime(2025, 1, 6, 20, 49, 3, tzinfo=<git.objects.util.tzoffset object at 0x000001A4368FFE80>)], [7, datetime.datetime(2025, 1, 6, 19, 49, 5, tzinfo=<git.objects.util.tzoffset object at 0x000001A436FB83A0>)], [8, datetime.datetime(2025, 1, 6, 18, 49, 48, tzinfo=<git.objects.util.tzoffset object at 0x000001A436737520>)], [9, datetime.datetime(2025, 1, 6, 17, 49, 18, tzinfo=<git.objects.util.tzoffset object at 0x000001A4368EC340>)], [10, datetime.datetime(2025, 1, 6, 16, 50, 6, tzinfo=<git.objects.util.tzoffset object at 0x000001A437009630>)], [14, datetime.datetime(2025, 1, 6, 15, 49, 8, tzinfo=<git.objects.util.tzoffset object at 0x000001A43690AD10>)]], 'GRANGEGORMAN LOWER (NORTH)': [[9, datetime.datetime(2025, 1, 6, 23, 49, 2, tzinfo=<git.objects.util.tzoffset object at 0x000001A4375E4D00>)], [9, datetime.datetime(2025, 1, 6, 22, 49, 2, tzinfo=<git.objects.util.tzoffset object at 0x000001A4368E7580>)], [9, datetime.datetime(2025, 1, 6, 21, 49, 9, tzinfo=<git.objects.util.tzoffset object at 0x000001A436903040>)], [9, datetime.datetime(2025, 1, 6, 20, 49, 3, tzinfo=<git.objects.util.tzoffset object at 0x000001A4368FFD00>)], [9, datetime.datetime(2025, 1, 6, 19, 49, 5, tzinfo=<git.objects.util.tzoffset object at 0x000001A436FB8A90>)], [9, datetime.datetime(2025, 1, 6, 18, 49, 48, tzinfo=<git.objects.util.tzoffset object at 0x000001A436736260>)], [10, datetime.datetime(2025, 1, 6, 17, 49, 18, tzinfo=<git.objects.util.tzoffset object at 0x000001A4368EC310>)], [9, datetime.datetime(2025, 1, 6, 16, 50, 6, tzinfo=<git.objects.util.tzoffset object at 0x000001A437008430>)], [9, datetime.datetime(2025, 1, 6, 15, 49, 8, tzinfo=<git.objects.util.tzoffset object at 0x000001A43690AE60>)]], 'RATHDOWN ROAD': [[25, datetime.datetime(2025, 1, 6, 23, 49, 2, tzinfo=<git.objects.util.tzoffset object at 0x000001A4375E4340>)], [25, datetime.datetime(2025, 1, 6, 22, 49, 2, tzinfo=<git.objects.util.tzoffset object at 0x000001A4368E74C0>)], [25, datetime.datetime(2025, 1, 6, 21, 49, 9, tzinfo=<git.objects.util.tzoffset object at 0x000001A436903100>)], [26, datetime.datetime(2025, 1, 6, 20, 49, 3, tzinfo=<git.objects.util.tzoffset object at 0x000001A4368FF820>)], [26, datetime.datetime(2025, 1, 6, 19, 49, 5, tzinfo=<git.objects.util.tzoffset object at 0x000001A436FBAE00>)], [25, datetime.datetime(2025, 1, 6, 18, 49, 48, tzinfo=<git.objects.util.tzoffset object at 0x000001A436736500>)], [25, datetime.datetime(2025, 1, 6, 17, 49, 18, tzinfo=<git.objects.util.tzoffset object at 0x000001A4368EC1C0>)], [23, datetime.datetime(2025, 1, 6, 16, 50, 6, tzinfo=<git.objects.util.tzoffset object at 0x000001A43700BBB0>)], [23, datetime.datetime(2025, 1, 6, 15, 49, 8, tzinfo=<git.objects.util.tzoffset object at 0x000001A43690B2B0>)]], 'CHARLEVILLE ROAD': [[9, datetime.datetime(2025, 1, 6, 23, 49, 2, tzinfo=<git.objects.util.tzoffset object at 0x000001A43608D3C0>)], [9, datetime.datetime(2025, 1, 6, 22, 49, 2, tzinfo=<git.objects.util.tzoffset object at 0x000001A4368E7400>)], [10, datetime.datetime(2025, 1, 6, 21, 49, 9, tzinfo=<git.objects.util.tzoffset object at 0x000001A4369031C0>)], [10, datetime.datetime(2025, 1, 6, 20, 49, 3, tzinfo=<git.objects.util.tzoffset object at 0x000001A4368FF9A0>)], [11, datetime.datetime(2025, 1, 6, 19, 49, 5, tzinfo=<git.objects.util.tzoffset object at 0x000001A436FB8730>)], [14, datetime.datetime(2025, 1, 6, 18, 49, 48, tzinfo=<git.objects.util.tzoffset object at 0x000001A436736BF0>)], [17, datetime.datetime(2025, 1, 6, 17, 49, 18, tzinfo=<git.objects.util.tzoffset object at 0x000001A4368EFBE0>)], [19, datetime.datetime(2025, 1, 6, 16, 50, 6, tzinfo=<git.objects.util.tzoffset object at 0x000001A43700B520>)], [18, datetime.datetime(2025, 1, 6, 15, 49, 8, tzinfo=<git.objects.util.tzoffset object at 0x000001A436908BE0>)]], 'AVONDALE ROAD': [[23, datetime.datetime(2025, 1, 6, 23, 49, 2, tzinfo=<git.objects.util.tzoffset object at 0x000001A4366F7B20>)], [23, datetime.datetime(2025, 1, 6, 22, 49, 2, tzinfo=<git.objects.util.tzoffset object at 0x000001A4368E7340>)], [23, datetime.datetime(2025, 1, 6, 21, 49, 9, tzinfo=<git.objects.util.tzoffset object at 0x000001A436903280>)], [23, datetime.datetime(2025, 1, 6, 20, 49, 3, tzinfo=<git.objects.util.tzoffset object at 0x000001A4368FF310>)], [22, datetime.datetime(2025, 1, 6, 19, 49, 5, tzinfo=<git.objects.util.tzoffset object at 0x000001A436FBAE90>)], [20, datetime.datetime(2025, 1, 6, 18, 49, 48, tzinfo=<git.objects.util.tzoffset object at 0x000001A436736B60>)], [21, datetime.datetime(2025, 1, 6, 17, 49, 18, tzinfo=<git.objects.util.tzoffset object at 0x000001A4368EFF70>)], [21, datetime.datetime(2025, 1, 6, 16, 50, 6, tzinfo=<git.objects.util.tzoffset object at 0x000001A43700B7C0>)], [20, datetime.datetime(2025, 1, 6, 15, 49, 8, tzinfo=<git.objects.util.tzoffset object at 0x000001A436908EE0>)]], 'BUCKINGHAM STREET LOWER': [[11, datetime.datetime(2025, 1, 6, 23, 49, 2, tzinfo=<git.objects.util.tzoffset object at 0x000001A4366F7EE0>)], [10, datetime.datetime(2025, 1, 6, 22, 49, 2, tzinfo=<git.objects.util.tzoffset object at 0x000001A4368E7280>)], [5, datetime.datetime(2025, 1, 6, 21, 49, 9, tzinfo=<git.objects.util.tzoffset object at 0x000001A436903340>)], [5, datetime.datetime(2025, 1, 6, 20, 49, 3, tzinfo=<git.objects.util.tzoffset object at 0x000001A4368FC2B0>)], [4, datetime.datetime(2025, 1, 6, 19, 49, 5, tzinfo=<git.objects.util.tzoffset object at 0x000001A436FBBDF0>)], [5, datetime.datetime(2025, 1, 6, 18, 49, 48, tzinfo=<git.objects.util.tzoffset object at 0x000001A436736A10>)], [4, datetime.datetime(2025, 1, 6, 17, 49, 18, tzinfo=<git.objects.util.tzoffset object at 0x000001A4368EC0D0>)], [4, datetime.datetime(2025, 1, 6, 16, 50, 6, tzinfo=<git.objects.util.tzoffset object at 0x000001A437008190>)], [4, datetime.datetime(2025, 1, 6, 15, 49, 8, tzinfo=<git.objects.util.tzoffset object at 0x000001A436908E50>)]], 'PHIBSBOROUGH ROAD': [[20, datetime.datetime(2025, 1, 6, 23, 49, 2, tzinfo=<git.objects.util.tzoffset object at 0x000001A4366F7820>)], [20, datetime.datetime(2025, 1, 6, 22, 49, 2, tzinfo=<git.objects.util.tzoffset object at 0x000001A4368E71C0>)], [20, datetime.datetime(2025, 1, 6, 21, 49, 9, tzinfo=<git.objects.util.tzoffset object at 0x000001A436903400>)], [21, datetime.datetime(2025, 1, 6, 20, 49, 3, tzinfo=<git.objects.util.tzoffset object at 0x000001A4368FC070>)], [21, datetime.datetime(2025, 1, 6, 19, 49, 5, tzinfo=<git.objects.util.tzoffset object at 0x000001A4368FB2E0>)], [20, datetime.datetime(2025, 1, 6, 18, 49, 48, tzinfo=<git.objects.util.tzoffset object at 0x000001A436736AA0>)], [21, datetime.datetime(2025, 1, 6, 17, 49, 18, tzinfo=<git.objects.util.tzoffset object at 0x000001A4368EFD30>)], [21, datetime.datetime(2025, 1, 6, 16, 50, 6, tzinfo=<git.objects.util.tzoffset object at 0x000001A43700A860>)], [19, datetime.datetime(2025, 1, 6, 15, 49, 8, tzinfo=<git.objects.util.tzoffset object at 0x000001A436908AC0>)]], 'MOUNTJOY SQUARE EAST': [[6, datetime.datetime(2025, 1, 6, 23, 49, 2, tzinfo=<git.objects.util.tzoffset object at 0x000001A4366F7A00>)], [6, datetime.datetime(2025, 1, 6, 22, 49, 2, tzinfo=<git.objects.util.tzoffset object at 0x000001A4368E7100>)], [7, datetime.datetime(2025, 1, 6, 21, 49, 9, tzinfo=<git.objects.util.tzoffset object at 0x000001A4369034C0>)], [6, datetime.datetime(2025, 1, 6, 20, 49, 3, tzinfo=<git.objects.util.tzoffset object at 0x000001A4368FC1C0>)], [5, datetime.datetime(2025, 1, 6, 19, 49, 5, tzinfo=<git.objects.util.tzoffset object at 0x000001A4368FB220>)], [4, datetime.datetime(2025, 1, 6, 18, 49, 48, tzinfo=<git.objects.util.tzoffset object at 0x000001A436736D10>)], [6, datetime.datetime(2025, 1, 6, 17, 49, 18, tzinfo=<git.objects.util.tzoffset object at 0x000001A4368EFC70>)], [2, datetime.datetime(2025, 1, 6, 16, 50, 6, tzinfo=<git.objects.util.tzoffset object at 0x000001A43700A830>)], [0, datetime.datetime(2025, 1, 6, 15, 49, 8, tzinfo=<git.objects.util.tzoffset object at 0x000001A436908C40>)]], \"NORTH CIRCULAR ROAD (O'CONNELL'S)\": [[30, datetime.datetime(2025, 1, 6, 23, 49, 2, tzinfo=<git.objects.util.tzoffset object at 0x000001A4366F7D90>)], [30, datetime.datetime(2025, 1, 6, 22, 49, 2, tzinfo=<git.objects.util.tzoffset object at 0x000001A4368E7040>)], [23, datetime.datetime(2025, 1, 6, 21, 49, 9, tzinfo=<git.objects.util.tzoffset object at 0x000001A436903580>)], [23, datetime.datetime(2025, 1, 6, 20, 49, 3, tzinfo=<git.objects.util.tzoffset object at 0x000001A4368FC280>)], [19, datetime.datetime(2025, 1, 6, 19, 49, 5, tzinfo=<git.objects.util.tzoffset object at 0x000001A4368FB160>)], [17, datetime.datetime(2025, 1, 6, 18, 49, 48, tzinfo=<git.objects.util.tzoffset object at 0x000001A4367368C0>)], [4, datetime.datetime(2025, 1, 6, 17, 49, 18, tzinfo=<git.objects.util.tzoffset object at 0x000001A436FA5510>)], [3, datetime.datetime(2025, 1, 6, 16, 50, 6, tzinfo=<git.objects.util.tzoffset object at 0x000001A43700BDC0>)], [2, datetime.datetime(2025, 1, 6, 15, 49, 8, tzinfo=<git.objects.util.tzoffset object at 0x000001A4369087F0>)]], 'MERRION SQUARE SOUTH': [[0, datetime.datetime(2025, 1, 6, 23, 49, 2, tzinfo=<git.objects.util.tzoffset object at 0x000001A4366F7790>)], [0, datetime.datetime(2025, 1, 6, 22, 49, 2, tzinfo=<git.objects.util.tzoffset object at 0x000001A4368E6F80>)], [0, datetime.datetime(2025, 1, 6, 21, 49, 9, tzinfo=<git.objects.util.tzoffset object at 0x000001A436903640>)], [0, datetime.datetime(2025, 1, 6, 20, 49, 3, tzinfo=<git.objects.util.tzoffset object at 0x000001A4368FC340>)], [0, datetime.datetime(2025, 1, 6, 19, 49, 5, tzinfo=<git.objects.util.tzoffset object at 0x000001A4368FB0A0>)], [1, datetime.datetime(2025, 1, 6, 18, 49, 48, tzinfo=<git.objects.util.tzoffset object at 0x000001A436735AB0>)], [5, datetime.datetime(2025, 1, 6, 17, 49, 18, tzinfo=<git.objects.util.tzoffset object at 0x000001A436FA49A0>)], [10, datetime.datetime(2025, 1, 6, 16, 50, 6, tzinfo=<git.objects.util.tzoffset object at 0x000001A43700B4F0>)], [10, datetime.datetime(2025, 1, 6, 15, 49, 8, tzinfo=<git.objects.util.tzoffset object at 0x000001A4369089A0>)]], 'WILTON TERRACE (PARK)': [[0, datetime.datetime(2025, 1, 6, 23, 49, 2, tzinfo=<git.objects.util.tzoffset object at 0x000001A4366F7760>)], [0, datetime.datetime(2025, 1, 6, 22, 49, 2, tzinfo=<git.objects.util.tzoffset object at 0x000001A4368E6EC0>)], [0, datetime.datetime(2025, 1, 6, 21, 49, 9, tzinfo=<git.objects.util.tzoffset object at 0x000001A436903700>)], [0, datetime.datetime(2025, 1, 6, 20, 49, 3, tzinfo=<git.objects.util.tzoffset object at 0x000001A4368FC400>)], [0, datetime.datetime(2025, 1, 6, 19, 49, 5, tzinfo=<git.objects.util.tzoffset object at 0x000001A4368FAFE0>)], [0, datetime.datetime(2025, 1, 6, 18, 49, 48, tzinfo=<git.objects.util.tzoffset object at 0x000001A4367358D0>)], [3, datetime.datetime(2025, 1, 6, 17, 49, 18, tzinfo=<git.objects.util.tzoffset object at 0x000001A436FA43D0>)], [20, datetime.datetime(2025, 1, 6, 16, 50, 6, tzinfo=<git.objects.util.tzoffset object at 0x000001A43700A1A0>)], [28, datetime.datetime(2025, 1, 6, 15, 49, 8, tzinfo=<git.objects.util.tzoffset object at 0x000001A4369088E0>)]], 'KILLARNEY STREET': [[30, datetime.datetime(2025, 1, 6, 23, 49, 2, tzinfo=<git.objects.util.tzoffset object at 0x000001A4366F7AC0>)], [30, datetime.datetime(2025, 1, 6, 22, 49, 2, tzinfo=<git.objects.util.tzoffset object at 0x000001A4368E6E00>)], [30, datetime.datetime(2025, 1, 6, 21, 49, 9, tzinfo=<git.objects.util.tzoffset object at 0x000001A4369037C0>)], [28, datetime.datetime(2025, 1, 6, 20, 49, 3, tzinfo=<git.objects.util.tzoffset object at 0x000001A4368FC4C0>)], [27, datetime.datetime(2025, 1, 6, 19, 49, 5, tzinfo=<git.objects.util.tzoffset object at 0x000001A4368FAF20>)], [26, datetime.datetime(2025, 1, 6, 18, 49, 48, tzinfo=<git.objects.util.tzoffset object at 0x000001A4367358A0>)], [22, datetime.datetime(2025, 1, 6, 17, 49, 18, tzinfo=<git.objects.util.tzoffset object at 0x000001A436FA4760>)], [19, datetime.datetime(2025, 1, 6, 16, 50, 6, tzinfo=<git.objects.util.tzoffset object at 0x000001A437009E70>)], [18, datetime.datetime(2025, 1, 6, 15, 49, 8, tzinfo=<git.objects.util.tzoffset object at 0x000001A436908820>)]], 'BROADSTONE': [[21, datetime.datetime(2025, 1, 6, 23, 49, 2, tzinfo=<git.objects.util.tzoffset object at 0x000001A4366F7AF0>)], [21, datetime.datetime(2025, 1, 6, 22, 49, 2, tzinfo=<git.objects.util.tzoffset object at 0x000001A4368E6D40>)], [20, datetime.datetime(2025, 1, 6, 21, 49, 9, tzinfo=<git.objects.util.tzoffset object at 0x000001A436903880>)], [20, datetime.datetime(2025, 1, 6, 20, 49, 3, tzinfo=<git.objects.util.tzoffset object at 0x000001A4368FC580>)], [19, datetime.datetime(2025, 1, 6, 19, 49, 5, tzinfo=<git.objects.util.tzoffset object at 0x000001A4368FAE60>)], [18, datetime.datetime(2025, 1, 6, 18, 49, 48, tzinfo=<git.objects.util.tzoffset object at 0x000001A436735810>)], [16, datetime.datetime(2025, 1, 6, 17, 49, 18, tzinfo=<git.objects.util.tzoffset object at 0x000001A436FA4B20>)], [17, datetime.datetime(2025, 1, 6, 16, 50, 6, tzinfo=<git.objects.util.tzoffset object at 0x000001A43700BF70>)], [17, datetime.datetime(2025, 1, 6, 15, 49, 8, tzinfo=<git.objects.util.tzoffset object at 0x000001A436908760>)]], 'HANOVER QUAY EAST': [[3, datetime.datetime(2025, 1, 6, 23, 49, 2, tzinfo=<git.objects.util.tzoffset object at 0x000001A4366F7F40>)], [3, datetime.datetime(2025, 1, 6, 22, 49, 2, tzinfo=<git.objects.util.tzoffset object at 0x000001A4368E6C80>)], [4, datetime.datetime(2025, 1, 6, 21, 49, 9, tzinfo=<git.objects.util.tzoffset object at 0x000001A436903940>)], [5, datetime.datetime(2025, 1, 6, 20, 49, 3, tzinfo=<git.objects.util.tzoffset object at 0x000001A4368FC640>)], [4, datetime.datetime(2025, 1, 6, 19, 49, 5, tzinfo=<git.objects.util.tzoffset object at 0x000001A4368FACE0>)], [3, datetime.datetime(2025, 1, 6, 18, 49, 48, tzinfo=<git.objects.util.tzoffset object at 0x000001A4367359F0>)], [1, datetime.datetime(2025, 1, 6, 17, 49, 18, tzinfo=<git.objects.util.tzoffset object at 0x000001A436FA60B0>)], [8, datetime.datetime(2025, 1, 6, 16, 50, 6, tzinfo=<git.objects.util.tzoffset object at 0x000001A43700A890>)], [10, datetime.datetime(2025, 1, 6, 15, 49, 8, tzinfo=<git.objects.util.tzoffset object at 0x000001A4369086A0>)]]}\n"
     ]
    }
   ],
   "source": [
    "start_time = datetime.datetime.now()\n",
    "last_day_and_hour = None\n",
    "\n",
    "for commit in repo.iter_commits():\n",
    "    # Stop when we reach the earliest bike date\n",
    "    if commit.committed_datetime <= datetime.datetime.strptime(last_bike_datetime, \"%Y-%m-%d %H:%M:%S %Z\").replace(tzinfo=datetime.timezone.utc):\n",
    "        print(\"breaking at: \", commit.committed_datetime)\n",
    "        break\n",
    "\n",
    "    # Skip commits from today\n",
    "    if commit.committed_datetime > today.replace(tzinfo=datetime.timezone.utc).replace(hour=0, minute=0, second=0, microsecond=0):\n",
    "        first_commited_datetime = repo.commit().committed_datetime\n",
    "        continue\n",
    "\n",
    "    day_and_hour = commit.committed_datetime.replace(minute=0, second=0, microsecond=0)\n",
    "    # print(\"day_and_hour: \", day_and_hour, \" - last_day_and_hour: \", last_day_and_hour)\n",
    "    if day_and_hour == last_day_and_hour:\n",
    "        continue\n",
    "    last_day_and_hour = day_and_hour\n",
    "\n",
    "    # Get the data for the commit\n",
    "    print(\"Processing commit: \", commit.hexsha, \" - \", commit.committed_datetime)\n",
    "    try:\n",
    "        repo.git.checkout(commit.hexsha, force=True)\n",
    "    except Exception as e:\n",
    "        print(\"Error checking out commit: \", e)\n",
    "        break\n",
    "\n",
    "    data_file = os.path.join(CLONE_DIR, \"data/stations/\" + TARGET_CITY + \"/\" + FILE_NAME)\n",
    "    if os.path.exists(data_file):\n",
    "        with open(data_file, \"r\") as f:\n",
    "            data = f.read()\n",
    "            data = json.loads(data)\n",
    "            for feature in data[\"features\"]:\n",
    "                try:\n",
    "                    results[feature[\"properties\"][\"name\"]].append([feature[\"properties\"][\"available_bikes\"], commit.committed_datetime])\n",
    "                except KeyError:\n",
    "                    continue\n",
    "\n",
    "print(results)\n"
   ]
  },
  {
   "cell_type": "code",
   "execution_count": 115,
   "metadata": {},
   "outputs": [
    {
     "data": {
      "text/html": [
       "<div>\n",
       "<style scoped>\n",
       "    .dataframe tbody tr th:only-of-type {\n",
       "        vertical-align: middle;\n",
       "    }\n",
       "\n",
       "    .dataframe tbody tr th {\n",
       "        vertical-align: top;\n",
       "    }\n",
       "\n",
       "    .dataframe thead th {\n",
       "        text-align: right;\n",
       "    }\n",
       "</style>\n",
       "<table border=\"1\" class=\"dataframe\">\n",
       "  <thead>\n",
       "    <tr style=\"text-align: right;\">\n",
       "      <th></th>\n",
       "      <th>num_bikes_available</th>\n",
       "      <th>datetime</th>\n",
       "      <th>station</th>\n",
       "    </tr>\n",
       "  </thead>\n",
       "  <tbody>\n",
       "    <tr>\n",
       "      <th>0</th>\n",
       "      <td>6.0</td>\n",
       "      <td>2025-01-06 23:49:02+00:00</td>\n",
       "      <td>MOUNTJOY_SQUARE_WEST</td>\n",
       "    </tr>\n",
       "    <tr>\n",
       "      <th>1</th>\n",
       "      <td>5.0</td>\n",
       "      <td>2025-01-06 22:49:02+00:00</td>\n",
       "      <td>MOUNTJOY_SQUARE_WEST</td>\n",
       "    </tr>\n",
       "    <tr>\n",
       "      <th>2</th>\n",
       "      <td>4.0</td>\n",
       "      <td>2025-01-06 21:49:09+00:00</td>\n",
       "      <td>MOUNTJOY_SQUARE_WEST</td>\n",
       "    </tr>\n",
       "    <tr>\n",
       "      <th>3</th>\n",
       "      <td>4.0</td>\n",
       "      <td>2025-01-06 20:49:03+00:00</td>\n",
       "      <td>MOUNTJOY_SQUARE_WEST</td>\n",
       "    </tr>\n",
       "    <tr>\n",
       "      <th>4</th>\n",
       "      <td>3.0</td>\n",
       "      <td>2025-01-06 19:49:05+00:00</td>\n",
       "      <td>MOUNTJOY_SQUARE_WEST</td>\n",
       "    </tr>\n",
       "    <tr>\n",
       "      <th>5</th>\n",
       "      <td>2.0</td>\n",
       "      <td>2025-01-06 18:49:48+00:00</td>\n",
       "      <td>MOUNTJOY_SQUARE_WEST</td>\n",
       "    </tr>\n",
       "    <tr>\n",
       "      <th>6</th>\n",
       "      <td>2.0</td>\n",
       "      <td>2025-01-06 17:49:18+00:00</td>\n",
       "      <td>MOUNTJOY_SQUARE_WEST</td>\n",
       "    </tr>\n",
       "    <tr>\n",
       "      <th>7</th>\n",
       "      <td>2.0</td>\n",
       "      <td>2025-01-06 16:50:06+00:00</td>\n",
       "      <td>MOUNTJOY_SQUARE_WEST</td>\n",
       "    </tr>\n",
       "    <tr>\n",
       "      <th>8</th>\n",
       "      <td>3.0</td>\n",
       "      <td>2025-01-06 15:49:08+00:00</td>\n",
       "      <td>MOUNTJOY_SQUARE_WEST</td>\n",
       "    </tr>\n",
       "    <tr>\n",
       "      <th>0</th>\n",
       "      <td>37.0</td>\n",
       "      <td>2025-01-06 23:49:02+00:00</td>\n",
       "      <td>HEUSTON_BRIDGE_(NORTH)</td>\n",
       "    </tr>\n",
       "    <tr>\n",
       "      <th>1</th>\n",
       "      <td>37.0</td>\n",
       "      <td>2025-01-06 22:49:02+00:00</td>\n",
       "      <td>HEUSTON_BRIDGE_(NORTH)</td>\n",
       "    </tr>\n",
       "    <tr>\n",
       "      <th>2</th>\n",
       "      <td>36.0</td>\n",
       "      <td>2025-01-06 21:49:09+00:00</td>\n",
       "      <td>HEUSTON_BRIDGE_(NORTH)</td>\n",
       "    </tr>\n",
       "    <tr>\n",
       "      <th>3</th>\n",
       "      <td>35.0</td>\n",
       "      <td>2025-01-06 20:49:03+00:00</td>\n",
       "      <td>HEUSTON_BRIDGE_(NORTH)</td>\n",
       "    </tr>\n",
       "    <tr>\n",
       "      <th>4</th>\n",
       "      <td>35.0</td>\n",
       "      <td>2025-01-06 19:49:05+00:00</td>\n",
       "      <td>HEUSTON_BRIDGE_(NORTH)</td>\n",
       "    </tr>\n",
       "    <tr>\n",
       "      <th>5</th>\n",
       "      <td>37.0</td>\n",
       "      <td>2025-01-06 18:49:48+00:00</td>\n",
       "      <td>HEUSTON_BRIDGE_(NORTH)</td>\n",
       "    </tr>\n",
       "    <tr>\n",
       "      <th>6</th>\n",
       "      <td>32.0</td>\n",
       "      <td>2025-01-06 17:49:18+00:00</td>\n",
       "      <td>HEUSTON_BRIDGE_(NORTH)</td>\n",
       "    </tr>\n",
       "    <tr>\n",
       "      <th>7</th>\n",
       "      <td>28.0</td>\n",
       "      <td>2025-01-06 16:50:06+00:00</td>\n",
       "      <td>HEUSTON_BRIDGE_(NORTH)</td>\n",
       "    </tr>\n",
       "    <tr>\n",
       "      <th>8</th>\n",
       "      <td>27.0</td>\n",
       "      <td>2025-01-06 15:49:08+00:00</td>\n",
       "      <td>HEUSTON_BRIDGE_(NORTH)</td>\n",
       "    </tr>\n",
       "  </tbody>\n",
       "</table>\n",
       "</div>"
      ],
      "text/plain": [
       "   num_bikes_available                  datetime                 station\n",
       "0                  6.0 2025-01-06 23:49:02+00:00    MOUNTJOY_SQUARE_WEST\n",
       "1                  5.0 2025-01-06 22:49:02+00:00    MOUNTJOY_SQUARE_WEST\n",
       "2                  4.0 2025-01-06 21:49:09+00:00    MOUNTJOY_SQUARE_WEST\n",
       "3                  4.0 2025-01-06 20:49:03+00:00    MOUNTJOY_SQUARE_WEST\n",
       "4                  3.0 2025-01-06 19:49:05+00:00    MOUNTJOY_SQUARE_WEST\n",
       "5                  2.0 2025-01-06 18:49:48+00:00    MOUNTJOY_SQUARE_WEST\n",
       "6                  2.0 2025-01-06 17:49:18+00:00    MOUNTJOY_SQUARE_WEST\n",
       "7                  2.0 2025-01-06 16:50:06+00:00    MOUNTJOY_SQUARE_WEST\n",
       "8                  3.0 2025-01-06 15:49:08+00:00    MOUNTJOY_SQUARE_WEST\n",
       "0                 37.0 2025-01-06 23:49:02+00:00  HEUSTON_BRIDGE_(NORTH)\n",
       "1                 37.0 2025-01-06 22:49:02+00:00  HEUSTON_BRIDGE_(NORTH)\n",
       "2                 36.0 2025-01-06 21:49:09+00:00  HEUSTON_BRIDGE_(NORTH)\n",
       "3                 35.0 2025-01-06 20:49:03+00:00  HEUSTON_BRIDGE_(NORTH)\n",
       "4                 35.0 2025-01-06 19:49:05+00:00  HEUSTON_BRIDGE_(NORTH)\n",
       "5                 37.0 2025-01-06 18:49:48+00:00  HEUSTON_BRIDGE_(NORTH)\n",
       "6                 32.0 2025-01-06 17:49:18+00:00  HEUSTON_BRIDGE_(NORTH)\n",
       "7                 28.0 2025-01-06 16:50:06+00:00  HEUSTON_BRIDGE_(NORTH)\n",
       "8                 27.0 2025-01-06 15:49:08+00:00  HEUSTON_BRIDGE_(NORTH)"
      ]
     },
     "execution_count": 115,
     "metadata": {},
     "output_type": "execute_result"
    }
   ],
   "source": [
    "# turn results into a dataframe\n",
    "df_bike_today = pd.DataFrame()\n",
    "\n",
    "for station, values in results.items():\n",
    "    if len(values) > 0:\n",
    "        df = pd.DataFrame(values, columns=[\"num_bikes_available\", \"datetime\"])\n",
    "        df[\"datetime\"] = pd.to_datetime(df[\"datetime\"], utc=True)\n",
    "        df[\"station\"] = station.replace(\" \", \"_\")\n",
    "        df_bike_today = pd.concat([df_bike_today, df])\n",
    "df_bike_today.dropna(inplace=True)\n",
    "df_bike_today[\"num_bikes_available\"] = df_bike_today[\"num_bikes_available\"].astype(\"float32\")\n",
    "df_bike_today = df_bike_today[df_bike_today['station'].isin([STATION_1.replace(\" \", \"_\"), STATION_2.replace(\" \", \"_\")])]\n",
    "df_bike_today\n"
   ]
  },
  {
   "cell_type": "markdown",
   "metadata": {},
   "source": [
    "## Fetch the weather data for the same time period"
   ]
  },
  {
   "cell_type": "code",
   "execution_count": 116,
   "metadata": {},
   "outputs": [
    {
     "name": "stdout",
     "output_type": "stream",
     "text": [
      "features: {'hourly': ['temperature_2m', 'apparent_temperature', 'rain', 'snowfall', 'wind_speed_10m'], 'daily': ['daylight_duration', 'rain_sum']}\n",
      "params: {'latitude': 53.35, 'longitude': -6.26, 'hourly': ['temperature_2m', 'apparent_temperature', 'rain', 'snowfall', 'wind_speed_10m'], 'daily': ['daylight_duration', 'rain_sum']}\n",
      "Coordinates 53.5°N -6.25°E\n",
      "Elevation 11.0 m asl\n",
      "Timezone None None\n",
      "Timezone difference to GMT+0 0 s\n",
      "False\n"
     ]
    },
    {
     "data": {
      "text/html": [
       "<div>\n",
       "<style scoped>\n",
       "    .dataframe tbody tr th:only-of-type {\n",
       "        vertical-align: middle;\n",
       "    }\n",
       "\n",
       "    .dataframe tbody tr th {\n",
       "        vertical-align: top;\n",
       "    }\n",
       "\n",
       "    .dataframe thead th {\n",
       "        text-align: right;\n",
       "    }\n",
       "</style>\n",
       "<table border=\"1\" class=\"dataframe\">\n",
       "  <thead>\n",
       "    <tr style=\"text-align: right;\">\n",
       "      <th></th>\n",
       "      <th>datetime</th>\n",
       "      <th>temperature_2m</th>\n",
       "      <th>apparent_temperature</th>\n",
       "      <th>rain</th>\n",
       "      <th>snowfall</th>\n",
       "      <th>wind_speed_10m</th>\n",
       "      <th>daylight_duration</th>\n",
       "      <th>rain_sum</th>\n",
       "      <th>city</th>\n",
       "    </tr>\n",
       "  </thead>\n",
       "  <tbody>\n",
       "    <tr>\n",
       "      <th>0</th>\n",
       "      <td>2025-01-07 00:00:00+00:00</td>\n",
       "      <td>1.00</td>\n",
       "      <td>-4.701722</td>\n",
       "      <td>0.0</td>\n",
       "      <td>0.0</td>\n",
       "      <td>23.110207</td>\n",
       "      <td>27904.794922</td>\n",
       "      <td>0.0</td>\n",
       "      <td>dublin</td>\n",
       "    </tr>\n",
       "    <tr>\n",
       "      <th>1</th>\n",
       "      <td>2025-01-07 01:00:00+00:00</td>\n",
       "      <td>0.90</td>\n",
       "      <td>-4.467092</td>\n",
       "      <td>0.0</td>\n",
       "      <td>0.0</td>\n",
       "      <td>20.721119</td>\n",
       "      <td>27904.794922</td>\n",
       "      <td>0.0</td>\n",
       "      <td>dublin</td>\n",
       "    </tr>\n",
       "    <tr>\n",
       "      <th>2</th>\n",
       "      <td>2025-01-07 02:00:00+00:00</td>\n",
       "      <td>0.65</td>\n",
       "      <td>-4.571556</td>\n",
       "      <td>0.0</td>\n",
       "      <td>0.0</td>\n",
       "      <td>19.642281</td>\n",
       "      <td>27904.794922</td>\n",
       "      <td>0.0</td>\n",
       "      <td>dublin</td>\n",
       "    </tr>\n",
       "    <tr>\n",
       "      <th>3</th>\n",
       "      <td>2025-01-07 03:00:00+00:00</td>\n",
       "      <td>0.50</td>\n",
       "      <td>-4.742946</td>\n",
       "      <td>0.0</td>\n",
       "      <td>0.0</td>\n",
       "      <td>19.799999</td>\n",
       "      <td>27904.794922</td>\n",
       "      <td>0.0</td>\n",
       "      <td>dublin</td>\n",
       "    </tr>\n",
       "    <tr>\n",
       "      <th>4</th>\n",
       "      <td>2025-01-07 04:00:00+00:00</td>\n",
       "      <td>0.60</td>\n",
       "      <td>-4.587338</td>\n",
       "      <td>0.0</td>\n",
       "      <td>0.0</td>\n",
       "      <td>19.969458</td>\n",
       "      <td>27904.794922</td>\n",
       "      <td>0.0</td>\n",
       "      <td>dublin</td>\n",
       "    </tr>\n",
       "    <tr>\n",
       "      <th>...</th>\n",
       "      <td>...</td>\n",
       "      <td>...</td>\n",
       "      <td>...</td>\n",
       "      <td>...</td>\n",
       "      <td>...</td>\n",
       "      <td>...</td>\n",
       "      <td>...</td>\n",
       "      <td>...</td>\n",
       "      <td>...</td>\n",
       "    </tr>\n",
       "    <tr>\n",
       "      <th>235</th>\n",
       "      <td>2025-01-16 19:00:00+00:00</td>\n",
       "      <td>5.45</td>\n",
       "      <td>2.606128</td>\n",
       "      <td>0.0</td>\n",
       "      <td>0.0</td>\n",
       "      <td>10.739832</td>\n",
       "      <td>29183.220703</td>\n",
       "      <td>0.0</td>\n",
       "      <td>dublin</td>\n",
       "    </tr>\n",
       "    <tr>\n",
       "      <th>236</th>\n",
       "      <td>2025-01-16 20:00:00+00:00</td>\n",
       "      <td>5.30</td>\n",
       "      <td>2.404336</td>\n",
       "      <td>0.0</td>\n",
       "      <td>0.0</td>\n",
       "      <td>10.883676</td>\n",
       "      <td>29183.220703</td>\n",
       "      <td>0.0</td>\n",
       "      <td>dublin</td>\n",
       "    </tr>\n",
       "    <tr>\n",
       "      <th>237</th>\n",
       "      <td>2025-01-16 21:00:00+00:00</td>\n",
       "      <td>5.20</td>\n",
       "      <td>2.268395</td>\n",
       "      <td>0.0</td>\n",
       "      <td>0.0</td>\n",
       "      <td>10.990322</td>\n",
       "      <td>29183.220703</td>\n",
       "      <td>0.0</td>\n",
       "      <td>dublin</td>\n",
       "    </tr>\n",
       "    <tr>\n",
       "      <th>238</th>\n",
       "      <td>2025-01-16 22:00:00+00:00</td>\n",
       "      <td>5.05</td>\n",
       "      <td>2.094080</td>\n",
       "      <td>0.0</td>\n",
       "      <td>0.0</td>\n",
       "      <td>10.948973</td>\n",
       "      <td>29183.220703</td>\n",
       "      <td>0.0</td>\n",
       "      <td>dublin</td>\n",
       "    </tr>\n",
       "    <tr>\n",
       "      <th>239</th>\n",
       "      <td>2025-01-16 23:00:00+00:00</td>\n",
       "      <td>4.95</td>\n",
       "      <td>2.019533</td>\n",
       "      <td>0.0</td>\n",
       "      <td>0.0</td>\n",
       "      <td>10.636766</td>\n",
       "      <td>29183.220703</td>\n",
       "      <td>0.0</td>\n",
       "      <td>dublin</td>\n",
       "    </tr>\n",
       "  </tbody>\n",
       "</table>\n",
       "<p>240 rows × 9 columns</p>\n",
       "</div>"
      ],
      "text/plain": [
       "                     datetime  temperature_2m  apparent_temperature  rain  \\\n",
       "0   2025-01-07 00:00:00+00:00            1.00             -4.701722   0.0   \n",
       "1   2025-01-07 01:00:00+00:00            0.90             -4.467092   0.0   \n",
       "2   2025-01-07 02:00:00+00:00            0.65             -4.571556   0.0   \n",
       "3   2025-01-07 03:00:00+00:00            0.50             -4.742946   0.0   \n",
       "4   2025-01-07 04:00:00+00:00            0.60             -4.587338   0.0   \n",
       "..                        ...             ...                   ...   ...   \n",
       "235 2025-01-16 19:00:00+00:00            5.45              2.606128   0.0   \n",
       "236 2025-01-16 20:00:00+00:00            5.30              2.404336   0.0   \n",
       "237 2025-01-16 21:00:00+00:00            5.20              2.268395   0.0   \n",
       "238 2025-01-16 22:00:00+00:00            5.05              2.094080   0.0   \n",
       "239 2025-01-16 23:00:00+00:00            4.95              2.019533   0.0   \n",
       "\n",
       "     snowfall  wind_speed_10m  daylight_duration  rain_sum    city  \n",
       "0         0.0       23.110207       27904.794922       0.0  dublin  \n",
       "1         0.0       20.721119       27904.794922       0.0  dublin  \n",
       "2         0.0       19.642281       27904.794922       0.0  dublin  \n",
       "3         0.0       19.799999       27904.794922       0.0  dublin  \n",
       "4         0.0       19.969458       27904.794922       0.0  dublin  \n",
       "..        ...             ...                ...       ...     ...  \n",
       "235       0.0       10.739832       29183.220703       0.0  dublin  \n",
       "236       0.0       10.883676       29183.220703       0.0  dublin  \n",
       "237       0.0       10.990322       29183.220703       0.0  dublin  \n",
       "238       0.0       10.948973       29183.220703       0.0  dublin  \n",
       "239       0.0       10.636766       29183.220703       0.0  dublin  \n",
       "\n",
       "[240 rows x 9 columns]"
      ]
     },
     "execution_count": 116,
     "metadata": {},
     "output_type": "execute_result"
    }
   ],
   "source": [
    "forecast_df = utils.get_hourly_weather_forecast(CITY)\n",
    "forecast_df = forecast_df.rename(columns={'date_x': 'datetime'})\n",
    "forecast_df = forecast_df.drop(columns=['date_y', 'date_only'])\n",
    "forecast_df.dropna(inplace=True)\n",
    "\n",
    "print(forecast_df.empty)\n",
    "\n",
    "forecast_df"
   ]
  },
  {
   "cell_type": "markdown",
   "metadata": {},
   "source": [
    "## Insert the bike and weather data into Hopsworks"
   ]
  },
  {
   "cell_type": "code",
   "execution_count": 117,
   "metadata": {},
   "outputs": [
    {
     "name": "stderr",
     "output_type": "stream",
     "text": [
      "Uploading Dataframe: 100.00% |██████████| Rows 18/18 | Elapsed Time: 00:01 | Remaining Time: 00:00\n"
     ]
    },
    {
     "name": "stdout",
     "output_type": "stream",
     "text": [
      "Launching job: bike_data_1_offline_fg_materialization\n",
      "Job started successfully, you can follow the progress at \n",
      "https://c.app.hopsworks.ai:443/p/1207494/jobs/named/bike_data_1_offline_fg_materialization/executions\n"
     ]
    }
   ],
   "source": [
    "if df_bike_today.empty:\n",
    "    print(\"No bike data available for today\")\n",
    "else:\n",
    "    bike_fg.insert(df_bike_today)"
   ]
  },
  {
   "cell_type": "code",
   "execution_count": 118,
   "metadata": {},
   "outputs": [
    {
     "name": "stderr",
     "output_type": "stream",
     "text": [
      "Uploading Dataframe: 100.00% |██████████| Rows 240/240 | Elapsed Time: 00:01 | Remaining Time: 00:00\n"
     ]
    },
    {
     "name": "stdout",
     "output_type": "stream",
     "text": [
      "Launching job: weather_data_1_offline_fg_materialization\n",
      "Job started successfully, you can follow the progress at \n",
      "https://c.app.hopsworks.ai:443/p/1207494/jobs/named/weather_data_1_offline_fg_materialization/executions\n"
     ]
    }
   ],
   "source": [
    "if forecast_df.empty:\n",
    "    print(\"No weather forecast available for today\")\n",
    "else:\n",
    "    weather_fg.insert(forecast_df)\n"
   ]
  },
  {
   "cell_type": "markdown",
   "metadata": {},
   "source": [
    "## Change the last_bike_datetime secret"
   ]
  },
  {
   "cell_type": "code",
   "execution_count": 119,
   "metadata": {},
   "outputs": [
    {
     "data": {
      "text/plain": [
       "'\\nif not df_bike_today.empty:\\n    try:\\n        secrets.get_secret(\"time_secrets\").delete()\\n    except:\\n        pass\\n\\n    new_last_bike_datetime_raw = pd.Series.max(df_bike_today[\\'datetime\\'])\\n    new_last_bike_datetime = new_last_bike_datetime_raw.strftime(\\'%Y-%m-%d %H:%M:%S %Z\\')\\n\\n    time_secrets_dict = {\\n        \"earliest_bike_datetime\": earliest_bike_datetime,\\n        \"last_bike_datetime\": new_last_bike_datetime\\n    }\\n\\n    secrets.create_secret(\"time_secrets\", json.dumps(time_secrets_dict))\\n'"
      ]
     },
     "execution_count": 119,
     "metadata": {},
     "output_type": "execute_result"
    }
   ],
   "source": [
    "\"\"\"\n",
    "if not df_bike_today.empty:\n",
    "    try:\n",
    "        secrets.get_secret(\"time_secrets\").delete()\n",
    "    except:\n",
    "        pass\n",
    "\n",
    "    new_last_bike_datetime_raw = pd.Series.max(df_bike_today['datetime'])\n",
    "    new_last_bike_datetime = new_last_bike_datetime_raw.strftime('%Y-%m-%d %H:%M:%S %Z')\n",
    "\n",
    "    time_secrets_dict = {\n",
    "        \"earliest_bike_datetime\": earliest_bike_datetime,\n",
    "        \"last_bike_datetime\": new_last_bike_datetime\n",
    "    }\n",
    "\n",
    "    secrets.create_secret(\"time_secrets\", json.dumps(time_secrets_dict))\n",
    "\"\"\" "
   ]
  }
 ],
 "metadata": {
  "kernelspec": {
   "display_name": "SML_Project",
   "language": "python",
   "name": "python3"
  },
  "language_info": {
   "codemirror_mode": {
    "name": "ipython",
    "version": 3
   },
   "file_extension": ".py",
   "mimetype": "text/x-python",
   "name": "python",
   "nbconvert_exporter": "python",
   "pygments_lexer": "ipython3",
   "version": "3.10.0"
  }
 },
 "nbformat": 4,
 "nbformat_minor": 2
}
