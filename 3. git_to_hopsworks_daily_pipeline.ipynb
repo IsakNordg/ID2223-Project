{
 "cells": [
  {
   "cell_type": "code",
   "execution_count": 18,
   "metadata": {},
   "outputs": [],
   "source": [
    "import datetime\n",
    "import time\n",
    "import requests\n",
    "import pandas as pd\n",
    "import hopsworks\n",
    "from functions import utils\n",
    "import json\n",
    "import os\n",
    "import git\n",
    "import warnings\n",
    "warnings.filterwarnings(\"ignore\")"
   ]
  },
  {
   "cell_type": "code",
   "execution_count": 19,
   "metadata": {},
   "outputs": [],
   "source": [
    "from dotenv import load_dotenv\n",
    "load_dotenv()\n",
    "HOPSWORKS_API_KEY = os.getenv(\"HOPSWORKS_API_KEY\")\n",
    "os.environ[\"HOPSWORKS_API_KEY\"] = HOPSWORKS_API_KEY"
   ]
  },
  {
   "cell_type": "markdown",
   "metadata": {},
   "source": [
    "## Get the necessary data from Hopsworks"
   ]
  },
  {
   "cell_type": "code",
   "execution_count": 20,
   "metadata": {},
   "outputs": [
    {
     "name": "stdout",
     "output_type": "stream",
     "text": [
      "2025-01-07 12:29:18,796 INFO: Closing external client and cleaning up certificates.\n",
      "Connection closed.\n",
      "2025-01-07 12:29:18,803 INFO: Initializing external client\n",
      "2025-01-07 12:29:18,804 INFO: Base URL: https://c.app.hopsworks.ai:443\n",
      "2025-01-07 12:29:20,041 INFO: Python Engine initialized.\n",
      "\n",
      "Logged in to project, explore it here https://c.app.hopsworks.ai:443/p/1207494\n"
     ]
    }
   ],
   "source": [
    "project = hopsworks.login()\n",
    "fs = project.get_feature_store() \n",
    "# secrets = utils.secrets_api(project.name)\n",
    "\n",
    "CITY = \"dublin\"\n",
    "# latitude =\n",
    "# longitude =\n",
    "\n",
    "earliest_bike_datetime = \"2023-08-05 12:56:53 UTC\"\n",
    "last_bike_datetime = \"2025-01-06 15:06:11 UTC\"\n",
    "\n",
    "today = datetime.datetime.now()"
   ]
  },
  {
   "cell_type": "code",
   "execution_count": 21,
   "metadata": {},
   "outputs": [],
   "source": [
    "# Retrieve feature groups\n",
    "bike_fg = fs.get_feature_group(\n",
    "    name='bike_data',\n",
    "    version=1,\n",
    ")\n",
    "weather_fg = fs.get_feature_group(\n",
    "    name='weather_data',\n",
    "    version=1,\n",
    ")\n"
   ]
  },
  {
   "cell_type": "markdown",
   "metadata": {},
   "source": [
    "## Clone and pull the repository with the bike data"
   ]
  },
  {
   "cell_type": "code",
   "execution_count": 22,
   "metadata": {},
   "outputs": [],
   "source": [
    "# Configuration\n",
    "REPO_URL = \"https://github.com/MaxHalford/bike-sharing-history\"\n",
    "CLONE_DIR = \"./bike_data/bike-sharing-history\"\n",
    "TARGET_CITY = \"dublin\"\n",
    "FILE_NAME = \"jcdecaux.geojson\""
   ]
  },
  {
   "cell_type": "code",
   "execution_count": 23,
   "metadata": {},
   "outputs": [
    {
     "data": {
      "text/plain": [
       "[<git.remote.FetchInfo at 0x1a436edd940>,\n",
       " <git.remote.FetchInfo at 0x1a436e33470>]"
      ]
     },
     "execution_count": 23,
     "metadata": {},
     "output_type": "execute_result"
    }
   ],
   "source": [
    "if not os.path.exists(CLONE_DIR):\n",
    "    print(\"Cloning repository...\")\n",
    "    git.Repo.clone_from(REPO_URL, CLONE_DIR)\n",
    "repo = git.Repo(CLONE_DIR)\n",
    "\n",
    "# go to main and pull the latest changes\n",
    "repo.git.checkout(\"main\", force=True)\n",
    "repo.remotes.origin.pull()"
   ]
  },
  {
   "cell_type": "markdown",
   "metadata": {},
   "source": [
    "## Loop through the commits and convert the bike data into a dataframe"
   ]
  },
  {
   "cell_type": "code",
   "execution_count": 24,
   "metadata": {},
   "outputs": [],
   "source": [
    "results = {}\n",
    "\n",
    "# Populate the results dict with the stations\n",
    "data_file = os.path.join(CLONE_DIR, \"data/stations/\" + TARGET_CITY + \"/\" + FILE_NAME)\n",
    "if os.path.exists(data_file):\n",
    "    with open(data_file, \"r\") as f:\n",
    "        data = f.read()\n",
    "        data = json.loads(data)\n",
    "        for feature in data[\"features\"]:\n",
    "            name = feature[\"properties\"][\"name\"]\n",
    "            results[name] = []"
   ]
  },
  {
   "cell_type": "code",
   "execution_count": 25,
   "metadata": {},
   "outputs": [
    {
     "name": "stdout",
     "output_type": "stream",
     "text": [
      "Processing commit:  68290eccd75b7d4e47320383a23d86e7a43eff1c  -  2025-01-06 23:49:02+00:00\n",
      "Processing commit:  a7bc71c83506577ff7dc6e6687e852d36651c6c8  -  2025-01-06 22:49:02+00:00\n",
      "Processing commit:  3397f6bd8f1013ee14a88f3cb6dc46b7c4706db0  -  2025-01-06 21:49:09+00:00\n",
      "Processing commit:  133f27c2e3b1237915f63add44b13ef61619910b  -  2025-01-06 20:49:03+00:00\n",
      "Processing commit:  97141c31253eb495340fd2b1fa675c75fbfadf8e  -  2025-01-06 19:49:05+00:00\n",
      "Processing commit:  d86a5ba24238c2a6d82943004d7998317a6158c1  -  2025-01-06 18:49:48+00:00\n",
      "Processing commit:  e794fc5ce20ae14539f97f31a3315af922959f42  -  2025-01-06 17:49:18+00:00\n",
      "Processing commit:  42967854469793e1d901cb67f10c74a619a510af  -  2025-01-06 16:50:06+00:00\n",
      "Processing commit:  c307dd3308878520b876dde02b330ff3271e624e  -  2025-01-06 15:49:08+00:00\n",
      "breaking at:  2025-01-06 15:06:11+00:00\n",
      "{'CLARENDON ROW': [[1, datetime.datetime(2025, 1, 6, 23, 49, 2, tzinfo=<git.objects.util.tzoffset object at 0x000001A4367010F0>)], [2, datetime.datetime(2025, 1, 6, 22, 49, 2, tzinfo=<git.objects.util.tzoffset object at 0x000001A436700610>)], [3, datetime.datetime(2025, 1, 6, 21, 49, 9, tzinfo=<git.objects.util.tzoffset object at 0x000001A43608FCA0>)], [4, datetime.datetime(2025, 1, 6, 20, 49, 3, tzinfo=<git.objects.util.tzoffset object at 0x000001A435F44910>)], [0, datetime.datetime(2025, 1, 6, 19, 49, 5, tzinfo=<git.objects.util.tzoffset object at 0x000001A43608FAC0>)], [1, datetime.datetime(2025, 1, 6, 18, 49, 48, tzinfo=<git.objects.util.tzoffset object at 0x000001A4368EECE0>)], [0, datetime.datetime(2025, 1, 6, 17, 49, 18, tzinfo=<git.objects.util.tzoffset object at 0x000001A4368F82B0>)], [7, datetime.datetime(2025, 1, 6, 16, 50, 6, tzinfo=<git.objects.util.tzoffset object at 0x000001A436909C30>)], [11, datetime.datetime(2025, 1, 6, 15, 49, 8, tzinfo=<git.objects.util.tzoffset object at 0x000001A4368FED10>)]], 'BLESSINGTON STREET': [[6, datetime.datetime(2025, 1, 6, 23, 49, 2, tzinfo=<git.objects.util.tzoffset object at 0x000001A436701390>)], [6, datetime.datetime(2025, 1, 6, 22, 49, 2, tzinfo=<git.objects.util.tzoffset object at 0x000001A43608FB20>)], [6, datetime.datetime(2025, 1, 6, 21, 49, 9, tzinfo=<git.objects.util.tzoffset object at 0x000001A43608FF40>)], [5, datetime.datetime(2025, 1, 6, 20, 49, 3, tzinfo=<git.objects.util.tzoffset object at 0x000001A4368EEB60>)], [7, datetime.datetime(2025, 1, 6, 19, 49, 5, tzinfo=<git.objects.util.tzoffset object at 0x000001A4368F80A0>)], [8, datetime.datetime(2025, 1, 6, 18, 49, 48, tzinfo=<git.objects.util.tzoffset object at 0x000001A436909AB0>)], [8, datetime.datetime(2025, 1, 6, 17, 49, 18, tzinfo=<git.objects.util.tzoffset object at 0x000001A4368FEB90>)], [14, datetime.datetime(2025, 1, 6, 16, 50, 6, tzinfo=<git.objects.util.tzoffset object at 0x000001A4368DBE20>)], [14, datetime.datetime(2025, 1, 6, 15, 49, 8, tzinfo=<git.objects.util.tzoffset object at 0x000001A4367367A0>)]], 'BOLTON STREET': [[6, datetime.datetime(2025, 1, 6, 23, 49, 2, tzinfo=<git.objects.util.tzoffset object at 0x000001A436701420>)], [4, datetime.datetime(2025, 1, 6, 22, 49, 2, tzinfo=<git.objects.util.tzoffset object at 0x000001A43608F910>)], [3, datetime.datetime(2025, 1, 6, 21, 49, 9, tzinfo=<git.objects.util.tzoffset object at 0x000001A4368EEC20>)], [2, datetime.datetime(2025, 1, 6, 20, 49, 3, tzinfo=<git.objects.util.tzoffset object at 0x000001A4368F81F0>)], [2, datetime.datetime(2025, 1, 6, 19, 49, 5, tzinfo=<git.objects.util.tzoffset object at 0x000001A436909B70>)], [3, datetime.datetime(2025, 1, 6, 18, 49, 48, tzinfo=<git.objects.util.tzoffset object at 0x000001A4368FEC50>)], [2, datetime.datetime(2025, 1, 6, 17, 49, 18, tzinfo=<git.objects.util.tzoffset object at 0x000001A4368DBEE0>)], [0, datetime.datetime(2025, 1, 6, 16, 50, 6, tzinfo=<git.objects.util.tzoffset object at 0x000001A436736920>)], [2, datetime.datetime(2025, 1, 6, 15, 49, 8, tzinfo=<git.objects.util.tzoffset object at 0x000001A4368F6B00>)]], 'GREEK STREET': [[14, datetime.datetime(2025, 1, 6, 23, 49, 2, tzinfo=<git.objects.util.tzoffset object at 0x000001A436700D60>)], [14, datetime.datetime(2025, 1, 6, 22, 49, 2, tzinfo=<git.objects.util.tzoffset object at 0x000001A43608FDC0>)], [14, datetime.datetime(2025, 1, 6, 21, 49, 9, tzinfo=<git.objects.util.tzoffset object at 0x000001A4368EEA70>)], [14, datetime.datetime(2025, 1, 6, 20, 49, 3, tzinfo=<git.objects.util.tzoffset object at 0x000001A4368FBE50>)], [13, datetime.datetime(2025, 1, 6, 19, 49, 5, tzinfo=<git.objects.util.tzoffset object at 0x000001A436909810>)], [13, datetime.datetime(2025, 1, 6, 18, 49, 48, tzinfo=<git.objects.util.tzoffset object at 0x000001A4368FEBC0>)], [12, datetime.datetime(2025, 1, 6, 17, 49, 18, tzinfo=<git.objects.util.tzoffset object at 0x000001A4368DBD30>)], [11, datetime.datetime(2025, 1, 6, 16, 50, 6, tzinfo=<git.objects.util.tzoffset object at 0x000001A436735930>)], [11, datetime.datetime(2025, 1, 6, 15, 49, 8, tzinfo=<git.objects.util.tzoffset object at 0x000001A4368F6D10>)]], 'CHARLEMONT PLACE': [[39, datetime.datetime(2025, 1, 6, 23, 49, 2, tzinfo=<git.objects.util.tzoffset object at 0x000001A4367005E0>)], [39, datetime.datetime(2025, 1, 6, 22, 49, 2, tzinfo=<git.objects.util.tzoffset object at 0x000001A435F45F90>)], [40, datetime.datetime(2025, 1, 6, 21, 49, 9, tzinfo=<git.objects.util.tzoffset object at 0x000001A4368EE710>)], [38, datetime.datetime(2025, 1, 6, 20, 49, 3, tzinfo=<git.objects.util.tzoffset object at 0x000001A4368FBDC0>)], [40, datetime.datetime(2025, 1, 6, 19, 49, 5, tzinfo=<git.objects.util.tzoffset object at 0x000001A436909780>)], [40, datetime.datetime(2025, 1, 6, 18, 49, 48, tzinfo=<git.objects.util.tzoffset object at 0x000001A4368FE920>)], [39, datetime.datetime(2025, 1, 6, 17, 49, 18, tzinfo=<git.objects.util.tzoffset object at 0x000001A4368DB9D0>)], [22, datetime.datetime(2025, 1, 6, 16, 50, 6, tzinfo=<git.objects.util.tzoffset object at 0x000001A436735780>)], [13, datetime.datetime(2025, 1, 6, 15, 49, 8, tzinfo=<git.objects.util.tzoffset object at 0x000001A4368F6F20>)]], 'CHRISTCHURCH PLACE': [[6, datetime.datetime(2025, 1, 6, 23, 49, 2, tzinfo=<git.objects.util.tzoffset object at 0x000001A4367014E0>)], [6, datetime.datetime(2025, 1, 6, 22, 49, 2, tzinfo=<git.objects.util.tzoffset object at 0x000001A43635D510>)], [6, datetime.datetime(2025, 1, 6, 21, 49, 9, tzinfo=<git.objects.util.tzoffset object at 0x000001A4368EE890>)], [7, datetime.datetime(2025, 1, 6, 20, 49, 3, tzinfo=<git.objects.util.tzoffset object at 0x000001A4368FBF40>)], [7, datetime.datetime(2025, 1, 6, 19, 49, 5, tzinfo=<git.objects.util.tzoffset object at 0x000001A436909900>)], [8, datetime.datetime(2025, 1, 6, 18, 49, 48, tzinfo=<git.objects.util.tzoffset object at 0x000001A4368FEAA0>)], [6, datetime.datetime(2025, 1, 6, 17, 49, 18, tzinfo=<git.objects.util.tzoffset object at 0x000001A4368DBB50>)], [4, datetime.datetime(2025, 1, 6, 16, 50, 6, tzinfo=<git.objects.util.tzoffset object at 0x000001A436735870>)], [4, datetime.datetime(2025, 1, 6, 15, 49, 8, tzinfo=<git.objects.util.tzoffset object at 0x000001A4368F6DA0>)]], 'HIGH STREET': [[19, datetime.datetime(2025, 1, 6, 23, 49, 2, tzinfo=<git.objects.util.tzoffset object at 0x000001A436701120>)], [19, datetime.datetime(2025, 1, 6, 22, 49, 2, tzinfo=<git.objects.util.tzoffset object at 0x000001A43635F190>)], [19, datetime.datetime(2025, 1, 6, 21, 49, 9, tzinfo=<git.objects.util.tzoffset object at 0x000001A4368EEAA0>)], [19, datetime.datetime(2025, 1, 6, 20, 49, 3, tzinfo=<git.objects.util.tzoffset object at 0x000001A4368FBFD0>)], [17, datetime.datetime(2025, 1, 6, 19, 49, 5, tzinfo=<git.objects.util.tzoffset object at 0x000001A4369099F0>)], [18, datetime.datetime(2025, 1, 6, 18, 49, 48, tzinfo=<git.objects.util.tzoffset object at 0x000001A4368FEAD0>)], [19, datetime.datetime(2025, 1, 6, 17, 49, 18, tzinfo=<git.objects.util.tzoffset object at 0x000001A4368DBD60>)], [19, datetime.datetime(2025, 1, 6, 16, 50, 6, tzinfo=<git.objects.util.tzoffset object at 0x000001A436735960>)], [19, datetime.datetime(2025, 1, 6, 15, 49, 8, tzinfo=<git.objects.util.tzoffset object at 0x000001A4368F6C80>)]], 'CUSTOM HOUSE QUAY': [[10, datetime.datetime(2025, 1, 6, 23, 49, 2, tzinfo=<git.objects.util.tzoffset object at 0x000001A436701330>)], [10, datetime.datetime(2025, 1, 6, 22, 49, 2, tzinfo=<git.objects.util.tzoffset object at 0x000001A43635D630>)], [9, datetime.datetime(2025, 1, 6, 21, 49, 9, tzinfo=<git.objects.util.tzoffset object at 0x000001A4368EE9E0>)], [9, datetime.datetime(2025, 1, 6, 20, 49, 3, tzinfo=<git.objects.util.tzoffset object at 0x000001A4368FBF70>)], [10, datetime.datetime(2025, 1, 6, 19, 49, 5, tzinfo=<git.objects.util.tzoffset object at 0x000001A436909930>)], [12, datetime.datetime(2025, 1, 6, 18, 49, 48, tzinfo=<git.objects.util.tzoffset object at 0x000001A4368FEA10>)], [9, datetime.datetime(2025, 1, 6, 17, 49, 18, tzinfo=<git.objects.util.tzoffset object at 0x000001A4368DBCA0>)], [11, datetime.datetime(2025, 1, 6, 16, 50, 6, tzinfo=<git.objects.util.tzoffset object at 0x000001A436735840>)], [6, datetime.datetime(2025, 1, 6, 15, 49, 8, tzinfo=<git.objects.util.tzoffset object at 0x000001A4368F6D40>)]], 'EXCHEQUER STREET': [[2, datetime.datetime(2025, 1, 6, 23, 49, 2, tzinfo=<git.objects.util.tzoffset object at 0x000001A43690DF90>)], [3, datetime.datetime(2025, 1, 6, 22, 49, 2, tzinfo=<git.objects.util.tzoffset object at 0x000001A43635CD60>)], [4, datetime.datetime(2025, 1, 6, 21, 49, 9, tzinfo=<git.objects.util.tzoffset object at 0x000001A4368EE770>)], [6, datetime.datetime(2025, 1, 6, 20, 49, 3, tzinfo=<git.objects.util.tzoffset object at 0x000001A4368FBB50>)], [8, datetime.datetime(2025, 1, 6, 19, 49, 5, tzinfo=<git.objects.util.tzoffset object at 0x000001A436909510>)], [9, datetime.datetime(2025, 1, 6, 18, 49, 48, tzinfo=<git.objects.util.tzoffset object at 0x000001A4368FE8C0>)], [15, datetime.datetime(2025, 1, 6, 17, 49, 18, tzinfo=<git.objects.util.tzoffset object at 0x000001A4368DBA30>)], [11, datetime.datetime(2025, 1, 6, 16, 50, 6, tzinfo=<git.objects.util.tzoffset object at 0x000001A436735BD0>)], [11, datetime.datetime(2025, 1, 6, 15, 49, 8, tzinfo=<git.objects.util.tzoffset object at 0x000001A4368F7010>)]], 'DAME STREET': [[9, datetime.datetime(2025, 1, 6, 23, 49, 2, tzinfo=<git.objects.util.tzoffset object at 0x000001A43690E080>)], [10, datetime.datetime(2025, 1, 6, 22, 49, 2, tzinfo=<git.objects.util.tzoffset object at 0x000001A43635EFB0>)], [11, datetime.datetime(2025, 1, 6, 21, 49, 9, tzinfo=<git.objects.util.tzoffset object at 0x000001A4368EE590>)], [10, datetime.datetime(2025, 1, 6, 20, 49, 3, tzinfo=<git.objects.util.tzoffset object at 0x000001A4368FBC40>)], [12, datetime.datetime(2025, 1, 6, 19, 49, 5, tzinfo=<git.objects.util.tzoffset object at 0x000001A436909600>)], [11, datetime.datetime(2025, 1, 6, 18, 49, 48, tzinfo=<git.objects.util.tzoffset object at 0x000001A4368FE7A0>)], [11, datetime.datetime(2025, 1, 6, 17, 49, 18, tzinfo=<git.objects.util.tzoffset object at 0x000001A4368DB850>)], [10, datetime.datetime(2025, 1, 6, 16, 50, 6, tzinfo=<git.objects.util.tzoffset object at 0x000001A436735AE0>)], [12, datetime.datetime(2025, 1, 6, 15, 49, 8, tzinfo=<git.objects.util.tzoffset object at 0x000001A4368F70A0>)]], 'EARLSFORT TERRACE': [[0, datetime.datetime(2025, 1, 6, 23, 49, 2, tzinfo=<git.objects.util.tzoffset object at 0x000001A43690DFC0>)], [0, datetime.datetime(2025, 1, 6, 22, 49, 2, tzinfo=<git.objects.util.tzoffset object at 0x000001A43635C970>)], [0, datetime.datetime(2025, 1, 6, 21, 49, 9, tzinfo=<git.objects.util.tzoffset object at 0x000001A4368EE680>)], [0, datetime.datetime(2025, 1, 6, 20, 49, 3, tzinfo=<git.objects.util.tzoffset object at 0x000001A4368FBB20>)], [0, datetime.datetime(2025, 1, 6, 19, 49, 5, tzinfo=<git.objects.util.tzoffset object at 0x000001A4369094E0>)], [0, datetime.datetime(2025, 1, 6, 18, 49, 48, tzinfo=<git.objects.util.tzoffset object at 0x000001A4368FE770>)], [0, datetime.datetime(2025, 1, 6, 17, 49, 18, tzinfo=<git.objects.util.tzoffset object at 0x000001A4368DB940>)], [7, datetime.datetime(2025, 1, 6, 16, 50, 6, tzinfo=<git.objects.util.tzoffset object at 0x000001A436735C00>)], [9, datetime.datetime(2025, 1, 6, 15, 49, 8, tzinfo=<git.objects.util.tzoffset object at 0x000001A4368F7130>)]], 'ECCLES STREET': [[2, datetime.datetime(2025, 1, 6, 23, 49, 2, tzinfo=<git.objects.util.tzoffset object at 0x000001A43690DF00>)], [1, datetime.datetime(2025, 1, 6, 22, 49, 2, tzinfo=<git.objects.util.tzoffset object at 0x000001A43635E290>)], [1, datetime.datetime(2025, 1, 6, 21, 49, 9, tzinfo=<git.objects.util.tzoffset object at 0x000001A4368EE5C0>)], [0, datetime.datetime(2025, 1, 6, 20, 49, 3, tzinfo=<git.objects.util.tzoffset object at 0x000001A4368FBA60>)], [0, datetime.datetime(2025, 1, 6, 19, 49, 5, tzinfo=<git.objects.util.tzoffset object at 0x000001A436909420>)], [3, datetime.datetime(2025, 1, 6, 18, 49, 48, tzinfo=<git.objects.util.tzoffset object at 0x000001A4368FE6B0>)], [2, datetime.datetime(2025, 1, 6, 17, 49, 18, tzinfo=<git.objects.util.tzoffset object at 0x000001A4368DB880>)], [0, datetime.datetime(2025, 1, 6, 16, 50, 6, tzinfo=<git.objects.util.tzoffset object at 0x000001A436735CC0>)], [0, datetime.datetime(2025, 1, 6, 15, 49, 8, tzinfo=<git.objects.util.tzoffset object at 0x000001A4368F71F0>)]], 'FITZWILLIAM SQUARE WEST': [[1, datetime.datetime(2025, 1, 6, 23, 49, 2, tzinfo=<git.objects.util.tzoffset object at 0x000001A43690DE40>)], [1, datetime.datetime(2025, 1, 6, 22, 49, 2, tzinfo=<git.objects.util.tzoffset object at 0x000001A43635D990>)], [1, datetime.datetime(2025, 1, 6, 21, 49, 9, tzinfo=<git.objects.util.tzoffset object at 0x000001A4368EE500>)], [1, datetime.datetime(2025, 1, 6, 20, 49, 3, tzinfo=<git.objects.util.tzoffset object at 0x000001A4368FB9A0>)], [1, datetime.datetime(2025, 1, 6, 19, 49, 5, tzinfo=<git.objects.util.tzoffset object at 0x000001A436909390>)], [0, datetime.datetime(2025, 1, 6, 18, 49, 48, tzinfo=<git.objects.util.tzoffset object at 0x000001A4368FE5F0>)], [2, datetime.datetime(2025, 1, 6, 17, 49, 18, tzinfo=<git.objects.util.tzoffset object at 0x000001A4368DB7C0>)], [7, datetime.datetime(2025, 1, 6, 16, 50, 6, tzinfo=<git.objects.util.tzoffset object at 0x000001A436735D80>)], [7, datetime.datetime(2025, 1, 6, 15, 49, 8, tzinfo=<git.objects.util.tzoffset object at 0x000001A4368F72B0>)]], 'FOWNES STREET UPPER': [[12, datetime.datetime(2025, 1, 6, 23, 49, 2, tzinfo=<git.objects.util.tzoffset object at 0x000001A43690DD80>)], [14, datetime.datetime(2025, 1, 6, 22, 49, 2, tzinfo=<git.objects.util.tzoffset object at 0x000001A43635F460>)], [14, datetime.datetime(2025, 1, 6, 21, 49, 9, tzinfo=<git.objects.util.tzoffset object at 0x000001A4368EE440>)], [13, datetime.datetime(2025, 1, 6, 20, 49, 3, tzinfo=<git.objects.util.tzoffset object at 0x000001A4368FB8E0>)], [13, datetime.datetime(2025, 1, 6, 19, 49, 5, tzinfo=<git.objects.util.tzoffset object at 0x000001A436909000>)], [12, datetime.datetime(2025, 1, 6, 18, 49, 48, tzinfo=<git.objects.util.tzoffset object at 0x000001A4368FE530>)], [12, datetime.datetime(2025, 1, 6, 17, 49, 18, tzinfo=<git.objects.util.tzoffset object at 0x000001A4368DB700>)], [14, datetime.datetime(2025, 1, 6, 16, 50, 6, tzinfo=<git.objects.util.tzoffset object at 0x000001A4367360E0>)], [11, datetime.datetime(2025, 1, 6, 15, 49, 8, tzinfo=<git.objects.util.tzoffset object at 0x000001A4368F7370>)]], 'HARDWICKE STREET': [[2, datetime.datetime(2025, 1, 6, 23, 49, 2, tzinfo=<git.objects.util.tzoffset object at 0x000001A43690C3A0>)], [2, datetime.datetime(2025, 1, 6, 22, 49, 2, tzinfo=<git.objects.util.tzoffset object at 0x000001A43635E3B0>)], [2, datetime.datetime(2025, 1, 6, 21, 49, 9, tzinfo=<git.objects.util.tzoffset object at 0x000001A4368EE380>)], [2, datetime.datetime(2025, 1, 6, 20, 49, 3, tzinfo=<git.objects.util.tzoffset object at 0x000001A4368FB820>)], [5, datetime.datetime(2025, 1, 6, 19, 49, 5, tzinfo=<git.objects.util.tzoffset object at 0x000001A436909180>)], [3, datetime.datetime(2025, 1, 6, 18, 49, 48, tzinfo=<git.objects.util.tzoffset object at 0x000001A4368FE470>)], [1, datetime.datetime(2025, 1, 6, 17, 49, 18, tzinfo=<git.objects.util.tzoffset object at 0x000001A4368DB640>)], [1, datetime.datetime(2025, 1, 6, 16, 50, 6, tzinfo=<git.objects.util.tzoffset object at 0x000001A4367361A0>)], [1, datetime.datetime(2025, 1, 6, 15, 49, 8, tzinfo=<git.objects.util.tzoffset object at 0x000001A4368F7430>)]], 'GEORGES QUAY': [[6, datetime.datetime(2025, 1, 6, 23, 49, 2, tzinfo=<git.objects.util.tzoffset object at 0x000001A43690C460>)], [6, datetime.datetime(2025, 1, 6, 22, 49, 2, tzinfo=<git.objects.util.tzoffset object at 0x000001A43635D720>)], [6, datetime.datetime(2025, 1, 6, 21, 49, 9, tzinfo=<git.objects.util.tzoffset object at 0x000001A4368EE2C0>)], [6, datetime.datetime(2025, 1, 6, 20, 49, 3, tzinfo=<git.objects.util.tzoffset object at 0x000001A4368FB760>)], [5, datetime.datetime(2025, 1, 6, 19, 49, 5, tzinfo=<git.objects.util.tzoffset object at 0x000001A436908F40>)], [7, datetime.datetime(2025, 1, 6, 18, 49, 48, tzinfo=<git.objects.util.tzoffset object at 0x000001A4368FE3B0>)], [9, datetime.datetime(2025, 1, 6, 17, 49, 18, tzinfo=<git.objects.util.tzoffset object at 0x000001A4368DB580>)], [8, datetime.datetime(2025, 1, 6, 16, 50, 6, tzinfo=<git.objects.util.tzoffset object at 0x000001A436737760>)], [5, datetime.datetime(2025, 1, 6, 15, 49, 8, tzinfo=<git.objects.util.tzoffset object at 0x000001A4368F74F0>)]], 'GOLDEN LANE': [[0, datetime.datetime(2025, 1, 6, 23, 49, 2, tzinfo=<git.objects.util.tzoffset object at 0x000001A43690C520>)], [0, datetime.datetime(2025, 1, 6, 22, 49, 2, tzinfo=<git.objects.util.tzoffset object at 0x000001A43635DBA0>)], [0, datetime.datetime(2025, 1, 6, 21, 49, 9, tzinfo=<git.objects.util.tzoffset object at 0x000001A4368EE200>)], [0, datetime.datetime(2025, 1, 6, 20, 49, 3, tzinfo=<git.objects.util.tzoffset object at 0x000001A4368FB6A0>)], [2, datetime.datetime(2025, 1, 6, 19, 49, 5, tzinfo=<git.objects.util.tzoffset object at 0x000001A436909120>)], [3, datetime.datetime(2025, 1, 6, 18, 49, 48, tzinfo=<git.objects.util.tzoffset object at 0x000001A4368FE2F0>)], [1, datetime.datetime(2025, 1, 6, 17, 49, 18, tzinfo=<git.objects.util.tzoffset object at 0x000001A4368DB4C0>)], [1, datetime.datetime(2025, 1, 6, 16, 50, 6, tzinfo=<git.objects.util.tzoffset object at 0x000001A436737820>)], [1, datetime.datetime(2025, 1, 6, 15, 49, 8, tzinfo=<git.objects.util.tzoffset object at 0x000001A4368F75B0>)]], 'GRANTHAM STREET': [[18, datetime.datetime(2025, 1, 6, 23, 49, 2, tzinfo=<git.objects.util.tzoffset object at 0x000001A43690C5E0>)], [18, datetime.datetime(2025, 1, 6, 22, 49, 2, tzinfo=<git.objects.util.tzoffset object at 0x000001A43635D810>)], [19, datetime.datetime(2025, 1, 6, 21, 49, 9, tzinfo=<git.objects.util.tzoffset object at 0x000001A4368EE140>)], [17, datetime.datetime(2025, 1, 6, 20, 49, 3, tzinfo=<git.objects.util.tzoffset object at 0x000001A4368FB5E0>)], [20, datetime.datetime(2025, 1, 6, 19, 49, 5, tzinfo=<git.objects.util.tzoffset object at 0x000001A4369091E0>)], [16, datetime.datetime(2025, 1, 6, 18, 49, 48, tzinfo=<git.objects.util.tzoffset object at 0x000001A4368FE230>)], [14, datetime.datetime(2025, 1, 6, 17, 49, 18, tzinfo=<git.objects.util.tzoffset object at 0x000001A4368DB400>)], [11, datetime.datetime(2025, 1, 6, 16, 50, 6, tzinfo=<git.objects.util.tzoffset object at 0x000001A436735F00>)], [9, datetime.datetime(2025, 1, 6, 15, 49, 8, tzinfo=<git.objects.util.tzoffset object at 0x000001A4368F7670>)]], 'HERBERT PLACE': [[1, datetime.datetime(2025, 1, 6, 23, 49, 2, tzinfo=<git.objects.util.tzoffset object at 0x000001A43690C6A0>)], [1, datetime.datetime(2025, 1, 6, 22, 49, 2, tzinfo=<git.objects.util.tzoffset object at 0x000001A43635D9F0>)], [1, datetime.datetime(2025, 1, 6, 21, 49, 9, tzinfo=<git.objects.util.tzoffset object at 0x000001A4368EE080>)], [1, datetime.datetime(2025, 1, 6, 20, 49, 3, tzinfo=<git.objects.util.tzoffset object at 0x000001A4368FB520>)], [0, datetime.datetime(2025, 1, 6, 19, 49, 5, tzinfo=<git.objects.util.tzoffset object at 0x000001A436908F10>)], [1, datetime.datetime(2025, 1, 6, 18, 49, 48, tzinfo=<git.objects.util.tzoffset object at 0x000001A4368FE170>)], [2, datetime.datetime(2025, 1, 6, 17, 49, 18, tzinfo=<git.objects.util.tzoffset object at 0x000001A4368DB340>)], [22, datetime.datetime(2025, 1, 6, 16, 50, 6, tzinfo=<git.objects.util.tzoffset object at 0x000001A436735EA0>)], [27, datetime.datetime(2025, 1, 6, 15, 49, 8, tzinfo=<git.objects.util.tzoffset object at 0x000001A4368F7730>)]], 'JAMES STREET EAST': [[0, datetime.datetime(2025, 1, 6, 23, 49, 2, tzinfo=<git.objects.util.tzoffset object at 0x000001A43690C760>)], [0, datetime.datetime(2025, 1, 6, 22, 49, 2, tzinfo=<git.objects.util.tzoffset object at 0x000001A43635DB40>)], [0, datetime.datetime(2025, 1, 6, 21, 49, 9, tzinfo=<git.objects.util.tzoffset object at 0x000001A4368EDFC0>)], [0, datetime.datetime(2025, 1, 6, 20, 49, 3, tzinfo=<git.objects.util.tzoffset object at 0x000001A4368FB460>)], [0, datetime.datetime(2025, 1, 6, 19, 49, 5, tzinfo=<git.objects.util.tzoffset object at 0x000001A436908EB0>)], [2, datetime.datetime(2025, 1, 6, 18, 49, 48, tzinfo=<git.objects.util.tzoffset object at 0x000001A4368FE0B0>)], [1, datetime.datetime(2025, 1, 6, 17, 49, 18, tzinfo=<git.objects.util.tzoffset object at 0x000001A4368DB280>)], [5, datetime.datetime(2025, 1, 6, 16, 50, 6, tzinfo=<git.objects.util.tzoffset object at 0x000001A436737700>)], [11, datetime.datetime(2025, 1, 6, 15, 49, 8, tzinfo=<git.objects.util.tzoffset object at 0x000001A4368F77F0>)]], 'LEINSTER STREET SOUTH': [[0, datetime.datetime(2025, 1, 6, 23, 49, 2, tzinfo=<git.objects.util.tzoffset object at 0x000001A43690C820>)], [0, datetime.datetime(2025, 1, 6, 22, 49, 2, tzinfo=<git.objects.util.tzoffset object at 0x000001A43635DC00>)], [0, datetime.datetime(2025, 1, 6, 21, 49, 9, tzinfo=<git.objects.util.tzoffset object at 0x000001A4368EDF00>)], [2, datetime.datetime(2025, 1, 6, 20, 49, 3, tzinfo=<git.objects.util.tzoffset object at 0x000001A4368FB3A0>)], [3, datetime.datetime(2025, 1, 6, 19, 49, 5, tzinfo=<git.objects.util.tzoffset object at 0x000001A4368E4A60>)], [4, datetime.datetime(2025, 1, 6, 18, 49, 48, tzinfo=<git.objects.util.tzoffset object at 0x000001A4368FDFF0>)], [9, datetime.datetime(2025, 1, 6, 17, 49, 18, tzinfo=<git.objects.util.tzoffset object at 0x000001A4368DB1C0>)], [12, datetime.datetime(2025, 1, 6, 16, 50, 6, tzinfo=<git.objects.util.tzoffset object at 0x000001A436737E50>)], [17, datetime.datetime(2025, 1, 6, 15, 49, 8, tzinfo=<git.objects.util.tzoffset object at 0x000001A4368F78B0>)]], 'TOWNSEND STREET': [[7, datetime.datetime(2025, 1, 6, 23, 49, 2, tzinfo=<git.objects.util.tzoffset object at 0x000001A43690C8E0>)], [7, datetime.datetime(2025, 1, 6, 22, 49, 2, tzinfo=<git.objects.util.tzoffset object at 0x000001A43635D6F0>)], [7, datetime.datetime(2025, 1, 6, 21, 49, 9, tzinfo=<git.objects.util.tzoffset object at 0x000001A4368EDE40>)], [9, datetime.datetime(2025, 1, 6, 20, 49, 3, tzinfo=<git.objects.util.tzoffset object at 0x000001A4368FB2E0>)], [9, datetime.datetime(2025, 1, 6, 19, 49, 5, tzinfo=<git.objects.util.tzoffset object at 0x000001A4368E49A0>)], [7, datetime.datetime(2025, 1, 6, 18, 49, 48, tzinfo=<git.objects.util.tzoffset object at 0x000001A4368FDF30>)], [4, datetime.datetime(2025, 1, 6, 17, 49, 18, tzinfo=<git.objects.util.tzoffset object at 0x000001A4368DB100>)], [5, datetime.datetime(2025, 1, 6, 16, 50, 6, tzinfo=<git.objects.util.tzoffset object at 0x000001A436737EE0>)], [0, datetime.datetime(2025, 1, 6, 15, 49, 8, tzinfo=<git.objects.util.tzoffset object at 0x000001A4368F7970>)]], 'CUSTOM HOUSE': [[14, datetime.datetime(2025, 1, 6, 23, 49, 2, tzinfo=<git.objects.util.tzoffset object at 0x000001A43690C9A0>)], [16, datetime.datetime(2025, 1, 6, 22, 49, 2, tzinfo=<git.objects.util.tzoffset object at 0x000001A43635D4E0>)], [16, datetime.datetime(2025, 1, 6, 21, 49, 9, tzinfo=<git.objects.util.tzoffset object at 0x000001A4368EDD80>)], [14, datetime.datetime(2025, 1, 6, 20, 49, 3, tzinfo=<git.objects.util.tzoffset object at 0x000001A4368FB220>)], [15, datetime.datetime(2025, 1, 6, 19, 49, 5, tzinfo=<git.objects.util.tzoffset object at 0x000001A4368E48E0>)], [15, datetime.datetime(2025, 1, 6, 18, 49, 48, tzinfo=<git.objects.util.tzoffset object at 0x000001A4368FDE70>)], [14, datetime.datetime(2025, 1, 6, 17, 49, 18, tzinfo=<git.objects.util.tzoffset object at 0x000001A4368DB040>)], [13, datetime.datetime(2025, 1, 6, 16, 50, 6, tzinfo=<git.objects.util.tzoffset object at 0x000001A436734490>)], [11, datetime.datetime(2025, 1, 6, 15, 49, 8, tzinfo=<git.objects.util.tzoffset object at 0x000001A4368F7A30>)]], 'CATHAL BRUGHA STREET': [[15, datetime.datetime(2025, 1, 6, 23, 49, 2, tzinfo=<git.objects.util.tzoffset object at 0x000001A43690CA60>)], [13, datetime.datetime(2025, 1, 6, 22, 49, 2, tzinfo=<git.objects.util.tzoffset object at 0x000001A43635C6A0>)], [13, datetime.datetime(2025, 1, 6, 21, 49, 9, tzinfo=<git.objects.util.tzoffset object at 0x000001A4368EDCC0>)], [10, datetime.datetime(2025, 1, 6, 20, 49, 3, tzinfo=<git.objects.util.tzoffset object at 0x000001A4368FB160>)], [9, datetime.datetime(2025, 1, 6, 19, 49, 5, tzinfo=<git.objects.util.tzoffset object at 0x000001A4368E4820>)], [4, datetime.datetime(2025, 1, 6, 18, 49, 48, tzinfo=<git.objects.util.tzoffset object at 0x000001A4368FDDB0>)], [8, datetime.datetime(2025, 1, 6, 17, 49, 18, tzinfo=<git.objects.util.tzoffset object at 0x000001A4368DAF80>)], [7, datetime.datetime(2025, 1, 6, 16, 50, 6, tzinfo=<git.objects.util.tzoffset object at 0x000001A436736FE0>)], [10, datetime.datetime(2025, 1, 6, 15, 49, 8, tzinfo=<git.objects.util.tzoffset object at 0x000001A4368F7AF0>)]], 'MERRION SQUARE EAST': [[12, datetime.datetime(2025, 1, 6, 23, 49, 2, tzinfo=<git.objects.util.tzoffset object at 0x000001A43690CB20>)], [12, datetime.datetime(2025, 1, 6, 22, 49, 2, tzinfo=<git.objects.util.tzoffset object at 0x000001A43635D390>)], [12, datetime.datetime(2025, 1, 6, 21, 49, 9, tzinfo=<git.objects.util.tzoffset object at 0x000001A4368EDC00>)], [12, datetime.datetime(2025, 1, 6, 20, 49, 3, tzinfo=<git.objects.util.tzoffset object at 0x000001A4368FB0A0>)], [13, datetime.datetime(2025, 1, 6, 19, 49, 5, tzinfo=<git.objects.util.tzoffset object at 0x000001A4368E4760>)], [13, datetime.datetime(2025, 1, 6, 18, 49, 48, tzinfo=<git.objects.util.tzoffset object at 0x000001A4368FDCF0>)], [12, datetime.datetime(2025, 1, 6, 17, 49, 18, tzinfo=<git.objects.util.tzoffset object at 0x000001A4368DAEC0>)], [17, datetime.datetime(2025, 1, 6, 16, 50, 6, tzinfo=<git.objects.util.tzoffset object at 0x000001A436734430>)], [21, datetime.datetime(2025, 1, 6, 15, 49, 8, tzinfo=<git.objects.util.tzoffset object at 0x000001A4368F7BB0>)]], 'MERRION SQUARE WEST': [[0, datetime.datetime(2025, 1, 6, 23, 49, 2, tzinfo=<git.objects.util.tzoffset object at 0x000001A43690CBE0>)], [0, datetime.datetime(2025, 1, 6, 22, 49, 2, tzinfo=<git.objects.util.tzoffset object at 0x000001A43635E440>)], [0, datetime.datetime(2025, 1, 6, 21, 49, 9, tzinfo=<git.objects.util.tzoffset object at 0x000001A4368EDB40>)], [0, datetime.datetime(2025, 1, 6, 20, 49, 3, tzinfo=<git.objects.util.tzoffset object at 0x000001A4368FAFE0>)], [0, datetime.datetime(2025, 1, 6, 19, 49, 5, tzinfo=<git.objects.util.tzoffset object at 0x000001A4368E46A0>)], [3, datetime.datetime(2025, 1, 6, 18, 49, 48, tzinfo=<git.objects.util.tzoffset object at 0x000001A4368FDC30>)], [10, datetime.datetime(2025, 1, 6, 17, 49, 18, tzinfo=<git.objects.util.tzoffset object at 0x000001A4368DAE00>)], [7, datetime.datetime(2025, 1, 6, 16, 50, 6, tzinfo=<git.objects.util.tzoffset object at 0x000001A436736F20>)], [10, datetime.datetime(2025, 1, 6, 15, 49, 8, tzinfo=<git.objects.util.tzoffset object at 0x000001A4368F7C70>)]], 'MOLESWORTH STREET': [[0, datetime.datetime(2025, 1, 6, 23, 49, 2, tzinfo=<git.objects.util.tzoffset object at 0x000001A43690CCA0>)], [0, datetime.datetime(2025, 1, 6, 22, 49, 2, tzinfo=<git.objects.util.tzoffset object at 0x000001A43635E200>)], [0, datetime.datetime(2025, 1, 6, 21, 49, 9, tzinfo=<git.objects.util.tzoffset object at 0x000001A4368EDA80>)], [1, datetime.datetime(2025, 1, 6, 20, 49, 3, tzinfo=<git.objects.util.tzoffset object at 0x000001A4368FAF20>)], [0, datetime.datetime(2025, 1, 6, 19, 49, 5, tzinfo=<git.objects.util.tzoffset object at 0x000001A4368E45E0>)], [0, datetime.datetime(2025, 1, 6, 18, 49, 48, tzinfo=<git.objects.util.tzoffset object at 0x000001A4368FDB70>)], [1, datetime.datetime(2025, 1, 6, 17, 49, 18, tzinfo=<git.objects.util.tzoffset object at 0x000001A4368DAD40>)], [5, datetime.datetime(2025, 1, 6, 16, 50, 6, tzinfo=<git.objects.util.tzoffset object at 0x000001A436734100>)], [3, datetime.datetime(2025, 1, 6, 15, 49, 8, tzinfo=<git.objects.util.tzoffset object at 0x000001A4368F7D30>)]], 'MOUNTJOY SQUARE WEST': [[6, datetime.datetime(2025, 1, 6, 23, 49, 2, tzinfo=<git.objects.util.tzoffset object at 0x000001A43690CD60>)], [5, datetime.datetime(2025, 1, 6, 22, 49, 2, tzinfo=<git.objects.util.tzoffset object at 0x000001A43635EAA0>)], [4, datetime.datetime(2025, 1, 6, 21, 49, 9, tzinfo=<git.objects.util.tzoffset object at 0x000001A4368ED9C0>)], [4, datetime.datetime(2025, 1, 6, 20, 49, 3, tzinfo=<git.objects.util.tzoffset object at 0x000001A4368FAE60>)], [3, datetime.datetime(2025, 1, 6, 19, 49, 5, tzinfo=<git.objects.util.tzoffset object at 0x000001A4368E4520>)], [2, datetime.datetime(2025, 1, 6, 18, 49, 48, tzinfo=<git.objects.util.tzoffset object at 0x000001A4368FDAB0>)], [2, datetime.datetime(2025, 1, 6, 17, 49, 18, tzinfo=<git.objects.util.tzoffset object at 0x000001A4368DAC80>)], [2, datetime.datetime(2025, 1, 6, 16, 50, 6, tzinfo=<git.objects.util.tzoffset object at 0x000001A436734880>)], [3, datetime.datetime(2025, 1, 6, 15, 49, 8, tzinfo=<git.objects.util.tzoffset object at 0x000001A4368F7DF0>)]], 'ORMOND QUAY UPPER': [[4, datetime.datetime(2025, 1, 6, 23, 49, 2, tzinfo=<git.objects.util.tzoffset object at 0x000001A43690CE20>)], [3, datetime.datetime(2025, 1, 6, 22, 49, 2, tzinfo=<git.objects.util.tzoffset object at 0x000001A43635E140>)], [4, datetime.datetime(2025, 1, 6, 21, 49, 9, tzinfo=<git.objects.util.tzoffset object at 0x000001A4368ED900>)], [7, datetime.datetime(2025, 1, 6, 20, 49, 3, tzinfo=<git.objects.util.tzoffset object at 0x000001A4368FADA0>)], [11, datetime.datetime(2025, 1, 6, 19, 49, 5, tzinfo=<git.objects.util.tzoffset object at 0x000001A4368E4460>)], [10, datetime.datetime(2025, 1, 6, 18, 49, 48, tzinfo=<git.objects.util.tzoffset object at 0x000001A4368FD9F0>)], [11, datetime.datetime(2025, 1, 6, 17, 49, 18, tzinfo=<git.objects.util.tzoffset object at 0x000001A4368DABC0>)], [13, datetime.datetime(2025, 1, 6, 16, 50, 6, tzinfo=<git.objects.util.tzoffset object at 0x000001A436734460>)], [12, datetime.datetime(2025, 1, 6, 15, 49, 8, tzinfo=<git.objects.util.tzoffset object at 0x000001A4368F7EB0>)]], 'PARNELL SQUARE NORTH': [[0, datetime.datetime(2025, 1, 6, 23, 49, 2, tzinfo=<git.objects.util.tzoffset object at 0x000001A43690CEE0>)], [0, datetime.datetime(2025, 1, 6, 22, 49, 2, tzinfo=<git.objects.util.tzoffset object at 0x000001A43635CF10>)], [0, datetime.datetime(2025, 1, 6, 21, 49, 9, tzinfo=<git.objects.util.tzoffset object at 0x000001A4368ED840>)], [0, datetime.datetime(2025, 1, 6, 20, 49, 3, tzinfo=<git.objects.util.tzoffset object at 0x000001A4368FACE0>)], [0, datetime.datetime(2025, 1, 6, 19, 49, 5, tzinfo=<git.objects.util.tzoffset object at 0x000001A4368E43A0>)], [0, datetime.datetime(2025, 1, 6, 18, 49, 48, tzinfo=<git.objects.util.tzoffset object at 0x000001A4368FD930>)], [1, datetime.datetime(2025, 1, 6, 17, 49, 18, tzinfo=<git.objects.util.tzoffset object at 0x000001A4368DAB00>)], [0, datetime.datetime(2025, 1, 6, 16, 50, 6, tzinfo=<git.objects.util.tzoffset object at 0x000001A4367340A0>)], [0, datetime.datetime(2025, 1, 6, 15, 49, 8, tzinfo=<git.objects.util.tzoffset object at 0x000001A4368F7F70>)]], 'PARNELL STREET': [[18, datetime.datetime(2025, 1, 6, 23, 49, 2, tzinfo=<git.objects.util.tzoffset object at 0x000001A43690DC30>)], [18, datetime.datetime(2025, 1, 6, 22, 49, 2, tzinfo=<git.objects.util.tzoffset object at 0x000001A43635FEB0>)], [19, datetime.datetime(2025, 1, 6, 21, 49, 9, tzinfo=<git.objects.util.tzoffset object at 0x000001A4368ED780>)], [19, datetime.datetime(2025, 1, 6, 20, 49, 3, tzinfo=<git.objects.util.tzoffset object at 0x000001A4368FAC20>)], [18, datetime.datetime(2025, 1, 6, 19, 49, 5, tzinfo=<git.objects.util.tzoffset object at 0x000001A4368E42E0>)], [18, datetime.datetime(2025, 1, 6, 18, 49, 48, tzinfo=<git.objects.util.tzoffset object at 0x000001A4368FD870>)], [14, datetime.datetime(2025, 1, 6, 17, 49, 18, tzinfo=<git.objects.util.tzoffset object at 0x000001A4368DAA40>)], [19, datetime.datetime(2025, 1, 6, 16, 50, 6, tzinfo=<git.objects.util.tzoffset object at 0x000001A436734F40>)], [16, datetime.datetime(2025, 1, 6, 15, 49, 8, tzinfo=<git.objects.util.tzoffset object at 0x000001A436900070>)]], 'PEARSE STREET': [[23, datetime.datetime(2025, 1, 6, 23, 49, 2, tzinfo=<git.objects.util.tzoffset object at 0x000001A43690DCF0>)], [23, datetime.datetime(2025, 1, 6, 22, 49, 2, tzinfo=<git.objects.util.tzoffset object at 0x000001A43635EBC0>)], [26, datetime.datetime(2025, 1, 6, 21, 49, 9, tzinfo=<git.objects.util.tzoffset object at 0x000001A4368ED6C0>)], [29, datetime.datetime(2025, 1, 6, 20, 49, 3, tzinfo=<git.objects.util.tzoffset object at 0x000001A4368FAB60>)], [29, datetime.datetime(2025, 1, 6, 19, 49, 5, tzinfo=<git.objects.util.tzoffset object at 0x000001A4368E4220>)], [28, datetime.datetime(2025, 1, 6, 18, 49, 48, tzinfo=<git.objects.util.tzoffset object at 0x000001A4368FD7B0>)], [18, datetime.datetime(2025, 1, 6, 17, 49, 18, tzinfo=<git.objects.util.tzoffset object at 0x000001A4368DA980>)], [10, datetime.datetime(2025, 1, 6, 16, 50, 6, tzinfo=<git.objects.util.tzoffset object at 0x000001A436734580>)], [9, datetime.datetime(2025, 1, 6, 15, 49, 8, tzinfo=<git.objects.util.tzoffset object at 0x000001A436900130>)]], \"PRINCES STREET / O'CONNELL STREET\": [[19, datetime.datetime(2025, 1, 6, 23, 49, 2, tzinfo=<git.objects.util.tzoffset object at 0x000001A43690E170>)], [20, datetime.datetime(2025, 1, 6, 22, 49, 2, tzinfo=<git.objects.util.tzoffset object at 0x000001A43635E0B0>)], [23, datetime.datetime(2025, 1, 6, 21, 49, 9, tzinfo=<git.objects.util.tzoffset object at 0x000001A4368ED600>)], [20, datetime.datetime(2025, 1, 6, 20, 49, 3, tzinfo=<git.objects.util.tzoffset object at 0x000001A4368FAAA0>)], [22, datetime.datetime(2025, 1, 6, 19, 49, 5, tzinfo=<git.objects.util.tzoffset object at 0x000001A4368E4160>)], [23, datetime.datetime(2025, 1, 6, 18, 49, 48, tzinfo=<git.objects.util.tzoffset object at 0x000001A4368FD6F0>)], [22, datetime.datetime(2025, 1, 6, 17, 49, 18, tzinfo=<git.objects.util.tzoffset object at 0x000001A4368DA8C0>)], [17, datetime.datetime(2025, 1, 6, 16, 50, 6, tzinfo=<git.objects.util.tzoffset object at 0x000001A436F0FE80>)], [13, datetime.datetime(2025, 1, 6, 15, 49, 8, tzinfo=<git.objects.util.tzoffset object at 0x000001A4369001F0>)]], 'PORTOBELLO HARBOUR': [[29, datetime.datetime(2025, 1, 6, 23, 49, 2, tzinfo=<git.objects.util.tzoffset object at 0x000001A43690E230>)], [29, datetime.datetime(2025, 1, 6, 22, 49, 2, tzinfo=<git.objects.util.tzoffset object at 0x000001A43635DF30>)], [29, datetime.datetime(2025, 1, 6, 21, 49, 9, tzinfo=<git.objects.util.tzoffset object at 0x000001A4368ED540>)], [28, datetime.datetime(2025, 1, 6, 20, 49, 3, tzinfo=<git.objects.util.tzoffset object at 0x000001A4368FA9E0>)], [28, datetime.datetime(2025, 1, 6, 19, 49, 5, tzinfo=<git.objects.util.tzoffset object at 0x000001A4368E4100>)], [30, datetime.datetime(2025, 1, 6, 18, 49, 48, tzinfo=<git.objects.util.tzoffset object at 0x000001A4368FD630>)], [22, datetime.datetime(2025, 1, 6, 17, 49, 18, tzinfo=<git.objects.util.tzoffset object at 0x000001A4368DA800>)], [12, datetime.datetime(2025, 1, 6, 16, 50, 6, tzinfo=<git.objects.util.tzoffset object at 0x000001A436F0FF70>)], [7, datetime.datetime(2025, 1, 6, 15, 49, 8, tzinfo=<git.objects.util.tzoffset object at 0x000001A4369002B0>)]], 'SMITHFIELD': [[23, datetime.datetime(2025, 1, 6, 23, 49, 2, tzinfo=<git.objects.util.tzoffset object at 0x000001A43690FE50>)], [23, datetime.datetime(2025, 1, 6, 22, 49, 2, tzinfo=<git.objects.util.tzoffset object at 0x000001A43635D690>)], [23, datetime.datetime(2025, 1, 6, 21, 49, 9, tzinfo=<git.objects.util.tzoffset object at 0x000001A4368ED480>)], [22, datetime.datetime(2025, 1, 6, 20, 49, 3, tzinfo=<git.objects.util.tzoffset object at 0x000001A4368FA920>)], [22, datetime.datetime(2025, 1, 6, 19, 49, 5, tzinfo=<git.objects.util.tzoffset object at 0x000001A4368E7F10>)], [22, datetime.datetime(2025, 1, 6, 18, 49, 48, tzinfo=<git.objects.util.tzoffset object at 0x000001A4368FD570>)], [15, datetime.datetime(2025, 1, 6, 17, 49, 18, tzinfo=<git.objects.util.tzoffset object at 0x000001A4368DA740>)], [12, datetime.datetime(2025, 1, 6, 16, 50, 6, tzinfo=<git.objects.util.tzoffset object at 0x000001A436F0D3F0>)], [12, datetime.datetime(2025, 1, 6, 15, 49, 8, tzinfo=<git.objects.util.tzoffset object at 0x000001A436900370>)]], \"ST. STEPHEN'S GREEN EAST\": [[0, datetime.datetime(2025, 1, 6, 23, 49, 2, tzinfo=<git.objects.util.tzoffset object at 0x000001A43690FBE0>)], [1, datetime.datetime(2025, 1, 6, 22, 49, 2, tzinfo=<git.objects.util.tzoffset object at 0x000001A436732860>)], [1, datetime.datetime(2025, 1, 6, 21, 49, 9, tzinfo=<git.objects.util.tzoffset object at 0x000001A4368ED3C0>)], [0, datetime.datetime(2025, 1, 6, 20, 49, 3, tzinfo=<git.objects.util.tzoffset object at 0x000001A4368FA860>)], [0, datetime.datetime(2025, 1, 6, 19, 49, 5, tzinfo=<git.objects.util.tzoffset object at 0x000001A4368E7EE0>)], [0, datetime.datetime(2025, 1, 6, 18, 49, 48, tzinfo=<git.objects.util.tzoffset object at 0x000001A4368FD4B0>)], [1, datetime.datetime(2025, 1, 6, 17, 49, 18, tzinfo=<git.objects.util.tzoffset object at 0x000001A4368DA5C0>)], [6, datetime.datetime(2025, 1, 6, 16, 50, 6, tzinfo=<git.objects.util.tzoffset object at 0x000001A436F0F1F0>)], [9, datetime.datetime(2025, 1, 6, 15, 49, 8, tzinfo=<git.objects.util.tzoffset object at 0x000001A436900430>)]], \"ST. STEPHEN'S GREEN SOUTH\": [[2, datetime.datetime(2025, 1, 6, 23, 49, 2, tzinfo=<git.objects.util.tzoffset object at 0x000001A43690DB70>)], [2, datetime.datetime(2025, 1, 6, 22, 49, 2, tzinfo=<git.objects.util.tzoffset object at 0x000001A436732830>)], [2, datetime.datetime(2025, 1, 6, 21, 49, 9, tzinfo=<git.objects.util.tzoffset object at 0x000001A4368ED300>)], [3, datetime.datetime(2025, 1, 6, 20, 49, 3, tzinfo=<git.objects.util.tzoffset object at 0x000001A4368FA7D0>)], [3, datetime.datetime(2025, 1, 6, 19, 49, 5, tzinfo=<git.objects.util.tzoffset object at 0x000001A4368E7E20>)], [4, datetime.datetime(2025, 1, 6, 18, 49, 48, tzinfo=<git.objects.util.tzoffset object at 0x000001A4368FD3F0>)], [10, datetime.datetime(2025, 1, 6, 17, 49, 18, tzinfo=<git.objects.util.tzoffset object at 0x000001A4368DA590>)], [14, datetime.datetime(2025, 1, 6, 16, 50, 6, tzinfo=<git.objects.util.tzoffset object at 0x000001A436F0D420>)], [15, datetime.datetime(2025, 1, 6, 15, 49, 8, tzinfo=<git.objects.util.tzoffset object at 0x000001A4369004F0>)]], 'TALBOT STREET': [[14, datetime.datetime(2025, 1, 6, 23, 49, 2, tzinfo=<git.objects.util.tzoffset object at 0x000001A43690DAB0>)], [14, datetime.datetime(2025, 1, 6, 22, 49, 2, tzinfo=<git.objects.util.tzoffset object at 0x000001A4367328F0>)], [14, datetime.datetime(2025, 1, 6, 21, 49, 9, tzinfo=<git.objects.util.tzoffset object at 0x000001A4368ED240>)], [15, datetime.datetime(2025, 1, 6, 20, 49, 3, tzinfo=<git.objects.util.tzoffset object at 0x000001A4368FA6E0>)], [14, datetime.datetime(2025, 1, 6, 19, 49, 5, tzinfo=<git.objects.util.tzoffset object at 0x000001A4368E7D60>)], [12, datetime.datetime(2025, 1, 6, 18, 49, 48, tzinfo=<git.objects.util.tzoffset object at 0x000001A4368FD330>)], [13, datetime.datetime(2025, 1, 6, 17, 49, 18, tzinfo=<git.objects.util.tzoffset object at 0x000001A4368DA3B0>)], [11, datetime.datetime(2025, 1, 6, 16, 50, 6, tzinfo=<git.objects.util.tzoffset object at 0x000001A436F0ED70>)], [6, datetime.datetime(2025, 1, 6, 15, 49, 8, tzinfo=<git.objects.util.tzoffset object at 0x000001A4369005B0>)]], 'WILTON TERRACE': [[13, datetime.datetime(2025, 1, 6, 23, 49, 2, tzinfo=<git.objects.util.tzoffset object at 0x000001A43690D9F0>)], [12, datetime.datetime(2025, 1, 6, 22, 49, 2, tzinfo=<git.objects.util.tzoffset object at 0x000001A4367329B0>)], [14, datetime.datetime(2025, 1, 6, 21, 49, 9, tzinfo=<git.objects.util.tzoffset object at 0x000001A4368ED180>)], [13, datetime.datetime(2025, 1, 6, 20, 49, 3, tzinfo=<git.objects.util.tzoffset object at 0x000001A4368FA5C0>)], [10, datetime.datetime(2025, 1, 6, 19, 49, 5, tzinfo=<git.objects.util.tzoffset object at 0x000001A4368E7CA0>)], [9, datetime.datetime(2025, 1, 6, 18, 49, 48, tzinfo=<git.objects.util.tzoffset object at 0x000001A4368FD270>)], [11, datetime.datetime(2025, 1, 6, 17, 49, 18, tzinfo=<git.objects.util.tzoffset object at 0x000001A4368DA4D0>)], [8, datetime.datetime(2025, 1, 6, 16, 50, 6, tzinfo=<git.objects.util.tzoffset object at 0x000001A436F0CE20>)], [8, datetime.datetime(2025, 1, 6, 15, 49, 8, tzinfo=<git.objects.util.tzoffset object at 0x000001A436900670>)]], 'JERVIS STREET': [[0, datetime.datetime(2025, 1, 6, 23, 49, 2, tzinfo=<git.objects.util.tzoffset object at 0x000001A43690D930>)], [0, datetime.datetime(2025, 1, 6, 22, 49, 2, tzinfo=<git.objects.util.tzoffset object at 0x000001A436732A70>)], [2, datetime.datetime(2025, 1, 6, 21, 49, 9, tzinfo=<git.objects.util.tzoffset object at 0x000001A4368ED0C0>)], [3, datetime.datetime(2025, 1, 6, 20, 49, 3, tzinfo=<git.objects.util.tzoffset object at 0x000001A4368FA380>)], [4, datetime.datetime(2025, 1, 6, 19, 49, 5, tzinfo=<git.objects.util.tzoffset object at 0x000001A4368E7BE0>)], [6, datetime.datetime(2025, 1, 6, 18, 49, 48, tzinfo=<git.objects.util.tzoffset object at 0x000001A4368FD1B0>)], [5, datetime.datetime(2025, 1, 6, 17, 49, 18, tzinfo=<git.objects.util.tzoffset object at 0x000001A4368DA050>)], [7, datetime.datetime(2025, 1, 6, 16, 50, 6, tzinfo=<git.objects.util.tzoffset object at 0x000001A436F0EC80>)], [8, datetime.datetime(2025, 1, 6, 15, 49, 8, tzinfo=<git.objects.util.tzoffset object at 0x000001A436900730>)]], 'HARCOURT TERRACE': [[5, datetime.datetime(2025, 1, 6, 23, 49, 2, tzinfo=<git.objects.util.tzoffset object at 0x000001A43690D4B0>)], [5, datetime.datetime(2025, 1, 6, 22, 49, 2, tzinfo=<git.objects.util.tzoffset object at 0x000001A436732B30>)], [4, datetime.datetime(2025, 1, 6, 21, 49, 9, tzinfo=<git.objects.util.tzoffset object at 0x000001A4368ED000>)], [4, datetime.datetime(2025, 1, 6, 20, 49, 3, tzinfo=<git.objects.util.tzoffset object at 0x000001A4368FA560>)], [6, datetime.datetime(2025, 1, 6, 19, 49, 5, tzinfo=<git.objects.util.tzoffset object at 0x000001A4368E7B20>)], [6, datetime.datetime(2025, 1, 6, 18, 49, 48, tzinfo=<git.objects.util.tzoffset object at 0x000001A4368FD0F0>)], [3, datetime.datetime(2025, 1, 6, 17, 49, 18, tzinfo=<git.objects.util.tzoffset object at 0x000001A4368DA530>)], [1, datetime.datetime(2025, 1, 6, 16, 50, 6, tzinfo=<git.objects.util.tzoffset object at 0x000001A436F0F9D0>)], [1, datetime.datetime(2025, 1, 6, 15, 49, 8, tzinfo=<git.objects.util.tzoffset object at 0x000001A4369007F0>)]], 'SMITHFIELD NORTH': [[14, datetime.datetime(2025, 1, 6, 23, 49, 2, tzinfo=<git.objects.util.tzoffset object at 0x000001A43690D3F0>)], [15, datetime.datetime(2025, 1, 6, 22, 49, 2, tzinfo=<git.objects.util.tzoffset object at 0x000001A436732BF0>)], [15, datetime.datetime(2025, 1, 6, 21, 49, 9, tzinfo=<git.objects.util.tzoffset object at 0x000001A4368ECF40>)], [17, datetime.datetime(2025, 1, 6, 20, 49, 3, tzinfo=<git.objects.util.tzoffset object at 0x000001A4368FA620>)], [19, datetime.datetime(2025, 1, 6, 19, 49, 5, tzinfo=<git.objects.util.tzoffset object at 0x000001A4368E7A60>)], [16, datetime.datetime(2025, 1, 6, 18, 49, 48, tzinfo=<git.objects.util.tzoffset object at 0x000001A4368FD030>)], [12, datetime.datetime(2025, 1, 6, 17, 49, 18, tzinfo=<git.objects.util.tzoffset object at 0x000001A4368DA410>)], [8, datetime.datetime(2025, 1, 6, 16, 50, 6, tzinfo=<git.objects.util.tzoffset object at 0x000001A436F0D9C0>)], [3, datetime.datetime(2025, 1, 6, 15, 49, 8, tzinfo=<git.objects.util.tzoffset object at 0x000001A4369008B0>)]], 'PORTOBELLO ROAD': [[28, datetime.datetime(2025, 1, 6, 23, 49, 2, tzinfo=<git.objects.util.tzoffset object at 0x000001A43690D330>)], [26, datetime.datetime(2025, 1, 6, 22, 49, 2, tzinfo=<git.objects.util.tzoffset object at 0x000001A436732CB0>)], [26, datetime.datetime(2025, 1, 6, 21, 49, 9, tzinfo=<git.objects.util.tzoffset object at 0x000001A4368ECE80>)], [27, datetime.datetime(2025, 1, 6, 20, 49, 3, tzinfo=<git.objects.util.tzoffset object at 0x000001A4368FA350>)], [27, datetime.datetime(2025, 1, 6, 19, 49, 5, tzinfo=<git.objects.util.tzoffset object at 0x000001A4368E79A0>)], [26, datetime.datetime(2025, 1, 6, 18, 49, 48, tzinfo=<git.objects.util.tzoffset object at 0x000001A4368FCF70>)], [27, datetime.datetime(2025, 1, 6, 17, 49, 18, tzinfo=<git.objects.util.tzoffset object at 0x000001A4368DA170>)], [17, datetime.datetime(2025, 1, 6, 16, 50, 6, tzinfo=<git.objects.util.tzoffset object at 0x000001A436F0E890>)], [19, datetime.datetime(2025, 1, 6, 15, 49, 8, tzinfo=<git.objects.util.tzoffset object at 0x000001A436900970>)]], 'UPPER SHERRARD STREET': [[20, datetime.datetime(2025, 1, 6, 23, 49, 2, tzinfo=<git.objects.util.tzoffset object at 0x000001A43690D270>)], [20, datetime.datetime(2025, 1, 6, 22, 49, 2, tzinfo=<git.objects.util.tzoffset object at 0x000001A436732D70>)], [19, datetime.datetime(2025, 1, 6, 21, 49, 9, tzinfo=<git.objects.util.tzoffset object at 0x000001A4368ECDC0>)], [18, datetime.datetime(2025, 1, 6, 20, 49, 3, tzinfo=<git.objects.util.tzoffset object at 0x000001A4368FA320>)], [16, datetime.datetime(2025, 1, 6, 19, 49, 5, tzinfo=<git.objects.util.tzoffset object at 0x000001A4368E78E0>)], [16, datetime.datetime(2025, 1, 6, 18, 49, 48, tzinfo=<git.objects.util.tzoffset object at 0x000001A4368FCEB0>)], [13, datetime.datetime(2025, 1, 6, 17, 49, 18, tzinfo=<git.objects.util.tzoffset object at 0x000001A435FFEF20>)], [12, datetime.datetime(2025, 1, 6, 16, 50, 6, tzinfo=<git.objects.util.tzoffset object at 0x000001A436F0CF70>)], [9, datetime.datetime(2025, 1, 6, 15, 49, 8, tzinfo=<git.objects.util.tzoffset object at 0x000001A436900A30>)]], 'DEVERELL PLACE': [[21, datetime.datetime(2025, 1, 6, 23, 49, 2, tzinfo=<git.objects.util.tzoffset object at 0x000001A43690D1B0>)], [21, datetime.datetime(2025, 1, 6, 22, 49, 2, tzinfo=<git.objects.util.tzoffset object at 0x000001A436732E30>)], [19, datetime.datetime(2025, 1, 6, 21, 49, 9, tzinfo=<git.objects.util.tzoffset object at 0x000001A4368ECD00>)], [18, datetime.datetime(2025, 1, 6, 20, 49, 3, tzinfo=<git.objects.util.tzoffset object at 0x000001A46CB1F490>)], [19, datetime.datetime(2025, 1, 6, 19, 49, 5, tzinfo=<git.objects.util.tzoffset object at 0x000001A4368E7820>)], [17, datetime.datetime(2025, 1, 6, 18, 49, 48, tzinfo=<git.objects.util.tzoffset object at 0x000001A4368FCDF0>)], [16, datetime.datetime(2025, 1, 6, 17, 49, 18, tzinfo=<git.objects.util.tzoffset object at 0x000001A435FFFA60>)], [15, datetime.datetime(2025, 1, 6, 16, 50, 6, tzinfo=<git.objects.util.tzoffset object at 0x000001A436F0D900>)], [13, datetime.datetime(2025, 1, 6, 15, 49, 8, tzinfo=<git.objects.util.tzoffset object at 0x000001A436900AF0>)]], 'HERBERT STREET': [[1, datetime.datetime(2025, 1, 6, 23, 49, 2, tzinfo=<git.objects.util.tzoffset object at 0x000001A43690D0F0>)], [0, datetime.datetime(2025, 1, 6, 22, 49, 2, tzinfo=<git.objects.util.tzoffset object at 0x000001A436732EF0>)], [0, datetime.datetime(2025, 1, 6, 21, 49, 9, tzinfo=<git.objects.util.tzoffset object at 0x000001A4368ECC40>)], [0, datetime.datetime(2025, 1, 6, 20, 49, 3, tzinfo=<git.objects.util.tzoffset object at 0x000001A46CB1ECB0>)], [0, datetime.datetime(2025, 1, 6, 19, 49, 5, tzinfo=<git.objects.util.tzoffset object at 0x000001A4368E7760>)], [0, datetime.datetime(2025, 1, 6, 18, 49, 48, tzinfo=<git.objects.util.tzoffset object at 0x000001A4368FCD30>)], [5, datetime.datetime(2025, 1, 6, 17, 49, 18, tzinfo=<git.objects.util.tzoffset object at 0x000001A435FFFA30>)], [5, datetime.datetime(2025, 1, 6, 16, 50, 6, tzinfo=<git.objects.util.tzoffset object at 0x000001A436F0DC60>)], [4, datetime.datetime(2025, 1, 6, 15, 49, 8, tzinfo=<git.objects.util.tzoffset object at 0x000001A436900BB0>)]], 'EXCISE WALK': [[11, datetime.datetime(2025, 1, 6, 23, 49, 2, tzinfo=<git.objects.util.tzoffset object at 0x000001A43690D030>)], [11, datetime.datetime(2025, 1, 6, 22, 49, 2, tzinfo=<git.objects.util.tzoffset object at 0x000001A436732FB0>)], [10, datetime.datetime(2025, 1, 6, 21, 49, 9, tzinfo=<git.objects.util.tzoffset object at 0x000001A4368ECB80>)], [11, datetime.datetime(2025, 1, 6, 20, 49, 3, tzinfo=<git.objects.util.tzoffset object at 0x000001A46CB1F1F0>)], [10, datetime.datetime(2025, 1, 6, 19, 49, 5, tzinfo=<git.objects.util.tzoffset object at 0x000001A4368E76A0>)], [12, datetime.datetime(2025, 1, 6, 18, 49, 48, tzinfo=<git.objects.util.tzoffset object at 0x000001A4368FCC70>)], [9, datetime.datetime(2025, 1, 6, 17, 49, 18, tzinfo=<git.objects.util.tzoffset object at 0x000001A435FFF9D0>)], [1, datetime.datetime(2025, 1, 6, 16, 50, 6, tzinfo=<git.objects.util.tzoffset object at 0x000001A436F0FA60>)], [1, datetime.datetime(2025, 1, 6, 15, 49, 8, tzinfo=<git.objects.util.tzoffset object at 0x000001A436900C70>)]], 'GUILD STREET': [[32, datetime.datetime(2025, 1, 6, 23, 49, 2, tzinfo=<git.objects.util.tzoffset object at 0x000001A46A2127A0>)], [32, datetime.datetime(2025, 1, 6, 22, 49, 2, tzinfo=<git.objects.util.tzoffset object at 0x000001A436733070>)], [31, datetime.datetime(2025, 1, 6, 21, 49, 9, tzinfo=<git.objects.util.tzoffset object at 0x000001A4368ECAC0>)], [32, datetime.datetime(2025, 1, 6, 20, 49, 3, tzinfo=<git.objects.util.tzoffset object at 0x000001A46CB1F370>)], [28, datetime.datetime(2025, 1, 6, 19, 49, 5, tzinfo=<git.objects.util.tzoffset object at 0x000001A4368E75E0>)], [28, datetime.datetime(2025, 1, 6, 18, 49, 48, tzinfo=<git.objects.util.tzoffset object at 0x000001A4368FCBB0>)], [20, datetime.datetime(2025, 1, 6, 17, 49, 18, tzinfo=<git.objects.util.tzoffset object at 0x000001A435FFF9A0>)], [26, datetime.datetime(2025, 1, 6, 16, 50, 6, tzinfo=<git.objects.util.tzoffset object at 0x000001A436F0FDF0>)], [17, datetime.datetime(2025, 1, 6, 15, 49, 8, tzinfo=<git.objects.util.tzoffset object at 0x000001A436900D30>)]], 'GEORGES LANE': [[34, datetime.datetime(2025, 1, 6, 23, 49, 2, tzinfo=<git.objects.util.tzoffset object at 0x000001A46A2128F0>)], [34, datetime.datetime(2025, 1, 6, 22, 49, 2, tzinfo=<git.objects.util.tzoffset object at 0x000001A436733130>)], [32, datetime.datetime(2025, 1, 6, 21, 49, 9, tzinfo=<git.objects.util.tzoffset object at 0x000001A4368ECA00>)], [29, datetime.datetime(2025, 1, 6, 20, 49, 3, tzinfo=<git.objects.util.tzoffset object at 0x000001A46CB1EF50>)], [26, datetime.datetime(2025, 1, 6, 19, 49, 5, tzinfo=<git.objects.util.tzoffset object at 0x000001A4368E7520>)], [25, datetime.datetime(2025, 1, 6, 18, 49, 48, tzinfo=<git.objects.util.tzoffset object at 0x000001A4368FCAF0>)], [22, datetime.datetime(2025, 1, 6, 17, 49, 18, tzinfo=<git.objects.util.tzoffset object at 0x000001A435FFF1C0>)], [14, datetime.datetime(2025, 1, 6, 16, 50, 6, tzinfo=<git.objects.util.tzoffset object at 0x000001A436F0CEB0>)], [12, datetime.datetime(2025, 1, 6, 15, 49, 8, tzinfo=<git.objects.util.tzoffset object at 0x000001A436900DF0>)]], 'YORK STREET WEST': [[0, datetime.datetime(2025, 1, 6, 23, 49, 2, tzinfo=<git.objects.util.tzoffset object at 0x000001A4366F7EE0>)], [0, datetime.datetime(2025, 1, 6, 22, 49, 2, tzinfo=<git.objects.util.tzoffset object at 0x000001A436733FD0>)], [0, datetime.datetime(2025, 1, 6, 21, 49, 9, tzinfo=<git.objects.util.tzoffset object at 0x000001A4368EC940>)], [0, datetime.datetime(2025, 1, 6, 20, 49, 3, tzinfo=<git.objects.util.tzoffset object at 0x000001A46CB1F2E0>)], [0, datetime.datetime(2025, 1, 6, 19, 49, 5, tzinfo=<git.objects.util.tzoffset object at 0x000001A4368E7460>)], [0, datetime.datetime(2025, 1, 6, 18, 49, 48, tzinfo=<git.objects.util.tzoffset object at 0x000001A4368FCA30>)], [0, datetime.datetime(2025, 1, 6, 17, 49, 18, tzinfo=<git.objects.util.tzoffset object at 0x000001A435FFFD90>)], [0, datetime.datetime(2025, 1, 6, 16, 50, 6, tzinfo=<git.objects.util.tzoffset object at 0x000001A436F0F040>)], [0, datetime.datetime(2025, 1, 6, 15, 49, 8, tzinfo=<git.objects.util.tzoffset object at 0x000001A436900EB0>)]], 'YORK STREET EAST': [[6, datetime.datetime(2025, 1, 6, 23, 49, 2, tzinfo=<git.objects.util.tzoffset object at 0x000001A4366F7BE0>)], [7, datetime.datetime(2025, 1, 6, 22, 49, 2, tzinfo=<git.objects.util.tzoffset object at 0x000001A436733F10>)], [7, datetime.datetime(2025, 1, 6, 21, 49, 9, tzinfo=<git.objects.util.tzoffset object at 0x000001A4368EC880>)], [7, datetime.datetime(2025, 1, 6, 20, 49, 3, tzinfo=<git.objects.util.tzoffset object at 0x000001A436908EE0>)], [7, datetime.datetime(2025, 1, 6, 19, 49, 5, tzinfo=<git.objects.util.tzoffset object at 0x000001A4368E73A0>)], [8, datetime.datetime(2025, 1, 6, 18, 49, 48, tzinfo=<git.objects.util.tzoffset object at 0x000001A4368FC970>)], [10, datetime.datetime(2025, 1, 6, 17, 49, 18, tzinfo=<git.objects.util.tzoffset object at 0x000001A435FFEF80>)], [12, datetime.datetime(2025, 1, 6, 16, 50, 6, tzinfo=<git.objects.util.tzoffset object at 0x000001A436F0E6B0>)], [11, datetime.datetime(2025, 1, 6, 15, 49, 8, tzinfo=<git.objects.util.tzoffset object at 0x000001A436900F70>)]], 'NEWMAN HOUSE': [[0, datetime.datetime(2025, 1, 6, 23, 49, 2, tzinfo=<git.objects.util.tzoffset object at 0x000001A4366F7FA0>)], [0, datetime.datetime(2025, 1, 6, 22, 49, 2, tzinfo=<git.objects.util.tzoffset object at 0x000001A436733E50>)], [0, datetime.datetime(2025, 1, 6, 21, 49, 9, tzinfo=<git.objects.util.tzoffset object at 0x000001A4368EC7C0>)], [0, datetime.datetime(2025, 1, 6, 20, 49, 3, tzinfo=<git.objects.util.tzoffset object at 0x000001A436908BE0>)], [0, datetime.datetime(2025, 1, 6, 19, 49, 5, tzinfo=<git.objects.util.tzoffset object at 0x000001A4368E72E0>)], [0, datetime.datetime(2025, 1, 6, 18, 49, 48, tzinfo=<git.objects.util.tzoffset object at 0x000001A4368FC8B0>)], [1, datetime.datetime(2025, 1, 6, 17, 49, 18, tzinfo=<git.objects.util.tzoffset object at 0x000001A435FFE500>)], [6, datetime.datetime(2025, 1, 6, 16, 50, 6, tzinfo=<git.objects.util.tzoffset object at 0x000001A436F0EE60>)], [6, datetime.datetime(2025, 1, 6, 15, 49, 8, tzinfo=<git.objects.util.tzoffset object at 0x000001A436901030>)]], 'CLONMEL STREET': [[5, datetime.datetime(2025, 1, 6, 23, 49, 2, tzinfo=<git.objects.util.tzoffset object at 0x000001A4366F7B20>)], [5, datetime.datetime(2025, 1, 6, 22, 49, 2, tzinfo=<git.objects.util.tzoffset object at 0x000001A436733D90>)], [6, datetime.datetime(2025, 1, 6, 21, 49, 9, tzinfo=<git.objects.util.tzoffset object at 0x000001A4368EC700>)], [6, datetime.datetime(2025, 1, 6, 20, 49, 3, tzinfo=<git.objects.util.tzoffset object at 0x000001A436908B20>)], [7, datetime.datetime(2025, 1, 6, 19, 49, 5, tzinfo=<git.objects.util.tzoffset object at 0x000001A4368E7220>)], [7, datetime.datetime(2025, 1, 6, 18, 49, 48, tzinfo=<git.objects.util.tzoffset object at 0x000001A4368FC7F0>)], [8, datetime.datetime(2025, 1, 6, 17, 49, 18, tzinfo=<git.objects.util.tzoffset object at 0x000001A435FFF0A0>)], [12, datetime.datetime(2025, 1, 6, 16, 50, 6, tzinfo=<git.objects.util.tzoffset object at 0x000001A436F0FC10>)], [11, datetime.datetime(2025, 1, 6, 15, 49, 8, tzinfo=<git.objects.util.tzoffset object at 0x000001A4369010F0>)]], 'HATCH STREET': [[0, datetime.datetime(2025, 1, 6, 23, 49, 2, tzinfo=<git.objects.util.tzoffset object at 0x000001A4366F7A30>)], [0, datetime.datetime(2025, 1, 6, 22, 49, 2, tzinfo=<git.objects.util.tzoffset object at 0x000001A436731BA0>)], [0, datetime.datetime(2025, 1, 6, 21, 49, 9, tzinfo=<git.objects.util.tzoffset object at 0x000001A4368EC640>)], [1, datetime.datetime(2025, 1, 6, 20, 49, 3, tzinfo=<git.objects.util.tzoffset object at 0x000001A436908A60>)], [1, datetime.datetime(2025, 1, 6, 19, 49, 5, tzinfo=<git.objects.util.tzoffset object at 0x000001A4368E7160>)], [0, datetime.datetime(2025, 1, 6, 18, 49, 48, tzinfo=<git.objects.util.tzoffset object at 0x000001A4368FC730>)], [0, datetime.datetime(2025, 1, 6, 17, 49, 18, tzinfo=<git.objects.util.tzoffset object at 0x000001A435FFEE30>)], [9, datetime.datetime(2025, 1, 6, 16, 50, 6, tzinfo=<git.objects.util.tzoffset object at 0x000001A436F0F6D0>)], [12, datetime.datetime(2025, 1, 6, 15, 49, 8, tzinfo=<git.objects.util.tzoffset object at 0x000001A4369011B0>)]], 'MOUNT STREET LOWER': [[3, datetime.datetime(2025, 1, 6, 23, 49, 2, tzinfo=<git.objects.util.tzoffset object at 0x000001A4366F7970>)], [3, datetime.datetime(2025, 1, 6, 22, 49, 2, tzinfo=<git.objects.util.tzoffset object at 0x000001A436731C60>)], [3, datetime.datetime(2025, 1, 6, 21, 49, 9, tzinfo=<git.objects.util.tzoffset object at 0x000001A4368EC580>)], [3, datetime.datetime(2025, 1, 6, 20, 49, 3, tzinfo=<git.objects.util.tzoffset object at 0x000001A4369089A0>)], [3, datetime.datetime(2025, 1, 6, 19, 49, 5, tzinfo=<git.objects.util.tzoffset object at 0x000001A4368E70A0>)], [2, datetime.datetime(2025, 1, 6, 18, 49, 48, tzinfo=<git.objects.util.tzoffset object at 0x000001A4368FC670>)], [7, datetime.datetime(2025, 1, 6, 17, 49, 18, tzinfo=<git.objects.util.tzoffset object at 0x000001A435FFFAF0>)], [15, datetime.datetime(2025, 1, 6, 16, 50, 6, tzinfo=<git.objects.util.tzoffset object at 0x000001A436F0E770>)], [21, datetime.datetime(2025, 1, 6, 15, 49, 8, tzinfo=<git.objects.util.tzoffset object at 0x000001A436901270>)]], 'GRATTAN STREET': [[4, datetime.datetime(2025, 1, 6, 23, 49, 2, tzinfo=<git.objects.util.tzoffset object at 0x000001A4366F7C40>)], [4, datetime.datetime(2025, 1, 6, 22, 49, 2, tzinfo=<git.objects.util.tzoffset object at 0x000001A436731D20>)], [4, datetime.datetime(2025, 1, 6, 21, 49, 9, tzinfo=<git.objects.util.tzoffset object at 0x000001A4368EC4C0>)], [3, datetime.datetime(2025, 1, 6, 20, 49, 3, tzinfo=<git.objects.util.tzoffset object at 0x000001A4369088E0>)], [2, datetime.datetime(2025, 1, 6, 19, 49, 5, tzinfo=<git.objects.util.tzoffset object at 0x000001A4368E6FE0>)], [4, datetime.datetime(2025, 1, 6, 18, 49, 48, tzinfo=<git.objects.util.tzoffset object at 0x000001A4368FC5B0>)], [3, datetime.datetime(2025, 1, 6, 17, 49, 18, tzinfo=<git.objects.util.tzoffset object at 0x000001A43673E110>)], [4, datetime.datetime(2025, 1, 6, 16, 50, 6, tzinfo=<git.objects.util.tzoffset object at 0x000001A436F0F0A0>)], [5, datetime.datetime(2025, 1, 6, 15, 49, 8, tzinfo=<git.objects.util.tzoffset object at 0x000001A436901330>)]], \"SIR PATRICK DUN'S\": [[11, datetime.datetime(2025, 1, 6, 23, 49, 2, tzinfo=<git.objects.util.tzoffset object at 0x000001A4366F7E50>)], [12, datetime.datetime(2025, 1, 6, 22, 49, 2, tzinfo=<git.objects.util.tzoffset object at 0x000001A436731DE0>)], [13, datetime.datetime(2025, 1, 6, 21, 49, 9, tzinfo=<git.objects.util.tzoffset object at 0x000001A4368EC400>)], [12, datetime.datetime(2025, 1, 6, 20, 49, 3, tzinfo=<git.objects.util.tzoffset object at 0x000001A436908820>)], [17, datetime.datetime(2025, 1, 6, 19, 49, 5, tzinfo=<git.objects.util.tzoffset object at 0x000001A4368E6F20>)], [20, datetime.datetime(2025, 1, 6, 18, 49, 48, tzinfo=<git.objects.util.tzoffset object at 0x000001A4368FC4F0>)], [17, datetime.datetime(2025, 1, 6, 17, 49, 18, tzinfo=<git.objects.util.tzoffset object at 0x000001A43673E2C0>)], [13, datetime.datetime(2025, 1, 6, 16, 50, 6, tzinfo=<git.objects.util.tzoffset object at 0x000001A436F0EE00>)], [17, datetime.datetime(2025, 1, 6, 15, 49, 8, tzinfo=<git.objects.util.tzoffset object at 0x000001A4369013F0>)]], 'DENMARK STREET GREAT': [[1, datetime.datetime(2025, 1, 6, 23, 49, 2, tzinfo=<git.objects.util.tzoffset object at 0x000001A4366F7AC0>)], [0, datetime.datetime(2025, 1, 6, 22, 49, 2, tzinfo=<git.objects.util.tzoffset object at 0x000001A436731EA0>)], [0, datetime.datetime(2025, 1, 6, 21, 49, 9, tzinfo=<git.objects.util.tzoffset object at 0x000001A4368EC340>)], [0, datetime.datetime(2025, 1, 6, 20, 49, 3, tzinfo=<git.objects.util.tzoffset object at 0x000001A436908760>)], [1, datetime.datetime(2025, 1, 6, 19, 49, 5, tzinfo=<git.objects.util.tzoffset object at 0x000001A4368E6E60>)], [0, datetime.datetime(2025, 1, 6, 18, 49, 48, tzinfo=<git.objects.util.tzoffset object at 0x000001A4368FC430>)], [0, datetime.datetime(2025, 1, 6, 17, 49, 18, tzinfo=<git.objects.util.tzoffset object at 0x000001A43673E3E0>)], [2, datetime.datetime(2025, 1, 6, 16, 50, 6, tzinfo=<git.objects.util.tzoffset object at 0x000001A436F0EE30>)], [4, datetime.datetime(2025, 1, 6, 15, 49, 8, tzinfo=<git.objects.util.tzoffset object at 0x000001A4369014B0>)]], 'NORTH CIRCULAR ROAD': [[29, datetime.datetime(2025, 1, 6, 23, 49, 2, tzinfo=<git.objects.util.tzoffset object at 0x000001A4366F7A00>)], [28, datetime.datetime(2025, 1, 6, 22, 49, 2, tzinfo=<git.objects.util.tzoffset object at 0x000001A436731F60>)], [25, datetime.datetime(2025, 1, 6, 21, 49, 9, tzinfo=<git.objects.util.tzoffset object at 0x000001A4368EC280>)], [24, datetime.datetime(2025, 1, 6, 20, 49, 3, tzinfo=<git.objects.util.tzoffset object at 0x000001A4369086A0>)], [23, datetime.datetime(2025, 1, 6, 19, 49, 5, tzinfo=<git.objects.util.tzoffset object at 0x000001A4368E6DA0>)], [23, datetime.datetime(2025, 1, 6, 18, 49, 48, tzinfo=<git.objects.util.tzoffset object at 0x000001A4368FC370>)], [19, datetime.datetime(2025, 1, 6, 17, 49, 18, tzinfo=<git.objects.util.tzoffset object at 0x000001A43673C460>)], [17, datetime.datetime(2025, 1, 6, 16, 50, 6, tzinfo=<git.objects.util.tzoffset object at 0x000001A436F0F610>)], [19, datetime.datetime(2025, 1, 6, 15, 49, 8, tzinfo=<git.objects.util.tzoffset object at 0x000001A436901570>)]], 'HARDWICKE PLACE': [[3, datetime.datetime(2025, 1, 6, 23, 49, 2, tzinfo=<git.objects.util.tzoffset object at 0x000001A4366F7C10>)], [4, datetime.datetime(2025, 1, 6, 22, 49, 2, tzinfo=<git.objects.util.tzoffset object at 0x000001A436732020>)], [3, datetime.datetime(2025, 1, 6, 21, 49, 9, tzinfo=<git.objects.util.tzoffset object at 0x000001A4368EC1C0>)], [3, datetime.datetime(2025, 1, 6, 20, 49, 3, tzinfo=<git.objects.util.tzoffset object at 0x000001A4369085E0>)], [3, datetime.datetime(2025, 1, 6, 19, 49, 5, tzinfo=<git.objects.util.tzoffset object at 0x000001A4368E6CE0>)], [2, datetime.datetime(2025, 1, 6, 18, 49, 48, tzinfo=<git.objects.util.tzoffset object at 0x000001A4368FC2B0>)], [3, datetime.datetime(2025, 1, 6, 17, 49, 18, tzinfo=<git.objects.util.tzoffset object at 0x000001A43673E0B0>)], [6, datetime.datetime(2025, 1, 6, 16, 50, 6, tzinfo=<git.objects.util.tzoffset object at 0x000001A4368F4070>)], [9, datetime.datetime(2025, 1, 6, 15, 49, 8, tzinfo=<git.objects.util.tzoffset object at 0x000001A436901630>)]], 'LIME STREET': [[11, datetime.datetime(2025, 1, 6, 23, 49, 2, tzinfo=<git.objects.util.tzoffset object at 0x000001A4366F7CD0>)], [11, datetime.datetime(2025, 1, 6, 22, 49, 2, tzinfo=<git.objects.util.tzoffset object at 0x000001A4367320E0>)], [12, datetime.datetime(2025, 1, 6, 21, 49, 9, tzinfo=<git.objects.util.tzoffset object at 0x000001A4368EC070>)], [13, datetime.datetime(2025, 1, 6, 20, 49, 3, tzinfo=<git.objects.util.tzoffset object at 0x000001A436908520>)], [9, datetime.datetime(2025, 1, 6, 19, 49, 5, tzinfo=<git.objects.util.tzoffset object at 0x000001A4368E6C20>)], [9, datetime.datetime(2025, 1, 6, 18, 49, 48, tzinfo=<git.objects.util.tzoffset object at 0x000001A4368FC1F0>)], [10, datetime.datetime(2025, 1, 6, 17, 49, 18, tzinfo=<git.objects.util.tzoffset object at 0x000001A43673E320>)], [8, datetime.datetime(2025, 1, 6, 16, 50, 6, tzinfo=<git.objects.util.tzoffset object at 0x000001A4368F4130>)], [10, datetime.datetime(2025, 1, 6, 15, 49, 8, tzinfo=<git.objects.util.tzoffset object at 0x000001A4369016F0>)]], 'FENIAN STREET': [[12, datetime.datetime(2025, 1, 6, 23, 49, 2, tzinfo=<git.objects.util.tzoffset object at 0x000001A4366DEF50>)], [12, datetime.datetime(2025, 1, 6, 22, 49, 2, tzinfo=<git.objects.util.tzoffset object at 0x000001A4367321A0>)], [16, datetime.datetime(2025, 1, 6, 21, 49, 9, tzinfo=<git.objects.util.tzoffset object at 0x000001A4368EFFA0>)], [15, datetime.datetime(2025, 1, 6, 20, 49, 3, tzinfo=<git.objects.util.tzoffset object at 0x000001A436908460>)], [16, datetime.datetime(2025, 1, 6, 19, 49, 5, tzinfo=<git.objects.util.tzoffset object at 0x000001A4368E6B60>)], [19, datetime.datetime(2025, 1, 6, 18, 49, 48, tzinfo=<git.objects.util.tzoffset object at 0x000001A4368FC0A0>)], [17, datetime.datetime(2025, 1, 6, 17, 49, 18, tzinfo=<git.objects.util.tzoffset object at 0x000001A43673C0D0>)], [12, datetime.datetime(2025, 1, 6, 16, 50, 6, tzinfo=<git.objects.util.tzoffset object at 0x000001A4368F41F0>)], [13, datetime.datetime(2025, 1, 6, 15, 49, 8, tzinfo=<git.objects.util.tzoffset object at 0x000001A4369017B0>)]], 'SANDWITH STREET': [[20, datetime.datetime(2025, 1, 6, 23, 49, 2, tzinfo=<git.objects.util.tzoffset object at 0x000001A4366DF250>)], [20, datetime.datetime(2025, 1, 6, 22, 49, 2, tzinfo=<git.objects.util.tzoffset object at 0x000001A436732260>)], [19, datetime.datetime(2025, 1, 6, 21, 49, 9, tzinfo=<git.objects.util.tzoffset object at 0x000001A4368EFF40>)], [21, datetime.datetime(2025, 1, 6, 20, 49, 3, tzinfo=<git.objects.util.tzoffset object at 0x000001A4369083A0>)], [21, datetime.datetime(2025, 1, 6, 19, 49, 5, tzinfo=<git.objects.util.tzoffset object at 0x000001A4368E6AA0>)], [20, datetime.datetime(2025, 1, 6, 18, 49, 48, tzinfo=<git.objects.util.tzoffset object at 0x000001A4368FFFD0>)], [19, datetime.datetime(2025, 1, 6, 17, 49, 18, tzinfo=<git.objects.util.tzoffset object at 0x000001A43673E5F0>)], [12, datetime.datetime(2025, 1, 6, 16, 50, 6, tzinfo=<git.objects.util.tzoffset object at 0x000001A4368F42B0>)], [9, datetime.datetime(2025, 1, 6, 15, 49, 8, tzinfo=<git.objects.util.tzoffset object at 0x000001A436901870>)]], 'CONVENTION CENTRE': [[3, datetime.datetime(2025, 1, 6, 23, 49, 2, tzinfo=<git.objects.util.tzoffset object at 0x000001A4366DEB90>)], [4, datetime.datetime(2025, 1, 6, 22, 49, 2, tzinfo=<git.objects.util.tzoffset object at 0x000001A436732320>)], [2, datetime.datetime(2025, 1, 6, 21, 49, 9, tzinfo=<git.objects.util.tzoffset object at 0x000001A4368EFE80>)], [4, datetime.datetime(2025, 1, 6, 20, 49, 3, tzinfo=<git.objects.util.tzoffset object at 0x000001A4369082E0>)], [3, datetime.datetime(2025, 1, 6, 19, 49, 5, tzinfo=<git.objects.util.tzoffset object at 0x000001A4368E69E0>)], [0, datetime.datetime(2025, 1, 6, 18, 49, 48, tzinfo=<git.objects.util.tzoffset object at 0x000001A4368FFF70>)], [5, datetime.datetime(2025, 1, 6, 17, 49, 18, tzinfo=<git.objects.util.tzoffset object at 0x000001A43673C4F0>)], [17, datetime.datetime(2025, 1, 6, 16, 50, 6, tzinfo=<git.objects.util.tzoffset object at 0x000001A4368F4370>)], [22, datetime.datetime(2025, 1, 6, 15, 49, 8, tzinfo=<git.objects.util.tzoffset object at 0x000001A436901930>)]], 'NEW CENTRAL BANK': [[5, datetime.datetime(2025, 1, 6, 23, 49, 2, tzinfo=<git.objects.util.tzoffset object at 0x000001A4366DF190>)], [4, datetime.datetime(2025, 1, 6, 22, 49, 2, tzinfo=<git.objects.util.tzoffset object at 0x000001A4367323E0>)], [3, datetime.datetime(2025, 1, 6, 21, 49, 9, tzinfo=<git.objects.util.tzoffset object at 0x000001A4368EFDC0>)], [2, datetime.datetime(2025, 1, 6, 20, 49, 3, tzinfo=<git.objects.util.tzoffset object at 0x000001A436908220>)], [4, datetime.datetime(2025, 1, 6, 19, 49, 5, tzinfo=<git.objects.util.tzoffset object at 0x000001A4368E6920>)], [2, datetime.datetime(2025, 1, 6, 18, 49, 48, tzinfo=<git.objects.util.tzoffset object at 0x000001A4368FFEB0>)], [6, datetime.datetime(2025, 1, 6, 17, 49, 18, tzinfo=<git.objects.util.tzoffset object at 0x000001A43673C280>)], [3, datetime.datetime(2025, 1, 6, 16, 50, 6, tzinfo=<git.objects.util.tzoffset object at 0x000001A4368F4430>)], [11, datetime.datetime(2025, 1, 6, 15, 49, 8, tzinfo=<git.objects.util.tzoffset object at 0x000001A4369019F0>)]], 'THE POINT': [[20, datetime.datetime(2025, 1, 6, 23, 49, 2, tzinfo=<git.objects.util.tzoffset object at 0x000001A4366DF1C0>)], [21, datetime.datetime(2025, 1, 6, 22, 49, 2, tzinfo=<git.objects.util.tzoffset object at 0x000001A4367324A0>)], [20, datetime.datetime(2025, 1, 6, 21, 49, 9, tzinfo=<git.objects.util.tzoffset object at 0x000001A4368EFD00>)], [20, datetime.datetime(2025, 1, 6, 20, 49, 3, tzinfo=<git.objects.util.tzoffset object at 0x000001A436908160>)], [23, datetime.datetime(2025, 1, 6, 19, 49, 5, tzinfo=<git.objects.util.tzoffset object at 0x000001A4368E6860>)], [25, datetime.datetime(2025, 1, 6, 18, 49, 48, tzinfo=<git.objects.util.tzoffset object at 0x000001A4368FFDF0>)], [26, datetime.datetime(2025, 1, 6, 17, 49, 18, tzinfo=<git.objects.util.tzoffset object at 0x000001A43673D3C0>)], [24, datetime.datetime(2025, 1, 6, 16, 50, 6, tzinfo=<git.objects.util.tzoffset object at 0x000001A4368F44F0>)], [23, datetime.datetime(2025, 1, 6, 15, 49, 8, tzinfo=<git.objects.util.tzoffset object at 0x000001A436901AB0>)]], 'HANOVER QUAY': [[9, datetime.datetime(2025, 1, 6, 23, 49, 2, tzinfo=<git.objects.util.tzoffset object at 0x000001A4366DF0A0>)], [10, datetime.datetime(2025, 1, 6, 22, 49, 2, tzinfo=<git.objects.util.tzoffset object at 0x000001A436732560>)], [9, datetime.datetime(2025, 1, 6, 21, 49, 9, tzinfo=<git.objects.util.tzoffset object at 0x000001A4368EFB80>)], [8, datetime.datetime(2025, 1, 6, 20, 49, 3, tzinfo=<git.objects.util.tzoffset object at 0x000001A436908100>)], [10, datetime.datetime(2025, 1, 6, 19, 49, 5, tzinfo=<git.objects.util.tzoffset object at 0x000001A4368E67A0>)], [7, datetime.datetime(2025, 1, 6, 18, 49, 48, tzinfo=<git.objects.util.tzoffset object at 0x000001A4368FFD60>)], [6, datetime.datetime(2025, 1, 6, 17, 49, 18, tzinfo=<git.objects.util.tzoffset object at 0x000001A43673D570>)], [12, datetime.datetime(2025, 1, 6, 16, 50, 6, tzinfo=<git.objects.util.tzoffset object at 0x000001A4368F45B0>)], [17, datetime.datetime(2025, 1, 6, 15, 49, 8, tzinfo=<git.objects.util.tzoffset object at 0x000001A436901B70>)]], 'GRAND CANAL DOCK': [[33, datetime.datetime(2025, 1, 6, 23, 49, 2, tzinfo=<git.objects.util.tzoffset object at 0x000001A4366DED70>)], [33, datetime.datetime(2025, 1, 6, 22, 49, 2, tzinfo=<git.objects.util.tzoffset object at 0x000001A436732620>)], [34, datetime.datetime(2025, 1, 6, 21, 49, 9, tzinfo=<git.objects.util.tzoffset object at 0x000001A4368EFB50>)], [36, datetime.datetime(2025, 1, 6, 20, 49, 3, tzinfo=<git.objects.util.tzoffset object at 0x000001A43690BF10>)], [31, datetime.datetime(2025, 1, 6, 19, 49, 5, tzinfo=<git.objects.util.tzoffset object at 0x000001A4368E66E0>)], [32, datetime.datetime(2025, 1, 6, 18, 49, 48, tzinfo=<git.objects.util.tzoffset object at 0x000001A4368FFCA0>)], [30, datetime.datetime(2025, 1, 6, 17, 49, 18, tzinfo=<git.objects.util.tzoffset object at 0x000001A43673C340>)], [26, datetime.datetime(2025, 1, 6, 16, 50, 6, tzinfo=<git.objects.util.tzoffset object at 0x000001A4368F4670>)], [25, datetime.datetime(2025, 1, 6, 15, 49, 8, tzinfo=<git.objects.util.tzoffset object at 0x000001A436901C30>)]], 'KEVIN STREET': [[20, datetime.datetime(2025, 1, 6, 23, 49, 2, tzinfo=<git.objects.util.tzoffset object at 0x000001A4366DF040>)], [20, datetime.datetime(2025, 1, 6, 22, 49, 2, tzinfo=<git.objects.util.tzoffset object at 0x000001A4367326E0>)], [18, datetime.datetime(2025, 1, 6, 21, 49, 9, tzinfo=<git.objects.util.tzoffset object at 0x000001A4368EF970>)], [18, datetime.datetime(2025, 1, 6, 20, 49, 3, tzinfo=<git.objects.util.tzoffset object at 0x000001A43690BEE0>)], [17, datetime.datetime(2025, 1, 6, 19, 49, 5, tzinfo=<git.objects.util.tzoffset object at 0x000001A4368E6620>)], [17, datetime.datetime(2025, 1, 6, 18, 49, 48, tzinfo=<git.objects.util.tzoffset object at 0x000001A4368FF9D0>)], [20, datetime.datetime(2025, 1, 6, 17, 49, 18, tzinfo=<git.objects.util.tzoffset object at 0x000001A436734340>)], [25, datetime.datetime(2025, 1, 6, 16, 50, 6, tzinfo=<git.objects.util.tzoffset object at 0x000001A4368F4730>)], [22, datetime.datetime(2025, 1, 6, 15, 49, 8, tzinfo=<git.objects.util.tzoffset object at 0x000001A436901CF0>)]], 'JOHN STREET WEST': [[13, datetime.datetime(2025, 1, 6, 23, 49, 2, tzinfo=<git.objects.util.tzoffset object at 0x000001A4366DECB0>)], [13, datetime.datetime(2025, 1, 6, 22, 49, 2, tzinfo=<git.objects.util.tzoffset object at 0x000001A4367327A0>)], [13, datetime.datetime(2025, 1, 6, 21, 49, 9, tzinfo=<git.objects.util.tzoffset object at 0x000001A4368EFA90>)], [13, datetime.datetime(2025, 1, 6, 20, 49, 3, tzinfo=<git.objects.util.tzoffset object at 0x000001A43690BE20>)], [11, datetime.datetime(2025, 1, 6, 19, 49, 5, tzinfo=<git.objects.util.tzoffset object at 0x000001A4368E6560>)], [10, datetime.datetime(2025, 1, 6, 18, 49, 48, tzinfo=<git.objects.util.tzoffset object at 0x000001A4368FF970>)], [11, datetime.datetime(2025, 1, 6, 17, 49, 18, tzinfo=<git.objects.util.tzoffset object at 0x000001A4367347C0>)], [9, datetime.datetime(2025, 1, 6, 16, 50, 6, tzinfo=<git.objects.util.tzoffset object at 0x000001A4368F47F0>)], [10, datetime.datetime(2025, 1, 6, 15, 49, 8, tzinfo=<git.objects.util.tzoffset object at 0x000001A436901DB0>)]], 'FRANCIS STREET': [[24, datetime.datetime(2025, 1, 6, 23, 49, 2, tzinfo=<git.objects.util.tzoffset object at 0x000001A4366DED10>)], [24, datetime.datetime(2025, 1, 6, 22, 49, 2, tzinfo=<git.objects.util.tzoffset object at 0x000001A436733250>)], [24, datetime.datetime(2025, 1, 6, 21, 49, 9, tzinfo=<git.objects.util.tzoffset object at 0x000001A4368EF610>)], [24, datetime.datetime(2025, 1, 6, 20, 49, 3, tzinfo=<git.objects.util.tzoffset object at 0x000001A43690BD60>)], [24, datetime.datetime(2025, 1, 6, 19, 49, 5, tzinfo=<git.objects.util.tzoffset object at 0x000001A4368E64A0>)], [22, datetime.datetime(2025, 1, 6, 18, 49, 48, tzinfo=<git.objects.util.tzoffset object at 0x000001A4368FFA90>)], [23, datetime.datetime(2025, 1, 6, 17, 49, 18, tzinfo=<git.objects.util.tzoffset object at 0x000001A436736F80>)], [20, datetime.datetime(2025, 1, 6, 16, 50, 6, tzinfo=<git.objects.util.tzoffset object at 0x000001A4368F48B0>)], [20, datetime.datetime(2025, 1, 6, 15, 49, 8, tzinfo=<git.objects.util.tzoffset object at 0x000001A436901E70>)]], 'OLIVER BOND STREET': [[24, datetime.datetime(2025, 1, 6, 23, 49, 2, tzinfo=<git.objects.util.tzoffset object at 0x000001A4366DF4C0>)], [22, datetime.datetime(2025, 1, 6, 22, 49, 2, tzinfo=<git.objects.util.tzoffset object at 0x000001A436733310>)], [21, datetime.datetime(2025, 1, 6, 21, 49, 9, tzinfo=<git.objects.util.tzoffset object at 0x000001A4368EFAF0>)], [21, datetime.datetime(2025, 1, 6, 20, 49, 3, tzinfo=<git.objects.util.tzoffset object at 0x000001A43690BCA0>)], [20, datetime.datetime(2025, 1, 6, 19, 49, 5, tzinfo=<git.objects.util.tzoffset object at 0x000001A4368E63E0>)], [19, datetime.datetime(2025, 1, 6, 18, 49, 48, tzinfo=<git.objects.util.tzoffset object at 0x000001A4368FFBB0>)], [18, datetime.datetime(2025, 1, 6, 17, 49, 18, tzinfo=<git.objects.util.tzoffset object at 0x000001A436737CA0>)], [17, datetime.datetime(2025, 1, 6, 16, 50, 6, tzinfo=<git.objects.util.tzoffset object at 0x000001A4368F4970>)], [17, datetime.datetime(2025, 1, 6, 15, 49, 8, tzinfo=<git.objects.util.tzoffset object at 0x000001A436901F30>)]], 'JAMES STREET': [[13, datetime.datetime(2025, 1, 6, 23, 49, 2, tzinfo=<git.objects.util.tzoffset object at 0x000001A43608C940>)], [12, datetime.datetime(2025, 1, 6, 22, 49, 2, tzinfo=<git.objects.util.tzoffset object at 0x000001A4367333D0>)], [12, datetime.datetime(2025, 1, 6, 21, 49, 9, tzinfo=<git.objects.util.tzoffset object at 0x000001A4368EF9D0>)], [12, datetime.datetime(2025, 1, 6, 20, 49, 3, tzinfo=<git.objects.util.tzoffset object at 0x000001A43690BBE0>)], [12, datetime.datetime(2025, 1, 6, 19, 49, 5, tzinfo=<git.objects.util.tzoffset object at 0x000001A4368E6320>)], [12, datetime.datetime(2025, 1, 6, 18, 49, 48, tzinfo=<git.objects.util.tzoffset object at 0x000001A4368FF880>)], [12, datetime.datetime(2025, 1, 6, 17, 49, 18, tzinfo=<git.objects.util.tzoffset object at 0x000001A436737BE0>)], [11, datetime.datetime(2025, 1, 6, 16, 50, 6, tzinfo=<git.objects.util.tzoffset object at 0x000001A4368F4A30>)], [14, datetime.datetime(2025, 1, 6, 15, 49, 8, tzinfo=<git.objects.util.tzoffset object at 0x000001A436901FF0>)]], 'MARKET STREET SOUTH': [[13, datetime.datetime(2025, 1, 6, 23, 49, 2, tzinfo=<git.objects.util.tzoffset object at 0x000001A43608CBE0>)], [12, datetime.datetime(2025, 1, 6, 22, 49, 2, tzinfo=<git.objects.util.tzoffset object at 0x000001A436733490>)], [12, datetime.datetime(2025, 1, 6, 21, 49, 9, tzinfo=<git.objects.util.tzoffset object at 0x000001A4368EF730>)], [12, datetime.datetime(2025, 1, 6, 20, 49, 3, tzinfo=<git.objects.util.tzoffset object at 0x000001A43690BB20>)], [11, datetime.datetime(2025, 1, 6, 19, 49, 5, tzinfo=<git.objects.util.tzoffset object at 0x000001A4368E6260>)], [10, datetime.datetime(2025, 1, 6, 18, 49, 48, tzinfo=<git.objects.util.tzoffset object at 0x000001A4368D9FC0>)], [9, datetime.datetime(2025, 1, 6, 17, 49, 18, tzinfo=<git.objects.util.tzoffset object at 0x000001A436737B20>)], [12, datetime.datetime(2025, 1, 6, 16, 50, 6, tzinfo=<git.objects.util.tzoffset object at 0x000001A4368F4AF0>)], [14, datetime.datetime(2025, 1, 6, 15, 49, 8, tzinfo=<git.objects.util.tzoffset object at 0x000001A4369020B0>)]], 'WOLFE TONE STREET': [[18, datetime.datetime(2025, 1, 6, 23, 49, 2, tzinfo=<git.objects.util.tzoffset object at 0x000001A43608D870>)], [18, datetime.datetime(2025, 1, 6, 22, 49, 2, tzinfo=<git.objects.util.tzoffset object at 0x000001A436731B10>)], [18, datetime.datetime(2025, 1, 6, 21, 49, 9, tzinfo=<git.objects.util.tzoffset object at 0x000001A4368FA1A0>)], [18, datetime.datetime(2025, 1, 6, 20, 49, 3, tzinfo=<git.objects.util.tzoffset object at 0x000001A43690BA60>)], [20, datetime.datetime(2025, 1, 6, 19, 49, 5, tzinfo=<git.objects.util.tzoffset object at 0x000001A4368E61A0>)], [21, datetime.datetime(2025, 1, 6, 18, 49, 48, tzinfo=<git.objects.util.tzoffset object at 0x000001A4368D9F00>)], [23, datetime.datetime(2025, 1, 6, 17, 49, 18, tzinfo=<git.objects.util.tzoffset object at 0x000001A436737A60>)], [20, datetime.datetime(2025, 1, 6, 16, 50, 6, tzinfo=<git.objects.util.tzoffset object at 0x000001A4368F4BB0>)], [18, datetime.datetime(2025, 1, 6, 15, 49, 8, tzinfo=<git.objects.util.tzoffset object at 0x000001A436902170>)]], 'MATER HOSPITAL': [[19, datetime.datetime(2025, 1, 6, 23, 49, 2, tzinfo=<git.objects.util.tzoffset object at 0x000001A43608D930>)], [19, datetime.datetime(2025, 1, 6, 22, 49, 2, tzinfo=<git.objects.util.tzoffset object at 0x000001A436731A50>)], [20, datetime.datetime(2025, 1, 6, 21, 49, 9, tzinfo=<git.objects.util.tzoffset object at 0x000001A4368FA020>)], [19, datetime.datetime(2025, 1, 6, 20, 49, 3, tzinfo=<git.objects.util.tzoffset object at 0x000001A43690B9A0>)], [20, datetime.datetime(2025, 1, 6, 19, 49, 5, tzinfo=<git.objects.util.tzoffset object at 0x000001A4368E60E0>)], [21, datetime.datetime(2025, 1, 6, 18, 49, 48, tzinfo=<git.objects.util.tzoffset object at 0x000001A4368D9E40>)], [18, datetime.datetime(2025, 1, 6, 17, 49, 18, tzinfo=<git.objects.util.tzoffset object at 0x000001A4367379A0>)], [21, datetime.datetime(2025, 1, 6, 16, 50, 6, tzinfo=<git.objects.util.tzoffset object at 0x000001A4368F4C70>)], [22, datetime.datetime(2025, 1, 6, 15, 49, 8, tzinfo=<git.objects.util.tzoffset object at 0x000001A436902230>)]], 'ECCLES STREET EAST': [[3, datetime.datetime(2025, 1, 6, 23, 49, 2, tzinfo=<git.objects.util.tzoffset object at 0x000001A43608D9F0>)], [3, datetime.datetime(2025, 1, 6, 22, 49, 2, tzinfo=<git.objects.util.tzoffset object at 0x000001A436731990>)], [4, datetime.datetime(2025, 1, 6, 21, 49, 9, tzinfo=<git.objects.util.tzoffset object at 0x000001A4368F9F60>)], [4, datetime.datetime(2025, 1, 6, 20, 49, 3, tzinfo=<git.objects.util.tzoffset object at 0x000001A43690B8E0>)], [5, datetime.datetime(2025, 1, 6, 19, 49, 5, tzinfo=<git.objects.util.tzoffset object at 0x000001A4368E6020>)], [6, datetime.datetime(2025, 1, 6, 18, 49, 48, tzinfo=<git.objects.util.tzoffset object at 0x000001A4368D9D80>)], [5, datetime.datetime(2025, 1, 6, 17, 49, 18, tzinfo=<git.objects.util.tzoffset object at 0x000001A436735FC0>)], [6, datetime.datetime(2025, 1, 6, 16, 50, 6, tzinfo=<git.objects.util.tzoffset object at 0x000001A4368F4D30>)], [10, datetime.datetime(2025, 1, 6, 15, 49, 8, tzinfo=<git.objects.util.tzoffset object at 0x000001A4369022F0>)]], 'ST JAMES HOSPITAL (LUAS)': [[14, datetime.datetime(2025, 1, 6, 23, 49, 2, tzinfo=<git.objects.util.tzoffset object at 0x000001A43608D750>)], [14, datetime.datetime(2025, 1, 6, 22, 49, 2, tzinfo=<git.objects.util.tzoffset object at 0x000001A4367335B0>)], [13, datetime.datetime(2025, 1, 6, 21, 49, 9, tzinfo=<git.objects.util.tzoffset object at 0x000001A4368F9EA0>)], [13, datetime.datetime(2025, 1, 6, 20, 49, 3, tzinfo=<git.objects.util.tzoffset object at 0x000001A43690B820>)], [14, datetime.datetime(2025, 1, 6, 19, 49, 5, tzinfo=<git.objects.util.tzoffset object at 0x000001A4368E5F60>)], [17, datetime.datetime(2025, 1, 6, 18, 49, 48, tzinfo=<git.objects.util.tzoffset object at 0x000001A4368D9CC0>)], [19, datetime.datetime(2025, 1, 6, 17, 49, 18, tzinfo=<git.objects.util.tzoffset object at 0x000001A436736080>)], [20, datetime.datetime(2025, 1, 6, 16, 50, 6, tzinfo=<git.objects.util.tzoffset object at 0x000001A4368F4DF0>)], [23, datetime.datetime(2025, 1, 6, 15, 49, 8, tzinfo=<git.objects.util.tzoffset object at 0x000001A4369023B0>)]], 'MOUNT BROWN': [[12, datetime.datetime(2025, 1, 6, 23, 49, 2, tzinfo=<git.objects.util.tzoffset object at 0x000001A43608C040>)], [11, datetime.datetime(2025, 1, 6, 22, 49, 2, tzinfo=<git.objects.util.tzoffset object at 0x000001A436733670>)], [11, datetime.datetime(2025, 1, 6, 21, 49, 9, tzinfo=<git.objects.util.tzoffset object at 0x000001A4368F9DE0>)], [9, datetime.datetime(2025, 1, 6, 20, 49, 3, tzinfo=<git.objects.util.tzoffset object at 0x000001A43690B760>)], [9, datetime.datetime(2025, 1, 6, 19, 49, 5, tzinfo=<git.objects.util.tzoffset object at 0x000001A4368E5EA0>)], [8, datetime.datetime(2025, 1, 6, 18, 49, 48, tzinfo=<git.objects.util.tzoffset object at 0x000001A4368D9C00>)], [7, datetime.datetime(2025, 1, 6, 17, 49, 18, tzinfo=<git.objects.util.tzoffset object at 0x000001A4367341F0>)], [8, datetime.datetime(2025, 1, 6, 16, 50, 6, tzinfo=<git.objects.util.tzoffset object at 0x000001A4368F4EB0>)], [9, datetime.datetime(2025, 1, 6, 15, 49, 8, tzinfo=<git.objects.util.tzoffset object at 0x000001A436902470>)]], 'EMMET ROAD': [[33, datetime.datetime(2025, 1, 6, 23, 49, 2, tzinfo=<git.objects.util.tzoffset object at 0x000001A43608D6F0>)], [33, datetime.datetime(2025, 1, 6, 22, 49, 2, tzinfo=<git.objects.util.tzoffset object at 0x000001A436733730>)], [33, datetime.datetime(2025, 1, 6, 21, 49, 9, tzinfo=<git.objects.util.tzoffset object at 0x000001A4368F9D20>)], [33, datetime.datetime(2025, 1, 6, 20, 49, 3, tzinfo=<git.objects.util.tzoffset object at 0x000001A43690B6A0>)], [29, datetime.datetime(2025, 1, 6, 19, 49, 5, tzinfo=<git.objects.util.tzoffset object at 0x000001A4368E5DE0>)], [27, datetime.datetime(2025, 1, 6, 18, 49, 48, tzinfo=<git.objects.util.tzoffset object at 0x000001A4368D9B40>)], [23, datetime.datetime(2025, 1, 6, 17, 49, 18, tzinfo=<git.objects.util.tzoffset object at 0x000001A4367345E0>)], [24, datetime.datetime(2025, 1, 6, 16, 50, 6, tzinfo=<git.objects.util.tzoffset object at 0x000001A4368F4F70>)], [24, datetime.datetime(2025, 1, 6, 15, 49, 8, tzinfo=<git.objects.util.tzoffset object at 0x000001A436902530>)]], 'BROOKFIELD ROAD': [[23, datetime.datetime(2025, 1, 6, 23, 49, 2, tzinfo=<git.objects.util.tzoffset object at 0x000001A43608D4E0>)], [23, datetime.datetime(2025, 1, 6, 22, 49, 2, tzinfo=<git.objects.util.tzoffset object at 0x000001A4367337F0>)], [23, datetime.datetime(2025, 1, 6, 21, 49, 9, tzinfo=<git.objects.util.tzoffset object at 0x000001A4368F9C60>)], [22, datetime.datetime(2025, 1, 6, 20, 49, 3, tzinfo=<git.objects.util.tzoffset object at 0x000001A43690B5E0>)], [21, datetime.datetime(2025, 1, 6, 19, 49, 5, tzinfo=<git.objects.util.tzoffset object at 0x000001A4368E5D20>)], [21, datetime.datetime(2025, 1, 6, 18, 49, 48, tzinfo=<git.objects.util.tzoffset object at 0x000001A4368D9A80>)], [21, datetime.datetime(2025, 1, 6, 17, 49, 18, tzinfo=<git.objects.util.tzoffset object at 0x000001A4367370A0>)], [19, datetime.datetime(2025, 1, 6, 16, 50, 6, tzinfo=<git.objects.util.tzoffset object at 0x000001A4368F5030>)], [21, datetime.datetime(2025, 1, 6, 15, 49, 8, tzinfo=<git.objects.util.tzoffset object at 0x000001A4369025F0>)]], 'ROTHE ABBEY': [[27, datetime.datetime(2025, 1, 6, 23, 49, 2, tzinfo=<git.objects.util.tzoffset object at 0x000001A43608D570>)], [27, datetime.datetime(2025, 1, 6, 22, 49, 2, tzinfo=<git.objects.util.tzoffset object at 0x000001A4367338B0>)], [26, datetime.datetime(2025, 1, 6, 21, 49, 9, tzinfo=<git.objects.util.tzoffset object at 0x000001A4368F9BA0>)], [26, datetime.datetime(2025, 1, 6, 20, 49, 3, tzinfo=<git.objects.util.tzoffset object at 0x000001A43690B520>)], [26, datetime.datetime(2025, 1, 6, 19, 49, 5, tzinfo=<git.objects.util.tzoffset object at 0x000001A4368E5C60>)], [26, datetime.datetime(2025, 1, 6, 18, 49, 48, tzinfo=<git.objects.util.tzoffset object at 0x000001A4368D99C0>)], [25, datetime.datetime(2025, 1, 6, 17, 49, 18, tzinfo=<git.objects.util.tzoffset object at 0x000001A436734AC0>)], [23, datetime.datetime(2025, 1, 6, 16, 50, 6, tzinfo=<git.objects.util.tzoffset object at 0x000001A4368F50F0>)], [23, datetime.datetime(2025, 1, 6, 15, 49, 8, tzinfo=<git.objects.util.tzoffset object at 0x000001A4369026B0>)]], 'PARKGATE STREET': [[15, datetime.datetime(2025, 1, 6, 23, 49, 2, tzinfo=<git.objects.util.tzoffset object at 0x000001A43608CFD0>)], [15, datetime.datetime(2025, 1, 6, 22, 49, 2, tzinfo=<git.objects.util.tzoffset object at 0x000001A436733A30>)], [16, datetime.datetime(2025, 1, 6, 21, 49, 9, tzinfo=<git.objects.util.tzoffset object at 0x000001A4368F9AE0>)], [16, datetime.datetime(2025, 1, 6, 20, 49, 3, tzinfo=<git.objects.util.tzoffset object at 0x000001A43690B460>)], [16, datetime.datetime(2025, 1, 6, 19, 49, 5, tzinfo=<git.objects.util.tzoffset object at 0x000001A4368E5BA0>)], [18, datetime.datetime(2025, 1, 6, 18, 49, 48, tzinfo=<git.objects.util.tzoffset object at 0x000001A4368D9900>)], [15, datetime.datetime(2025, 1, 6, 17, 49, 18, tzinfo=<git.objects.util.tzoffset object at 0x000001A4367378B0>)], [10, datetime.datetime(2025, 1, 6, 16, 50, 6, tzinfo=<git.objects.util.tzoffset object at 0x000001A4368F51B0>)], [7, datetime.datetime(2025, 1, 6, 15, 49, 8, tzinfo=<git.objects.util.tzoffset object at 0x000001A436902770>)]], 'COLLINS BARRACKS MUSEUM': [[30, datetime.datetime(2025, 1, 6, 23, 49, 2, tzinfo=<git.objects.util.tzoffset object at 0x000001A43608C0D0>)], [29, datetime.datetime(2025, 1, 6, 22, 49, 2, tzinfo=<git.objects.util.tzoffset object at 0x000001A436733A60>)], [28, datetime.datetime(2025, 1, 6, 21, 49, 9, tzinfo=<git.objects.util.tzoffset object at 0x000001A4368F9A20>)], [25, datetime.datetime(2025, 1, 6, 20, 49, 3, tzinfo=<git.objects.util.tzoffset object at 0x000001A43690B3A0>)], [24, datetime.datetime(2025, 1, 6, 19, 49, 5, tzinfo=<git.objects.util.tzoffset object at 0x000001A4368E5AE0>)], [22, datetime.datetime(2025, 1, 6, 18, 49, 48, tzinfo=<git.objects.util.tzoffset object at 0x000001A4368D9840>)], [21, datetime.datetime(2025, 1, 6, 17, 49, 18, tzinfo=<git.objects.util.tzoffset object at 0x000001A4367370D0>)], [20, datetime.datetime(2025, 1, 6, 16, 50, 6, tzinfo=<git.objects.util.tzoffset object at 0x000001A4368F5270>)], [19, datetime.datetime(2025, 1, 6, 15, 49, 8, tzinfo=<git.objects.util.tzoffset object at 0x000001A436902830>)]], 'BLACKHALL PLACE': [[8, datetime.datetime(2025, 1, 6, 23, 49, 2, tzinfo=<git.objects.util.tzoffset object at 0x000001A43608D3F0>)], [9, datetime.datetime(2025, 1, 6, 22, 49, 2, tzinfo=<git.objects.util.tzoffset object at 0x000001A4367334F0>)], [7, datetime.datetime(2025, 1, 6, 21, 49, 9, tzinfo=<git.objects.util.tzoffset object at 0x000001A4368F9960>)], [9, datetime.datetime(2025, 1, 6, 20, 49, 3, tzinfo=<git.objects.util.tzoffset object at 0x000001A43690B2E0>)], [10, datetime.datetime(2025, 1, 6, 19, 49, 5, tzinfo=<git.objects.util.tzoffset object at 0x000001A4368E5A20>)], [10, datetime.datetime(2025, 1, 6, 18, 49, 48, tzinfo=<git.objects.util.tzoffset object at 0x000001A4368D9780>)], [6, datetime.datetime(2025, 1, 6, 17, 49, 18, tzinfo=<git.objects.util.tzoffset object at 0x000001A436734C70>)], [8, datetime.datetime(2025, 1, 6, 16, 50, 6, tzinfo=<git.objects.util.tzoffset object at 0x000001A4368F5330>)], [9, datetime.datetime(2025, 1, 6, 15, 49, 8, tzinfo=<git.objects.util.tzoffset object at 0x000001A4369028F0>)]], 'FITZWILLIAM SQUARE EAST': [[2, datetime.datetime(2025, 1, 6, 23, 49, 2, tzinfo=<git.objects.util.tzoffset object at 0x000001A43608D1E0>)], [2, datetime.datetime(2025, 1, 6, 22, 49, 2, tzinfo=<git.objects.util.tzoffset object at 0x000001A436733BB0>)], [2, datetime.datetime(2025, 1, 6, 21, 49, 9, tzinfo=<git.objects.util.tzoffset object at 0x000001A4368F98A0>)], [2, datetime.datetime(2025, 1, 6, 20, 49, 3, tzinfo=<git.objects.util.tzoffset object at 0x000001A43690B220>)], [3, datetime.datetime(2025, 1, 6, 19, 49, 5, tzinfo=<git.objects.util.tzoffset object at 0x000001A4368E5960>)], [3, datetime.datetime(2025, 1, 6, 18, 49, 48, tzinfo=<git.objects.util.tzoffset object at 0x000001A4368D96C0>)], [8, datetime.datetime(2025, 1, 6, 17, 49, 18, tzinfo=<git.objects.util.tzoffset object at 0x000001A436734D30>)], [14, datetime.datetime(2025, 1, 6, 16, 50, 6, tzinfo=<git.objects.util.tzoffset object at 0x000001A4368F53F0>)], [16, datetime.datetime(2025, 1, 6, 15, 49, 8, tzinfo=<git.objects.util.tzoffset object at 0x000001A4369029B0>)]], 'BENSON STREET': [[1, datetime.datetime(2025, 1, 6, 23, 49, 2, tzinfo=<git.objects.util.tzoffset object at 0x000001A43608DB40>)], [0, datetime.datetime(2025, 1, 6, 22, 49, 2, tzinfo=<git.objects.util.tzoffset object at 0x000001A436733AC0>)], [2, datetime.datetime(2025, 1, 6, 21, 49, 9, tzinfo=<git.objects.util.tzoffset object at 0x000001A4368F97E0>)], [5, datetime.datetime(2025, 1, 6, 20, 49, 3, tzinfo=<git.objects.util.tzoffset object at 0x000001A43690B160>)], [4, datetime.datetime(2025, 1, 6, 19, 49, 5, tzinfo=<git.objects.util.tzoffset object at 0x000001A4368E58A0>)], [5, datetime.datetime(2025, 1, 6, 18, 49, 48, tzinfo=<git.objects.util.tzoffset object at 0x000001A4368D9600>)], [2, datetime.datetime(2025, 1, 6, 17, 49, 18, tzinfo=<git.objects.util.tzoffset object at 0x000001A436735540>)], [4, datetime.datetime(2025, 1, 6, 16, 50, 6, tzinfo=<git.objects.util.tzoffset object at 0x000001A4368F54B0>)], [17, datetime.datetime(2025, 1, 6, 15, 49, 8, tzinfo=<git.objects.util.tzoffset object at 0x000001A436902A70>)]], 'SOUTH DOCK ROAD': [[20, datetime.datetime(2025, 1, 6, 23, 49, 2, tzinfo=<git.objects.util.tzoffset object at 0x000001A43608DAB0>)], [20, datetime.datetime(2025, 1, 6, 22, 49, 2, tzinfo=<git.objects.util.tzoffset object at 0x000001A4367EFC40>)], [23, datetime.datetime(2025, 1, 6, 21, 49, 9, tzinfo=<git.objects.util.tzoffset object at 0x000001A4368F9720>)], [21, datetime.datetime(2025, 1, 6, 20, 49, 3, tzinfo=<git.objects.util.tzoffset object at 0x000001A43690B0A0>)], [17, datetime.datetime(2025, 1, 6, 19, 49, 5, tzinfo=<git.objects.util.tzoffset object at 0x000001A4368E57E0>)], [15, datetime.datetime(2025, 1, 6, 18, 49, 48, tzinfo=<git.objects.util.tzoffset object at 0x000001A4368D9540>)], [15, datetime.datetime(2025, 1, 6, 17, 49, 18, tzinfo=<git.objects.util.tzoffset object at 0x000001A436737490>)], [12, datetime.datetime(2025, 1, 6, 16, 50, 6, tzinfo=<git.objects.util.tzoffset object at 0x000001A4368F5570>)], [7, datetime.datetime(2025, 1, 6, 15, 49, 8, tzinfo=<git.objects.util.tzoffset object at 0x000001A436902B30>)]], 'HEUSTON BRIDGE (NORTH)': [[37, datetime.datetime(2025, 1, 6, 23, 49, 2, tzinfo=<git.objects.util.tzoffset object at 0x000001A43608C970>)], [37, datetime.datetime(2025, 1, 6, 22, 49, 2, tzinfo=<git.objects.util.tzoffset object at 0x000001A435F767D0>)], [36, datetime.datetime(2025, 1, 6, 21, 49, 9, tzinfo=<git.objects.util.tzoffset object at 0x000001A4368F9660>)], [35, datetime.datetime(2025, 1, 6, 20, 49, 3, tzinfo=<git.objects.util.tzoffset object at 0x000001A43690AFE0>)], [35, datetime.datetime(2025, 1, 6, 19, 49, 5, tzinfo=<git.objects.util.tzoffset object at 0x000001A4368E5720>)], [37, datetime.datetime(2025, 1, 6, 18, 49, 48, tzinfo=<git.objects.util.tzoffset object at 0x000001A4368D9480>)], [32, datetime.datetime(2025, 1, 6, 17, 49, 18, tzinfo=<git.objects.util.tzoffset object at 0x000001A436735510>)], [28, datetime.datetime(2025, 1, 6, 16, 50, 6, tzinfo=<git.objects.util.tzoffset object at 0x000001A4368F5630>)], [27, datetime.datetime(2025, 1, 6, 15, 49, 8, tzinfo=<git.objects.util.tzoffset object at 0x000001A436902BF0>)]], 'HEUSTON STATION (CENTRAL)': [[24, datetime.datetime(2025, 1, 6, 23, 49, 2, tzinfo=<git.objects.util.tzoffset object at 0x000001A43608C8B0>)], [24, datetime.datetime(2025, 1, 6, 22, 49, 2, tzinfo=<git.objects.util.tzoffset object at 0x000001A435F74EB0>)], [24, datetime.datetime(2025, 1, 6, 21, 49, 9, tzinfo=<git.objects.util.tzoffset object at 0x000001A4368F95A0>)], [24, datetime.datetime(2025, 1, 6, 20, 49, 3, tzinfo=<git.objects.util.tzoffset object at 0x000001A43690AF20>)], [24, datetime.datetime(2025, 1, 6, 19, 49, 5, tzinfo=<git.objects.util.tzoffset object at 0x000001A4368E5660>)], [24, datetime.datetime(2025, 1, 6, 18, 49, 48, tzinfo=<git.objects.util.tzoffset object at 0x000001A4368D93C0>)], [19, datetime.datetime(2025, 1, 6, 17, 49, 18, tzinfo=<git.objects.util.tzoffset object at 0x000001A436734C40>)], [10, datetime.datetime(2025, 1, 6, 16, 50, 6, tzinfo=<git.objects.util.tzoffset object at 0x000001A4368F56F0>)], [10, datetime.datetime(2025, 1, 6, 15, 49, 8, tzinfo=<git.objects.util.tzoffset object at 0x000001A436902CB0>)]], 'HEUSTON STATION (CAR PARK)': [[26, datetime.datetime(2025, 1, 6, 23, 49, 2, tzinfo=<git.objects.util.tzoffset object at 0x000001A43608C6A0>)], [26, datetime.datetime(2025, 1, 6, 22, 49, 2, tzinfo=<git.objects.util.tzoffset object at 0x000001A435F74F70>)], [26, datetime.datetime(2025, 1, 6, 21, 49, 9, tzinfo=<git.objects.util.tzoffset object at 0x000001A4368F94E0>)], [26, datetime.datetime(2025, 1, 6, 20, 49, 3, tzinfo=<git.objects.util.tzoffset object at 0x000001A43690AE60>)], [26, datetime.datetime(2025, 1, 6, 19, 49, 5, tzinfo=<git.objects.util.tzoffset object at 0x000001A4368E55A0>)], [26, datetime.datetime(2025, 1, 6, 18, 49, 48, tzinfo=<git.objects.util.tzoffset object at 0x000001A4368D9300>)], [25, datetime.datetime(2025, 1, 6, 17, 49, 18, tzinfo=<git.objects.util.tzoffset object at 0x000001A436734E80>)], [23, datetime.datetime(2025, 1, 6, 16, 50, 6, tzinfo=<git.objects.util.tzoffset object at 0x000001A4368F57B0>)], [23, datetime.datetime(2025, 1, 6, 15, 49, 8, tzinfo=<git.objects.util.tzoffset object at 0x000001A436902D70>)]], 'ROYAL HOSPITAL': [[9, datetime.datetime(2025, 1, 6, 23, 49, 2, tzinfo=<git.objects.util.tzoffset object at 0x000001A43608D2A0>)], [10, datetime.datetime(2025, 1, 6, 22, 49, 2, tzinfo=<git.objects.util.tzoffset object at 0x000001A435F75060>)], [10, datetime.datetime(2025, 1, 6, 21, 49, 9, tzinfo=<git.objects.util.tzoffset object at 0x000001A4368F9420>)], [9, datetime.datetime(2025, 1, 6, 20, 49, 3, tzinfo=<git.objects.util.tzoffset object at 0x000001A43690ADA0>)], [8, datetime.datetime(2025, 1, 6, 19, 49, 5, tzinfo=<git.objects.util.tzoffset object at 0x000001A4368E54E0>)], [4, datetime.datetime(2025, 1, 6, 18, 49, 48, tzinfo=<git.objects.util.tzoffset object at 0x000001A4368D9240>)], [4, datetime.datetime(2025, 1, 6, 17, 49, 18, tzinfo=<git.objects.util.tzoffset object at 0x000001A436734A90>)], [5, datetime.datetime(2025, 1, 6, 16, 50, 6, tzinfo=<git.objects.util.tzoffset object at 0x000001A4368F5870>)], [4, datetime.datetime(2025, 1, 6, 15, 49, 8, tzinfo=<git.objects.util.tzoffset object at 0x000001A436902E30>)]], 'KILMAINHAM LANE': [[11, datetime.datetime(2025, 1, 6, 23, 49, 2, tzinfo=<git.objects.util.tzoffset object at 0x000001A43608D2D0>)], [11, datetime.datetime(2025, 1, 6, 22, 49, 2, tzinfo=<git.objects.util.tzoffset object at 0x000001A435F751B0>)], [11, datetime.datetime(2025, 1, 6, 21, 49, 9, tzinfo=<git.objects.util.tzoffset object at 0x000001A4368F9360>)], [11, datetime.datetime(2025, 1, 6, 20, 49, 3, tzinfo=<git.objects.util.tzoffset object at 0x000001A43690ACE0>)], [10, datetime.datetime(2025, 1, 6, 19, 49, 5, tzinfo=<git.objects.util.tzoffset object at 0x000001A4368E5420>)], [9, datetime.datetime(2025, 1, 6, 18, 49, 48, tzinfo=<git.objects.util.tzoffset object at 0x000001A4368D9180>)], [7, datetime.datetime(2025, 1, 6, 17, 49, 18, tzinfo=<git.objects.util.tzoffset object at 0x000001A4367348E0>)], [6, datetime.datetime(2025, 1, 6, 16, 50, 6, tzinfo=<git.objects.util.tzoffset object at 0x000001A4368F5930>)], [6, datetime.datetime(2025, 1, 6, 15, 49, 8, tzinfo=<git.objects.util.tzoffset object at 0x000001A436902EF0>)]], 'KILMAINHAM GAOL': [[29, datetime.datetime(2025, 1, 6, 23, 49, 2, tzinfo=<git.objects.util.tzoffset object at 0x000001A43608D0F0>)], [29, datetime.datetime(2025, 1, 6, 22, 49, 2, tzinfo=<git.objects.util.tzoffset object at 0x000001A435F754B0>)], [29, datetime.datetime(2025, 1, 6, 21, 49, 9, tzinfo=<git.objects.util.tzoffset object at 0x000001A4368F92A0>)], [28, datetime.datetime(2025, 1, 6, 20, 49, 3, tzinfo=<git.objects.util.tzoffset object at 0x000001A43690AC20>)], [28, datetime.datetime(2025, 1, 6, 19, 49, 5, tzinfo=<git.objects.util.tzoffset object at 0x000001A4368E5360>)], [26, datetime.datetime(2025, 1, 6, 18, 49, 48, tzinfo=<git.objects.util.tzoffset object at 0x000001A4368D90C0>)], [23, datetime.datetime(2025, 1, 6, 17, 49, 18, tzinfo=<git.objects.util.tzoffset object at 0x000001A436736680>)], [23, datetime.datetime(2025, 1, 6, 16, 50, 6, tzinfo=<git.objects.util.tzoffset object at 0x000001A4368F59F0>)], [24, datetime.datetime(2025, 1, 6, 15, 49, 8, tzinfo=<git.objects.util.tzoffset object at 0x000001A436902FB0>)]], 'FREDERICK STREET SOUTH': [[0, datetime.datetime(2025, 1, 6, 23, 49, 2, tzinfo=<git.objects.util.tzoffset object at 0x000001A43608D120>)], [1, datetime.datetime(2025, 1, 6, 22, 49, 2, tzinfo=<git.objects.util.tzoffset object at 0x000001A435F75360>)], [1, datetime.datetime(2025, 1, 6, 21, 49, 9, tzinfo=<git.objects.util.tzoffset object at 0x000001A4368F91E0>)], [1, datetime.datetime(2025, 1, 6, 20, 49, 3, tzinfo=<git.objects.util.tzoffset object at 0x000001A43690AB60>)], [2, datetime.datetime(2025, 1, 6, 19, 49, 5, tzinfo=<git.objects.util.tzoffset object at 0x000001A4368E52A0>)], [3, datetime.datetime(2025, 1, 6, 18, 49, 48, tzinfo=<git.objects.util.tzoffset object at 0x000001A4368D9000>)], [10, datetime.datetime(2025, 1, 6, 17, 49, 18, tzinfo=<git.objects.util.tzoffset object at 0x000001A4367351E0>)], [17, datetime.datetime(2025, 1, 6, 16, 50, 6, tzinfo=<git.objects.util.tzoffset object at 0x000001A4368F5AB0>)], [19, datetime.datetime(2025, 1, 6, 15, 49, 8, tzinfo=<git.objects.util.tzoffset object at 0x000001A436903070>)]], 'CITY QUAY': [[7, datetime.datetime(2025, 1, 6, 23, 49, 2, tzinfo=<git.objects.util.tzoffset object at 0x000001A43608D210>)], [8, datetime.datetime(2025, 1, 6, 22, 49, 2, tzinfo=<git.objects.util.tzoffset object at 0x000001A435F763B0>)], [9, datetime.datetime(2025, 1, 6, 21, 49, 9, tzinfo=<git.objects.util.tzoffset object at 0x000001A4368F9120>)], [9, datetime.datetime(2025, 1, 6, 20, 49, 3, tzinfo=<git.objects.util.tzoffset object at 0x000001A43690AAA0>)], [9, datetime.datetime(2025, 1, 6, 19, 49, 5, tzinfo=<git.objects.util.tzoffset object at 0x000001A4368E5210>)], [8, datetime.datetime(2025, 1, 6, 18, 49, 48, tzinfo=<git.objects.util.tzoffset object at 0x000001A4368D8F40>)], [11, datetime.datetime(2025, 1, 6, 17, 49, 18, tzinfo=<git.objects.util.tzoffset object at 0x000001A436737550>)], [15, datetime.datetime(2025, 1, 6, 16, 50, 6, tzinfo=<git.objects.util.tzoffset object at 0x000001A4368F5B70>)], [13, datetime.datetime(2025, 1, 6, 15, 49, 8, tzinfo=<git.objects.util.tzoffset object at 0x000001A436903130>)]], 'HEUSTON BRIDGE (SOUTH)': [[25, datetime.datetime(2025, 1, 6, 23, 49, 2, tzinfo=<git.objects.util.tzoffset object at 0x000001A43608CD90>)], [25, datetime.datetime(2025, 1, 6, 22, 49, 2, tzinfo=<git.objects.util.tzoffset object at 0x000001A435F763E0>)], [25, datetime.datetime(2025, 1, 6, 21, 49, 9, tzinfo=<git.objects.util.tzoffset object at 0x000001A4368F9060>)], [25, datetime.datetime(2025, 1, 6, 20, 49, 3, tzinfo=<git.objects.util.tzoffset object at 0x000001A43690A9E0>)], [24, datetime.datetime(2025, 1, 6, 19, 49, 5, tzinfo=<git.objects.util.tzoffset object at 0x000001A4368E4E80>)], [24, datetime.datetime(2025, 1, 6, 18, 49, 48, tzinfo=<git.objects.util.tzoffset object at 0x000001A4368D8E80>)], [25, datetime.datetime(2025, 1, 6, 17, 49, 18, tzinfo=<git.objects.util.tzoffset object at 0x000001A436735660>)], [18, datetime.datetime(2025, 1, 6, 16, 50, 6, tzinfo=<git.objects.util.tzoffset object at 0x000001A4368F5C30>)], [10, datetime.datetime(2025, 1, 6, 15, 49, 8, tzinfo=<git.objects.util.tzoffset object at 0x000001A4369031F0>)]], 'KING STREET NORTH': [[14, datetime.datetime(2025, 1, 6, 23, 49, 2, tzinfo=<git.objects.util.tzoffset object at 0x000001A43608C430>)], [13, datetime.datetime(2025, 1, 6, 22, 49, 2, tzinfo=<git.objects.util.tzoffset object at 0x000001A435F76050>)], [12, datetime.datetime(2025, 1, 6, 21, 49, 9, tzinfo=<git.objects.util.tzoffset object at 0x000001A4368F8FA0>)], [12, datetime.datetime(2025, 1, 6, 20, 49, 3, tzinfo=<git.objects.util.tzoffset object at 0x000001A43690A920>)], [12, datetime.datetime(2025, 1, 6, 19, 49, 5, tzinfo=<git.objects.util.tzoffset object at 0x000001A4368E5000>)], [10, datetime.datetime(2025, 1, 6, 18, 49, 48, tzinfo=<git.objects.util.tzoffset object at 0x000001A4368D8DC0>)], [9, datetime.datetime(2025, 1, 6, 17, 49, 18, tzinfo=<git.objects.util.tzoffset object at 0x000001A4367375B0>)], [7, datetime.datetime(2025, 1, 6, 16, 50, 6, tzinfo=<git.objects.util.tzoffset object at 0x000001A4368F5CF0>)], [7, datetime.datetime(2025, 1, 6, 15, 49, 8, tzinfo=<git.objects.util.tzoffset object at 0x000001A4369032B0>)]], 'WESTERN WAY': [[13, datetime.datetime(2025, 1, 6, 23, 49, 2, tzinfo=<git.objects.util.tzoffset object at 0x000001A43608D5A0>)], [13, datetime.datetime(2025, 1, 6, 22, 49, 2, tzinfo=<git.objects.util.tzoffset object at 0x000001A435F75C90>)], [12, datetime.datetime(2025, 1, 6, 21, 49, 9, tzinfo=<git.objects.util.tzoffset object at 0x000001A4368F8EE0>)], [13, datetime.datetime(2025, 1, 6, 20, 49, 3, tzinfo=<git.objects.util.tzoffset object at 0x000001A43690A860>)], [13, datetime.datetime(2025, 1, 6, 19, 49, 5, tzinfo=<git.objects.util.tzoffset object at 0x000001A4368E4DC0>)], [13, datetime.datetime(2025, 1, 6, 18, 49, 48, tzinfo=<git.objects.util.tzoffset object at 0x000001A4368D8D00>)], [13, datetime.datetime(2025, 1, 6, 17, 49, 18, tzinfo=<git.objects.util.tzoffset object at 0x000001A436736530>)], [14, datetime.datetime(2025, 1, 6, 16, 50, 6, tzinfo=<git.objects.util.tzoffset object at 0x000001A4368F5DB0>)], [16, datetime.datetime(2025, 1, 6, 15, 49, 8, tzinfo=<git.objects.util.tzoffset object at 0x000001A436903370>)]], 'GRANGEGORMAN LOWER (SOUTH)': [[3, datetime.datetime(2025, 1, 6, 23, 49, 2, tzinfo=<git.objects.util.tzoffset object at 0x000001A43608E170>)], [3, datetime.datetime(2025, 1, 6, 22, 49, 2, tzinfo=<git.objects.util.tzoffset object at 0x000001A435F75180>)], [2, datetime.datetime(2025, 1, 6, 21, 49, 9, tzinfo=<git.objects.util.tzoffset object at 0x000001A4368F8E20>)], [2, datetime.datetime(2025, 1, 6, 20, 49, 3, tzinfo=<git.objects.util.tzoffset object at 0x000001A43690A7A0>)], [2, datetime.datetime(2025, 1, 6, 19, 49, 5, tzinfo=<git.objects.util.tzoffset object at 0x000001A4368E4FA0>)], [1, datetime.datetime(2025, 1, 6, 18, 49, 48, tzinfo=<git.objects.util.tzoffset object at 0x000001A4368D8C40>)], [1, datetime.datetime(2025, 1, 6, 17, 49, 18, tzinfo=<git.objects.util.tzoffset object at 0x000001A4367364D0>)], [1, datetime.datetime(2025, 1, 6, 16, 50, 6, tzinfo=<git.objects.util.tzoffset object at 0x000001A4368F5E70>)], [0, datetime.datetime(2025, 1, 6, 15, 49, 8, tzinfo=<git.objects.util.tzoffset object at 0x000001A436903430>)]], 'GRANGEGORMAN LOWER (CENTRAL)': [[7, datetime.datetime(2025, 1, 6, 23, 49, 2, tzinfo=<git.objects.util.tzoffset object at 0x000001A43608E5F0>)], [7, datetime.datetime(2025, 1, 6, 22, 49, 2, tzinfo=<git.objects.util.tzoffset object at 0x000001A435F76080>)], [7, datetime.datetime(2025, 1, 6, 21, 49, 9, tzinfo=<git.objects.util.tzoffset object at 0x000001A4368F8D60>)], [7, datetime.datetime(2025, 1, 6, 20, 49, 3, tzinfo=<git.objects.util.tzoffset object at 0x000001A43690A6E0>)], [7, datetime.datetime(2025, 1, 6, 19, 49, 5, tzinfo=<git.objects.util.tzoffset object at 0x000001A4368E5060>)], [8, datetime.datetime(2025, 1, 6, 18, 49, 48, tzinfo=<git.objects.util.tzoffset object at 0x000001A4368D8B80>)], [9, datetime.datetime(2025, 1, 6, 17, 49, 18, tzinfo=<git.objects.util.tzoffset object at 0x000001A436737370>)], [10, datetime.datetime(2025, 1, 6, 16, 50, 6, tzinfo=<git.objects.util.tzoffset object at 0x000001A4368F5F30>)], [14, datetime.datetime(2025, 1, 6, 15, 49, 8, tzinfo=<git.objects.util.tzoffset object at 0x000001A4369034F0>)]], 'GRANGEGORMAN LOWER (NORTH)': [[9, datetime.datetime(2025, 1, 6, 23, 49, 2, tzinfo=<git.objects.util.tzoffset object at 0x000001A43608E1D0>)], [9, datetime.datetime(2025, 1, 6, 22, 49, 2, tzinfo=<git.objects.util.tzoffset object at 0x000001A436380400>)], [9, datetime.datetime(2025, 1, 6, 21, 49, 9, tzinfo=<git.objects.util.tzoffset object at 0x000001A4368F8CA0>)], [9, datetime.datetime(2025, 1, 6, 20, 49, 3, tzinfo=<git.objects.util.tzoffset object at 0x000001A43690A620>)], [9, datetime.datetime(2025, 1, 6, 19, 49, 5, tzinfo=<git.objects.util.tzoffset object at 0x000001A4368E4D90>)], [9, datetime.datetime(2025, 1, 6, 18, 49, 48, tzinfo=<git.objects.util.tzoffset object at 0x000001A4368D8AC0>)], [10, datetime.datetime(2025, 1, 6, 17, 49, 18, tzinfo=<git.objects.util.tzoffset object at 0x000001A4367366B0>)], [9, datetime.datetime(2025, 1, 6, 16, 50, 6, tzinfo=<git.objects.util.tzoffset object at 0x000001A4368F5FF0>)], [9, datetime.datetime(2025, 1, 6, 15, 49, 8, tzinfo=<git.objects.util.tzoffset object at 0x000001A4369035B0>)]], 'RATHDOWN ROAD': [[25, datetime.datetime(2025, 1, 6, 23, 49, 2, tzinfo=<git.objects.util.tzoffset object at 0x000001A43608E440>)], [25, datetime.datetime(2025, 1, 6, 22, 49, 2, tzinfo=<git.objects.util.tzoffset object at 0x000001A434D6F220>)], [25, datetime.datetime(2025, 1, 6, 21, 49, 9, tzinfo=<git.objects.util.tzoffset object at 0x000001A4368F8BE0>)], [26, datetime.datetime(2025, 1, 6, 20, 49, 3, tzinfo=<git.objects.util.tzoffset object at 0x000001A43690A560>)], [26, datetime.datetime(2025, 1, 6, 19, 49, 5, tzinfo=<git.objects.util.tzoffset object at 0x000001A4368E4D60>)], [25, datetime.datetime(2025, 1, 6, 18, 49, 48, tzinfo=<git.objects.util.tzoffset object at 0x000001A4368D8A00>)], [25, datetime.datetime(2025, 1, 6, 17, 49, 18, tzinfo=<git.objects.util.tzoffset object at 0x000001A436737190>)], [23, datetime.datetime(2025, 1, 6, 16, 50, 6, tzinfo=<git.objects.util.tzoffset object at 0x000001A4368F60B0>)], [23, datetime.datetime(2025, 1, 6, 15, 49, 8, tzinfo=<git.objects.util.tzoffset object at 0x000001A436903670>)]], 'CHARLEVILLE ROAD': [[9, datetime.datetime(2025, 1, 6, 23, 49, 2, tzinfo=<git.objects.util.tzoffset object at 0x000001A43608CD60>)], [9, datetime.datetime(2025, 1, 6, 22, 49, 2, tzinfo=<git.objects.util.tzoffset object at 0x000001A434DA5780>)], [10, datetime.datetime(2025, 1, 6, 21, 49, 9, tzinfo=<git.objects.util.tzoffset object at 0x000001A4368F8B20>)], [10, datetime.datetime(2025, 1, 6, 20, 49, 3, tzinfo=<git.objects.util.tzoffset object at 0x000001A43690A4A0>)], [11, datetime.datetime(2025, 1, 6, 19, 49, 5, tzinfo=<git.objects.util.tzoffset object at 0x000001A4368FF760>)], [14, datetime.datetime(2025, 1, 6, 18, 49, 48, tzinfo=<git.objects.util.tzoffset object at 0x000001A4368D8940>)], [17, datetime.datetime(2025, 1, 6, 17, 49, 18, tzinfo=<git.objects.util.tzoffset object at 0x000001A436736710>)], [19, datetime.datetime(2025, 1, 6, 16, 50, 6, tzinfo=<git.objects.util.tzoffset object at 0x000001A4368F6170>)], [18, datetime.datetime(2025, 1, 6, 15, 49, 8, tzinfo=<git.objects.util.tzoffset object at 0x000001A436903730>)]], 'AVONDALE ROAD': [[23, datetime.datetime(2025, 1, 6, 23, 49, 2, tzinfo=<git.objects.util.tzoffset object at 0x000001A43608E320>)], [23, datetime.datetime(2025, 1, 6, 22, 49, 2, tzinfo=<git.objects.util.tzoffset object at 0x000001A4368EF580>)], [23, datetime.datetime(2025, 1, 6, 21, 49, 9, tzinfo=<git.objects.util.tzoffset object at 0x000001A4368F8A60>)], [23, datetime.datetime(2025, 1, 6, 20, 49, 3, tzinfo=<git.objects.util.tzoffset object at 0x000001A43690A3E0>)], [22, datetime.datetime(2025, 1, 6, 19, 49, 5, tzinfo=<git.objects.util.tzoffset object at 0x000001A4368FF670>)], [20, datetime.datetime(2025, 1, 6, 18, 49, 48, tzinfo=<git.objects.util.tzoffset object at 0x000001A4368D8880>)], [21, datetime.datetime(2025, 1, 6, 17, 49, 18, tzinfo=<git.objects.util.tzoffset object at 0x000001A436736350>)], [21, datetime.datetime(2025, 1, 6, 16, 50, 6, tzinfo=<git.objects.util.tzoffset object at 0x000001A4368F6230>)], [20, datetime.datetime(2025, 1, 6, 15, 49, 8, tzinfo=<git.objects.util.tzoffset object at 0x000001A4369037F0>)]], 'BUCKINGHAM STREET LOWER': [[11, datetime.datetime(2025, 1, 6, 23, 49, 2, tzinfo=<git.objects.util.tzoffset object at 0x000001A43608E860>)], [10, datetime.datetime(2025, 1, 6, 22, 49, 2, tzinfo=<git.objects.util.tzoffset object at 0x000001A4368EF4C0>)], [5, datetime.datetime(2025, 1, 6, 21, 49, 9, tzinfo=<git.objects.util.tzoffset object at 0x000001A4368F89A0>)], [5, datetime.datetime(2025, 1, 6, 20, 49, 3, tzinfo=<git.objects.util.tzoffset object at 0x000001A43690A320>)], [4, datetime.datetime(2025, 1, 6, 19, 49, 5, tzinfo=<git.objects.util.tzoffset object at 0x000001A4368FF5B0>)], [5, datetime.datetime(2025, 1, 6, 18, 49, 48, tzinfo=<git.objects.util.tzoffset object at 0x000001A4368D87C0>)], [4, datetime.datetime(2025, 1, 6, 17, 49, 18, tzinfo=<git.objects.util.tzoffset object at 0x000001A436736260>)], [4, datetime.datetime(2025, 1, 6, 16, 50, 6, tzinfo=<git.objects.util.tzoffset object at 0x000001A4368F62F0>)], [4, datetime.datetime(2025, 1, 6, 15, 49, 8, tzinfo=<git.objects.util.tzoffset object at 0x000001A4369038B0>)]], 'PHIBSBOROUGH ROAD': [[20, datetime.datetime(2025, 1, 6, 23, 49, 2, tzinfo=<git.objects.util.tzoffset object at 0x000001A43608E140>)], [20, datetime.datetime(2025, 1, 6, 22, 49, 2, tzinfo=<git.objects.util.tzoffset object at 0x000001A4368EF400>)], [20, datetime.datetime(2025, 1, 6, 21, 49, 9, tzinfo=<git.objects.util.tzoffset object at 0x000001A4368F88E0>)], [21, datetime.datetime(2025, 1, 6, 20, 49, 3, tzinfo=<git.objects.util.tzoffset object at 0x000001A43690A260>)], [21, datetime.datetime(2025, 1, 6, 19, 49, 5, tzinfo=<git.objects.util.tzoffset object at 0x000001A4368FF4F0>)], [20, datetime.datetime(2025, 1, 6, 18, 49, 48, tzinfo=<git.objects.util.tzoffset object at 0x000001A4368D8700>)], [21, datetime.datetime(2025, 1, 6, 17, 49, 18, tzinfo=<git.objects.util.tzoffset object at 0x000001A436736500>)], [21, datetime.datetime(2025, 1, 6, 16, 50, 6, tzinfo=<git.objects.util.tzoffset object at 0x000001A4368F63B0>)], [19, datetime.datetime(2025, 1, 6, 15, 49, 8, tzinfo=<git.objects.util.tzoffset object at 0x000001A436903970>)]], 'MOUNTJOY SQUARE EAST': [[6, datetime.datetime(2025, 1, 6, 23, 49, 2, tzinfo=<git.objects.util.tzoffset object at 0x000001A43608E080>)], [6, datetime.datetime(2025, 1, 6, 22, 49, 2, tzinfo=<git.objects.util.tzoffset object at 0x000001A4368EF340>)], [7, datetime.datetime(2025, 1, 6, 21, 49, 9, tzinfo=<git.objects.util.tzoffset object at 0x000001A4368F8820>)], [6, datetime.datetime(2025, 1, 6, 20, 49, 3, tzinfo=<git.objects.util.tzoffset object at 0x000001A43690A1A0>)], [5, datetime.datetime(2025, 1, 6, 19, 49, 5, tzinfo=<git.objects.util.tzoffset object at 0x000001A4368FF430>)], [4, datetime.datetime(2025, 1, 6, 18, 49, 48, tzinfo=<git.objects.util.tzoffset object at 0x000001A4368D8640>)], [6, datetime.datetime(2025, 1, 6, 17, 49, 18, tzinfo=<git.objects.util.tzoffset object at 0x000001A436736BF0>)], [2, datetime.datetime(2025, 1, 6, 16, 50, 6, tzinfo=<git.objects.util.tzoffset object at 0x000001A4368F6470>)], [0, datetime.datetime(2025, 1, 6, 15, 49, 8, tzinfo=<git.objects.util.tzoffset object at 0x000001A436903A30>)]], \"NORTH CIRCULAR ROAD (O'CONNELL'S)\": [[30, datetime.datetime(2025, 1, 6, 23, 49, 2, tzinfo=<git.objects.util.tzoffset object at 0x000001A43608CDC0>)], [30, datetime.datetime(2025, 1, 6, 22, 49, 2, tzinfo=<git.objects.util.tzoffset object at 0x000001A4368EF280>)], [23, datetime.datetime(2025, 1, 6, 21, 49, 9, tzinfo=<git.objects.util.tzoffset object at 0x000001A4368F8760>)], [23, datetime.datetime(2025, 1, 6, 20, 49, 3, tzinfo=<git.objects.util.tzoffset object at 0x000001A43690A0E0>)], [19, datetime.datetime(2025, 1, 6, 19, 49, 5, tzinfo=<git.objects.util.tzoffset object at 0x000001A4368FF370>)], [17, datetime.datetime(2025, 1, 6, 18, 49, 48, tzinfo=<git.objects.util.tzoffset object at 0x000001A4368D8580>)], [4, datetime.datetime(2025, 1, 6, 17, 49, 18, tzinfo=<git.objects.util.tzoffset object at 0x000001A436736B60>)], [3, datetime.datetime(2025, 1, 6, 16, 50, 6, tzinfo=<git.objects.util.tzoffset object at 0x000001A4368F6530>)], [2, datetime.datetime(2025, 1, 6, 15, 49, 8, tzinfo=<git.objects.util.tzoffset object at 0x000001A436903AF0>)]], 'MERRION SQUARE SOUTH': [[0, datetime.datetime(2025, 1, 6, 23, 49, 2, tzinfo=<git.objects.util.tzoffset object at 0x000001A43608CE80>)], [0, datetime.datetime(2025, 1, 6, 22, 49, 2, tzinfo=<git.objects.util.tzoffset object at 0x000001A4368EF1C0>)], [0, datetime.datetime(2025, 1, 6, 21, 49, 9, tzinfo=<git.objects.util.tzoffset object at 0x000001A4368F86A0>)], [0, datetime.datetime(2025, 1, 6, 20, 49, 3, tzinfo=<git.objects.util.tzoffset object at 0x000001A43690A020>)], [0, datetime.datetime(2025, 1, 6, 19, 49, 5, tzinfo=<git.objects.util.tzoffset object at 0x000001A4368FF2B0>)], [1, datetime.datetime(2025, 1, 6, 18, 49, 48, tzinfo=<git.objects.util.tzoffset object at 0x000001A4368D84C0>)], [5, datetime.datetime(2025, 1, 6, 17, 49, 18, tzinfo=<git.objects.util.tzoffset object at 0x000001A436736A10>)], [10, datetime.datetime(2025, 1, 6, 16, 50, 6, tzinfo=<git.objects.util.tzoffset object at 0x000001A4368F65F0>)], [10, datetime.datetime(2025, 1, 6, 15, 49, 8, tzinfo=<git.objects.util.tzoffset object at 0x000001A436903BB0>)]], 'WILTON TERRACE (PARK)': [[0, datetime.datetime(2025, 1, 6, 23, 49, 2, tzinfo=<git.objects.util.tzoffset object at 0x000001A43608CC40>)], [0, datetime.datetime(2025, 1, 6, 22, 49, 2, tzinfo=<git.objects.util.tzoffset object at 0x000001A4368EF100>)], [0, datetime.datetime(2025, 1, 6, 21, 49, 9, tzinfo=<git.objects.util.tzoffset object at 0x000001A4368F85E0>)], [0, datetime.datetime(2025, 1, 6, 20, 49, 3, tzinfo=<git.objects.util.tzoffset object at 0x000001A436909F60>)], [0, datetime.datetime(2025, 1, 6, 19, 49, 5, tzinfo=<git.objects.util.tzoffset object at 0x000001A4368FF1F0>)], [0, datetime.datetime(2025, 1, 6, 18, 49, 48, tzinfo=<git.objects.util.tzoffset object at 0x000001A4368D8400>)], [3, datetime.datetime(2025, 1, 6, 17, 49, 18, tzinfo=<git.objects.util.tzoffset object at 0x000001A436736AA0>)], [20, datetime.datetime(2025, 1, 6, 16, 50, 6, tzinfo=<git.objects.util.tzoffset object at 0x000001A4368F66B0>)], [28, datetime.datetime(2025, 1, 6, 15, 49, 8, tzinfo=<git.objects.util.tzoffset object at 0x000001A436903C70>)]], 'KILLARNEY STREET': [[30, datetime.datetime(2025, 1, 6, 23, 49, 2, tzinfo=<git.objects.util.tzoffset object at 0x000001A43608CB50>)], [30, datetime.datetime(2025, 1, 6, 22, 49, 2, tzinfo=<git.objects.util.tzoffset object at 0x000001A4368EF040>)], [30, datetime.datetime(2025, 1, 6, 21, 49, 9, tzinfo=<git.objects.util.tzoffset object at 0x000001A4368F8520>)], [28, datetime.datetime(2025, 1, 6, 20, 49, 3, tzinfo=<git.objects.util.tzoffset object at 0x000001A436909EA0>)], [27, datetime.datetime(2025, 1, 6, 19, 49, 5, tzinfo=<git.objects.util.tzoffset object at 0x000001A4368FF130>)], [26, datetime.datetime(2025, 1, 6, 18, 49, 48, tzinfo=<git.objects.util.tzoffset object at 0x000001A4368D8340>)], [22, datetime.datetime(2025, 1, 6, 17, 49, 18, tzinfo=<git.objects.util.tzoffset object at 0x000001A436736D10>)], [19, datetime.datetime(2025, 1, 6, 16, 50, 6, tzinfo=<git.objects.util.tzoffset object at 0x000001A4368F6770>)], [18, datetime.datetime(2025, 1, 6, 15, 49, 8, tzinfo=<git.objects.util.tzoffset object at 0x000001A436903D30>)]], 'BROADSTONE': [[21, datetime.datetime(2025, 1, 6, 23, 49, 2, tzinfo=<git.objects.util.tzoffset object at 0x000001A43608FA00>)], [21, datetime.datetime(2025, 1, 6, 22, 49, 2, tzinfo=<git.objects.util.tzoffset object at 0x000001A4368EEF80>)], [20, datetime.datetime(2025, 1, 6, 21, 49, 9, tzinfo=<git.objects.util.tzoffset object at 0x000001A4368F8460>)], [20, datetime.datetime(2025, 1, 6, 20, 49, 3, tzinfo=<git.objects.util.tzoffset object at 0x000001A436909DE0>)], [19, datetime.datetime(2025, 1, 6, 19, 49, 5, tzinfo=<git.objects.util.tzoffset object at 0x000001A4368FF070>)], [18, datetime.datetime(2025, 1, 6, 18, 49, 48, tzinfo=<git.objects.util.tzoffset object at 0x000001A4368D8280>)], [16, datetime.datetime(2025, 1, 6, 17, 49, 18, tzinfo=<git.objects.util.tzoffset object at 0x000001A436736E00>)], [17, datetime.datetime(2025, 1, 6, 16, 50, 6, tzinfo=<git.objects.util.tzoffset object at 0x000001A4368F6830>)], [17, datetime.datetime(2025, 1, 6, 15, 49, 8, tzinfo=<git.objects.util.tzoffset object at 0x000001A436903DF0>)]], 'HANOVER QUAY EAST': [[3, datetime.datetime(2025, 1, 6, 23, 49, 2, tzinfo=<git.objects.util.tzoffset object at 0x000001A43608FD60>)], [3, datetime.datetime(2025, 1, 6, 22, 49, 2, tzinfo=<git.objects.util.tzoffset object at 0x000001A4368EEEC0>)], [4, datetime.datetime(2025, 1, 6, 21, 49, 9, tzinfo=<git.objects.util.tzoffset object at 0x000001A4368F83A0>)], [5, datetime.datetime(2025, 1, 6, 20, 49, 3, tzinfo=<git.objects.util.tzoffset object at 0x000001A436909D20>)], [4, datetime.datetime(2025, 1, 6, 19, 49, 5, tzinfo=<git.objects.util.tzoffset object at 0x000001A4368FEFB0>)], [3, datetime.datetime(2025, 1, 6, 18, 49, 48, tzinfo=<git.objects.util.tzoffset object at 0x000001A4368D81C0>)], [1, datetime.datetime(2025, 1, 6, 17, 49, 18, tzinfo=<git.objects.util.tzoffset object at 0x000001A436734F70>)], [8, datetime.datetime(2025, 1, 6, 16, 50, 6, tzinfo=<git.objects.util.tzoffset object at 0x000001A4368F68F0>)], [10, datetime.datetime(2025, 1, 6, 15, 49, 8, tzinfo=<git.objects.util.tzoffset object at 0x000001A436903EB0>)]]}\n"
     ]
    }
   ],
   "source": [
    "start_time = datetime.datetime.now()\n",
    "last_day_and_hour = None\n",
    "\n",
    "for commit in repo.iter_commits():\n",
    "    # Stop when we reach the earliest bike date\n",
    "    if commit.committed_datetime <= datetime.datetime.strptime(last_bike_datetime, \"%Y-%m-%d %H:%M:%S %Z\").replace(tzinfo=datetime.timezone.utc):\n",
    "        print(\"breaking at: \", commit.committed_datetime)\n",
    "        break\n",
    "\n",
    "    # Skip commits from today\n",
    "    if commit.committed_datetime > today.replace(tzinfo=datetime.timezone.utc).replace(hour=0, minute=0, second=0, microsecond=0):\n",
    "        first_commited_datetime = repo.commit().committed_datetime\n",
    "        continue\n",
    "\n",
    "    day_and_hour = commit.committed_datetime.replace(minute=0, second=0, microsecond=0)\n",
    "    # print(\"day_and_hour: \", day_and_hour, \" - last_day_and_hour: \", last_day_and_hour)\n",
    "    if day_and_hour == last_day_and_hour:\n",
    "        continue\n",
    "    last_day_and_hour = day_and_hour\n",
    "\n",
    "    # Get the data for the commit\n",
    "    print(\"Processing commit: \", commit.hexsha, \" - \", commit.committed_datetime)\n",
    "    try:\n",
    "        repo.git.checkout(commit.hexsha, force=True)\n",
    "    except Exception as e:\n",
    "        print(\"Error checking out commit: \", e)\n",
    "        break\n",
    "\n",
    "    data_file = os.path.join(CLONE_DIR, \"data/stations/\" + TARGET_CITY + \"/\" + FILE_NAME)\n",
    "    if os.path.exists(data_file):\n",
    "        with open(data_file, \"r\") as f:\n",
    "            data = f.read()\n",
    "            data = json.loads(data)\n",
    "            for feature in data[\"features\"]:\n",
    "                try:\n",
    "                    results[feature[\"properties\"][\"name\"]].append([feature[\"properties\"][\"available_bikes\"], commit.committed_datetime])\n",
    "                except KeyError:\n",
    "                    continue\n",
    "\n",
    "print(results)\n"
   ]
  },
  {
   "cell_type": "code",
   "execution_count": 26,
   "metadata": {},
   "outputs": [
    {
     "data": {
      "text/html": [
       "<div>\n",
       "<style scoped>\n",
       "    .dataframe tbody tr th:only-of-type {\n",
       "        vertical-align: middle;\n",
       "    }\n",
       "\n",
       "    .dataframe tbody tr th {\n",
       "        vertical-align: top;\n",
       "    }\n",
       "\n",
       "    .dataframe thead th {\n",
       "        text-align: right;\n",
       "    }\n",
       "</style>\n",
       "<table border=\"1\" class=\"dataframe\">\n",
       "  <thead>\n",
       "    <tr style=\"text-align: right;\">\n",
       "      <th></th>\n",
       "      <th>num_bikes_available</th>\n",
       "      <th>datetime</th>\n",
       "      <th>station</th>\n",
       "    </tr>\n",
       "  </thead>\n",
       "  <tbody>\n",
       "    <tr>\n",
       "      <th>0</th>\n",
       "      <td>1.0</td>\n",
       "      <td>2025-01-06 23:49:02+00:00</td>\n",
       "      <td>CLARENDON ROW</td>\n",
       "    </tr>\n",
       "    <tr>\n",
       "      <th>1</th>\n",
       "      <td>2.0</td>\n",
       "      <td>2025-01-06 22:49:02+00:00</td>\n",
       "      <td>CLARENDON ROW</td>\n",
       "    </tr>\n",
       "    <tr>\n",
       "      <th>2</th>\n",
       "      <td>3.0</td>\n",
       "      <td>2025-01-06 21:49:09+00:00</td>\n",
       "      <td>CLARENDON ROW</td>\n",
       "    </tr>\n",
       "    <tr>\n",
       "      <th>3</th>\n",
       "      <td>4.0</td>\n",
       "      <td>2025-01-06 20:49:03+00:00</td>\n",
       "      <td>CLARENDON ROW</td>\n",
       "    </tr>\n",
       "    <tr>\n",
       "      <th>4</th>\n",
       "      <td>0.0</td>\n",
       "      <td>2025-01-06 19:49:05+00:00</td>\n",
       "      <td>CLARENDON ROW</td>\n",
       "    </tr>\n",
       "    <tr>\n",
       "      <th>...</th>\n",
       "      <td>...</td>\n",
       "      <td>...</td>\n",
       "      <td>...</td>\n",
       "    </tr>\n",
       "    <tr>\n",
       "      <th>4</th>\n",
       "      <td>4.0</td>\n",
       "      <td>2025-01-06 19:49:05+00:00</td>\n",
       "      <td>HANOVER QUAY EAST</td>\n",
       "    </tr>\n",
       "    <tr>\n",
       "      <th>5</th>\n",
       "      <td>3.0</td>\n",
       "      <td>2025-01-06 18:49:48+00:00</td>\n",
       "      <td>HANOVER QUAY EAST</td>\n",
       "    </tr>\n",
       "    <tr>\n",
       "      <th>6</th>\n",
       "      <td>1.0</td>\n",
       "      <td>2025-01-06 17:49:18+00:00</td>\n",
       "      <td>HANOVER QUAY EAST</td>\n",
       "    </tr>\n",
       "    <tr>\n",
       "      <th>7</th>\n",
       "      <td>8.0</td>\n",
       "      <td>2025-01-06 16:50:06+00:00</td>\n",
       "      <td>HANOVER QUAY EAST</td>\n",
       "    </tr>\n",
       "    <tr>\n",
       "      <th>8</th>\n",
       "      <td>10.0</td>\n",
       "      <td>2025-01-06 15:49:08+00:00</td>\n",
       "      <td>HANOVER QUAY EAST</td>\n",
       "    </tr>\n",
       "  </tbody>\n",
       "</table>\n",
       "<p>1026 rows × 3 columns</p>\n",
       "</div>"
      ],
      "text/plain": [
       "    num_bikes_available                  datetime            station\n",
       "0                   1.0 2025-01-06 23:49:02+00:00      CLARENDON ROW\n",
       "1                   2.0 2025-01-06 22:49:02+00:00      CLARENDON ROW\n",
       "2                   3.0 2025-01-06 21:49:09+00:00      CLARENDON ROW\n",
       "3                   4.0 2025-01-06 20:49:03+00:00      CLARENDON ROW\n",
       "4                   0.0 2025-01-06 19:49:05+00:00      CLARENDON ROW\n",
       "..                  ...                       ...                ...\n",
       "4                   4.0 2025-01-06 19:49:05+00:00  HANOVER QUAY EAST\n",
       "5                   3.0 2025-01-06 18:49:48+00:00  HANOVER QUAY EAST\n",
       "6                   1.0 2025-01-06 17:49:18+00:00  HANOVER QUAY EAST\n",
       "7                   8.0 2025-01-06 16:50:06+00:00  HANOVER QUAY EAST\n",
       "8                  10.0 2025-01-06 15:49:08+00:00  HANOVER QUAY EAST\n",
       "\n",
       "[1026 rows x 3 columns]"
      ]
     },
     "execution_count": 26,
     "metadata": {},
     "output_type": "execute_result"
    }
   ],
   "source": [
    "# turn results into a dataframe\n",
    "df_bike_today = pd.DataFrame()\n",
    "\n",
    "for station, values in results.items():\n",
    "    if len(values) > 0:\n",
    "        df = pd.DataFrame(values, columns=[\"num_bikes_available\", \"datetime\"])\n",
    "        df[\"datetime\"] = pd.to_datetime(df[\"datetime\"], utc=True)\n",
    "        df[\"station\"] = station\n",
    "        df_bike_today = pd.concat([df_bike_today, df])\n",
    "df_bike_today.dropna(inplace=True)\n",
    "df_bike_today[\"num_bikes_available\"] = df_bike_today[\"num_bikes_available\"].astype(\"float32\")\n",
    "df_bike_today\n"
   ]
  },
  {
   "cell_type": "markdown",
   "metadata": {},
   "source": [
    "## Fetch the weather data for the same time period"
   ]
  },
  {
   "cell_type": "code",
   "execution_count": 27,
   "metadata": {},
   "outputs": [
    {
     "name": "stdout",
     "output_type": "stream",
     "text": [
      "features: {'hourly': ['temperature_2m', 'apparent_temperature', 'rain', 'snowfall', 'wind_speed_10m'], 'daily': ['daylight_duration', 'rain_sum']}\n",
      "params: {'latitude': 53.35, 'longitude': -6.26, 'hourly': ['temperature_2m', 'apparent_temperature', 'rain', 'snowfall', 'wind_speed_10m'], 'daily': ['daylight_duration', 'rain_sum']}\n",
      "Coordinates 53.5°N -6.25°E\n",
      "Elevation 11.0 m asl\n",
      "Timezone None None\n",
      "Timezone difference to GMT+0 0 s\n",
      "False\n"
     ]
    },
    {
     "data": {
      "text/html": [
       "<div>\n",
       "<style scoped>\n",
       "    .dataframe tbody tr th:only-of-type {\n",
       "        vertical-align: middle;\n",
       "    }\n",
       "\n",
       "    .dataframe tbody tr th {\n",
       "        vertical-align: top;\n",
       "    }\n",
       "\n",
       "    .dataframe thead th {\n",
       "        text-align: right;\n",
       "    }\n",
       "</style>\n",
       "<table border=\"1\" class=\"dataframe\">\n",
       "  <thead>\n",
       "    <tr style=\"text-align: right;\">\n",
       "      <th></th>\n",
       "      <th>datetime</th>\n",
       "      <th>temperature_2m</th>\n",
       "      <th>apparent_temperature</th>\n",
       "      <th>rain</th>\n",
       "      <th>snowfall</th>\n",
       "      <th>wind_speed_10m</th>\n",
       "      <th>daylight_duration</th>\n",
       "      <th>rain_sum</th>\n",
       "      <th>city</th>\n",
       "    </tr>\n",
       "  </thead>\n",
       "  <tbody>\n",
       "    <tr>\n",
       "      <th>0</th>\n",
       "      <td>2025-01-07 00:00:00+00:00</td>\n",
       "      <td>1.00</td>\n",
       "      <td>-4.701722</td>\n",
       "      <td>0.0</td>\n",
       "      <td>0.0</td>\n",
       "      <td>23.110207</td>\n",
       "      <td>27904.794922</td>\n",
       "      <td>0.0</td>\n",
       "      <td>dublin</td>\n",
       "    </tr>\n",
       "    <tr>\n",
       "      <th>1</th>\n",
       "      <td>2025-01-07 01:00:00+00:00</td>\n",
       "      <td>0.85</td>\n",
       "      <td>-4.501354</td>\n",
       "      <td>0.0</td>\n",
       "      <td>0.0</td>\n",
       "      <td>20.721119</td>\n",
       "      <td>27904.794922</td>\n",
       "      <td>0.0</td>\n",
       "      <td>dublin</td>\n",
       "    </tr>\n",
       "    <tr>\n",
       "      <th>2</th>\n",
       "      <td>2025-01-07 02:00:00+00:00</td>\n",
       "      <td>0.60</td>\n",
       "      <td>-4.605682</td>\n",
       "      <td>0.0</td>\n",
       "      <td>0.0</td>\n",
       "      <td>19.486609</td>\n",
       "      <td>27904.794922</td>\n",
       "      <td>0.0</td>\n",
       "      <td>dublin</td>\n",
       "    </tr>\n",
       "    <tr>\n",
       "      <th>3</th>\n",
       "      <td>2025-01-07 03:00:00+00:00</td>\n",
       "      <td>0.50</td>\n",
       "      <td>-4.742946</td>\n",
       "      <td>0.0</td>\n",
       "      <td>0.0</td>\n",
       "      <td>19.799999</td>\n",
       "      <td>27904.794922</td>\n",
       "      <td>0.0</td>\n",
       "      <td>dublin</td>\n",
       "    </tr>\n",
       "    <tr>\n",
       "      <th>4</th>\n",
       "      <td>2025-01-07 04:00:00+00:00</td>\n",
       "      <td>0.70</td>\n",
       "      <td>-4.512824</td>\n",
       "      <td>0.0</td>\n",
       "      <td>0.0</td>\n",
       "      <td>20.089161</td>\n",
       "      <td>27904.794922</td>\n",
       "      <td>0.0</td>\n",
       "      <td>dublin</td>\n",
       "    </tr>\n",
       "    <tr>\n",
       "      <th>...</th>\n",
       "      <td>...</td>\n",
       "      <td>...</td>\n",
       "      <td>...</td>\n",
       "      <td>...</td>\n",
       "      <td>...</td>\n",
       "      <td>...</td>\n",
       "      <td>...</td>\n",
       "      <td>...</td>\n",
       "      <td>...</td>\n",
       "    </tr>\n",
       "    <tr>\n",
       "      <th>235</th>\n",
       "      <td>2025-01-16 19:00:00+00:00</td>\n",
       "      <td>5.45</td>\n",
       "      <td>2.606128</td>\n",
       "      <td>0.0</td>\n",
       "      <td>0.0</td>\n",
       "      <td>10.739832</td>\n",
       "      <td>29183.220703</td>\n",
       "      <td>0.0</td>\n",
       "      <td>dublin</td>\n",
       "    </tr>\n",
       "    <tr>\n",
       "      <th>236</th>\n",
       "      <td>2025-01-16 20:00:00+00:00</td>\n",
       "      <td>5.30</td>\n",
       "      <td>2.404336</td>\n",
       "      <td>0.0</td>\n",
       "      <td>0.0</td>\n",
       "      <td>10.883676</td>\n",
       "      <td>29183.220703</td>\n",
       "      <td>0.0</td>\n",
       "      <td>dublin</td>\n",
       "    </tr>\n",
       "    <tr>\n",
       "      <th>237</th>\n",
       "      <td>2025-01-16 21:00:00+00:00</td>\n",
       "      <td>5.20</td>\n",
       "      <td>2.268395</td>\n",
       "      <td>0.0</td>\n",
       "      <td>0.0</td>\n",
       "      <td>10.990322</td>\n",
       "      <td>29183.220703</td>\n",
       "      <td>0.0</td>\n",
       "      <td>dublin</td>\n",
       "    </tr>\n",
       "    <tr>\n",
       "      <th>238</th>\n",
       "      <td>2025-01-16 22:00:00+00:00</td>\n",
       "      <td>5.05</td>\n",
       "      <td>2.094080</td>\n",
       "      <td>0.0</td>\n",
       "      <td>0.0</td>\n",
       "      <td>10.948973</td>\n",
       "      <td>29183.220703</td>\n",
       "      <td>0.0</td>\n",
       "      <td>dublin</td>\n",
       "    </tr>\n",
       "    <tr>\n",
       "      <th>239</th>\n",
       "      <td>2025-01-16 23:00:00+00:00</td>\n",
       "      <td>4.95</td>\n",
       "      <td>2.019533</td>\n",
       "      <td>0.0</td>\n",
       "      <td>0.0</td>\n",
       "      <td>10.636766</td>\n",
       "      <td>29183.220703</td>\n",
       "      <td>0.0</td>\n",
       "      <td>dublin</td>\n",
       "    </tr>\n",
       "  </tbody>\n",
       "</table>\n",
       "<p>240 rows × 9 columns</p>\n",
       "</div>"
      ],
      "text/plain": [
       "                     datetime  temperature_2m  apparent_temperature  rain  \\\n",
       "0   2025-01-07 00:00:00+00:00            1.00             -4.701722   0.0   \n",
       "1   2025-01-07 01:00:00+00:00            0.85             -4.501354   0.0   \n",
       "2   2025-01-07 02:00:00+00:00            0.60             -4.605682   0.0   \n",
       "3   2025-01-07 03:00:00+00:00            0.50             -4.742946   0.0   \n",
       "4   2025-01-07 04:00:00+00:00            0.70             -4.512824   0.0   \n",
       "..                        ...             ...                   ...   ...   \n",
       "235 2025-01-16 19:00:00+00:00            5.45              2.606128   0.0   \n",
       "236 2025-01-16 20:00:00+00:00            5.30              2.404336   0.0   \n",
       "237 2025-01-16 21:00:00+00:00            5.20              2.268395   0.0   \n",
       "238 2025-01-16 22:00:00+00:00            5.05              2.094080   0.0   \n",
       "239 2025-01-16 23:00:00+00:00            4.95              2.019533   0.0   \n",
       "\n",
       "     snowfall  wind_speed_10m  daylight_duration  rain_sum    city  \n",
       "0         0.0       23.110207       27904.794922       0.0  dublin  \n",
       "1         0.0       20.721119       27904.794922       0.0  dublin  \n",
       "2         0.0       19.486609       27904.794922       0.0  dublin  \n",
       "3         0.0       19.799999       27904.794922       0.0  dublin  \n",
       "4         0.0       20.089161       27904.794922       0.0  dublin  \n",
       "..        ...             ...                ...       ...     ...  \n",
       "235       0.0       10.739832       29183.220703       0.0  dublin  \n",
       "236       0.0       10.883676       29183.220703       0.0  dublin  \n",
       "237       0.0       10.990322       29183.220703       0.0  dublin  \n",
       "238       0.0       10.948973       29183.220703       0.0  dublin  \n",
       "239       0.0       10.636766       29183.220703       0.0  dublin  \n",
       "\n",
       "[240 rows x 9 columns]"
      ]
     },
     "execution_count": 27,
     "metadata": {},
     "output_type": "execute_result"
    }
   ],
   "source": [
    "forecast_df = utils.get_hourly_weather_forecast(CITY)\n",
    "forecast_df = forecast_df.rename(columns={'date_x': 'datetime'})\n",
    "forecast_df = forecast_df.drop(columns=['date_y', 'date_only'])\n",
    "forecast_df.dropna(inplace=True)\n",
    "\n",
    "print(forecast_df.empty)\n",
    "\n",
    "forecast_df"
   ]
  },
  {
   "cell_type": "markdown",
   "metadata": {},
   "source": [
    "## Insert the bike and weather data into Hopsworks"
   ]
  },
  {
   "cell_type": "code",
   "execution_count": 28,
   "metadata": {},
   "outputs": [
    {
     "name": "stderr",
     "output_type": "stream",
     "text": [
      "Uploading Dataframe: 100.00% |██████████| Rows 1026/1026 | Elapsed Time: 00:01 | Remaining Time: 00:00\n"
     ]
    },
    {
     "name": "stdout",
     "output_type": "stream",
     "text": [
      "Launching job: bike_data_1_offline_fg_materialization\n",
      "Job started successfully, you can follow the progress at \n",
      "https://c.app.hopsworks.ai:443/p/1207494/jobs/named/bike_data_1_offline_fg_materialization/executions\n"
     ]
    }
   ],
   "source": [
    "if df_bike_today.empty:\n",
    "    print(\"No bike data available for today\")\n",
    "else:\n",
    "    bike_fg.insert(df_bike_today)"
   ]
  },
  {
   "cell_type": "code",
   "execution_count": 29,
   "metadata": {},
   "outputs": [
    {
     "name": "stderr",
     "output_type": "stream",
     "text": [
      "Uploading Dataframe: 100.00% |██████████| Rows 240/240 | Elapsed Time: 00:01 | Remaining Time: 00:00\n"
     ]
    },
    {
     "name": "stdout",
     "output_type": "stream",
     "text": [
      "Launching job: weather_data_1_offline_fg_materialization\n",
      "Job started successfully, you can follow the progress at \n",
      "https://c.app.hopsworks.ai:443/p/1207494/jobs/named/weather_data_1_offline_fg_materialization/executions\n"
     ]
    }
   ],
   "source": [
    "if forecast_df.empty:\n",
    "    print(\"No weather forecast available for today\")\n",
    "else:\n",
    "    weather_fg.insert(forecast_df)\n"
   ]
  },
  {
   "cell_type": "markdown",
   "metadata": {},
   "source": [
    "## Change the last_bike_datetime secret"
   ]
  },
  {
   "cell_type": "code",
   "execution_count": 30,
   "metadata": {},
   "outputs": [
    {
     "data": {
      "text/plain": [
       "'\\nif not df_bike_today.empty:\\n    try:\\n        secrets.get_secret(\"time_secrets\").delete()\\n    except:\\n        pass\\n\\n    new_last_bike_datetime_raw = pd.Series.max(df_bike_today[\\'datetime\\'])\\n    new_last_bike_datetime = new_last_bike_datetime_raw.strftime(\\'%Y-%m-%d %H:%M:%S %Z\\')\\n\\n    time_secrets_dict = {\\n        \"earliest_bike_datetime\": earliest_bike_datetime,\\n        \"last_bike_datetime\": new_last_bike_datetime\\n    }\\n\\n    secrets.create_secret(\"time_secrets\", json.dumps(time_secrets_dict))\\n'"
      ]
     },
     "execution_count": 30,
     "metadata": {},
     "output_type": "execute_result"
    }
   ],
   "source": [
    "\"\"\"\n",
    "if not df_bike_today.empty:\n",
    "    try:\n",
    "        secrets.get_secret(\"time_secrets\").delete()\n",
    "    except:\n",
    "        pass\n",
    "\n",
    "    new_last_bike_datetime_raw = pd.Series.max(df_bike_today['datetime'])\n",
    "    new_last_bike_datetime = new_last_bike_datetime_raw.strftime('%Y-%m-%d %H:%M:%S %Z')\n",
    "\n",
    "    time_secrets_dict = {\n",
    "        \"earliest_bike_datetime\": earliest_bike_datetime,\n",
    "        \"last_bike_datetime\": new_last_bike_datetime\n",
    "    }\n",
    "\n",
    "    secrets.create_secret(\"time_secrets\", json.dumps(time_secrets_dict))\n",
    "\"\"\" "
   ]
  }
 ],
 "metadata": {
  "kernelspec": {
   "display_name": "SML_Project",
   "language": "python",
   "name": "python3"
  },
  "language_info": {
   "codemirror_mode": {
    "name": "ipython",
    "version": 3
   },
   "file_extension": ".py",
   "mimetype": "text/x-python",
   "name": "python",
   "nbconvert_exporter": "python",
   "pygments_lexer": "ipython3",
   "version": "3.10.0"
  }
 },
 "nbformat": 4,
 "nbformat_minor": 2
}
